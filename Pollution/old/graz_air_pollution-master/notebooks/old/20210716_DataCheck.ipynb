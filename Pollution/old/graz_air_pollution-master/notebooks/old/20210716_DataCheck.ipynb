{
 "cells": [
  {
   "cell_type": "markdown",
   "metadata": {
    "toc": true
   },
   "source": [
    "<h1>Table of Contents<span class=\"tocSkip\"></span></h1>\n",
    "<div class=\"toc\"><ul class=\"toc-item\"><li><span><a href=\"#Plots\" data-toc-modified-id=\"Plots-1\"><span class=\"toc-item-num\">1&nbsp;&nbsp;</span>Plots</a></span></li><li><span><a href=\"#ALL\" data-toc-modified-id=\"ALL-2\"><span class=\"toc-item-num\">2&nbsp;&nbsp;</span>ALL</a></span></li><li><span><a href=\"#ALL---NO2\" data-toc-modified-id=\"ALL---NO2-3\"><span class=\"toc-item-num\">3&nbsp;&nbsp;</span>ALL - NO2</a></span><ul class=\"toc-item\"><li><span><a href=\"#YEAR\" data-toc-modified-id=\"YEAR-3.1\"><span class=\"toc-item-num\">3.1&nbsp;&nbsp;</span>YEAR</a></span></li><li><span><a href=\"#D\" data-toc-modified-id=\"D-3.2\"><span class=\"toc-item-num\">3.2&nbsp;&nbsp;</span>D</a></span></li><li><span><a href=\"#N\" data-toc-modified-id=\"N-3.3\"><span class=\"toc-item-num\">3.3&nbsp;&nbsp;</span>N</a></span></li><li><span><a href=\"#O\" data-toc-modified-id=\"O-3.4\"><span class=\"toc-item-num\">3.4&nbsp;&nbsp;</span>O</a></span></li><li><span><a href=\"#S\" data-toc-modified-id=\"S-3.5\"><span class=\"toc-item-num\">3.5&nbsp;&nbsp;</span>S</a></span></li><li><span><a href=\"#W\" data-toc-modified-id=\"W-3.6\"><span class=\"toc-item-num\">3.6&nbsp;&nbsp;</span>W</a></span></li><li><span><a href=\"#MONTH\" data-toc-modified-id=\"MONTH-3.7\"><span class=\"toc-item-num\">3.7&nbsp;&nbsp;</span>MONTH</a></span></li></ul></li></ul></div>"
   ]
  },
  {
   "cell_type": "code",
   "execution_count": 1,
   "metadata": {},
   "outputs": [],
   "source": [
    "import pandas as pd\n",
    "import numpy as np\n",
    "import matplotlib.pyplot as plt\n",
    "import plotly.express as px\n",
    "import seaborn as sns"
   ]
  },
  {
   "cell_type": "code",
   "execution_count": null,
   "metadata": {},
   "outputs": [],
   "source": [
    "file = '../data/5sta(DNOWS)_3com(NO2,PM10K,O3)_year2010_TemporalDummies_Ox.csv'\n",
    "df_org = pd.read_csv(file, index_col=0, parse_dates=True\n",
    "                )\n",
    "df_org"
   ]
  },
  {
   "cell_type": "code",
   "execution_count": 3,
   "metadata": {},
   "outputs": [],
   "source": [
    "months = sorted([i for i in df_org.columns if 'month_' in i])\n",
    "factors = ['NO2', 'PM10K', 'O3', 'Ox']"
   ]
  },
  {
   "cell_type": "code",
   "execution_count": 4,
   "metadata": {},
   "outputs": [
    {
     "data": {
      "text/plain": [
       "Index(['D_NO2', 'D_PM10K', 'N_NO2', 'N_O3', 'N_PM10K', 'O_NO2', 'O_PM10K',\n",
       "       'S_NO2', 'S_O3', 'S_PM10K', 'W_NO2', 'W_PM10K', 'year', 'dayofyear',\n",
       "       'month_Apr', 'month_Aug', 'month_Dec', 'month_Feb', 'month_Jan',\n",
       "       'month_Jul', 'month_Jun', 'month_Mar', 'month_May', 'month_Nov',\n",
       "       'month_Oct', 'month_Sep', 'weekday_Friday', 'weekday_Monday',\n",
       "       'weekday_Saturday', 'weekday_Sunday', 'weekday_Thursday',\n",
       "       'weekday_Tuesday', 'weekday_Wednesday', 'season_fall', 'season_spring',\n",
       "       'season_summer', 'season_winter', 'N_Ox', 'S_Ox'],\n",
       "      dtype='object')"
      ]
     },
     "execution_count": 4,
     "metadata": {},
     "output_type": "execute_result"
    }
   ],
   "source": [
    "df_org.columns"
   ]
  },
  {
   "cell_type": "code",
   "execution_count": 5,
   "metadata": {},
   "outputs": [
    {
     "data": {
      "image/png": "[encoded data removed]",
      "text/plain": [
       "<Figure size 1224x216 with 1 Axes>"
      ]
     },
     "metadata": {
      "needs_background": "light"
     },
     "output_type": "display_data"
    }
   ],
   "source": [
    "a = df_org['dayofyear'].value_counts().sort_index()\n",
    "a.plot.bar(figsize=(17, 3))\n",
    "plt.title('#dayofyear')\n",
    "plt.show();"
   ]
  },
  {
   "cell_type": "code",
   "execution_count": null,
   "metadata": {},
   "outputs": [],
   "source": [
    "df_org[df_org['dayofyear']==366]"
   ]
  },
  {
   "cell_type": "code",
   "execution_count": null,
   "metadata": {
    "scrolled": true
   },
   "outputs": [],
   "source": [
    "df_org.describe().T"
   ]
  },
  {
   "cell_type": "code",
   "execution_count": 149,
   "metadata": {
    "scrolled": false
   },
   "outputs": [
    {
     "data": {
      "text/html": [
       "<div>\n",
       "<style scoped>\n",
       "    .dataframe tbody tr th:only-of-type {\n",
       "        vertical-align: middle;\n",
       "    }\n",
       "\n",
       "    .dataframe tbody tr th {\n",
       "        vertical-align: top;\n",
       "    }\n",
       "\n",
       "    .dataframe thead th {\n",
       "        text-align: right;\n",
       "    }\n",
       "</style>\n",
       "<table border=\"1\" class=\"dataframe\">\n",
       "  <thead>\n",
       "    <tr style=\"text-align: right;\">\n",
       "      <th></th>\n",
       "      <th>count</th>\n",
       "      <th>mean</th>\n",
       "      <th>std</th>\n",
       "      <th>min</th>\n",
       "      <th>25%</th>\n",
       "      <th>50%</th>\n",
       "      <th>75%</th>\n",
       "      <th>max</th>\n",
       "    </tr>\n",
       "  </thead>\n",
       "  <tbody>\n",
       "    <tr>\n",
       "      <th>D_NO2</th>\n",
       "      <td>4177.0</td>\n",
       "      <td>43.574199</td>\n",
       "      <td>15.698322</td>\n",
       "      <td>8.024886</td>\n",
       "      <td>32.481518</td>\n",
       "      <td>41.671497</td>\n",
       "      <td>52.239890</td>\n",
       "      <td>137.524250</td>\n",
       "    </tr>\n",
       "    <tr>\n",
       "      <th>N_NO2</th>\n",
       "      <td>4177.0</td>\n",
       "      <td>21.808625</td>\n",
       "      <td>12.631127</td>\n",
       "      <td>1.144127</td>\n",
       "      <td>12.350074</td>\n",
       "      <td>18.415941</td>\n",
       "      <td>29.199263</td>\n",
       "      <td>93.462555</td>\n",
       "    </tr>\n",
       "    <tr>\n",
       "      <th>O_NO2</th>\n",
       "      <td>4177.0</td>\n",
       "      <td>28.756654</td>\n",
       "      <td>13.302504</td>\n",
       "      <td>1.981802</td>\n",
       "      <td>19.231106</td>\n",
       "      <td>26.405266</td>\n",
       "      <td>36.207573</td>\n",
       "      <td>102.040640</td>\n",
       "    </tr>\n",
       "    <tr>\n",
       "      <th>S_NO2</th>\n",
       "      <td>4177.0</td>\n",
       "      <td>29.787456</td>\n",
       "      <td>14.946322</td>\n",
       "      <td>2.919650</td>\n",
       "      <td>19.170780</td>\n",
       "      <td>26.351784</td>\n",
       "      <td>37.671535</td>\n",
       "      <td>116.251520</td>\n",
       "    </tr>\n",
       "    <tr>\n",
       "      <th>W_NO2</th>\n",
       "      <td>4177.0</td>\n",
       "      <td>26.562450</td>\n",
       "      <td>13.606479</td>\n",
       "      <td>2.341851</td>\n",
       "      <td>16.582745</td>\n",
       "      <td>23.776577</td>\n",
       "      <td>34.365726</td>\n",
       "      <td>102.439360</td>\n",
       "    </tr>\n",
       "    <tr>\n",
       "      <th>D_PM10K</th>\n",
       "      <td>4177.0</td>\n",
       "      <td>30.412091</td>\n",
       "      <td>17.181764</td>\n",
       "      <td>2.248819</td>\n",
       "      <td>18.873556</td>\n",
       "      <td>26.145586</td>\n",
       "      <td>37.964490</td>\n",
       "      <td>141.548540</td>\n",
       "    </tr>\n",
       "    <tr>\n",
       "      <th>N_PM10K</th>\n",
       "      <td>4177.0</td>\n",
       "      <td>22.573188</td>\n",
       "      <td>13.088543</td>\n",
       "      <td>0.000000</td>\n",
       "      <td>13.585777</td>\n",
       "      <td>19.806145</td>\n",
       "      <td>28.339638</td>\n",
       "      <td>119.885475</td>\n",
       "    </tr>\n",
       "    <tr>\n",
       "      <th>O_PM10K</th>\n",
       "      <td>4177.0</td>\n",
       "      <td>29.302954</td>\n",
       "      <td>16.359887</td>\n",
       "      <td>4.071145</td>\n",
       "      <td>17.942915</td>\n",
       "      <td>24.923760</td>\n",
       "      <td>36.712193</td>\n",
       "      <td>130.208820</td>\n",
       "    </tr>\n",
       "    <tr>\n",
       "      <th>S_PM10K</th>\n",
       "      <td>4177.0</td>\n",
       "      <td>29.176028</td>\n",
       "      <td>18.246191</td>\n",
       "      <td>3.718005</td>\n",
       "      <td>16.598820</td>\n",
       "      <td>23.810854</td>\n",
       "      <td>36.867650</td>\n",
       "      <td>138.784260</td>\n",
       "    </tr>\n",
       "    <tr>\n",
       "      <th>W_PM10K</th>\n",
       "      <td>4177.0</td>\n",
       "      <td>24.601936</td>\n",
       "      <td>14.785938</td>\n",
       "      <td>1.535183</td>\n",
       "      <td>14.404179</td>\n",
       "      <td>21.113316</td>\n",
       "      <td>31.224894</td>\n",
       "      <td>125.431984</td>\n",
       "    </tr>\n",
       "    <tr>\n",
       "      <th>N_O3</th>\n",
       "      <td>4177.0</td>\n",
       "      <td>42.692068</td>\n",
       "      <td>26.360824</td>\n",
       "      <td>0.000000</td>\n",
       "      <td>18.670616</td>\n",
       "      <td>44.490800</td>\n",
       "      <td>64.091110</td>\n",
       "      <td>114.304600</td>\n",
       "    </tr>\n",
       "    <tr>\n",
       "      <th>S_O3</th>\n",
       "      <td>4177.0</td>\n",
       "      <td>38.137154</td>\n",
       "      <td>24.687726</td>\n",
       "      <td>0.069498</td>\n",
       "      <td>14.864059</td>\n",
       "      <td>38.797195</td>\n",
       "      <td>57.992140</td>\n",
       "      <td>107.530620</td>\n",
       "    </tr>\n",
       "    <tr>\n",
       "      <th>N_Ox</th>\n",
       "      <td>4177.0</td>\n",
       "      <td>64.500693</td>\n",
       "      <td>19.320632</td>\n",
       "      <td>17.863999</td>\n",
       "      <td>49.933612</td>\n",
       "      <td>64.306597</td>\n",
       "      <td>78.474891</td>\n",
       "      <td>127.550975</td>\n",
       "    </tr>\n",
       "    <tr>\n",
       "      <th>S_Ox</th>\n",
       "      <td>4177.0</td>\n",
       "      <td>67.924610</td>\n",
       "      <td>18.725901</td>\n",
       "      <td>18.003436</td>\n",
       "      <td>54.274630</td>\n",
       "      <td>68.279770</td>\n",
       "      <td>81.365561</td>\n",
       "      <td>127.010152</td>\n",
       "    </tr>\n",
       "  </tbody>\n",
       "</table>\n",
       "</div>"
      ],
      "text/plain": [
       "          count       mean        std        min        25%        50%  \\\n",
       "D_NO2    4177.0  43.574199  15.698322   8.024886  32.481518  41.671497   \n",
       "N_NO2    4177.0  21.808625  12.631127   1.144127  12.350074  18.415941   \n",
       "O_NO2    4177.0  28.756654  13.302504   1.981802  19.231106  26.405266   \n",
       "S_NO2    4177.0  29.787456  14.946322   2.919650  19.170780  26.351784   \n",
       "W_NO2    4177.0  26.562450  13.606479   2.341851  16.582745  23.776577   \n",
       "D_PM10K  4177.0  30.412091  17.181764   2.248819  18.873556  26.145586   \n",
       "N_PM10K  4177.0  22.573188  13.088543   0.000000  13.585777  19.806145   \n",
       "O_PM10K  4177.0  29.302954  16.359887   4.071145  17.942915  24.923760   \n",
       "S_PM10K  4177.0  29.176028  18.246191   3.718005  16.598820  23.810854   \n",
       "W_PM10K  4177.0  24.601936  14.785938   1.535183  14.404179  21.113316   \n",
       "N_O3     4177.0  42.692068  26.360824   0.000000  18.670616  44.490800   \n",
       "S_O3     4177.0  38.137154  24.687726   0.069498  14.864059  38.797195   \n",
       "N_Ox     4177.0  64.500693  19.320632  17.863999  49.933612  64.306597   \n",
       "S_Ox     4177.0  67.924610  18.725901  18.003436  54.274630  68.279770   \n",
       "\n",
       "               75%         max  \n",
       "D_NO2    52.239890  137.524250  \n",
       "N_NO2    29.199263   93.462555  \n",
       "O_NO2    36.207573  102.040640  \n",
       "S_NO2    37.671535  116.251520  \n",
       "W_NO2    34.365726  102.439360  \n",
       "D_PM10K  37.964490  141.548540  \n",
       "N_PM10K  28.339638  119.885475  \n",
       "O_PM10K  36.712193  130.208820  \n",
       "S_PM10K  36.867650  138.784260  \n",
       "W_PM10K  31.224894  125.431984  \n",
       "N_O3     64.091110  114.304600  \n",
       "S_O3     57.992140  107.530620  \n",
       "N_Ox     78.474891  127.550975  \n",
       "S_Ox     81.365561  127.010152  "
      ]
     },
     "execution_count": 149,
     "metadata": {},
     "output_type": "execute_result"
    }
   ],
   "source": [
    "df = pd.concat([df_org.iloc[:, :12], df_org.iloc[:, -2:]], axis=1)\n",
    "cols = []\n",
    "for f in factors:\n",
    "    for c in sorted(df.columns):\n",
    "        if f not in c: continue\n",
    "        cols.append(c)\n",
    "df = df[cols]\n",
    "df.describe().T"
   ]
  },
  {
   "cell_type": "markdown",
   "metadata": {},
   "source": [
    "# Plots"
   ]
  },
  {
   "cell_type": "code",
   "execution_count": null,
   "metadata": {
    "scrolled": true
   },
   "outputs": [],
   "source": [
    "for f in factors:\n",
    "    for c in sorted(df.columns):\n",
    "        if f not in c: continue\n",
    "        df[c].hist(bins=200, figsize=(8, 2));\n",
    "        plt.title(c)\n",
    "        plt.show()"
   ]
  },
  {
   "cell_type": "code",
   "execution_count": null,
   "metadata": {},
   "outputs": [],
   "source": [
    "df_org.reset_index(inplace=True)\n",
    "df_org"
   ]
  },
  {
   "cell_type": "markdown",
   "metadata": {},
   "source": [
    "# ALL"
   ]
  },
  {
   "cell_type": "code",
   "execution_count": 80,
   "metadata": {},
   "outputs": [],
   "source": [
    "df_org.set_index('index', inplace=True)"
   ]
  },
  {
   "cell_type": "code",
   "execution_count": null,
   "metadata": {
    "scrolled": false
   },
   "outputs": [],
   "source": [
    "for f in factors:\n",
    "    cols = sorted([i for i in df_org.columns if f in i])\n",
    "    a = df_org[cols].stack().reset_index()#.set_index('index')\n",
    "    a.columns = ['Date', 'Area', f]\n",
    "    fig = px.line(a, x='Date', y=f, \n",
    "               color='Area', title=f)\n",
    "    fig.show();"
   ]
  },
  {
   "cell_type": "code",
   "execution_count": 134,
   "metadata": {},
   "outputs": [
    {
     "data": {
      "text/html": [
       "<div>\n",
       "<style scoped>\n",
       "    .dataframe tbody tr th:only-of-type {\n",
       "        vertical-align: middle;\n",
       "    }\n",
       "\n",
       "    .dataframe tbody tr th {\n",
       "        vertical-align: top;\n",
       "    }\n",
       "\n",
       "    .dataframe thead th {\n",
       "        text-align: right;\n",
       "    }\n",
       "</style>\n",
       "<table border=\"1\" class=\"dataframe\">\n",
       "  <thead>\n",
       "    <tr style=\"text-align: right;\">\n",
       "      <th></th>\n",
       "      <th>0</th>\n",
       "    </tr>\n",
       "  </thead>\n",
       "  <tbody>\n",
       "    <tr>\n",
       "      <th>D_NO2</th>\n",
       "      <td>43.574199</td>\n",
       "    </tr>\n",
       "    <tr>\n",
       "      <th>N_NO2</th>\n",
       "      <td>21.808625</td>\n",
       "    </tr>\n",
       "    <tr>\n",
       "      <th>O_NO2</th>\n",
       "      <td>28.756654</td>\n",
       "    </tr>\n",
       "    <tr>\n",
       "      <th>S_NO2</th>\n",
       "      <td>29.787456</td>\n",
       "    </tr>\n",
       "    <tr>\n",
       "      <th>W_NO2</th>\n",
       "      <td>26.562450</td>\n",
       "    </tr>\n",
       "  </tbody>\n",
       "</table>\n",
       "</div>"
      ],
      "text/plain": [
       "               0\n",
       "D_NO2  43.574199\n",
       "N_NO2  21.808625\n",
       "O_NO2  28.756654\n",
       "S_NO2  29.787456\n",
       "W_NO2  26.562450"
      ]
     },
     "execution_count": 134,
     "metadata": {},
     "output_type": "execute_result"
    }
   ],
   "source": [
    "a"
   ]
  },
  {
   "cell_type": "code",
   "execution_count": null,
   "metadata": {},
   "outputs": [],
   "source": [
    "for f in factors:\n",
    "    cols = sorted([i for i in df.columns if f in i])\n",
    "    a = pd.DataFrame(df[cols].mean(), columns=[f'{f}_Avg'])\n",
    "    fig = px.bar(a.round(1), y=f'{f}_Avg', text=f'{f}_Avg')\n",
    "    fig.update_layout(height=350, width=450)\n",
    "    fig.show();\n",
    "#     break"
   ]
  },
  {
   "cell_type": "markdown",
   "metadata": {},
   "source": [
    "# ALL - NO2"
   ]
  },
  {
   "cell_type": "code",
   "execution_count": 116,
   "metadata": {},
   "outputs": [],
   "source": [
    "def plot_all_separate(col):\n",
    "    for c in sorted(df.columns):\n",
    "        if col not in c: continue\n",
    "        a = df[[c]].copy()\n",
    "        a['avg'] = a[c].mean()\n",
    "        fig = px.line(a, title=c)    \n",
    "        fig.show()"
   ]
  },
  {
   "cell_type": "code",
   "execution_count": null,
   "metadata": {
    "scrolled": true
   },
   "outputs": [],
   "source": [
    "col = 'NO2'\n",
    "plot_all_separate(col)"
   ]
  },
  {
   "cell_type": "code",
   "execution_count": null,
   "metadata": {
    "scrolled": true
   },
   "outputs": [],
   "source": [
    "col = 'PM10K'\n",
    "plot_all_separate(col)"
   ]
  },
  {
   "cell_type": "code",
   "execution_count": null,
   "metadata": {
    "scrolled": true
   },
   "outputs": [],
   "source": [
    "col = 'O3'\n",
    "plot_all_separate(col)"
   ]
  },
  {
   "cell_type": "code",
   "execution_count": null,
   "metadata": {
    "scrolled": true
   },
   "outputs": [],
   "source": [
    "col = 'Ox'\n",
    "plot_all_separate(col)"
   ]
  },
  {
   "cell_type": "code",
   "execution_count": 166,
   "metadata": {},
   "outputs": [],
   "source": [
    "def plot_avg(col):\n",
    "    cols = [c for c in sorted(df_org.columns) if col in c]\n",
    "    a = df_org.groupby('year')[cols].mean()\n",
    "    fig = px.bar(a, barmode='group', title=col)\n",
    "    fig.show()"
   ]
  },
  {
   "cell_type": "code",
   "execution_count": null,
   "metadata": {
    "scrolled": true
   },
   "outputs": [],
   "source": [
    "for col in factors:\n",
    "    plot_avg(col)"
   ]
  },
  {
   "cell_type": "markdown",
   "metadata": {},
   "source": [
    "## YEAR"
   ]
  },
  {
   "cell_type": "code",
   "execution_count": 123,
   "metadata": {},
   "outputs": [],
   "source": [
    "def plot_year(col):\n",
    "    for col in sorted([i for i in df_org.columns if col in i]):    \n",
    "        fig = px.line(df_org, x='dayofyear', y=col, \n",
    "                   color='year', title=col)\n",
    "        fig.show();"
   ]
  },
  {
   "cell_type": "markdown",
   "metadata": {},
   "source": [
    "## D"
   ]
  },
  {
   "cell_type": "code",
   "execution_count": null,
   "metadata": {
    "scrolled": false
   },
   "outputs": [],
   "source": [
    "col = 'D_'\n",
    "plot_year(col)"
   ]
  },
  {
   "cell_type": "markdown",
   "metadata": {},
   "source": [
    "## N"
   ]
  },
  {
   "cell_type": "code",
   "execution_count": null,
   "metadata": {
    "scrolled": true
   },
   "outputs": [],
   "source": [
    "col = 'N_'\n",
    "plot_year(col)"
   ]
  },
  {
   "cell_type": "markdown",
   "metadata": {},
   "source": [
    "## O"
   ]
  },
  {
   "cell_type": "code",
   "execution_count": null,
   "metadata": {
    "scrolled": true
   },
   "outputs": [],
   "source": [
    "col = 'O_'\n",
    "plot_year(col)"
   ]
  },
  {
   "cell_type": "markdown",
   "metadata": {},
   "source": [
    "## S"
   ]
  },
  {
   "cell_type": "code",
   "execution_count": null,
   "metadata": {},
   "outputs": [],
   "source": [
    "col = 'S_'\n",
    "plot_year(col)"
   ]
  },
  {
   "cell_type": "markdown",
   "metadata": {},
   "source": [
    "## W"
   ]
  },
  {
   "cell_type": "code",
   "execution_count": null,
   "metadata": {},
   "outputs": [],
   "source": [
    "col = 'W_'\n",
    "plot_year(col)"
   ]
  },
  {
   "cell_type": "markdown",
   "metadata": {},
   "source": [
    "## MONTH"
   ]
  },
  {
   "cell_type": "code",
   "execution_count": 169,
   "metadata": {},
   "outputs": [],
   "source": [
    "def plot_monthly(col):\n",
    "    for m in months:\n",
    "        a = df_org[df_org[m]==1]\n",
    "        fig = px.line(a, x='dayofyear', y=col, \n",
    "                   color='year', title=m)\n",
    "        fig.show()"
   ]
  },
  {
   "cell_type": "code",
   "execution_count": null,
   "metadata": {
    "scrolled": true
   },
   "outputs": [],
   "source": [
    "col = 'D_NO2'\n",
    "plot_monthly(col)"
   ]
  },
  {
   "cell_type": "code",
   "execution_count": null,
   "metadata": {
    "scrolled": true
   },
   "outputs": [],
   "source": [
    "col = 'D_PM10K'\n",
    "for m in months:\n",
    "    a = df_org[df_org[m]==1]\n",
    "    fig = px.line(a, x='dayofyear', y=col, \n",
    "               color='year', title=m)\n",
    "    fig.show()"
   ]
  }
 ],
 "metadata": {
  "kernelspec": {
   "display_name": "Python 3",
   "language": "python",
   "name": "python3"
  },
  "language_info": {
   "codemirror_mode": {
    "name": "ipython",
    "version": 3
   },
   "file_extension": ".py",
   "mimetype": "text/x-python",
   "name": "python",
   "nbconvert_exporter": "python",
   "pygments_lexer": "ipython3",
   "version": "3.7.9"
  },
  "toc": {
   "base_numbering": 1,
   "nav_menu": {},
   "number_sections": true,
   "sideBar": true,
   "skip_h1_title": false,
   "title_cell": "Table of Contents",
   "title_sidebar": "Contents",
   "toc_cell": true,
   "toc_position": {},
   "toc_section_display": true,
   "toc_window_display": false
  }
 },
 "nbformat": 4,
 "nbformat_minor": 5
}
