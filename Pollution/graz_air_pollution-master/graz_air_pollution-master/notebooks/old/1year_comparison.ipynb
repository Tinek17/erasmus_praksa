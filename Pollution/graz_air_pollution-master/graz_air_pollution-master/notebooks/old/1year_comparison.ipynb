{
 "cells": [
  {
   "cell_type": "code",
   "execution_count": 3,
   "id": "determined-prairie",
   "metadata": {},
   "outputs": [],
   "source": [
    "import pandas as pd\n",
    "import numpy as np\n",
    "import os"
   ]
  },
  {
   "cell_type": "code",
   "execution_count": null,
   "id": "closed-cherry",
   "metadata": {
    "scrolled": true
   },
   "outputs": [],
   "source": [
    "pp = pd.read_csv('df_min_1year.csv', index_col=0)\n",
    "pp.rename(columns={'RMSE_val': 'RMSE_prophet', 'MAE_val':'MAE_prophet'}, inplace=True)\n",
    "ml = pd.read_csv('df_min_ml_base_97.csv', index_col=0)\n",
    "ml.rename(columns={'RMSE_val': 'RMSE_ml', 'MAE_val':'MAE_ml'}, inplace=True)\n",
    "df = pp.iloc[:, 2:].join(ml.iloc[:, 2:], how='outer')\n",
    "df"
   ]
  },
  {
   "cell_type": "code",
   "execution_count": 21,
   "id": "consistent-asset",
   "metadata": {},
   "outputs": [
    {
     "data": {
      "text/html": [
       "<div>\n",
       "<style scoped>\n",
       "    .dataframe tbody tr th:only-of-type {\n",
       "        vertical-align: middle;\n",
       "    }\n",
       "\n",
       "    .dataframe tbody tr th {\n",
       "        vertical-align: top;\n",
       "    }\n",
       "\n",
       "    .dataframe thead th {\n",
       "        text-align: right;\n",
       "    }\n",
       "</style>\n",
       "<table border=\"1\" class=\"dataframe\">\n",
       "  <thead>\n",
       "    <tr style=\"text-align: right;\">\n",
       "      <th></th>\n",
       "      <th>MAE_ml</th>\n",
       "      <th>MAE_prophet</th>\n",
       "      <th>RMSE_ml</th>\n",
       "      <th>RMSE_prophet</th>\n",
       "    </tr>\n",
       "  </thead>\n",
       "  <tbody>\n",
       "    <tr>\n",
       "      <th>D_NO2</th>\n",
       "      <td>12.29</td>\n",
       "      <td>5.91</td>\n",
       "      <td>14.28</td>\n",
       "      <td>7.55</td>\n",
       "    </tr>\n",
       "    <tr>\n",
       "      <th>D_PM10K</th>\n",
       "      <td>9.61</td>\n",
       "      <td>7.68</td>\n",
       "      <td>13.19</td>\n",
       "      <td>11.26</td>\n",
       "    </tr>\n",
       "    <tr>\n",
       "      <th>N_NO2</th>\n",
       "      <td>6.13</td>\n",
       "      <td>4.20</td>\n",
       "      <td>7.70</td>\n",
       "      <td>5.81</td>\n",
       "    </tr>\n",
       "    <tr>\n",
       "      <th>N_O3</th>\n",
       "      <td>7.41</td>\n",
       "      <td>7.69</td>\n",
       "      <td>9.54</td>\n",
       "      <td>9.72</td>\n",
       "    </tr>\n",
       "    <tr>\n",
       "      <th>N_Ox</th>\n",
       "      <td>6.94</td>\n",
       "      <td>6.56</td>\n",
       "      <td>8.54</td>\n",
       "      <td>7.94</td>\n",
       "    </tr>\n",
       "    <tr>\n",
       "      <th>N_PM10K</th>\n",
       "      <td>6.67</td>\n",
       "      <td>5.45</td>\n",
       "      <td>10.42</td>\n",
       "      <td>7.70</td>\n",
       "    </tr>\n",
       "    <tr>\n",
       "      <th>O_NO2</th>\n",
       "      <td>7.28</td>\n",
       "      <td>4.67</td>\n",
       "      <td>8.69</td>\n",
       "      <td>5.90</td>\n",
       "    </tr>\n",
       "    <tr>\n",
       "      <th>O_PM10K</th>\n",
       "      <td>7.46</td>\n",
       "      <td>6.69</td>\n",
       "      <td>11.62</td>\n",
       "      <td>9.92</td>\n",
       "    </tr>\n",
       "    <tr>\n",
       "      <th>S_NO2</th>\n",
       "      <td>8.46</td>\n",
       "      <td>3.94</td>\n",
       "      <td>10.25</td>\n",
       "      <td>5.15</td>\n",
       "    </tr>\n",
       "    <tr>\n",
       "      <th>S_O3</th>\n",
       "      <td>5.96</td>\n",
       "      <td>6.19</td>\n",
       "      <td>7.86</td>\n",
       "      <td>7.92</td>\n",
       "    </tr>\n",
       "    <tr>\n",
       "      <th>S_Ox</th>\n",
       "      <td>9.74</td>\n",
       "      <td>6.27</td>\n",
       "      <td>11.60</td>\n",
       "      <td>7.71</td>\n",
       "    </tr>\n",
       "    <tr>\n",
       "      <th>S_PM10K</th>\n",
       "      <td>9.38</td>\n",
       "      <td>7.08</td>\n",
       "      <td>13.56</td>\n",
       "      <td>10.37</td>\n",
       "    </tr>\n",
       "    <tr>\n",
       "      <th>W_NO2</th>\n",
       "      <td>7.29</td>\n",
       "      <td>4.93</td>\n",
       "      <td>9.04</td>\n",
       "      <td>6.42</td>\n",
       "    </tr>\n",
       "    <tr>\n",
       "      <th>W_PM10K</th>\n",
       "      <td>7.19</td>\n",
       "      <td>6.28</td>\n",
       "      <td>10.75</td>\n",
       "      <td>8.83</td>\n",
       "    </tr>\n",
       "  </tbody>\n",
       "</table>\n",
       "</div>"
      ],
      "text/plain": [
       "         MAE_ml  MAE_prophet  RMSE_ml  RMSE_prophet\n",
       "D_NO2     12.29         5.91    14.28          7.55\n",
       "D_PM10K    9.61         7.68    13.19         11.26\n",
       "N_NO2      6.13         4.20     7.70          5.81\n",
       "N_O3       7.41         7.69     9.54          9.72\n",
       "N_Ox       6.94         6.56     8.54          7.94\n",
       "N_PM10K    6.67         5.45    10.42          7.70\n",
       "O_NO2      7.28         4.67     8.69          5.90\n",
       "O_PM10K    7.46         6.69    11.62          9.92\n",
       "S_NO2      8.46         3.94    10.25          5.15\n",
       "S_O3       5.96         6.19     7.86          7.92\n",
       "S_Ox       9.74         6.27    11.60          7.71\n",
       "S_PM10K    9.38         7.08    13.56         10.37\n",
       "W_NO2      7.29         4.93     9.04          6.42\n",
       "W_PM10K    7.19         6.28    10.75          8.83"
      ]
     },
     "execution_count": 21,
     "metadata": {},
     "output_type": "execute_result"
    }
   ],
   "source": [
    "df[sorted(df.columns)].round(2)"
   ]
  },
  {
   "cell_type": "code",
   "execution_count": 13,
   "id": "powered-constitution",
   "metadata": {},
   "outputs": [
    {
     "data": {
      "image/png": "[encoded data removed]",
      "text/plain": [
       "<Figure size 648x360 with 1 Axes>"
      ]
     },
     "metadata": {
      "needs_background": "light"
     },
     "output_type": "display_data"
    },
    {
     "data": {
      "image/png": "[encoded data removed]",
      "text/plain": [
       "<Figure size 648x360 with 1 Axes>"
      ]
     },
     "metadata": {
      "needs_background": "light"
     },
     "output_type": "display_data"
    }
   ],
   "source": [
    "rmse = 'RMSE'\n",
    "a = df[[c for c in df.columns if rmse in c]].round(2)\n",
    "a.plot.bar(figsize=(9, 5));\n",
    "\n",
    "rmse = 'MAE'\n",
    "a = df[[c for c in df.columns if rmse in c]].round(2)\n",
    "a.plot.bar(figsize=(9, 5));"
   ]
  },
  {
   "cell_type": "code",
   "execution_count": 22,
   "id": "incoming-emerald",
   "metadata": {},
   "outputs": [
    {
     "data": {
      "image/png": "[encoded data removed]",
      "text/plain": [
       "<Figure size 648x360 with 1 Axes>"
      ]
     },
     "metadata": {
      "needs_background": "light"
     },
     "output_type": "display_data"
    }
   ],
   "source": [
    "rmse = 'RMSE'\n",
    "a = df[[c for c in df.columns if rmse in c]].copy()\n",
    "a['%RMSE'] = (a.iloc[:, 0]/a.iloc[:, 1]).round(2)\n",
    "# a['percent'].plot.bar(figsize=(9, 5));\n",
    "\n",
    "rmse = 'MAE'\n",
    "b = df[[c for c in df.columns if rmse in c]].copy()\n",
    "b['%MAE'] = (b.iloc[:, 0]/b.iloc[:, 1]).round(2)\n",
    "a[['%RMSE']].join(b[['%MAE']]).sort_values('%RMSE').plot.bar(figsize=(9, 5));"
   ]
  }
 ],
 "metadata": {
  "kernelspec": {
   "display_name": "Python 3",
   "language": "python",
   "name": "python3"
  },
  "language_info": {
   "codemirror_mode": {
    "name": "ipython",
    "version": 3
   },
   "file_extension": ".py",
   "mimetype": "text/x-python",
   "name": "python",
   "nbconvert_exporter": "python",
   "pygments_lexer": "ipython3",
   "version": "3.8.5"
  }
 },
 "nbformat": 4,
 "nbformat_minor": 5
}
