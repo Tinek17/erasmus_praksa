{
 "cells": [
  {
   "cell_type": "markdown",
   "metadata": {},
   "source": [
    "# Import"
   ]
  },
  {
   "cell_type": "code",
   "execution_count": 1,
   "metadata": {},
   "outputs": [],
   "source": [
    "import torch\n",
    "import torch.nn as nn\n",
    "import torchvision\n",
    "import torchvision.transforms as transforms\n",
    "import matplotlib.pyplot as plt\n",
    "import pandas as pd\n",
    "import numpy as np \n",
    "from sklearn import datasets\n",
    "from sklearn.preprocessing import MinMaxScaler\n",
    "from torch.utils.data import Dataset, DataLoader\n",
    "from torch import nn, optim\n",
    "import torch.nn.functional as F\n",
    "from sklearn.metrics import mean_squared_error\n",
    "from sklearn.metrics import r2_score"
   ]
  },
  {
   "cell_type": "markdown",
   "metadata": {},
   "source": [
    "# Data\n"
   ]
  },
  {
   "cell_type": "code",
   "execution_count": 2,
   "metadata": {},
   "outputs": [],
   "source": [
    "satelit_data=(r'..\\data\\AgERA5_4params_graz.csv')\n",
    "local_data=(r'..\\data\\new_5sta(DNOWS)_3com(NO2,PM10K,O3)_year2010_TemporalDummies_Ox_holidays_meteo.csv')\n",
    "traffic_data=(r'..\\data\\traffic_KP.xlsx')"
   ]
  },
  {
   "cell_type": "code",
   "execution_count": 3,
   "metadata": {},
   "outputs": [],
   "source": [
    "df_satelit= pd.read_csv(satelit_data,index_col = 0)\n",
    "df_local = pd.read_csv(local_data,index_col = 0)"
   ]
  },
  {
   "cell_type": "code",
   "execution_count": 4,
   "metadata": {},
   "outputs": [
    {
     "data": {
      "text/plain": [
       "2010-01-01          NaN\n",
       "2010-01-02          NaN\n",
       "2010-01-03          NaN\n",
       "2010-01-04          NaN\n",
       "2010-01-05          NaN\n",
       "                ...    \n",
       "2021-07-03    182.59240\n",
       "2021-07-04    130.74823\n",
       "2021-07-05    139.74475\n",
       "2021-07-06    129.45146\n",
       "2021-07-07    130.95103\n",
       "Name: Ost_Winddirection, Length: 4206, dtype: float64"
      ]
     },
     "execution_count": 4,
     "metadata": {},
     "output_type": "execute_result"
    }
   ],
   "source": [
    "df_local.index = pd.to_datetime(df_local.index)\n",
    "df_local.columns\n",
    "df_local.Ost_Winddirection"
   ]
  },
  {
   "cell_type": "code",
   "execution_count": 5,
   "metadata": {},
   "outputs": [],
   "source": [
    "df_satelit.index = pd.to_datetime(df_satelit.index)"
   ]
  },
  {
   "cell_type": "code",
   "execution_count": 6,
   "metadata": {},
   "outputs": [],
   "source": [
    "df_ulice = pd.read_excel(traffic_data, engine='openpyxl', sheet_name='Sheet1', index_col=0)\n",
    "df_ulice_podaci = pd.read_excel(traffic_data, engine='openpyxl', sheet_name='traffic_data_containsNA_KP', index_col=0)"
   ]
  },
  {
   "cell_type": "code",
   "execution_count": 7,
   "metadata": {
    "scrolled": false
   },
   "outputs": [],
   "source": [
    "df_ulice_podaci.index = pd.to_datetime(df_ulice_podaci.index)"
   ]
  },
  {
   "cell_type": "code",
   "execution_count": 8,
   "metadata": {},
   "outputs": [],
   "source": [
    "df_local=df_local['2018-01-01':'2020-03-15']\n",
    "df_ulice_podaci=df_ulice_podaci['2018-01-01':'2020-03-15']\n",
    "df_satelit=df_satelit['2018-01-01':'2020-03-15']"
   ]
  },
  {
   "cell_type": "markdown",
   "metadata": {},
   "source": [
    "# Nan values"
   ]
  },
  {
   "cell_type": "code",
   "execution_count": 9,
   "metadata": {},
   "outputs": [
    {
     "name": "stdout",
     "output_type": "stream",
     "text": [
      "D_NO2                0\n",
      "D_PM10K              0\n",
      "N_NO2                0\n",
      "N_O3                 0\n",
      "N_PM10K              0\n",
      "                    ..\n",
      "Ost_Pressure         0\n",
      "Ost_RH               1\n",
      "Ost_Temp             0\n",
      "Ost_Winddirection    0\n",
      "Ost_Windspeed        0\n",
      "Length: 62, dtype: int64\n",
      "Cloud_Cover_Mean                     0\n",
      "Temperature_Air_2m_Max_Day_Time      0\n",
      "Temperature_Air_2m_Min_Night_Time    0\n",
      "Wind_Speed_10m_Mean                  0\n",
      "dtype: int64\n",
      "8010_208      2\n",
      "8020_110      2\n",
      "8020_119      3\n",
      "8020_122      2\n",
      "8053_111      2\n",
      "8010_205      2\n",
      "8010_209      2\n",
      "8010_213      2\n",
      "8010_214      2\n",
      "8020_102      5\n",
      "8020_103      2\n",
      "8020_107     45\n",
      "8041_218      2\n",
      "8041_221      2\n",
      "8045_203    155\n",
      "8051_101      2\n",
      "dtype: int64\n"
     ]
    }
   ],
   "source": [
    "print(df_local.isnull().sum()) \n",
    "print(df_satelit.isnull().sum())\n",
    "\n",
    "print(df_ulice_podaci.isnull().sum())\n",
    "df_local = df_local.fillna(df_local.mean())\n",
    "df_ulice_podaci = df_ulice_podaci.fillna(method='bfill')\n",
    "df_ulice_podaci = df_ulice_podaci.fillna(df_ulice_podaci.mean())"
   ]
  },
  {
   "cell_type": "markdown",
   "metadata": {},
   "source": [
    "# Merge"
   ]
  },
  {
   "cell_type": "code",
   "execution_count": 10,
   "metadata": {},
   "outputs": [],
   "source": [
    "Postaje=df_ulice.Reference_station\n",
    "Udaljenost = df_ulice['Distance to ref']"
   ]
  },
  {
   "cell_type": "code",
   "execution_count": 11,
   "metadata": {},
   "outputs": [
    {
     "name": "stdout",
     "output_type": "stream",
     "text": [
      "Ost 8010_208 2689.680221\n",
      "Ost 8010_209 2017.9953620000001\n",
      "Ost 8010_213 1828.992486\n",
      "Ost 8010_214 1497.288645\n",
      "Ost 8041_221 1855.044783\n"
     ]
    }
   ],
   "source": [
    "\n",
    "Postaje=df_ulice.Reference_station\n",
    "for value,index,udaljenost in zip(Postaje,Postaje.index,Udaljenost):\n",
    "    if value == 'Ost':\n",
    "        print(value,index,udaljenost)"
   ]
  },
  {
   "cell_type": "code",
   "execution_count": 12,
   "metadata": {},
   "outputs": [],
   "source": [
    "df_ulica_sve_O=df_ulice_podaci[['8010_208','8010_209','8010_213', '8010_214','8041_221']]"
   ]
  },
  {
   "cell_type": "code",
   "execution_count": 13,
   "metadata": {},
   "outputs": [],
   "source": [
    "temporals = ['year', 'dayofyear', 'month_Apr',\n",
    "       'month_Aug', 'month_Dec', 'month_Feb', 'month_Jan', 'month_Jul',\n",
    "       'month_Jun', 'month_Mar', 'month_May', 'month_Nov', 'month_Oct',\n",
    "       'month_Sep', 'weekday_Friday', 'weekday_Monday', 'weekday_Saturday',\n",
    "       'weekday_Sunday', 'weekday_Thursday', 'weekday_Tuesday',\n",
    "       'weekday_Wednesday', 'season_fall', 'season_spring', 'season_summer',\n",
    "       'season_winter','holiday', 'holiday_school' ]\n",
    "data_temporals = df_local[temporals]"
   ]
  },
  {
   "cell_type": "code",
   "execution_count": 14,
   "metadata": {
    "scrolled": true
   },
   "outputs": [],
   "source": [
    "data = pd.concat([df_ulica_sve_O, df_satelit],axis = 1, join='inner')\n"
   ]
  },
  {
   "cell_type": "code",
   "execution_count": 15,
   "metadata": {},
   "outputs": [],
   "source": [
    "df = df_local.filter(regex='Ost')"
   ]
  },
  {
   "cell_type": "code",
   "execution_count": 16,
   "metadata": {},
   "outputs": [],
   "source": [
    "data_2 =  pd.concat([data, df],axis = 1, join='inner')\n"
   ]
  },
  {
   "cell_type": "code",
   "execution_count": 17,
   "metadata": {},
   "outputs": [],
   "source": [
    "data_3 =  pd.concat([data_2, data_temporals],axis = 1, join='inner')\n"
   ]
  },
  {
   "cell_type": "markdown",
   "metadata": {},
   "source": [
    "# Priprema podataka i pretvaranje u tenzore"
   ]
  },
  {
   "cell_type": "code",
   "execution_count": 18,
   "metadata": {},
   "outputs": [],
   "source": [
    "Y = df_local['O_NO2']\n",
    "X = data_3\n",
    "X_train = X['2018-01-01':'2019-12-31']\n",
    "X_test = X['2020-01-03':'2020-03-15']\n",
    "Y_train = Y['2018-01-01':'2019-12-31'].values.reshape((-1, 1))\n",
    "Y_test = Y['2020-01-03':'2020-03-15'].values.reshape((-1, 1))"
   ]
  },
  {
   "cell_type": "code",
   "execution_count": 19,
   "metadata": {},
   "outputs": [],
   "source": [
    "sc = MinMaxScaler()\n",
    "\n",
    "X_train = sc.fit_transform(X_train)\n",
    "X_test = sc.transform(X_test)"
   ]
  },
  {
   "cell_type": "code",
   "execution_count": 20,
   "metadata": {
    "scrolled": true
   },
   "outputs": [],
   "source": [
    "X_train_t = torch.FloatTensor(X_train)\n",
    "Y_train_t = torch.FloatTensor(Y_train).reshape(-1,1)"
   ]
  },
  {
   "cell_type": "markdown",
   "metadata": {},
   "source": [
    "# Model"
   ]
  },
  {
   "cell_type": "code",
   "execution_count": 35,
   "metadata": {},
   "outputs": [],
   "source": [
    "# Define network dimensions\n",
    "input_size = X_train.shape[1]\n",
    "# Layer size\n",
    "hidden_size = 1000 # Number of hidden nodes\n",
    "output_size = 1 # Number of output nodes for prediction\n",
    "torch_model = torch.nn.Sequential(torch.nn.Linear(input_size, hidden_size),\n",
    "                                  torch.nn.ReLU(),\n",
    "                                  torch.nn.Linear(hidden_size, output_size))    "
   ]
  },
  {
   "cell_type": "code",
   "execution_count": 36,
   "metadata": {},
   "outputs": [],
   "source": [
    "loss_func = torch.nn.MSELoss() #mean square error as loss metric\n",
    "learning_rate = 0.001\n",
    "optimizer = torch.optim.Adam(torch_model.parameters(), lr=learning_rate)"
   ]
  },
  {
   "cell_type": "code",
   "execution_count": 37,
   "metadata": {},
   "outputs": [
    {
     "data": {
      "text/plain": [
       "Text(0.5, 1.0, 'Training Loss')"
      ]
     },
     "execution_count": 37,
     "metadata": {},
     "output_type": "execute_result"
    },
    {
     "data": {
      "image/png": "[encoded data removed]",
      "text/plain": [
       "<Figure size 432x288 with 1 Axes>"
      ]
     },
     "metadata": {
      "needs_background": "light"
     },
     "output_type": "display_data"
    }
   ],
   "source": [
    "train_error = []\n",
    "epochs = 2000\n",
    "\n",
    "#Y_train_t = torch.FloatTensor(y_train).reshape(-1,1) #Converting numpy array to torch tensor\n",
    "\n",
    "for e in range(epochs):\n",
    "    #X_train_t = torch.FloatTensor(xtrain)  #Converting numpy array to torch tensor\n",
    "    \n",
    "    y_pred = torch_model(X_train_t)\n",
    "    loss = loss_func(y_pred, Y_train_t)\n",
    "    loss.backward()\n",
    "    optimizer.step()\n",
    "    \n",
    "    optimizer.zero_grad()\n",
    "\n",
    "    train_error.append(loss.item())\n",
    "\n",
    "plt.plot(train_error)\n",
    "plt.ylabel('Loss')\n",
    "plt.title('Training Loss')"
   ]
  },
  {
   "cell_type": "code",
   "execution_count": 38,
   "metadata": {},
   "outputs": [],
   "source": [
    "X_test_t = torch.FloatTensor(X_test)"
   ]
  },
  {
   "cell_type": "code",
   "execution_count": 39,
   "metadata": {},
   "outputs": [
    {
     "data": {
      "text/plain": [
       "[<matplotlib.lines.Line2D at 0x1d900b61fa0>]"
      ]
     },
     "execution_count": 39,
     "metadata": {},
     "output_type": "execute_result"
    },
    {
     "data": {
      "image/png": "[encoded data removed]",
      "text/plain": [
       "<Figure size 432x288 with 1 Axes>"
      ]
     },
     "metadata": {
      "needs_background": "light"
     },
     "output_type": "display_data"
    }
   ],
   "source": [
    "ypredict = torch_model(X_test_t)\n",
    "# Descale\n",
    "ypredict_np = ypredict.detach().numpy()\n",
    "#ypredict_inverse = scaler_y.inverse_transform(ypredict_np)\n",
    "#ytest_inverse = scaler_y.inverse_transform(ytest)\n",
    "\n",
    "plt.plot(Y_test)#_inverse)\n",
    "plt.plot(ypredict_np)#_inverse)"
   ]
  },
  {
   "cell_type": "code",
   "execution_count": 1,
   "metadata": {},
   "outputs": [
    {
     "ename": "NameError",
     "evalue": "name 'mean_squared_error' is not defined",
     "output_type": "error",
     "traceback": [
      "\u001b[1;31m---------------------------------------------------------------------------\u001b[0m",
      "\u001b[1;31mNameError\u001b[0m                                 Traceback (most recent call last)",
      "\u001b[1;32m~\\AppData\\Local\\Temp/ipykernel_9220/727809607.py\u001b[0m in \u001b[0;36m<module>\u001b[1;34m\u001b[0m\n\u001b[1;32m----> 1\u001b[1;33m \u001b[0mprint\u001b[0m\u001b[1;33m(\u001b[0m\u001b[1;34m'MSE:'\u001b[0m\u001b[1;33m,\u001b[0m \u001b[0mmean_squared_error\u001b[0m\u001b[1;33m(\u001b[0m\u001b[0mY_test\u001b[0m\u001b[1;33m,\u001b[0m \u001b[0mypredict_np\u001b[0m\u001b[1;33m,\u001b[0m \u001b[0msquared\u001b[0m\u001b[1;33m=\u001b[0m\u001b[1;32mTrue\u001b[0m\u001b[1;33m)\u001b[0m\u001b[1;33m)\u001b[0m\u001b[1;33m\u001b[0m\u001b[1;33m\u001b[0m\u001b[0m\n\u001b[0m\u001b[0;32m      2\u001b[0m \u001b[0mprint\u001b[0m\u001b[1;33m(\u001b[0m\u001b[1;34m'R2:'\u001b[0m\u001b[1;33m,\u001b[0m \u001b[0mr2_score\u001b[0m\u001b[1;33m(\u001b[0m\u001b[0mY_test\u001b[0m\u001b[1;33m,\u001b[0m \u001b[0mypredict_np\u001b[0m\u001b[1;33m)\u001b[0m\u001b[1;33m)\u001b[0m\u001b[1;33m\u001b[0m\u001b[1;33m\u001b[0m\u001b[0m\n",
      "\u001b[1;31mNameError\u001b[0m: name 'mean_squared_error' is not defined"
     ]
    }
   ],
   "source": [
    "print('MSE:', mean_squared_error(Y_test, ypredict_np, squared=True))\n",
    "print('R2:', r2_score(Y_test, ypredict_np))"
   ]
  },
  {
   "cell_type": "code",
   "execution_count": null,
   "metadata": {},
   "outputs": [],
   "source": []
  }
 ],
 "metadata": {
  "kernelspec": {
   "display_name": "Python 3 (ipykernel)",
   "language": "python",
   "name": "python3"
  },
  "language_info": {
   "codemirror_mode": {
    "name": "ipython",
    "version": 3
   },
   "file_extension": ".py",
   "mimetype": "text/x-python",
   "name": "python",
   "nbconvert_exporter": "python",
   "pygments_lexer": "ipython3",
   "version": "3.9.7"
  }
 },
 "nbformat": 4,
 "nbformat_minor": 4
}
