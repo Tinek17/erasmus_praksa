{
 "cells": [
  {
   "cell_type": "markdown",
   "metadata": {},
   "source": [
    "# import"
   ]
  },
  {
   "cell_type": "code",
   "execution_count": 1,
   "metadata": {},
   "outputs": [],
   "source": [
    "import torch\n",
    "import torch.nn as nn\n",
    "import torchvision\n",
    "import torchvision.transforms as transforms\n",
    "import matplotlib.pyplot as plt\n",
    "import pandas as pd\n",
    "import numpy as np \n",
    "from sklearn import datasets\n",
    "from sklearn.preprocessing import MinMaxScaler\n",
    "from torch.utils.data import Dataset, DataLoader\n",
    "import torch.nn.functional as F\n",
    "from sklearn.metrics import mean_squared_error\n",
    "from sklearn.metrics import r2_score\n",
    "from ray import tune\n",
    "from ray.tune import CLIReporter\n",
    "from ray.tune.schedulers import ASHAScheduler"
   ]
  },
  {
   "cell_type": "markdown",
   "metadata": {},
   "source": [
    "# data"
   ]
  },
  {
   "cell_type": "code",
   "execution_count": 75,
   "metadata": {},
   "outputs": [],
   "source": [
    "data_path = (r'..\\data\\data_ready.csv')"
   ]
  },
  {
   "cell_type": "code",
   "execution_count": 76,
   "metadata": {},
   "outputs": [],
   "source": [
    "data = pd.read_csv(data_path,index_col=0)"
   ]
  },
  {
   "cell_type": "code",
   "execution_count": 77,
   "metadata": {},
   "outputs": [
    {
     "data": {
      "text/plain": [
       "Ost_8010_208            0\n",
       "DonBosco_8020_110       0\n",
       "DonBosco_8020_119       0\n",
       "DonBosco_8020_122       0\n",
       "DonBosco_8053_111       0\n",
       "                       ..\n",
       "S_NO                    0\n",
       "Sud_peek_wind_speed     0\n",
       "W_NO                    0\n",
       "W_NOX                   0\n",
       "West_peek_wind_speed    0\n",
       "Length: 96, dtype: int64"
      ]
     },
     "execution_count": 77,
     "metadata": {},
     "output_type": "execute_result"
    }
   ],
   "source": [
    "data.isnull().sum()"
   ]
  },
  {
   "cell_type": "markdown",
   "metadata": {},
   "source": [
    "# funckcija za podatke "
   ]
  },
  {
   "cell_type": "code",
   "execution_count": 78,
   "metadata": {},
   "outputs": [],
   "source": [
    "def data_sites(site,pollutant):\n",
    "    df = data.copy()\n",
    "    df1 = df.filter(like=site, axis=1)\n",
    "    df2 = df[[pollutant]]\n",
    "    df3 = df[['Cloud_Cover_Mean','Temperature_Air_2m_Max_Day_Time', 'Temperature_Air_2m_Min_Night_Time','Wind_Speed_10m_Mean']]\n",
    "    df4 = df[['year', 'dayofyear', 'month_Apr', 'month_Aug', 'month_Dec',\n",
    "       'month_Feb', 'month_Jan', 'month_Jul', 'month_Jun', 'month_Mar',\n",
    "       'month_May', 'month_Nov', 'month_Oct', 'month_Sep', 'weekday_Friday',\n",
    "       'weekday_Monday', 'weekday_Saturday', 'weekday_Sunday',\n",
    "       'weekday_Thursday', 'weekday_Tuesday', 'weekday_Wednesday',\n",
    "       'season_fall', 'season_spring', 'season_summer', 'season_winter', 'holiday', 'holiday_school']]\n",
    "    d = pd.concat([df1,df2,df3,df4],axis=1)\n",
    "    return d"
   ]
  },
  {
   "cell_type": "markdown",
   "metadata": {},
   "source": [
    "# podaci za Nord, N_NO2"
   ]
  },
  {
   "cell_type": "code",
   "execution_count": 79,
   "metadata": {},
   "outputs": [],
   "source": [
    "data_model = data_sites('Nord','N_NO2')"
   ]
  },
  {
   "cell_type": "code",
   "execution_count": 80,
   "metadata": {},
   "outputs": [],
   "source": [
    "X = data_model.drop('N_NO2',axis=1)\n",
    "Y = data_model[['N_NO2']]"
   ]
  },
  {
   "cell_type": "code",
   "execution_count": 81,
   "metadata": {},
   "outputs": [],
   "source": [
    "X_train = X.loc[:'2020-01-02']\n",
    "X_test = X.loc['2020-01-03':'2020-03-10']\n",
    "y_train = Y.loc[:'2020-01-02'].values.reshape((-1, 1))\n",
    "y_test = Y.loc['2020-01-03':'2020-03-10'].values.reshape((-1, 1))"
   ]
  },
  {
   "cell_type": "code",
   "execution_count": 82,
   "metadata": {},
   "outputs": [],
   "source": [
    "sc = MinMaxScaler()\n",
    "\n",
    "X_train = sc.fit_transform(X_train)\n",
    "X_test = sc.transform(X_test)"
   ]
  },
  {
   "cell_type": "code",
   "execution_count": 83,
   "metadata": {},
   "outputs": [],
   "source": [
    "X_train_t = torch.FloatTensor(X_train)\n",
    "Y_train_t = torch.FloatTensor(y_train).reshape(-1,1) "
   ]
  },
  {
   "cell_type": "code",
   "execution_count": 84,
   "metadata": {},
   "outputs": [],
   "source": [
    "X_test_t = torch.FloatTensor(X_test)"
   ]
  },
  {
   "cell_type": "code",
   "execution_count": 101,
   "metadata": {},
   "outputs": [
    {
     "name": "stdout",
     "output_type": "stream",
     "text": [
      "Sequential(\n",
      "  (0): Linear(in_features=43, out_features=1000, bias=True)\n",
      "  (1): ReLU()\n",
      "  (2): Linear(in_features=1000, out_features=1, bias=True)\n",
      ")\n"
     ]
    }
   ],
   "source": [
    "# Define network dimensions\n",
    "input_size = X_train.shape[1]\n",
    "# Layer size\n",
    "hidden_size = 1000 # Number of hidden nodes\n",
    "output_size = 1 # Number of output nodes for prediction\n",
    "\n",
    "# Build mdel\n",
    "torch_model = torch.nn.Sequential(torch.nn.Linear(input_size, hidden_size),\n",
    "                                  torch.nn.ReLU(),\n",
    "                                  torch.nn.Linear(hidden_size, output_size))    \n",
    "print(torch_model)"
   ]
  },
  {
   "cell_type": "code",
   "execution_count": 102,
   "metadata": {},
   "outputs": [],
   "source": [
    "loss_func = torch.nn.MSELoss() #mean square error as loss metric\n",
    "learning_rate = 0.001\n",
    "optimizer = torch.optim.Adam(torch_model.parameters(), lr=learning_rate)"
   ]
  },
  {
   "cell_type": "code",
   "execution_count": 103,
   "metadata": {},
   "outputs": [
    {
     "data": {
      "text/plain": [
       "Text(0.5, 1.0, 'Training Loss')"
      ]
     },
     "execution_count": 103,
     "metadata": {},
     "output_type": "execute_result"
    },
    {
     "data": {
      "image/png": "[encoded data removed]",
      "text/plain": [
       "<Figure size 432x288 with 1 Axes>"
      ]
     },
     "metadata": {
      "needs_background": "light"
     },
     "output_type": "display_data"
    }
   ],
   "source": [
    "train_error = []\n",
    "epochs = 2000\n",
    "\n",
    "#Y_train_t = torch.FloatTensor(y_train).reshape(-1,1) #Converting numpy array to torch tensor\n",
    "\n",
    "for e in range(epochs):\n",
    "    #X_train_t = torch.FloatTensor(xtrain)  #Converting numpy array to torch tensor\n",
    "    \n",
    "    y_pred = torch_model(X_train_t)\n",
    "    loss = loss_func(y_pred, Y_train_t)\n",
    "    loss.backward()\n",
    "    optimizer.step()\n",
    "    \n",
    "    optimizer.zero_grad()\n",
    "\n",
    "    train_error.append(loss.item())\n",
    "\n",
    "plt.plot(train_error)\n",
    "plt.ylabel('Loss')\n",
    "plt.title('Training Loss')"
   ]
  },
  {
   "cell_type": "code",
   "execution_count": 104,
   "metadata": {},
   "outputs": [
    {
     "data": {
      "text/plain": [
       "[<matplotlib.lines.Line2D at 0x2b8faa6a430>]"
      ]
     },
     "execution_count": 104,
     "metadata": {},
     "output_type": "execute_result"
    },
    {
     "data": {
      "image/png": "[encoded data removed]",
      "text/plain": [
       "<Figure size 432x288 with 1 Axes>"
      ]
     },
     "metadata": {
      "needs_background": "light"
     },
     "output_type": "display_data"
    }
   ],
   "source": [
    "ypredict = torch_model(X_test_t)\n",
    "# Descale\n",
    "ypredict_np = ypredict.detach().numpy()\n",
    "#ypredict_inverse = scaler_y.inverse_transform(ypredict_np)\n",
    "#ytest_inverse = scaler_y.inverse_transform(ytest)\n",
    "\n",
    "plt.plot(y_test)#_inverse)\n",
    "plt.legend\n",
    "plt.plot(ypredict_np)#_inverse)"
   ]
  },
  {
   "cell_type": "code",
   "execution_count": 105,
   "metadata": {},
   "outputs": [
    {
     "name": "stdout",
     "output_type": "stream",
     "text": [
      "MSE: 83.07943863492908\n",
      "0.2792148227927186\n"
     ]
    }
   ],
   "source": [
    "print('MSE:', mean_squared_error(y_test, ypredict_np, squared=True))\n",
    "print(r2_score(y_test, ypredict_np))\n"
   ]
  },
  {
   "cell_type": "code",
   "execution_count": null,
   "metadata": {},
   "outputs": [],
   "source": []
  }
 ],
 "metadata": {
  "kernelspec": {
   "display_name": "Python 3 (ipykernel)",
   "language": "python",
   "name": "python3"
  },
  "language_info": {
   "codemirror_mode": {
    "name": "ipython",
    "version": 3
   },
   "file_extension": ".py",
   "mimetype": "text/x-python",
   "name": "python",
   "nbconvert_exporter": "python",
   "pygments_lexer": "ipython3",
   "version": "3.9.7"
  }
 },
 "nbformat": 4,
 "nbformat_minor": 4
}
