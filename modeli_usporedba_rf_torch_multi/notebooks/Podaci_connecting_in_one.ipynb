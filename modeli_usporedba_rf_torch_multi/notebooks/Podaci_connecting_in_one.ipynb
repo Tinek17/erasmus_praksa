{
 "cells": [
  {
   "cell_type": "code",
   "execution_count": 43,
   "metadata": {},
   "outputs": [],
   "source": [
    "import pandas as pd \n",
    "import numpy as np"
   ]
  },
  {
   "cell_type": "code",
   "execution_count": 44,
   "metadata": {},
   "outputs": [],
   "source": [
    "traffic_data=(r'..\\data\\traffic_data.xlsx')\n",
    "satelit_data=(r'..\\data\\AgERA5_4params_graz.csv')\n",
    "nova_data=(r'..\\data\\full_data.csv')\n",
    "temporal_data=(r'..\\data\\new_5sta(DNOWS)_3com(NO2,PM10K,O3)_year2010_TemporalDummies_Ox_holidays_meteo.csv')"
   ]
  },
  {
   "cell_type": "code",
   "execution_count": 45,
   "metadata": {},
   "outputs": [],
   "source": [
    "df_satelit= pd.read_csv(satelit_data,index_col = 0)\n",
    "df_temporal =pd.read_csv(temporal_data,index_col = 0)\n",
    "df_ulice = pd.read_excel(traffic_data, engine='openpyxl', sheet_name='street', index_col=0)\n",
    "df_ulice_podaci = pd.read_excel(traffic_data, engine='openpyxl', sheet_name='traffic_data', index_col=0)\n",
    "df_ulice_udaljenosti = pd.read_excel(traffic_data, engine='openpyxl', sheet_name='udaljenosti', index_col=0)\n",
    "df_nova = pd.read_csv(nova_data, index_col=0)"
   ]
  },
  {
   "cell_type": "code",
   "execution_count": 46,
   "metadata": {},
   "outputs": [],
   "source": [
    "df_satelit.index = pd.to_datetime(df_satelit.index)"
   ]
  },
  {
   "cell_type": "code",
   "execution_count": 47,
   "metadata": {},
   "outputs": [],
   "source": [
    "df_temporal.index = pd.to_datetime(df_temporal.index)"
   ]
  },
  {
   "cell_type": "code",
   "execution_count": 48,
   "metadata": {},
   "outputs": [],
   "source": [
    "df_ulice_podaci = df_ulice_podaci.fillna(df_ulice_podaci.mean())"
   ]
  },
  {
   "cell_type": "code",
   "execution_count": 49,
   "metadata": {},
   "outputs": [
    {
     "data": {
      "text/plain": [
       "D_NO2                   0\n",
       "D_PM10K                 0\n",
       "N_NO2                   0\n",
       "N_O3                    0\n",
       "N_PM10K                 0\n",
       "                     ... \n",
       "Ost_Pressure         2701\n",
       "Ost_RH               2706\n",
       "Ost_Temp             2702\n",
       "Ost_Winddirection    2701\n",
       "Ost_Windspeed        2701\n",
       "Length: 62, dtype: int64"
      ]
     },
     "execution_count": 49,
     "metadata": {},
     "output_type": "execute_result"
    }
   ],
   "source": [
    "df_temporal.isna().sum()"
   ]
  },
  {
   "cell_type": "code",
   "execution_count": 50,
   "metadata": {},
   "outputs": [],
   "source": [
    "df_ulice_podaci=df_ulice_podaci['2018-01-01':'2020-03-15']\n",
    "df_satelit=df_satelit['2018-01-01':'2020-03-15']\n",
    "df_temporal=df_temporal['2018-01-01':'2020-03-15']"
   ]
  },
  {
   "cell_type": "code",
   "execution_count": 51,
   "metadata": {},
   "outputs": [],
   "source": [
    "df_temporal = df_temporal.fillna(method='bfill')"
   ]
  },
  {
   "cell_type": "code",
   "execution_count": 52,
   "metadata": {},
   "outputs": [
    {
     "data": {
      "text/plain": [
       "Ost_8010_208         0\n",
       "DonBosco_8020_110    0\n",
       "DonBosco_8020_119    0\n",
       "DonBosco_8020_122    0\n",
       "DonBosco_8053_111    0\n",
       "Nord_8010_205        0\n",
       "Ost_8010_209         0\n",
       "Ost_8010_213         0\n",
       "Ost_8010_214         0\n",
       "Nord_8020_102        0\n",
       "West_8020_103        0\n",
       "Sud_8020_107         0\n",
       "Sud_8041_218         0\n",
       "Ost_8041_221         0\n",
       "Nord_8045_203        0\n",
       "Nord_8051_101        0\n",
       "dtype: int64"
      ]
     },
     "execution_count": 52,
     "metadata": {},
     "output_type": "execute_result"
    }
   ],
   "source": [
    "df_ulice_podaci.isna().sum()"
   ]
  },
  {
   "cell_type": "code",
   "execution_count": 53,
   "metadata": {},
   "outputs": [],
   "source": [
    "data = pd.concat([df_ulice_podaci,df_temporal,df_satelit],axis=1)"
   ]
  },
  {
   "cell_type": "code",
   "execution_count": 54,
   "metadata": {},
   "outputs": [],
   "source": []
  },
  {
   "cell_type": "code",
   "execution_count": 55,
   "metadata": {},
   "outputs": [
    {
     "data": {
      "text/plain": [
       "Index(['D_NO', 'D_NO2', 'D_NOX', 'D_PM10K', 'DonBosco_Temp', 'DonBosco_RH',\n",
       "       'N_O3', 'N_NO', 'N_NO2', 'N_NOX', 'N_PM10K', 'Nord_Temp', 'Nord_RH',\n",
       "       'Nord_Pressure', 'Nord_Precip', 'Nord_Radiation', 'Nord_Winddirection',\n",
       "       'Nord_Windspeed', 'Nord_peek_wind_speed', 'O_NO', 'O_NO2', 'O_NOX',\n",
       "       'O_PM10K', 'Ost_Temp', 'Ost_RH', 'Ost_Pressure', 'Ost_Winddirection',\n",
       "       'Ost_Windspeed', 'Ost_peek_wind_speed', 'S_O3', 'S_NO', 'S_NO2',\n",
       "       'S_NOX', 'S_PM10K', 'Sud_Temp', 'Sud_RH', 'Sud_Winddirection',\n",
       "       'Sud_Windspeed', 'Sud_peek_wind_speed', 'W_NO', 'W_NO2', 'W_NOX',\n",
       "       'W_PM10K', 'West_Temp', 'West_RH', 'West_Winddirection',\n",
       "       'West_Windspeed', 'West_peek_wind_speed'],\n",
       "      dtype='object')"
      ]
     },
     "execution_count": 55,
     "metadata": {},
     "output_type": "execute_result"
    }
   ],
   "source": [
    "df_nova.columns"
   ]
  },
  {
   "cell_type": "code",
   "execution_count": 56,
   "metadata": {},
   "outputs": [
    {
     "data": {
      "text/plain": [
       "Index(['D_NO2', 'D_PM10K', 'N_NO2', 'N_O3', 'N_PM10K', 'O_NO2', 'O_PM10K',\n",
       "       'S_NO2', 'S_O3', 'S_PM10K', 'W_NO2', 'W_PM10K', 'year', 'dayofyear',\n",
       "       'month_Apr', 'month_Aug', 'month_Dec', 'month_Feb', 'month_Jan',\n",
       "       'month_Jul', 'month_Jun', 'month_Mar', 'month_May', 'month_Nov',\n",
       "       'month_Oct', 'month_Sep', 'weekday_Friday', 'weekday_Monday',\n",
       "       'weekday_Saturday', 'weekday_Sunday', 'weekday_Thursday',\n",
       "       'weekday_Tuesday', 'weekday_Wednesday', 'season_fall', 'season_spring',\n",
       "       'season_summer', 'season_winter', 'N_Ox', 'S_Ox', 'holiday',\n",
       "       'holiday_school', 'DonBosco_RH', 'DonBosco_Temp', 'Nord_Precip',\n",
       "       'Nord_Pressure', 'Nord_RH', 'Nord_Temp', 'Nord_Winddirection',\n",
       "       'Nord_Windspeed', 'Sud_RH', 'Sud_Temp', 'Sud_Winddirection',\n",
       "       'Sud_Windspeed', 'West_RH', 'West_Temp', 'West_Winddirection',\n",
       "       'West_Windspeed', 'Ost_Pressure', 'Ost_RH', 'Ost_Temp',\n",
       "       'Ost_Winddirection', 'Ost_Windspeed'],\n",
       "      dtype='object')"
      ]
     },
     "execution_count": 56,
     "metadata": {},
     "output_type": "execute_result"
    }
   ],
   "source": [
    "df_temporal.columns"
   ]
  },
  {
   "cell_type": "code",
   "execution_count": 57,
   "metadata": {},
   "outputs": [],
   "source": [
    "feature = ['D_NO','D_NOX','N_NO','N_NOX','Nord_Radiation','Nord_peek_wind_speed','O_NO','O_NOX','Ost_peek_wind_speed','S_NO','Sud_peek_wind_speed','W_NO','W_NOX','West_peek_wind_speed']"
   ]
  },
  {
   "cell_type": "code",
   "execution_count": 59,
   "metadata": {},
   "outputs": [],
   "source": [
    "df_nova = df_nova[feature]"
   ]
  },
  {
   "cell_type": "code",
   "execution_count": 64,
   "metadata": {},
   "outputs": [],
   "source": [
    "df_nova.index = pd.to_datetime(df_nova.index)"
   ]
  },
  {
   "cell_type": "code",
   "execution_count": 71,
   "metadata": {},
   "outputs": [],
   "source": [
    "df_nova.reset_index(inplace=True)"
   ]
  },
  {
   "cell_type": "code",
   "execution_count": 73,
   "metadata": {},
   "outputs": [],
   "source": [
    "a = df_nova.groupby(pd.Grouper(key='index', freq='D')).mean()"
   ]
  },
  {
   "cell_type": "code",
   "execution_count": 75,
   "metadata": {},
   "outputs": [],
   "source": [
    "df_nova = a['2018-01-01':'2020-03-15']"
   ]
  },
  {
   "cell_type": "code",
   "execution_count": 94,
   "metadata": {},
   "outputs": [
    {
     "data": {
      "text/plain": [
       "D_NO                    0\n",
       "D_NOX                   0\n",
       "N_NO                    0\n",
       "N_NOX                   0\n",
       "Nord_Radiation          0\n",
       "Nord_peek_wind_speed    0\n",
       "O_NO                    0\n",
       "O_NOX                   0\n",
       "Ost_peek_wind_speed     0\n",
       "S_NO                    0\n",
       "Sud_peek_wind_speed     0\n",
       "W_NO                    0\n",
       "W_NOX                   0\n",
       "West_peek_wind_speed    0\n",
       "dtype: int64"
      ]
     },
     "execution_count": 94,
     "metadata": {},
     "output_type": "execute_result"
    }
   ],
   "source": [
    "df_nova.isna().sum()"
   ]
  },
  {
   "cell_type": "code",
   "execution_count": 92,
   "metadata": {},
   "outputs": [],
   "source": [
    "df_nova=df_nova.apply(lambda x: x.fillna(x.mean()),axis=0)"
   ]
  },
  {
   "cell_type": "code",
   "execution_count": 95,
   "metadata": {},
   "outputs": [],
   "source": [
    "data_all = pd.concat([data,df_nova],axis=1)"
   ]
  },
  {
   "cell_type": "code",
   "execution_count": 96,
   "metadata": {},
   "outputs": [
    {
     "data": {
      "text/html": [
       "<div>\n",
       "<style scoped>\n",
       "    .dataframe tbody tr th:only-of-type {\n",
       "        vertical-align: middle;\n",
       "    }\n",
       "\n",
       "    .dataframe tbody tr th {\n",
       "        vertical-align: top;\n",
       "    }\n",
       "\n",
       "    .dataframe thead th {\n",
       "        text-align: right;\n",
       "    }\n",
       "</style>\n",
       "<table border=\"1\" class=\"dataframe\">\n",
       "  <thead>\n",
       "    <tr style=\"text-align: right;\">\n",
       "      <th></th>\n",
       "      <th>Ost_8010_208</th>\n",
       "      <th>DonBosco_8020_110</th>\n",
       "      <th>DonBosco_8020_119</th>\n",
       "      <th>DonBosco_8020_122</th>\n",
       "      <th>DonBosco_8053_111</th>\n",
       "      <th>Nord_8010_205</th>\n",
       "      <th>Ost_8010_209</th>\n",
       "      <th>Ost_8010_213</th>\n",
       "      <th>Ost_8010_214</th>\n",
       "      <th>Nord_8020_102</th>\n",
       "      <th>...</th>\n",
       "      <th>Nord_Radiation</th>\n",
       "      <th>Nord_peek_wind_speed</th>\n",
       "      <th>O_NO</th>\n",
       "      <th>O_NOX</th>\n",
       "      <th>Ost_peek_wind_speed</th>\n",
       "      <th>S_NO</th>\n",
       "      <th>Sud_peek_wind_speed</th>\n",
       "      <th>W_NO</th>\n",
       "      <th>W_NOX</th>\n",
       "      <th>West_peek_wind_speed</th>\n",
       "    </tr>\n",
       "  </thead>\n",
       "  <tbody>\n",
       "    <tr>\n",
       "      <th>2018-01-01</th>\n",
       "      <td>663.0</td>\n",
       "      <td>534.0</td>\n",
       "      <td>624.0</td>\n",
       "      <td>668.0</td>\n",
       "      <td>467.0</td>\n",
       "      <td>352.0</td>\n",
       "      <td>344.0</td>\n",
       "      <td>364.0</td>\n",
       "      <td>341.0</td>\n",
       "      <td>622.0</td>\n",
       "      <td>...</td>\n",
       "      <td>13.995833</td>\n",
       "      <td>2.291667</td>\n",
       "      <td>41.782609</td>\n",
       "      <td>56.217391</td>\n",
       "      <td>1.604167</td>\n",
       "      <td>66.173913</td>\n",
       "      <td>1.320833</td>\n",
       "      <td>26.304348</td>\n",
       "      <td>39.347826</td>\n",
       "      <td>2.341667</td>\n",
       "    </tr>\n",
       "    <tr>\n",
       "      <th>2018-01-02</th>\n",
       "      <td>927.0</td>\n",
       "      <td>924.0</td>\n",
       "      <td>772.0</td>\n",
       "      <td>1191.0</td>\n",
       "      <td>904.0</td>\n",
       "      <td>673.0</td>\n",
       "      <td>563.0</td>\n",
       "      <td>544.0</td>\n",
       "      <td>702.0</td>\n",
       "      <td>1181.0</td>\n",
       "      <td>...</td>\n",
       "      <td>43.045833</td>\n",
       "      <td>1.454167</td>\n",
       "      <td>77.434783</td>\n",
       "      <td>86.260870</td>\n",
       "      <td>1.512500</td>\n",
       "      <td>95.434783</td>\n",
       "      <td>1.058333</td>\n",
       "      <td>58.826087</td>\n",
       "      <td>70.304348</td>\n",
       "      <td>1.416667</td>\n",
       "    </tr>\n",
       "    <tr>\n",
       "      <th>2018-01-03</th>\n",
       "      <td>962.0</td>\n",
       "      <td>922.0</td>\n",
       "      <td>772.0</td>\n",
       "      <td>1206.0</td>\n",
       "      <td>883.0</td>\n",
       "      <td>699.0</td>\n",
       "      <td>587.0</td>\n",
       "      <td>553.0</td>\n",
       "      <td>711.0</td>\n",
       "      <td>1149.0</td>\n",
       "      <td>...</td>\n",
       "      <td>46.245833</td>\n",
       "      <td>1.962500</td>\n",
       "      <td>52.000000</td>\n",
       "      <td>67.347826</td>\n",
       "      <td>1.800000</td>\n",
       "      <td>110.086957</td>\n",
       "      <td>1.633333</td>\n",
       "      <td>31.043478</td>\n",
       "      <td>49.304348</td>\n",
       "      <td>1.933333</td>\n",
       "    </tr>\n",
       "    <tr>\n",
       "      <th>2018-01-04</th>\n",
       "      <td>978.0</td>\n",
       "      <td>941.0</td>\n",
       "      <td>801.0</td>\n",
       "      <td>1233.0</td>\n",
       "      <td>900.0</td>\n",
       "      <td>720.0</td>\n",
       "      <td>606.0</td>\n",
       "      <td>565.0</td>\n",
       "      <td>726.0</td>\n",
       "      <td>1176.0</td>\n",
       "      <td>...</td>\n",
       "      <td>36.545833</td>\n",
       "      <td>1.325000</td>\n",
       "      <td>88.347826</td>\n",
       "      <td>99.217391</td>\n",
       "      <td>1.275000</td>\n",
       "      <td>154.956522</td>\n",
       "      <td>0.879167</td>\n",
       "      <td>78.565217</td>\n",
       "      <td>92.608696</td>\n",
       "      <td>1.320833</td>\n",
       "    </tr>\n",
       "    <tr>\n",
       "      <th>2018-01-05</th>\n",
       "      <td>1027.0</td>\n",
       "      <td>986.0</td>\n",
       "      <td>852.0</td>\n",
       "      <td>1278.0</td>\n",
       "      <td>946.0</td>\n",
       "      <td>743.0</td>\n",
       "      <td>613.0</td>\n",
       "      <td>604.0</td>\n",
       "      <td>762.0</td>\n",
       "      <td>1278.0</td>\n",
       "      <td>...</td>\n",
       "      <td>60.429167</td>\n",
       "      <td>1.962500</td>\n",
       "      <td>133.782609</td>\n",
       "      <td>136.869565</td>\n",
       "      <td>1.233333</td>\n",
       "      <td>231.000000</td>\n",
       "      <td>1.041667</td>\n",
       "      <td>117.782609</td>\n",
       "      <td>124.608696</td>\n",
       "      <td>1.245833</td>\n",
       "    </tr>\n",
       "    <tr>\n",
       "      <th>...</th>\n",
       "      <td>...</td>\n",
       "      <td>...</td>\n",
       "      <td>...</td>\n",
       "      <td>...</td>\n",
       "      <td>...</td>\n",
       "      <td>...</td>\n",
       "      <td>...</td>\n",
       "      <td>...</td>\n",
       "      <td>...</td>\n",
       "      <td>...</td>\n",
       "      <td>...</td>\n",
       "      <td>...</td>\n",
       "      <td>...</td>\n",
       "      <td>...</td>\n",
       "      <td>...</td>\n",
       "      <td>...</td>\n",
       "      <td>...</td>\n",
       "      <td>...</td>\n",
       "      <td>...</td>\n",
       "      <td>...</td>\n",
       "      <td>...</td>\n",
       "    </tr>\n",
       "    <tr>\n",
       "      <th>2020-03-11</th>\n",
       "      <td>931.0</td>\n",
       "      <td>1193.0</td>\n",
       "      <td>469.0</td>\n",
       "      <td>1342.0</td>\n",
       "      <td>1019.0</td>\n",
       "      <td>683.0</td>\n",
       "      <td>698.0</td>\n",
       "      <td>680.0</td>\n",
       "      <td>812.0</td>\n",
       "      <td>1396.0</td>\n",
       "      <td>...</td>\n",
       "      <td>147.318997</td>\n",
       "      <td>2.329167</td>\n",
       "      <td>17.043478</td>\n",
       "      <td>29.086957</td>\n",
       "      <td>2.100000</td>\n",
       "      <td>34.217391</td>\n",
       "      <td>2.508333</td>\n",
       "      <td>13.913043</td>\n",
       "      <td>31.434783</td>\n",
       "      <td>2.408333</td>\n",
       "    </tr>\n",
       "    <tr>\n",
       "      <th>2020-03-12</th>\n",
       "      <td>922.0</td>\n",
       "      <td>1158.0</td>\n",
       "      <td>478.0</td>\n",
       "      <td>1333.0</td>\n",
       "      <td>992.0</td>\n",
       "      <td>652.0</td>\n",
       "      <td>664.0</td>\n",
       "      <td>669.0</td>\n",
       "      <td>792.0</td>\n",
       "      <td>1366.0</td>\n",
       "      <td>...</td>\n",
       "      <td>147.318997</td>\n",
       "      <td>2.441667</td>\n",
       "      <td>25.521739</td>\n",
       "      <td>37.739130</td>\n",
       "      <td>1.608333</td>\n",
       "      <td>43.608696</td>\n",
       "      <td>1.766667</td>\n",
       "      <td>14.695652</td>\n",
       "      <td>31.739130</td>\n",
       "      <td>1.916667</td>\n",
       "    </tr>\n",
       "    <tr>\n",
       "      <th>2020-03-13</th>\n",
       "      <td>892.0</td>\n",
       "      <td>1166.0</td>\n",
       "      <td>492.0</td>\n",
       "      <td>1371.0</td>\n",
       "      <td>989.0</td>\n",
       "      <td>655.0</td>\n",
       "      <td>639.0</td>\n",
       "      <td>689.0</td>\n",
       "      <td>817.0</td>\n",
       "      <td>1424.0</td>\n",
       "      <td>...</td>\n",
       "      <td>147.318997</td>\n",
       "      <td>2.058333</td>\n",
       "      <td>9.608696</td>\n",
       "      <td>20.956522</td>\n",
       "      <td>1.570833</td>\n",
       "      <td>17.956522</td>\n",
       "      <td>2.062500</td>\n",
       "      <td>5.217391</td>\n",
       "      <td>19.086957</td>\n",
       "      <td>1.795833</td>\n",
       "    </tr>\n",
       "    <tr>\n",
       "      <th>2020-03-14</th>\n",
       "      <td>487.0</td>\n",
       "      <td>727.0</td>\n",
       "      <td>341.0</td>\n",
       "      <td>877.0</td>\n",
       "      <td>613.0</td>\n",
       "      <td>320.0</td>\n",
       "      <td>359.0</td>\n",
       "      <td>382.0</td>\n",
       "      <td>447.0</td>\n",
       "      <td>872.0</td>\n",
       "      <td>...</td>\n",
       "      <td>147.318997</td>\n",
       "      <td>2.266667</td>\n",
       "      <td>4.521739</td>\n",
       "      <td>11.130435</td>\n",
       "      <td>1.991667</td>\n",
       "      <td>7.086957</td>\n",
       "      <td>2.270833</td>\n",
       "      <td>3.000000</td>\n",
       "      <td>11.130435</td>\n",
       "      <td>2.116667</td>\n",
       "    </tr>\n",
       "    <tr>\n",
       "      <th>2020-03-15</th>\n",
       "      <td>413.0</td>\n",
       "      <td>515.0</td>\n",
       "      <td>237.0</td>\n",
       "      <td>593.0</td>\n",
       "      <td>411.0</td>\n",
       "      <td>230.0</td>\n",
       "      <td>286.0</td>\n",
       "      <td>268.0</td>\n",
       "      <td>289.0</td>\n",
       "      <td>592.0</td>\n",
       "      <td>...</td>\n",
       "      <td>147.318997</td>\n",
       "      <td>2.366667</td>\n",
       "      <td>1.260870</td>\n",
       "      <td>6.217391</td>\n",
       "      <td>2.279167</td>\n",
       "      <td>2.304348</td>\n",
       "      <td>2.579167</td>\n",
       "      <td>0.086957</td>\n",
       "      <td>5.913043</td>\n",
       "      <td>2.429167</td>\n",
       "    </tr>\n",
       "  </tbody>\n",
       "</table>\n",
       "<p>805 rows × 96 columns</p>\n",
       "</div>"
      ],
      "text/plain": [
       "            Ost_8010_208  DonBosco_8020_110  DonBosco_8020_119  \\\n",
       "2018-01-01         663.0              534.0              624.0   \n",
       "2018-01-02         927.0              924.0              772.0   \n",
       "2018-01-03         962.0              922.0              772.0   \n",
       "2018-01-04         978.0              941.0              801.0   \n",
       "2018-01-05        1027.0              986.0              852.0   \n",
       "...                  ...                ...                ...   \n",
       "2020-03-11         931.0             1193.0              469.0   \n",
       "2020-03-12         922.0             1158.0              478.0   \n",
       "2020-03-13         892.0             1166.0              492.0   \n",
       "2020-03-14         487.0              727.0              341.0   \n",
       "2020-03-15         413.0              515.0              237.0   \n",
       "\n",
       "            DonBosco_8020_122  DonBosco_8053_111  Nord_8010_205  Ost_8010_209  \\\n",
       "2018-01-01              668.0              467.0          352.0         344.0   \n",
       "2018-01-02             1191.0              904.0          673.0         563.0   \n",
       "2018-01-03             1206.0              883.0          699.0         587.0   \n",
       "2018-01-04             1233.0              900.0          720.0         606.0   \n",
       "2018-01-05             1278.0              946.0          743.0         613.0   \n",
       "...                       ...                ...            ...           ...   \n",
       "2020-03-11             1342.0             1019.0          683.0         698.0   \n",
       "2020-03-12             1333.0              992.0          652.0         664.0   \n",
       "2020-03-13             1371.0              989.0          655.0         639.0   \n",
       "2020-03-14              877.0              613.0          320.0         359.0   \n",
       "2020-03-15              593.0              411.0          230.0         286.0   \n",
       "\n",
       "            Ost_8010_213  Ost_8010_214  Nord_8020_102  ...  Nord_Radiation  \\\n",
       "2018-01-01         364.0         341.0          622.0  ...       13.995833   \n",
       "2018-01-02         544.0         702.0         1181.0  ...       43.045833   \n",
       "2018-01-03         553.0         711.0         1149.0  ...       46.245833   \n",
       "2018-01-04         565.0         726.0         1176.0  ...       36.545833   \n",
       "2018-01-05         604.0         762.0         1278.0  ...       60.429167   \n",
       "...                  ...           ...            ...  ...             ...   \n",
       "2020-03-11         680.0         812.0         1396.0  ...      147.318997   \n",
       "2020-03-12         669.0         792.0         1366.0  ...      147.318997   \n",
       "2020-03-13         689.0         817.0         1424.0  ...      147.318997   \n",
       "2020-03-14         382.0         447.0          872.0  ...      147.318997   \n",
       "2020-03-15         268.0         289.0          592.0  ...      147.318997   \n",
       "\n",
       "            Nord_peek_wind_speed        O_NO       O_NOX  Ost_peek_wind_speed  \\\n",
       "2018-01-01              2.291667   41.782609   56.217391             1.604167   \n",
       "2018-01-02              1.454167   77.434783   86.260870             1.512500   \n",
       "2018-01-03              1.962500   52.000000   67.347826             1.800000   \n",
       "2018-01-04              1.325000   88.347826   99.217391             1.275000   \n",
       "2018-01-05              1.962500  133.782609  136.869565             1.233333   \n",
       "...                          ...         ...         ...                  ...   \n",
       "2020-03-11              2.329167   17.043478   29.086957             2.100000   \n",
       "2020-03-12              2.441667   25.521739   37.739130             1.608333   \n",
       "2020-03-13              2.058333    9.608696   20.956522             1.570833   \n",
       "2020-03-14              2.266667    4.521739   11.130435             1.991667   \n",
       "2020-03-15              2.366667    1.260870    6.217391             2.279167   \n",
       "\n",
       "                  S_NO  Sud_peek_wind_speed        W_NO       W_NOX  \\\n",
       "2018-01-01   66.173913             1.320833   26.304348   39.347826   \n",
       "2018-01-02   95.434783             1.058333   58.826087   70.304348   \n",
       "2018-01-03  110.086957             1.633333   31.043478   49.304348   \n",
       "2018-01-04  154.956522             0.879167   78.565217   92.608696   \n",
       "2018-01-05  231.000000             1.041667  117.782609  124.608696   \n",
       "...                ...                  ...         ...         ...   \n",
       "2020-03-11   34.217391             2.508333   13.913043   31.434783   \n",
       "2020-03-12   43.608696             1.766667   14.695652   31.739130   \n",
       "2020-03-13   17.956522             2.062500    5.217391   19.086957   \n",
       "2020-03-14    7.086957             2.270833    3.000000   11.130435   \n",
       "2020-03-15    2.304348             2.579167    0.086957    5.913043   \n",
       "\n",
       "            West_peek_wind_speed  \n",
       "2018-01-01              2.341667  \n",
       "2018-01-02              1.416667  \n",
       "2018-01-03              1.933333  \n",
       "2018-01-04              1.320833  \n",
       "2018-01-05              1.245833  \n",
       "...                          ...  \n",
       "2020-03-11              2.408333  \n",
       "2020-03-12              1.916667  \n",
       "2020-03-13              1.795833  \n",
       "2020-03-14              2.116667  \n",
       "2020-03-15              2.429167  \n",
       "\n",
       "[805 rows x 96 columns]"
      ]
     },
     "execution_count": 96,
     "metadata": {},
     "output_type": "execute_result"
    }
   ],
   "source": [
    "data_all"
   ]
  },
  {
   "cell_type": "code",
   "execution_count": 97,
   "metadata": {},
   "outputs": [],
   "source": [
    "data_all.to_csv(r'..\\data\\data_ready.csv')"
   ]
  },
  {
   "cell_type": "code",
   "execution_count": null,
   "metadata": {},
   "outputs": [],
   "source": []
  }
 ],
 "metadata": {
  "kernelspec": {
   "display_name": "Python 3 (ipykernel)",
   "language": "python",
   "name": "python3"
  },
  "language_info": {
   "codemirror_mode": {
    "name": "ipython",
    "version": 3
   },
   "file_extension": ".py",
   "mimetype": "text/x-python",
   "name": "python",
   "nbconvert_exporter": "python",
   "pygments_lexer": "ipython3",
   "version": "3.9.7"
  }
 },
 "nbformat": 4,
 "nbformat_minor": 4
}
