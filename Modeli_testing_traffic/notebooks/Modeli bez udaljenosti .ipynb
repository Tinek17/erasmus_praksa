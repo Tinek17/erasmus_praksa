{
 "cells": [
  {
   "cell_type": "code",
   "execution_count": 1,
   "metadata": {},
   "outputs": [],
   "source": [
    "import pandas as pd\n",
    "import numpy as np\n",
    "from sklearn.linear_model import LinearRegression\n",
    "from sklearn.neighbors import KNeighborsRegressor\n",
    "from sklearn.tree import DecisionTreeRegressor\n",
    "from sklearn.ensemble import RandomForestRegressor\n",
    "from sklearn.model_selection import train_test_split\n",
    "from sklearn.metrics import r2_score\n",
    "from sklearn.decomposition import PCA\n",
    "import matplotlib.pyplot as plt\n",
    "import plotly.express as px\n",
    "from sklearn.preprocessing import StandardScaler\n"
   ]
  },
  {
   "cell_type": "code",
   "execution_count": 2,
   "metadata": {},
   "outputs": [],
   "source": [
    "traffic_data=(r'..\\data\\traffic_data.xlsx')\n",
    "satelit_data=(r'..\\data\\AgERA5_4params_graz.csv')\n",
    "temporal_data=(r'..\\data\\new_5sta(DNOWS)_3com(NO2,PM10K,O3)_year2010_TemporalDummies_Ox_holidays_meteo.csv')"
   ]
  },
  {
   "cell_type": "code",
   "execution_count": 3,
   "metadata": {},
   "outputs": [],
   "source": [
    "df_satelit= pd.read_csv(satelit_data,index_col = 0)"
   ]
  },
  {
   "cell_type": "code",
   "execution_count": 4,
   "metadata": {},
   "outputs": [],
   "source": [
    "df_temporal =pd.read_csv(temporal_data,index_col = 0)"
   ]
  },
  {
   "cell_type": "code",
   "execution_count": 5,
   "metadata": {},
   "outputs": [],
   "source": [
    "df_satelit.index = pd.to_datetime(df_satelit.index)"
   ]
  },
  {
   "cell_type": "code",
   "execution_count": 6,
   "metadata": {},
   "outputs": [],
   "source": [
    "df_ulice = pd.read_excel(traffic_data, engine='openpyxl', sheet_name='street', index_col=0)\n",
    "df_ulice_podaci = pd.read_excel(traffic_data, engine='openpyxl', sheet_name='traffic_data', index_col=0)"
   ]
  },
  {
   "cell_type": "code",
   "execution_count": 7,
   "metadata": {},
   "outputs": [],
   "source": [
    "df_temporal.index = pd.to_datetime(df_temporal.index)"
   ]
  },
  {
   "cell_type": "code",
   "execution_count": 8,
   "metadata": {},
   "outputs": [],
   "source": [
    "df_ulice = df_ulice.drop(['Unnamed: 1'],axis = 1)"
   ]
  },
  {
   "cell_type": "code",
   "execution_count": 9,
   "metadata": {},
   "outputs": [
    {
     "data": {
      "text/html": [
       "<div>\n",
       "<style scoped>\n",
       "    .dataframe tbody tr th:only-of-type {\n",
       "        vertical-align: middle;\n",
       "    }\n",
       "\n",
       "    .dataframe tbody tr th {\n",
       "        vertical-align: top;\n",
       "    }\n",
       "\n",
       "    .dataframe thead th {\n",
       "        text-align: right;\n",
       "    }\n",
       "</style>\n",
       "<table border=\"1\" class=\"dataframe\">\n",
       "  <thead>\n",
       "    <tr style=\"text-align: right;\">\n",
       "      <th></th>\n",
       "      <th>D_NO2</th>\n",
       "      <th>D_PM10K</th>\n",
       "      <th>N_NO2</th>\n",
       "      <th>N_O3</th>\n",
       "      <th>N_PM10K</th>\n",
       "      <th>O_NO2</th>\n",
       "      <th>O_PM10K</th>\n",
       "      <th>S_NO2</th>\n",
       "      <th>S_O3</th>\n",
       "      <th>S_PM10K</th>\n",
       "      <th>...</th>\n",
       "      <th>Sud_Windspeed</th>\n",
       "      <th>West_RH</th>\n",
       "      <th>West_Temp</th>\n",
       "      <th>West_Winddirection</th>\n",
       "      <th>West_Windspeed</th>\n",
       "      <th>Ost_Pressure</th>\n",
       "      <th>Ost_RH</th>\n",
       "      <th>Ost_Temp</th>\n",
       "      <th>Ost_Winddirection</th>\n",
       "      <th>Ost_Windspeed</th>\n",
       "    </tr>\n",
       "  </thead>\n",
       "  <tbody>\n",
       "    <tr>\n",
       "      <th>2010-01-01</th>\n",
       "      <td>62.420425</td>\n",
       "      <td>48.681210</td>\n",
       "      <td>37.758297</td>\n",
       "      <td>4.000452</td>\n",
       "      <td>34.853405</td>\n",
       "      <td>52.362980</td>\n",
       "      <td>41.291916</td>\n",
       "      <td>45.165530</td>\n",
       "      <td>2.108327</td>\n",
       "      <td>58.876480</td>\n",
       "      <td>...</td>\n",
       "      <td>0.358427</td>\n",
       "      <td>83.031044</td>\n",
       "      <td>3.497470</td>\n",
       "      <td>189.95006</td>\n",
       "      <td>0.326422</td>\n",
       "      <td>NaN</td>\n",
       "      <td>NaN</td>\n",
       "      <td>NaN</td>\n",
       "      <td>NaN</td>\n",
       "      <td>NaN</td>\n",
       "    </tr>\n",
       "    <tr>\n",
       "      <th>2010-01-02</th>\n",
       "      <td>49.886177</td>\n",
       "      <td>148.307540</td>\n",
       "      <td>25.938934</td>\n",
       "      <td>4.637932</td>\n",
       "      <td>45.783848</td>\n",
       "      <td>36.956390</td>\n",
       "      <td>76.422780</td>\n",
       "      <td>33.300850</td>\n",
       "      <td>1.795727</td>\n",
       "      <td>169.943600</td>\n",
       "      <td>...</td>\n",
       "      <td>0.279739</td>\n",
       "      <td>86.777100</td>\n",
       "      <td>3.033653</td>\n",
       "      <td>214.33745</td>\n",
       "      <td>0.206639</td>\n",
       "      <td>NaN</td>\n",
       "      <td>NaN</td>\n",
       "      <td>NaN</td>\n",
       "      <td>NaN</td>\n",
       "      <td>NaN</td>\n",
       "    </tr>\n",
       "    <tr>\n",
       "      <th>2010-01-03</th>\n",
       "      <td>21.900616</td>\n",
       "      <td>21.664154</td>\n",
       "      <td>11.074873</td>\n",
       "      <td>34.357640</td>\n",
       "      <td>10.978717</td>\n",
       "      <td>15.286636</td>\n",
       "      <td>16.273163</td>\n",
       "      <td>14.216703</td>\n",
       "      <td>30.359385</td>\n",
       "      <td>19.864191</td>\n",
       "      <td>...</td>\n",
       "      <td>1.893668</td>\n",
       "      <td>56.488766</td>\n",
       "      <td>2.953737</td>\n",
       "      <td>278.73930</td>\n",
       "      <td>2.640419</td>\n",
       "      <td>NaN</td>\n",
       "      <td>NaN</td>\n",
       "      <td>NaN</td>\n",
       "      <td>NaN</td>\n",
       "      <td>NaN</td>\n",
       "    </tr>\n",
       "    <tr>\n",
       "      <th>2010-01-04</th>\n",
       "      <td>36.261917</td>\n",
       "      <td>21.462568</td>\n",
       "      <td>18.268064</td>\n",
       "      <td>48.127280</td>\n",
       "      <td>14.785930</td>\n",
       "      <td>24.183193</td>\n",
       "      <td>20.439781</td>\n",
       "      <td>26.544174</td>\n",
       "      <td>43.230330</td>\n",
       "      <td>26.680067</td>\n",
       "      <td>...</td>\n",
       "      <td>1.136650</td>\n",
       "      <td>44.811253</td>\n",
       "      <td>-0.571709</td>\n",
       "      <td>285.80966</td>\n",
       "      <td>1.023319</td>\n",
       "      <td>NaN</td>\n",
       "      <td>NaN</td>\n",
       "      <td>NaN</td>\n",
       "      <td>NaN</td>\n",
       "      <td>NaN</td>\n",
       "    </tr>\n",
       "    <tr>\n",
       "      <th>2010-01-05</th>\n",
       "      <td>71.757225</td>\n",
       "      <td>53.670230</td>\n",
       "      <td>41.781490</td>\n",
       "      <td>12.211806</td>\n",
       "      <td>32.000100</td>\n",
       "      <td>42.627240</td>\n",
       "      <td>43.426716</td>\n",
       "      <td>51.446163</td>\n",
       "      <td>7.382785</td>\n",
       "      <td>54.818146</td>\n",
       "      <td>...</td>\n",
       "      <td>0.428190</td>\n",
       "      <td>73.859795</td>\n",
       "      <td>-4.016794</td>\n",
       "      <td>198.60895</td>\n",
       "      <td>0.356867</td>\n",
       "      <td>NaN</td>\n",
       "      <td>NaN</td>\n",
       "      <td>NaN</td>\n",
       "      <td>NaN</td>\n",
       "      <td>NaN</td>\n",
       "    </tr>\n",
       "    <tr>\n",
       "      <th>...</th>\n",
       "      <td>...</td>\n",
       "      <td>...</td>\n",
       "      <td>...</td>\n",
       "      <td>...</td>\n",
       "      <td>...</td>\n",
       "      <td>...</td>\n",
       "      <td>...</td>\n",
       "      <td>...</td>\n",
       "      <td>...</td>\n",
       "      <td>...</td>\n",
       "      <td>...</td>\n",
       "      <td>...</td>\n",
       "      <td>...</td>\n",
       "      <td>...</td>\n",
       "      <td>...</td>\n",
       "      <td>...</td>\n",
       "      <td>...</td>\n",
       "      <td>...</td>\n",
       "      <td>...</td>\n",
       "      <td>...</td>\n",
       "      <td>...</td>\n",
       "    </tr>\n",
       "    <tr>\n",
       "      <th>2021-07-03</th>\n",
       "      <td>33.136486</td>\n",
       "      <td>18.087683</td>\n",
       "      <td>14.935202</td>\n",
       "      <td>47.710407</td>\n",
       "      <td>18.953040</td>\n",
       "      <td>19.609596</td>\n",
       "      <td>14.622527</td>\n",
       "      <td>21.049612</td>\n",
       "      <td>36.083650</td>\n",
       "      <td>15.733115</td>\n",
       "      <td>...</td>\n",
       "      <td>0.673823</td>\n",
       "      <td>57.975098</td>\n",
       "      <td>18.413990</td>\n",
       "      <td>264.72040</td>\n",
       "      <td>0.624361</td>\n",
       "      <td>973.1446</td>\n",
       "      <td>73.206460</td>\n",
       "      <td>18.672241</td>\n",
       "      <td>182.59240</td>\n",
       "      <td>0.435133</td>\n",
       "    </tr>\n",
       "    <tr>\n",
       "      <th>2021-07-04</th>\n",
       "      <td>19.907900</td>\n",
       "      <td>14.338615</td>\n",
       "      <td>8.624179</td>\n",
       "      <td>78.167210</td>\n",
       "      <td>15.033513</td>\n",
       "      <td>14.503092</td>\n",
       "      <td>14.373650</td>\n",
       "      <td>13.824055</td>\n",
       "      <td>67.281296</td>\n",
       "      <td>14.214394</td>\n",
       "      <td>...</td>\n",
       "      <td>0.901104</td>\n",
       "      <td>49.535610</td>\n",
       "      <td>21.988039</td>\n",
       "      <td>179.25130</td>\n",
       "      <td>0.576749</td>\n",
       "      <td>972.4365</td>\n",
       "      <td>60.177140</td>\n",
       "      <td>22.199862</td>\n",
       "      <td>130.74823</td>\n",
       "      <td>0.562957</td>\n",
       "    </tr>\n",
       "    <tr>\n",
       "      <th>2021-07-05</th>\n",
       "      <td>20.364044</td>\n",
       "      <td>16.338556</td>\n",
       "      <td>16.112087</td>\n",
       "      <td>66.048890</td>\n",
       "      <td>17.262230</td>\n",
       "      <td>12.612704</td>\n",
       "      <td>15.058688</td>\n",
       "      <td>12.696744</td>\n",
       "      <td>70.662820</td>\n",
       "      <td>13.985309</td>\n",
       "      <td>...</td>\n",
       "      <td>0.634559</td>\n",
       "      <td>58.139606</td>\n",
       "      <td>20.624140</td>\n",
       "      <td>174.17639</td>\n",
       "      <td>0.545803</td>\n",
       "      <td>969.7183</td>\n",
       "      <td>71.621360</td>\n",
       "      <td>20.727047</td>\n",
       "      <td>139.74475</td>\n",
       "      <td>0.418278</td>\n",
       "    </tr>\n",
       "    <tr>\n",
       "      <th>2021-07-06</th>\n",
       "      <td>24.437843</td>\n",
       "      <td>19.290907</td>\n",
       "      <td>7.977263</td>\n",
       "      <td>71.018890</td>\n",
       "      <td>15.782174</td>\n",
       "      <td>15.851383</td>\n",
       "      <td>17.253944</td>\n",
       "      <td>13.073669</td>\n",
       "      <td>58.211086</td>\n",
       "      <td>14.010532</td>\n",
       "      <td>...</td>\n",
       "      <td>1.140109</td>\n",
       "      <td>57.618786</td>\n",
       "      <td>21.858849</td>\n",
       "      <td>198.03795</td>\n",
       "      <td>0.677458</td>\n",
       "      <td>969.6665</td>\n",
       "      <td>74.613620</td>\n",
       "      <td>21.856710</td>\n",
       "      <td>129.45146</td>\n",
       "      <td>0.462159</td>\n",
       "    </tr>\n",
       "    <tr>\n",
       "      <th>2021-07-07</th>\n",
       "      <td>26.597778</td>\n",
       "      <td>20.982940</td>\n",
       "      <td>9.195446</td>\n",
       "      <td>74.662680</td>\n",
       "      <td>22.256980</td>\n",
       "      <td>16.339731</td>\n",
       "      <td>19.175943</td>\n",
       "      <td>14.782062</td>\n",
       "      <td>66.101130</td>\n",
       "      <td>19.599554</td>\n",
       "      <td>...</td>\n",
       "      <td>1.167750</td>\n",
       "      <td>54.217106</td>\n",
       "      <td>24.694237</td>\n",
       "      <td>205.04869</td>\n",
       "      <td>0.661319</td>\n",
       "      <td>970.7351</td>\n",
       "      <td>66.954994</td>\n",
       "      <td>24.938086</td>\n",
       "      <td>130.95103</td>\n",
       "      <td>0.768980</td>\n",
       "    </tr>\n",
       "  </tbody>\n",
       "</table>\n",
       "<p>4206 rows × 62 columns</p>\n",
       "</div>"
      ],
      "text/plain": [
       "                D_NO2     D_PM10K      N_NO2       N_O3    N_PM10K      O_NO2  \\\n",
       "2010-01-01  62.420425   48.681210  37.758297   4.000452  34.853405  52.362980   \n",
       "2010-01-02  49.886177  148.307540  25.938934   4.637932  45.783848  36.956390   \n",
       "2010-01-03  21.900616   21.664154  11.074873  34.357640  10.978717  15.286636   \n",
       "2010-01-04  36.261917   21.462568  18.268064  48.127280  14.785930  24.183193   \n",
       "2010-01-05  71.757225   53.670230  41.781490  12.211806  32.000100  42.627240   \n",
       "...               ...         ...        ...        ...        ...        ...   \n",
       "2021-07-03  33.136486   18.087683  14.935202  47.710407  18.953040  19.609596   \n",
       "2021-07-04  19.907900   14.338615   8.624179  78.167210  15.033513  14.503092   \n",
       "2021-07-05  20.364044   16.338556  16.112087  66.048890  17.262230  12.612704   \n",
       "2021-07-06  24.437843   19.290907   7.977263  71.018890  15.782174  15.851383   \n",
       "2021-07-07  26.597778   20.982940   9.195446  74.662680  22.256980  16.339731   \n",
       "\n",
       "              O_PM10K      S_NO2       S_O3     S_PM10K  ...  Sud_Windspeed  \\\n",
       "2010-01-01  41.291916  45.165530   2.108327   58.876480  ...       0.358427   \n",
       "2010-01-02  76.422780  33.300850   1.795727  169.943600  ...       0.279739   \n",
       "2010-01-03  16.273163  14.216703  30.359385   19.864191  ...       1.893668   \n",
       "2010-01-04  20.439781  26.544174  43.230330   26.680067  ...       1.136650   \n",
       "2010-01-05  43.426716  51.446163   7.382785   54.818146  ...       0.428190   \n",
       "...               ...        ...        ...         ...  ...            ...   \n",
       "2021-07-03  14.622527  21.049612  36.083650   15.733115  ...       0.673823   \n",
       "2021-07-04  14.373650  13.824055  67.281296   14.214394  ...       0.901104   \n",
       "2021-07-05  15.058688  12.696744  70.662820   13.985309  ...       0.634559   \n",
       "2021-07-06  17.253944  13.073669  58.211086   14.010532  ...       1.140109   \n",
       "2021-07-07  19.175943  14.782062  66.101130   19.599554  ...       1.167750   \n",
       "\n",
       "              West_RH  West_Temp  West_Winddirection  West_Windspeed  \\\n",
       "2010-01-01  83.031044   3.497470           189.95006        0.326422   \n",
       "2010-01-02  86.777100   3.033653           214.33745        0.206639   \n",
       "2010-01-03  56.488766   2.953737           278.73930        2.640419   \n",
       "2010-01-04  44.811253  -0.571709           285.80966        1.023319   \n",
       "2010-01-05  73.859795  -4.016794           198.60895        0.356867   \n",
       "...               ...        ...                 ...             ...   \n",
       "2021-07-03  57.975098  18.413990           264.72040        0.624361   \n",
       "2021-07-04  49.535610  21.988039           179.25130        0.576749   \n",
       "2021-07-05  58.139606  20.624140           174.17639        0.545803   \n",
       "2021-07-06  57.618786  21.858849           198.03795        0.677458   \n",
       "2021-07-07  54.217106  24.694237           205.04869        0.661319   \n",
       "\n",
       "            Ost_Pressure     Ost_RH   Ost_Temp  Ost_Winddirection  \\\n",
       "2010-01-01           NaN        NaN        NaN                NaN   \n",
       "2010-01-02           NaN        NaN        NaN                NaN   \n",
       "2010-01-03           NaN        NaN        NaN                NaN   \n",
       "2010-01-04           NaN        NaN        NaN                NaN   \n",
       "2010-01-05           NaN        NaN        NaN                NaN   \n",
       "...                  ...        ...        ...                ...   \n",
       "2021-07-03      973.1446  73.206460  18.672241          182.59240   \n",
       "2021-07-04      972.4365  60.177140  22.199862          130.74823   \n",
       "2021-07-05      969.7183  71.621360  20.727047          139.74475   \n",
       "2021-07-06      969.6665  74.613620  21.856710          129.45146   \n",
       "2021-07-07      970.7351  66.954994  24.938086          130.95103   \n",
       "\n",
       "            Ost_Windspeed  \n",
       "2010-01-01            NaN  \n",
       "2010-01-02            NaN  \n",
       "2010-01-03            NaN  \n",
       "2010-01-04            NaN  \n",
       "2010-01-05            NaN  \n",
       "...                   ...  \n",
       "2021-07-03       0.435133  \n",
       "2021-07-04       0.562957  \n",
       "2021-07-05       0.418278  \n",
       "2021-07-06       0.462159  \n",
       "2021-07-07       0.768980  \n",
       "\n",
       "[4206 rows x 62 columns]"
      ]
     },
     "execution_count": 9,
     "metadata": {},
     "output_type": "execute_result"
    }
   ],
   "source": [
    "df_temporal"
   ]
  },
  {
   "cell_type": "code",
   "execution_count": 10,
   "metadata": {},
   "outputs": [],
   "source": [
    "df_temporal=df_temporal['2018-01-01':'2020-03-15']"
   ]
  },
  {
   "cell_type": "code",
   "execution_count": 11,
   "metadata": {},
   "outputs": [],
   "source": [
    "#df_local=df_local['2018-01-01':'2020-03-15']\n",
    "df_ulice_podaci=df_ulice_podaci['2018-01-01':'2020-03-15']\n",
    "df_satelit=df_satelit['2018-01-01':'2020-03-15']\n"
   ]
  },
  {
   "cell_type": "code",
   "execution_count": 12,
   "metadata": {
    "scrolled": true
   },
   "outputs": [
    {
     "data": {
      "text/plain": [
       "Index(['Ost_8010_208', 'DonBosco_8020_110', 'DonBosco_8020_119',\n",
       "       'DonBosco_8020_122', 'DonBosco_8053_111', 'Nord_8010_205',\n",
       "       'Ost_8010_209', 'Ost_8010_213', 'Ost_8010_214', 'Nord_8020_102',\n",
       "       'West_8020_103', 'Sud_8020_107', 'Sud_8041_218', 'Ost_8041_221',\n",
       "       'Nord_8045_203', 'Nord_8051_101'],\n",
       "      dtype='object')"
      ]
     },
     "execution_count": 12,
     "metadata": {},
     "output_type": "execute_result"
    }
   ],
   "source": [
    "df_ulice_podaci.columns"
   ]
  },
  {
   "cell_type": "code",
   "execution_count": 13,
   "metadata": {},
   "outputs": [],
   "source": [
    "df_satelit_new = df_satelit[['Cloud_Cover_Mean','Wind_Speed_10m_Mean']]"
   ]
  },
  {
   "cell_type": "code",
   "execution_count": 14,
   "metadata": {},
   "outputs": [],
   "source": [
    "df_temporal_new = df_temporal[['year', 'dayofyear',\n",
    "       'month_Apr', 'month_Aug', 'month_Dec', 'month_Feb', 'month_Jan',\n",
    "       'month_Jul', 'month_Jun', 'month_Mar', 'month_May', 'month_Nov',\n",
    "       'month_Oct', 'month_Sep', 'weekday_Friday', 'weekday_Monday',\n",
    "       'weekday_Saturday', 'weekday_Sunday', 'weekday_Thursday',\n",
    "       'weekday_Tuesday', 'weekday_Wednesday', 'season_fall', 'season_spring',\n",
    "       'season_summer', 'season_winter','holiday',\n",
    "       'holiday_school']]"
   ]
  },
  {
   "cell_type": "code",
   "execution_count": 15,
   "metadata": {},
   "outputs": [],
   "source": [
    "df_ulice_podaci = df_ulice_podaci.fillna(df_ulice_podaci.mean())\n"
   ]
  },
  {
   "cell_type": "code",
   "execution_count": 16,
   "metadata": {},
   "outputs": [
    {
     "data": {
      "text/plain": [
       "Index(['Ost_8010_208', 'DonBosco_8020_110', 'DonBosco_8020_119',\n",
       "       'DonBosco_8020_122', 'DonBosco_8053_111', 'Nord_8010_205',\n",
       "       'Ost_8010_209', 'Ost_8010_213', 'Ost_8010_214', 'Nord_8020_102',\n",
       "       'West_8020_103', 'Sud_8020_107', 'Sud_8041_218', 'Ost_8041_221',\n",
       "       'Nord_8045_203', 'Nord_8051_101'],\n",
       "      dtype='object')"
      ]
     },
     "execution_count": 16,
     "metadata": {},
     "output_type": "execute_result"
    }
   ],
   "source": [
    "df_ulice_podaci.columns"
   ]
  },
  {
   "cell_type": "code",
   "execution_count": 17,
   "metadata": {},
   "outputs": [],
   "source": [
    "traffic_roads = ['Ost_8010_208', 'DonBosco_8020_110', 'DonBosco_8020_119',\n",
    "       'DonBosco_8020_122', 'DonBosco_8053_111', 'Nord_8010_205',\n",
    "       'Ost_8010_209', 'Ost_8010_213', 'Ost_8010_214', 'Nord_8020_102',\n",
    "       'West_8020_103', 'Sud_8020_107', 'Sud_8041_218', 'Ost_8041_221',\n",
    "       'Nord_8045_203', 'Nord_8051_101']"
   ]
  },
  {
   "cell_type": "code",
   "execution_count": 18,
   "metadata": {},
   "outputs": [],
   "source": [
    "models = {'lr':LinearRegression,\n",
    "          'kn':KNeighborsRegressor,\n",
    "          'rf':RandomForestRegressor,\n",
    "          'dt':DecisionTreeRegressor}"
   ]
  },
  {
   "cell_type": "code",
   "execution_count": 19,
   "metadata": {},
   "outputs": [],
   "source": [
    "data_model = pd.concat([df_ulice_podaci,df_satelit_new,df_temporal_new],axis= 1)"
   ]
  },
  {
   "cell_type": "code",
   "execution_count": null,
   "metadata": {},
   "outputs": [],
   "source": []
  },
  {
   "cell_type": "code",
   "execution_count": 20,
   "metadata": {
    "scrolled": true
   },
   "outputs": [
    {
     "data": {
      "text/html": [
       "<div>\n",
       "<style scoped>\n",
       "    .dataframe tbody tr th:only-of-type {\n",
       "        vertical-align: middle;\n",
       "    }\n",
       "\n",
       "    .dataframe tbody tr th {\n",
       "        vertical-align: top;\n",
       "    }\n",
       "\n",
       "    .dataframe thead th {\n",
       "        text-align: right;\n",
       "    }\n",
       "</style>\n",
       "<table border=\"1\" class=\"dataframe\">\n",
       "  <thead>\n",
       "    <tr style=\"text-align: right;\">\n",
       "      <th></th>\n",
       "      <th>Ost_8010_208</th>\n",
       "      <th>DonBosco_8020_110</th>\n",
       "      <th>DonBosco_8020_119</th>\n",
       "      <th>DonBosco_8020_122</th>\n",
       "      <th>DonBosco_8053_111</th>\n",
       "      <th>Nord_8010_205</th>\n",
       "      <th>Ost_8010_209</th>\n",
       "      <th>Ost_8010_213</th>\n",
       "      <th>Ost_8010_214</th>\n",
       "      <th>Nord_8020_102</th>\n",
       "      <th>...</th>\n",
       "      <th>weekday_Sunday</th>\n",
       "      <th>weekday_Thursday</th>\n",
       "      <th>weekday_Tuesday</th>\n",
       "      <th>weekday_Wednesday</th>\n",
       "      <th>season_fall</th>\n",
       "      <th>season_spring</th>\n",
       "      <th>season_summer</th>\n",
       "      <th>season_winter</th>\n",
       "      <th>holiday</th>\n",
       "      <th>holiday_school</th>\n",
       "    </tr>\n",
       "  </thead>\n",
       "  <tbody>\n",
       "    <tr>\n",
       "      <th>2018-01-01</th>\n",
       "      <td>663.0</td>\n",
       "      <td>534.0</td>\n",
       "      <td>624.0</td>\n",
       "      <td>668.0</td>\n",
       "      <td>467.0</td>\n",
       "      <td>352.0</td>\n",
       "      <td>344.0</td>\n",
       "      <td>364.0</td>\n",
       "      <td>341.0</td>\n",
       "      <td>622.0</td>\n",
       "      <td>...</td>\n",
       "      <td>0</td>\n",
       "      <td>0</td>\n",
       "      <td>0</td>\n",
       "      <td>0</td>\n",
       "      <td>0</td>\n",
       "      <td>0</td>\n",
       "      <td>0</td>\n",
       "      <td>1</td>\n",
       "      <td>1</td>\n",
       "      <td>1</td>\n",
       "    </tr>\n",
       "    <tr>\n",
       "      <th>2018-01-02</th>\n",
       "      <td>927.0</td>\n",
       "      <td>924.0</td>\n",
       "      <td>772.0</td>\n",
       "      <td>1191.0</td>\n",
       "      <td>904.0</td>\n",
       "      <td>673.0</td>\n",
       "      <td>563.0</td>\n",
       "      <td>544.0</td>\n",
       "      <td>702.0</td>\n",
       "      <td>1181.0</td>\n",
       "      <td>...</td>\n",
       "      <td>0</td>\n",
       "      <td>0</td>\n",
       "      <td>1</td>\n",
       "      <td>0</td>\n",
       "      <td>0</td>\n",
       "      <td>0</td>\n",
       "      <td>0</td>\n",
       "      <td>1</td>\n",
       "      <td>0</td>\n",
       "      <td>1</td>\n",
       "    </tr>\n",
       "    <tr>\n",
       "      <th>2018-01-03</th>\n",
       "      <td>962.0</td>\n",
       "      <td>922.0</td>\n",
       "      <td>772.0</td>\n",
       "      <td>1206.0</td>\n",
       "      <td>883.0</td>\n",
       "      <td>699.0</td>\n",
       "      <td>587.0</td>\n",
       "      <td>553.0</td>\n",
       "      <td>711.0</td>\n",
       "      <td>1149.0</td>\n",
       "      <td>...</td>\n",
       "      <td>0</td>\n",
       "      <td>0</td>\n",
       "      <td>0</td>\n",
       "      <td>1</td>\n",
       "      <td>0</td>\n",
       "      <td>0</td>\n",
       "      <td>0</td>\n",
       "      <td>1</td>\n",
       "      <td>0</td>\n",
       "      <td>1</td>\n",
       "    </tr>\n",
       "    <tr>\n",
       "      <th>2018-01-04</th>\n",
       "      <td>978.0</td>\n",
       "      <td>941.0</td>\n",
       "      <td>801.0</td>\n",
       "      <td>1233.0</td>\n",
       "      <td>900.0</td>\n",
       "      <td>720.0</td>\n",
       "      <td>606.0</td>\n",
       "      <td>565.0</td>\n",
       "      <td>726.0</td>\n",
       "      <td>1176.0</td>\n",
       "      <td>...</td>\n",
       "      <td>0</td>\n",
       "      <td>1</td>\n",
       "      <td>0</td>\n",
       "      <td>0</td>\n",
       "      <td>0</td>\n",
       "      <td>0</td>\n",
       "      <td>0</td>\n",
       "      <td>1</td>\n",
       "      <td>0</td>\n",
       "      <td>1</td>\n",
       "    </tr>\n",
       "    <tr>\n",
       "      <th>2018-01-05</th>\n",
       "      <td>1027.0</td>\n",
       "      <td>986.0</td>\n",
       "      <td>852.0</td>\n",
       "      <td>1278.0</td>\n",
       "      <td>946.0</td>\n",
       "      <td>743.0</td>\n",
       "      <td>613.0</td>\n",
       "      <td>604.0</td>\n",
       "      <td>762.0</td>\n",
       "      <td>1278.0</td>\n",
       "      <td>...</td>\n",
       "      <td>0</td>\n",
       "      <td>0</td>\n",
       "      <td>0</td>\n",
       "      <td>0</td>\n",
       "      <td>0</td>\n",
       "      <td>0</td>\n",
       "      <td>0</td>\n",
       "      <td>1</td>\n",
       "      <td>0</td>\n",
       "      <td>1</td>\n",
       "    </tr>\n",
       "    <tr>\n",
       "      <th>...</th>\n",
       "      <td>...</td>\n",
       "      <td>...</td>\n",
       "      <td>...</td>\n",
       "      <td>...</td>\n",
       "      <td>...</td>\n",
       "      <td>...</td>\n",
       "      <td>...</td>\n",
       "      <td>...</td>\n",
       "      <td>...</td>\n",
       "      <td>...</td>\n",
       "      <td>...</td>\n",
       "      <td>...</td>\n",
       "      <td>...</td>\n",
       "      <td>...</td>\n",
       "      <td>...</td>\n",
       "      <td>...</td>\n",
       "      <td>...</td>\n",
       "      <td>...</td>\n",
       "      <td>...</td>\n",
       "      <td>...</td>\n",
       "      <td>...</td>\n",
       "    </tr>\n",
       "    <tr>\n",
       "      <th>2020-03-11</th>\n",
       "      <td>931.0</td>\n",
       "      <td>1193.0</td>\n",
       "      <td>469.0</td>\n",
       "      <td>1342.0</td>\n",
       "      <td>1019.0</td>\n",
       "      <td>683.0</td>\n",
       "      <td>698.0</td>\n",
       "      <td>680.0</td>\n",
       "      <td>812.0</td>\n",
       "      <td>1396.0</td>\n",
       "      <td>...</td>\n",
       "      <td>0</td>\n",
       "      <td>0</td>\n",
       "      <td>0</td>\n",
       "      <td>1</td>\n",
       "      <td>0</td>\n",
       "      <td>1</td>\n",
       "      <td>0</td>\n",
       "      <td>0</td>\n",
       "      <td>0</td>\n",
       "      <td>0</td>\n",
       "    </tr>\n",
       "    <tr>\n",
       "      <th>2020-03-12</th>\n",
       "      <td>922.0</td>\n",
       "      <td>1158.0</td>\n",
       "      <td>478.0</td>\n",
       "      <td>1333.0</td>\n",
       "      <td>992.0</td>\n",
       "      <td>652.0</td>\n",
       "      <td>664.0</td>\n",
       "      <td>669.0</td>\n",
       "      <td>792.0</td>\n",
       "      <td>1366.0</td>\n",
       "      <td>...</td>\n",
       "      <td>0</td>\n",
       "      <td>1</td>\n",
       "      <td>0</td>\n",
       "      <td>0</td>\n",
       "      <td>0</td>\n",
       "      <td>1</td>\n",
       "      <td>0</td>\n",
       "      <td>0</td>\n",
       "      <td>0</td>\n",
       "      <td>0</td>\n",
       "    </tr>\n",
       "    <tr>\n",
       "      <th>2020-03-13</th>\n",
       "      <td>892.0</td>\n",
       "      <td>1166.0</td>\n",
       "      <td>492.0</td>\n",
       "      <td>1371.0</td>\n",
       "      <td>989.0</td>\n",
       "      <td>655.0</td>\n",
       "      <td>639.0</td>\n",
       "      <td>689.0</td>\n",
       "      <td>817.0</td>\n",
       "      <td>1424.0</td>\n",
       "      <td>...</td>\n",
       "      <td>0</td>\n",
       "      <td>0</td>\n",
       "      <td>0</td>\n",
       "      <td>0</td>\n",
       "      <td>0</td>\n",
       "      <td>1</td>\n",
       "      <td>0</td>\n",
       "      <td>0</td>\n",
       "      <td>0</td>\n",
       "      <td>0</td>\n",
       "    </tr>\n",
       "    <tr>\n",
       "      <th>2020-03-14</th>\n",
       "      <td>487.0</td>\n",
       "      <td>727.0</td>\n",
       "      <td>341.0</td>\n",
       "      <td>877.0</td>\n",
       "      <td>613.0</td>\n",
       "      <td>320.0</td>\n",
       "      <td>359.0</td>\n",
       "      <td>382.0</td>\n",
       "      <td>447.0</td>\n",
       "      <td>872.0</td>\n",
       "      <td>...</td>\n",
       "      <td>0</td>\n",
       "      <td>0</td>\n",
       "      <td>0</td>\n",
       "      <td>0</td>\n",
       "      <td>0</td>\n",
       "      <td>1</td>\n",
       "      <td>0</td>\n",
       "      <td>0</td>\n",
       "      <td>0</td>\n",
       "      <td>0</td>\n",
       "    </tr>\n",
       "    <tr>\n",
       "      <th>2020-03-15</th>\n",
       "      <td>413.0</td>\n",
       "      <td>515.0</td>\n",
       "      <td>237.0</td>\n",
       "      <td>593.0</td>\n",
       "      <td>411.0</td>\n",
       "      <td>230.0</td>\n",
       "      <td>286.0</td>\n",
       "      <td>268.0</td>\n",
       "      <td>289.0</td>\n",
       "      <td>592.0</td>\n",
       "      <td>...</td>\n",
       "      <td>1</td>\n",
       "      <td>0</td>\n",
       "      <td>0</td>\n",
       "      <td>0</td>\n",
       "      <td>0</td>\n",
       "      <td>1</td>\n",
       "      <td>0</td>\n",
       "      <td>0</td>\n",
       "      <td>0</td>\n",
       "      <td>0</td>\n",
       "    </tr>\n",
       "  </tbody>\n",
       "</table>\n",
       "<p>805 rows × 45 columns</p>\n",
       "</div>"
      ],
      "text/plain": [
       "            Ost_8010_208  DonBosco_8020_110  DonBosco_8020_119  \\\n",
       "2018-01-01         663.0              534.0              624.0   \n",
       "2018-01-02         927.0              924.0              772.0   \n",
       "2018-01-03         962.0              922.0              772.0   \n",
       "2018-01-04         978.0              941.0              801.0   \n",
       "2018-01-05        1027.0              986.0              852.0   \n",
       "...                  ...                ...                ...   \n",
       "2020-03-11         931.0             1193.0              469.0   \n",
       "2020-03-12         922.0             1158.0              478.0   \n",
       "2020-03-13         892.0             1166.0              492.0   \n",
       "2020-03-14         487.0              727.0              341.0   \n",
       "2020-03-15         413.0              515.0              237.0   \n",
       "\n",
       "            DonBosco_8020_122  DonBosco_8053_111  Nord_8010_205  Ost_8010_209  \\\n",
       "2018-01-01              668.0              467.0          352.0         344.0   \n",
       "2018-01-02             1191.0              904.0          673.0         563.0   \n",
       "2018-01-03             1206.0              883.0          699.0         587.0   \n",
       "2018-01-04             1233.0              900.0          720.0         606.0   \n",
       "2018-01-05             1278.0              946.0          743.0         613.0   \n",
       "...                       ...                ...            ...           ...   \n",
       "2020-03-11             1342.0             1019.0          683.0         698.0   \n",
       "2020-03-12             1333.0              992.0          652.0         664.0   \n",
       "2020-03-13             1371.0              989.0          655.0         639.0   \n",
       "2020-03-14              877.0              613.0          320.0         359.0   \n",
       "2020-03-15              593.0              411.0          230.0         286.0   \n",
       "\n",
       "            Ost_8010_213  Ost_8010_214  Nord_8020_102  ...  weekday_Sunday  \\\n",
       "2018-01-01         364.0         341.0          622.0  ...               0   \n",
       "2018-01-02         544.0         702.0         1181.0  ...               0   \n",
       "2018-01-03         553.0         711.0         1149.0  ...               0   \n",
       "2018-01-04         565.0         726.0         1176.0  ...               0   \n",
       "2018-01-05         604.0         762.0         1278.0  ...               0   \n",
       "...                  ...           ...            ...  ...             ...   \n",
       "2020-03-11         680.0         812.0         1396.0  ...               0   \n",
       "2020-03-12         669.0         792.0         1366.0  ...               0   \n",
       "2020-03-13         689.0         817.0         1424.0  ...               0   \n",
       "2020-03-14         382.0         447.0          872.0  ...               0   \n",
       "2020-03-15         268.0         289.0          592.0  ...               1   \n",
       "\n",
       "            weekday_Thursday  weekday_Tuesday  weekday_Wednesday  season_fall  \\\n",
       "2018-01-01                 0                0                  0            0   \n",
       "2018-01-02                 0                1                  0            0   \n",
       "2018-01-03                 0                0                  1            0   \n",
       "2018-01-04                 1                0                  0            0   \n",
       "2018-01-05                 0                0                  0            0   \n",
       "...                      ...              ...                ...          ...   \n",
       "2020-03-11                 0                0                  1            0   \n",
       "2020-03-12                 1                0                  0            0   \n",
       "2020-03-13                 0                0                  0            0   \n",
       "2020-03-14                 0                0                  0            0   \n",
       "2020-03-15                 0                0                  0            0   \n",
       "\n",
       "            season_spring  season_summer  season_winter  holiday  \\\n",
       "2018-01-01              0              0              1        1   \n",
       "2018-01-02              0              0              1        0   \n",
       "2018-01-03              0              0              1        0   \n",
       "2018-01-04              0              0              1        0   \n",
       "2018-01-05              0              0              1        0   \n",
       "...                   ...            ...            ...      ...   \n",
       "2020-03-11              1              0              0        0   \n",
       "2020-03-12              1              0              0        0   \n",
       "2020-03-13              1              0              0        0   \n",
       "2020-03-14              1              0              0        0   \n",
       "2020-03-15              1              0              0        0   \n",
       "\n",
       "            holiday_school  \n",
       "2018-01-01               1  \n",
       "2018-01-02               1  \n",
       "2018-01-03               1  \n",
       "2018-01-04               1  \n",
       "2018-01-05               1  \n",
       "...                    ...  \n",
       "2020-03-11               0  \n",
       "2020-03-12               0  \n",
       "2020-03-13               0  \n",
       "2020-03-14               0  \n",
       "2020-03-15               0  \n",
       "\n",
       "[805 rows x 45 columns]"
      ]
     },
     "execution_count": 20,
     "metadata": {},
     "output_type": "execute_result"
    }
   ],
   "source": [
    "data_model"
   ]
  },
  {
   "cell_type": "code",
   "execution_count": 21,
   "metadata": {},
   "outputs": [],
   "source": [
    "sc = StandardScaler() "
   ]
  },
  {
   "cell_type": "markdown",
   "metadata": {},
   "source": [
    "# model s svim vrijednostima"
   ]
  },
  {
   "cell_type": "code",
   "execution_count": 22,
   "metadata": {
    "scrolled": true
   },
   "outputs": [
    {
     "name": "stdout",
     "output_type": "stream",
     "text": [
      "{'lr': 0.805991819702248}\n",
      "{'lr': 0.805991819702248, 'kn': 0.8006962513703255}\n"
     ]
    },
    {
     "name": "stderr",
     "output_type": "stream",
     "text": [
      "C:\\Users\\vpetric\\AppData\\Local\\Temp/ipykernel_13092/2258582518.py:13: DataConversionWarning: A column-vector y was passed when a 1d array was expected. Please change the shape of y to (n_samples,), for example using ravel().\n",
      "  model.fit(X_train,Y_train)\n"
     ]
    },
    {
     "name": "stdout",
     "output_type": "stream",
     "text": [
      "{'lr': 0.805991819702248, 'kn': 0.8006962513703255, 'rf': 0.8745590306469931}\n",
      "{'lr': 0.805991819702248, 'kn': 0.8006962513703255, 'rf': 0.8745590306469931, 'dt': 0.7288835248486955}\n",
      "{'lr': 0.9624207989154755}\n",
      "{'lr': 0.9624207989154755, 'kn': 0.9518412309633981}\n"
     ]
    },
    {
     "name": "stderr",
     "output_type": "stream",
     "text": [
      "C:\\Users\\vpetric\\AppData\\Local\\Temp/ipykernel_13092/2258582518.py:13: DataConversionWarning: A column-vector y was passed when a 1d array was expected. Please change the shape of y to (n_samples,), for example using ravel().\n",
      "  model.fit(X_train,Y_train)\n"
     ]
    },
    {
     "name": "stdout",
     "output_type": "stream",
     "text": [
      "{'lr': 0.9624207989154755, 'kn': 0.9518412309633981, 'rf': 0.9711889519124964}\n",
      "{'lr': 0.9624207989154755, 'kn': 0.9518412309633981, 'rf': 0.9711889519124964, 'dt': 0.9454121960602572}\n",
      "{'lr': 0.6289935869672728}\n",
      "{'lr': 0.6289935869672728, 'kn': 0.6834165990707803}\n"
     ]
    },
    {
     "name": "stderr",
     "output_type": "stream",
     "text": [
      "C:\\Users\\vpetric\\AppData\\Local\\Temp/ipykernel_13092/2258582518.py:13: DataConversionWarning: A column-vector y was passed when a 1d array was expected. Please change the shape of y to (n_samples,), for example using ravel().\n",
      "  model.fit(X_train,Y_train)\n"
     ]
    },
    {
     "name": "stdout",
     "output_type": "stream",
     "text": [
      "{'lr': 0.6289935869672728, 'kn': 0.6834165990707803, 'rf': 0.795806268629673}\n",
      "{'lr': 0.6289935869672728, 'kn': 0.6834165990707803, 'rf': 0.795806268629673, 'dt': 0.5860770397218056}\n",
      "{'lr': 0.9640740228813767}\n",
      "{'lr': 0.9640740228813767, 'kn': 0.9632379973035011}\n"
     ]
    },
    {
     "name": "stderr",
     "output_type": "stream",
     "text": [
      "C:\\Users\\vpetric\\AppData\\Local\\Temp/ipykernel_13092/2258582518.py:13: DataConversionWarning: A column-vector y was passed when a 1d array was expected. Please change the shape of y to (n_samples,), for example using ravel().\n",
      "  model.fit(X_train,Y_train)\n"
     ]
    },
    {
     "name": "stdout",
     "output_type": "stream",
     "text": [
      "{'lr': 0.9640740228813767, 'kn': 0.9632379973035011, 'rf': 0.9602823911550156}\n",
      "{'lr': 0.9640740228813767, 'kn': 0.9632379973035011, 'rf': 0.9602823911550156, 'dt': 0.9385572101323333}\n",
      "{'lr': 0.9710278893457122}\n",
      "{'lr': 0.9710278893457122, 'kn': 0.9732472324572159}\n"
     ]
    },
    {
     "name": "stderr",
     "output_type": "stream",
     "text": [
      "C:\\Users\\vpetric\\AppData\\Local\\Temp/ipykernel_13092/2258582518.py:13: DataConversionWarning: A column-vector y was passed when a 1d array was expected. Please change the shape of y to (n_samples,), for example using ravel().\n",
      "  model.fit(X_train,Y_train)\n"
     ]
    },
    {
     "name": "stdout",
     "output_type": "stream",
     "text": [
      "{'lr': 0.9710278893457122, 'kn': 0.9732472324572159, 'rf': 0.9808131263900701}\n",
      "{'lr': 0.9710278893457122, 'kn': 0.9732472324572159, 'rf': 0.9808131263900701, 'dt': 0.9549736434440972}\n",
      "{'lr': 0.9300400467513661}\n",
      "{'lr': 0.9300400467513661, 'kn': 0.9497430865876092}\n"
     ]
    },
    {
     "name": "stderr",
     "output_type": "stream",
     "text": [
      "C:\\Users\\vpetric\\AppData\\Local\\Temp/ipykernel_13092/2258582518.py:13: DataConversionWarning: A column-vector y was passed when a 1d array was expected. Please change the shape of y to (n_samples,), for example using ravel().\n",
      "  model.fit(X_train,Y_train)\n"
     ]
    },
    {
     "name": "stdout",
     "output_type": "stream",
     "text": [
      "{'lr': 0.9300400467513661, 'kn': 0.9497430865876092, 'rf': 0.9464832754861321}\n",
      "{'lr': 0.9300400467513661, 'kn': 0.9497430865876092, 'rf': 0.9464832754861321, 'dt': 0.8739588934109703}\n",
      "{'lr': 0.8761432651780208}\n",
      "{'lr': 0.8761432651780208, 'kn': 0.8876047878316585}\n"
     ]
    },
    {
     "name": "stderr",
     "output_type": "stream",
     "text": [
      "C:\\Users\\vpetric\\AppData\\Local\\Temp/ipykernel_13092/2258582518.py:13: DataConversionWarning: A column-vector y was passed when a 1d array was expected. Please change the shape of y to (n_samples,), for example using ravel().\n",
      "  model.fit(X_train,Y_train)\n"
     ]
    },
    {
     "name": "stdout",
     "output_type": "stream",
     "text": [
      "{'lr': 0.8761432651780208, 'kn': 0.8876047878316585, 'rf': 0.9223392893087642}\n",
      "{'lr': 0.8761432651780208, 'kn': 0.8876047878316585, 'rf': 0.9223392893087642, 'dt': 0.8699066183616957}\n",
      "{'lr': 0.9665483272319307}\n",
      "{'lr': 0.9665483272319307, 'kn': 0.9481796465780938}\n"
     ]
    },
    {
     "name": "stderr",
     "output_type": "stream",
     "text": [
      "C:\\Users\\vpetric\\AppData\\Local\\Temp/ipykernel_13092/2258582518.py:13: DataConversionWarning: A column-vector y was passed when a 1d array was expected. Please change the shape of y to (n_samples,), for example using ravel().\n",
      "  model.fit(X_train,Y_train)\n"
     ]
    },
    {
     "name": "stdout",
     "output_type": "stream",
     "text": [
      "{'lr': 0.9665483272319307, 'kn': 0.9481796465780938, 'rf': 0.9648839464182003}\n",
      "{'lr': 0.9665483272319307, 'kn': 0.9481796465780938, 'rf': 0.9648839464182003, 'dt': 0.8885256291941614}\n",
      "{'lr': 0.9588652099432522}\n",
      "{'lr': 0.9588652099432522, 'kn': 0.9602553673216893}\n"
     ]
    },
    {
     "name": "stderr",
     "output_type": "stream",
     "text": [
      "C:\\Users\\vpetric\\AppData\\Local\\Temp/ipykernel_13092/2258582518.py:13: DataConversionWarning: A column-vector y was passed when a 1d array was expected. Please change the shape of y to (n_samples,), for example using ravel().\n",
      "  model.fit(X_train,Y_train)\n"
     ]
    },
    {
     "name": "stdout",
     "output_type": "stream",
     "text": [
      "{'lr': 0.9588652099432522, 'kn': 0.9602553673216893, 'rf': 0.9700334501007133}\n",
      "{'lr': 0.9588652099432522, 'kn': 0.9602553673216893, 'rf': 0.9700334501007133, 'dt': 0.9424837280289647}\n",
      "{'lr': 0.9782091800512616}\n",
      "{'lr': 0.9782091800512616, 'kn': 0.970356548493342}\n"
     ]
    },
    {
     "name": "stderr",
     "output_type": "stream",
     "text": [
      "C:\\Users\\vpetric\\AppData\\Local\\Temp/ipykernel_13092/2258582518.py:13: DataConversionWarning: A column-vector y was passed when a 1d array was expected. Please change the shape of y to (n_samples,), for example using ravel().\n",
      "  model.fit(X_train,Y_train)\n"
     ]
    },
    {
     "name": "stdout",
     "output_type": "stream",
     "text": [
      "{'lr': 0.9782091800512616, 'kn': 0.970356548493342, 'rf': 0.9788205282330499}\n",
      "{'lr': 0.9782091800512616, 'kn': 0.970356548493342, 'rf': 0.9788205282330499, 'dt': 0.9466426636457492}\n",
      "{'lr': 0.9837889855527538}\n",
      "{'lr': 0.9837889855527538, 'kn': 0.9623915622690037}\n"
     ]
    },
    {
     "name": "stderr",
     "output_type": "stream",
     "text": [
      "C:\\Users\\vpetric\\AppData\\Local\\Temp/ipykernel_13092/2258582518.py:13: DataConversionWarning: A column-vector y was passed when a 1d array was expected. Please change the shape of y to (n_samples,), for example using ravel().\n",
      "  model.fit(X_train,Y_train)\n"
     ]
    },
    {
     "name": "stdout",
     "output_type": "stream",
     "text": [
      "{'lr': 0.9837889855527538, 'kn': 0.9623915622690037, 'rf': 0.9806233199693509}\n",
      "{'lr': 0.9837889855527538, 'kn': 0.9623915622690037, 'rf': 0.9806233199693509, 'dt': 0.9631643911165988}\n",
      "{'lr': 0.7183630230049896}\n",
      "{'lr': 0.7183630230049896, 'kn': 0.777732550239345}\n"
     ]
    },
    {
     "name": "stderr",
     "output_type": "stream",
     "text": [
      "C:\\Users\\vpetric\\AppData\\Local\\Temp/ipykernel_13092/2258582518.py:13: DataConversionWarning: A column-vector y was passed when a 1d array was expected. Please change the shape of y to (n_samples,), for example using ravel().\n",
      "  model.fit(X_train,Y_train)\n"
     ]
    },
    {
     "name": "stdout",
     "output_type": "stream",
     "text": [
      "{'lr': 0.7183630230049896, 'kn': 0.777732550239345, 'rf': 0.7754839084864618}\n",
      "{'lr': 0.7183630230049896, 'kn': 0.777732550239345, 'rf': 0.7754839084864618, 'dt': 0.6370180682951001}\n",
      "{'lr': 0.9318690538646762}\n",
      "{'lr': 0.9318690538646762, 'kn': 0.9046885688747913}\n"
     ]
    },
    {
     "name": "stderr",
     "output_type": "stream",
     "text": [
      "C:\\Users\\vpetric\\AppData\\Local\\Temp/ipykernel_13092/2258582518.py:13: DataConversionWarning: A column-vector y was passed when a 1d array was expected. Please change the shape of y to (n_samples,), for example using ravel().\n",
      "  model.fit(X_train,Y_train)\n"
     ]
    },
    {
     "name": "stdout",
     "output_type": "stream",
     "text": [
      "{'lr': 0.9318690538646762, 'kn': 0.9046885688747913, 'rf': 0.9401021651740494}\n",
      "{'lr': 0.9318690538646762, 'kn': 0.9046885688747913, 'rf': 0.9401021651740494, 'dt': 0.9235943112517805}\n",
      "{'lr': 0.9287004341303431}\n",
      "{'lr': 0.9287004341303431, 'kn': 0.8919983403217948}\n"
     ]
    },
    {
     "name": "stderr",
     "output_type": "stream",
     "text": [
      "C:\\Users\\vpetric\\AppData\\Local\\Temp/ipykernel_13092/2258582518.py:13: DataConversionWarning: A column-vector y was passed when a 1d array was expected. Please change the shape of y to (n_samples,), for example using ravel().\n",
      "  model.fit(X_train,Y_train)\n"
     ]
    },
    {
     "name": "stdout",
     "output_type": "stream",
     "text": [
      "{'lr': 0.9287004341303431, 'kn': 0.8919983403217948, 'rf': 0.9229893866933789}\n",
      "{'lr': 0.9287004341303431, 'kn': 0.8919983403217948, 'rf': 0.9229893866933789, 'dt': 0.8680865801715817}\n",
      "{'lr': 0.7639868453171602}\n",
      "{'lr': 0.7639868453171602, 'kn': 0.8506056728609224}\n"
     ]
    },
    {
     "name": "stderr",
     "output_type": "stream",
     "text": [
      "C:\\Users\\vpetric\\AppData\\Local\\Temp/ipykernel_13092/2258582518.py:13: DataConversionWarning: A column-vector y was passed when a 1d array was expected. Please change the shape of y to (n_samples,), for example using ravel().\n",
      "  model.fit(X_train,Y_train)\n"
     ]
    },
    {
     "name": "stdout",
     "output_type": "stream",
     "text": [
      "{'lr': 0.7639868453171602, 'kn': 0.8506056728609224, 'rf': 0.8907663454787565}\n",
      "{'lr': 0.7639868453171602, 'kn': 0.8506056728609224, 'rf': 0.8907663454787565, 'dt': 0.8806202807752143}\n",
      "{'lr': 0.956770381677621}\n",
      "{'lr': 0.956770381677621, 'kn': 0.9389567678804948}\n"
     ]
    },
    {
     "name": "stderr",
     "output_type": "stream",
     "text": [
      "C:\\Users\\vpetric\\AppData\\Local\\Temp/ipykernel_13092/2258582518.py:13: DataConversionWarning: A column-vector y was passed when a 1d array was expected. Please change the shape of y to (n_samples,), for example using ravel().\n",
      "  model.fit(X_train,Y_train)\n"
     ]
    },
    {
     "name": "stdout",
     "output_type": "stream",
     "text": [
      "{'lr': 0.956770381677621, 'kn': 0.9389567678804948, 'rf': 0.9707956714608403}\n",
      "{'lr': 0.956770381677621, 'kn': 0.9389567678804948, 'rf': 0.9707956714608403, 'dt': 0.9654662210229001}\n"
     ]
    }
   ],
   "source": [
    "dictionary={}\n",
    "for traffic in traffic_roads: \n",
    "    temp_dict = {}\n",
    "    for model_key in models.keys():\n",
    "        model= models[model_key]\n",
    "        \n",
    "        model = model()\n",
    "        X_train = data_model.drop(traffic,axis=1)\n",
    "        Y_test = df_ulice_podaci[[traffic]]\n",
    "        X_train,X_test,Y_train,Y_test = train_test_split(X_train,Y_test, random_state = 0)\n",
    "        X_scaled_train = sc.fit_transform(X_train)\n",
    "        X_scaled_test = sc.transform(X_test)\n",
    "        model.fit(X_train,Y_train)\n",
    "        predictions = model.predict(X_test)\n",
    "        r2 = r2_score(Y_test, predictions)\n",
    "        \n",
    "        temp_dict.update({model_key:r2})\n",
    "        print(temp_dict)\n",
    "    dictionary.update({traffic:temp_dict})    \n",
    "        \n",
    "data = pd.DataFrame.from_dict(dictionary)"
   ]
  },
  {
   "cell_type": "code",
   "execution_count": 45,
   "metadata": {
    "scrolled": false
   },
   "outputs": [
    {
     "data": {
      "text/html": [
       "<div>\n",
       "<style scoped>\n",
       "    .dataframe tbody tr th:only-of-type {\n",
       "        vertical-align: middle;\n",
       "    }\n",
       "\n",
       "    .dataframe tbody tr th {\n",
       "        vertical-align: top;\n",
       "    }\n",
       "\n",
       "    .dataframe thead th {\n",
       "        text-align: right;\n",
       "    }\n",
       "</style>\n",
       "<table border=\"1\" class=\"dataframe\">\n",
       "  <thead>\n",
       "    <tr style=\"text-align: right;\">\n",
       "      <th></th>\n",
       "      <th>Ost_8010_208</th>\n",
       "      <th>DonBosco_8020_110</th>\n",
       "      <th>DonBosco_8020_119</th>\n",
       "      <th>DonBosco_8020_122</th>\n",
       "      <th>DonBosco_8053_111</th>\n",
       "      <th>Nord_8010_205</th>\n",
       "      <th>Ost_8010_209</th>\n",
       "      <th>Ost_8010_213</th>\n",
       "      <th>Ost_8010_214</th>\n",
       "      <th>Nord_8020_102</th>\n",
       "      <th>West_8020_103</th>\n",
       "      <th>Sud_8020_107</th>\n",
       "      <th>Sud_8041_218</th>\n",
       "      <th>Ost_8041_221</th>\n",
       "      <th>Nord_8045_203</th>\n",
       "      <th>Nord_8051_101</th>\n",
       "    </tr>\n",
       "  </thead>\n",
       "  <tbody>\n",
       "    <tr>\n",
       "      <th>lr</th>\n",
       "      <td>0.805992</td>\n",
       "      <td>0.962421</td>\n",
       "      <td>0.628994</td>\n",
       "      <td>0.964074</td>\n",
       "      <td>0.971028</td>\n",
       "      <td>0.930040</td>\n",
       "      <td>0.876143</td>\n",
       "      <td>0.966548</td>\n",
       "      <td>0.958865</td>\n",
       "      <td>0.978209</td>\n",
       "      <td>0.983789</td>\n",
       "      <td>0.718363</td>\n",
       "      <td>0.931869</td>\n",
       "      <td>0.928700</td>\n",
       "      <td>0.763987</td>\n",
       "      <td>0.956770</td>\n",
       "    </tr>\n",
       "    <tr>\n",
       "      <th>kn</th>\n",
       "      <td>0.800696</td>\n",
       "      <td>0.951841</td>\n",
       "      <td>0.683417</td>\n",
       "      <td>0.963238</td>\n",
       "      <td>0.973247</td>\n",
       "      <td>0.949743</td>\n",
       "      <td>0.887605</td>\n",
       "      <td>0.948180</td>\n",
       "      <td>0.960255</td>\n",
       "      <td>0.970357</td>\n",
       "      <td>0.962392</td>\n",
       "      <td>0.777733</td>\n",
       "      <td>0.904689</td>\n",
       "      <td>0.891998</td>\n",
       "      <td>0.850606</td>\n",
       "      <td>0.938957</td>\n",
       "    </tr>\n",
       "    <tr>\n",
       "      <th>rf</th>\n",
       "      <td>0.881247</td>\n",
       "      <td>0.971227</td>\n",
       "      <td>0.806086</td>\n",
       "      <td>0.957343</td>\n",
       "      <td>0.979993</td>\n",
       "      <td>0.943799</td>\n",
       "      <td>0.926195</td>\n",
       "      <td>0.964822</td>\n",
       "      <td>0.968900</td>\n",
       "      <td>0.978002</td>\n",
       "      <td>0.981753</td>\n",
       "      <td>0.764044</td>\n",
       "      <td>0.936043</td>\n",
       "      <td>0.924344</td>\n",
       "      <td>0.889386</td>\n",
       "      <td>0.969897</td>\n",
       "    </tr>\n",
       "    <tr>\n",
       "      <th>dt</th>\n",
       "      <td>0.777374</td>\n",
       "      <td>0.949350</td>\n",
       "      <td>0.599794</td>\n",
       "      <td>0.939155</td>\n",
       "      <td>0.956830</td>\n",
       "      <td>0.869987</td>\n",
       "      <td>0.809407</td>\n",
       "      <td>0.884754</td>\n",
       "      <td>0.939111</td>\n",
       "      <td>0.942083</td>\n",
       "      <td>0.957389</td>\n",
       "      <td>0.758547</td>\n",
       "      <td>0.923764</td>\n",
       "      <td>0.870758</td>\n",
       "      <td>0.873544</td>\n",
       "      <td>0.931058</td>\n",
       "    </tr>\n",
       "  </tbody>\n",
       "</table>\n",
       "</div>"
      ],
      "text/plain": [
       "    Ost_8010_208  DonBosco_8020_110  DonBosco_8020_119  DonBosco_8020_122  \\\n",
       "lr      0.805992           0.962421           0.628994           0.964074   \n",
       "kn      0.800696           0.951841           0.683417           0.963238   \n",
       "rf      0.881247           0.971227           0.806086           0.957343   \n",
       "dt      0.777374           0.949350           0.599794           0.939155   \n",
       "\n",
       "    DonBosco_8053_111  Nord_8010_205  Ost_8010_209  Ost_8010_213  \\\n",
       "lr           0.971028       0.930040      0.876143      0.966548   \n",
       "kn           0.973247       0.949743      0.887605      0.948180   \n",
       "rf           0.979993       0.943799      0.926195      0.964822   \n",
       "dt           0.956830       0.869987      0.809407      0.884754   \n",
       "\n",
       "    Ost_8010_214  Nord_8020_102  West_8020_103  Sud_8020_107  Sud_8041_218  \\\n",
       "lr      0.958865       0.978209       0.983789      0.718363      0.931869   \n",
       "kn      0.960255       0.970357       0.962392      0.777733      0.904689   \n",
       "rf      0.968900       0.978002       0.981753      0.764044      0.936043   \n",
       "dt      0.939111       0.942083       0.957389      0.758547      0.923764   \n",
       "\n",
       "    Ost_8041_221  Nord_8045_203  Nord_8051_101  \n",
       "lr      0.928700       0.763987       0.956770  \n",
       "kn      0.891998       0.850606       0.938957  \n",
       "rf      0.924344       0.889386       0.969897  \n",
       "dt      0.870758       0.873544       0.931058  "
      ]
     },
     "execution_count": 45,
     "metadata": {},
     "output_type": "execute_result"
    }
   ],
   "source": [
    "data"
   ]
  },
  {
   "cell_type": "code",
   "execution_count": 46,
   "metadata": {},
   "outputs": [],
   "source": [
    "import seaborn as sns"
   ]
  },
  {
   "cell_type": "code",
   "execution_count": 47,
   "metadata": {
    "scrolled": false
   },
   "outputs": [
    {
     "data": {
      "text/plain": [
       "<AxesSubplot:>"
      ]
     },
     "execution_count": 47,
     "metadata": {},
     "output_type": "execute_result"
    },
    {
     "data": {
      "image/png": "[encoded data removed]",
      "text/plain": [
       "<Figure size 640x480 with 2 Axes>"
      ]
     },
     "metadata": {
      "needs_background": "light"
     },
     "output_type": "display_data"
    }
   ],
   "source": [
    "plt.figure(figsize=(8, 6), dpi=80)\n",
    "sns.heatmap(data.T,cmap=\"YlGnBu\")\n"
   ]
  },
  {
   "cell_type": "markdown",
   "metadata": {},
   "source": [
    "# model s trafficom samo \n"
   ]
  },
  {
   "cell_type": "code",
   "execution_count": 48,
   "metadata": {},
   "outputs": [
    {
     "name": "stderr",
     "output_type": "stream",
     "text": [
      "C:\\Users\\vpetric\\AppData\\Local\\Temp/ipykernel_15972/3854974289.py:11: DataConversionWarning: A column-vector y was passed when a 1d array was expected. Please change the shape of y to (n_samples,), for example using ravel().\n",
      "  model.fit(X_train,Y_train)\n",
      "C:\\Users\\vpetric\\AppData\\Local\\Temp/ipykernel_15972/3854974289.py:11: DataConversionWarning: A column-vector y was passed when a 1d array was expected. Please change the shape of y to (n_samples,), for example using ravel().\n",
      "  model.fit(X_train,Y_train)\n",
      "C:\\Users\\vpetric\\AppData\\Local\\Temp/ipykernel_15972/3854974289.py:11: DataConversionWarning: A column-vector y was passed when a 1d array was expected. Please change the shape of y to (n_samples,), for example using ravel().\n",
      "  model.fit(X_train,Y_train)\n",
      "C:\\Users\\vpetric\\AppData\\Local\\Temp/ipykernel_15972/3854974289.py:11: DataConversionWarning: A column-vector y was passed when a 1d array was expected. Please change the shape of y to (n_samples,), for example using ravel().\n",
      "  model.fit(X_train,Y_train)\n",
      "C:\\Users\\vpetric\\AppData\\Local\\Temp/ipykernel_15972/3854974289.py:11: DataConversionWarning: A column-vector y was passed when a 1d array was expected. Please change the shape of y to (n_samples,), for example using ravel().\n",
      "  model.fit(X_train,Y_train)\n",
      "C:\\Users\\vpetric\\AppData\\Local\\Temp/ipykernel_15972/3854974289.py:11: DataConversionWarning: A column-vector y was passed when a 1d array was expected. Please change the shape of y to (n_samples,), for example using ravel().\n",
      "  model.fit(X_train,Y_train)\n",
      "C:\\Users\\vpetric\\AppData\\Local\\Temp/ipykernel_15972/3854974289.py:11: DataConversionWarning: A column-vector y was passed when a 1d array was expected. Please change the shape of y to (n_samples,), for example using ravel().\n",
      "  model.fit(X_train,Y_train)\n",
      "C:\\Users\\vpetric\\AppData\\Local\\Temp/ipykernel_15972/3854974289.py:11: DataConversionWarning: A column-vector y was passed when a 1d array was expected. Please change the shape of y to (n_samples,), for example using ravel().\n",
      "  model.fit(X_train,Y_train)\n",
      "C:\\Users\\vpetric\\AppData\\Local\\Temp/ipykernel_15972/3854974289.py:11: DataConversionWarning: A column-vector y was passed when a 1d array was expected. Please change the shape of y to (n_samples,), for example using ravel().\n",
      "  model.fit(X_train,Y_train)\n",
      "C:\\Users\\vpetric\\AppData\\Local\\Temp/ipykernel_15972/3854974289.py:11: DataConversionWarning: A column-vector y was passed when a 1d array was expected. Please change the shape of y to (n_samples,), for example using ravel().\n",
      "  model.fit(X_train,Y_train)\n",
      "C:\\Users\\vpetric\\AppData\\Local\\Temp/ipykernel_15972/3854974289.py:11: DataConversionWarning: A column-vector y was passed when a 1d array was expected. Please change the shape of y to (n_samples,), for example using ravel().\n",
      "  model.fit(X_train,Y_train)\n",
      "C:\\Users\\vpetric\\AppData\\Local\\Temp/ipykernel_15972/3854974289.py:11: DataConversionWarning: A column-vector y was passed when a 1d array was expected. Please change the shape of y to (n_samples,), for example using ravel().\n",
      "  model.fit(X_train,Y_train)\n",
      "C:\\Users\\vpetric\\AppData\\Local\\Temp/ipykernel_15972/3854974289.py:11: DataConversionWarning: A column-vector y was passed when a 1d array was expected. Please change the shape of y to (n_samples,), for example using ravel().\n",
      "  model.fit(X_train,Y_train)\n",
      "C:\\Users\\vpetric\\AppData\\Local\\Temp/ipykernel_15972/3854974289.py:11: DataConversionWarning: A column-vector y was passed when a 1d array was expected. Please change the shape of y to (n_samples,), for example using ravel().\n",
      "  model.fit(X_train,Y_train)\n",
      "C:\\Users\\vpetric\\AppData\\Local\\Temp/ipykernel_15972/3854974289.py:11: DataConversionWarning: A column-vector y was passed when a 1d array was expected. Please change the shape of y to (n_samples,), for example using ravel().\n",
      "  model.fit(X_train,Y_train)\n",
      "C:\\Users\\vpetric\\AppData\\Local\\Temp/ipykernel_15972/3854974289.py:11: DataConversionWarning: A column-vector y was passed when a 1d array was expected. Please change the shape of y to (n_samples,), for example using ravel().\n",
      "  model.fit(X_train,Y_train)\n"
     ]
    }
   ],
   "source": [
    "dictionary={}\n",
    "for traffic in traffic_roads: \n",
    "    temp_dict = {}\n",
    "    for model_key in models.keys():\n",
    "        model= models[model_key]\n",
    "        \n",
    "        model = model()\n",
    "        X_train = df_ulice_podaci.drop(traffic,axis=1)\n",
    "        Y_test = df_ulice_podaci[[traffic]]\n",
    "        X_train,X_test,Y_train,Y_test = train_test_split(X_train,Y_test, random_state = 0)\n",
    "        model.fit(X_train,Y_train)\n",
    "        predictions = model.predict(X_test)\n",
    "        r2 = r2_score(Y_test, predictions)\n",
    "        \n",
    "        temp_dict.update({model_key:r2})\n",
    "    dictionary.update({traffic:temp_dict})    \n",
    "        \n",
    "data = pd.DataFrame.from_dict(dictionary)"
   ]
  },
  {
   "cell_type": "code",
   "execution_count": 49,
   "metadata": {},
   "outputs": [
    {
     "data": {
      "text/plain": [
       "<AxesSubplot:>"
      ]
     },
     "execution_count": 49,
     "metadata": {},
     "output_type": "execute_result"
    },
    {
     "data": {
      "image/png": "[encoded data removed]",
      "text/plain": [
       "<Figure size 640x480 with 2 Axes>"
      ]
     },
     "metadata": {
      "needs_background": "light"
     },
     "output_type": "display_data"
    }
   ],
   "source": [
    "plt.figure(figsize=(8, 6), dpi=80)\n",
    "sns.heatmap(data.T,cmap=\"YlGnBu\")"
   ]
  },
  {
   "cell_type": "code",
   "execution_count": null,
   "metadata": {},
   "outputs": [],
   "source": []
  }
 ],
 "metadata": {
  "kernelspec": {
   "display_name": "Python 3 (ipykernel)",
   "language": "python",
   "name": "python3"
  },
  "language_info": {
   "codemirror_mode": {
    "name": "ipython",
    "version": 3
   },
   "file_extension": ".py",
   "mimetype": "text/x-python",
   "name": "python",
   "nbconvert_exporter": "python",
   "pygments_lexer": "ipython3",
   "version": "3.9.7"
  }
 },
 "nbformat": 4,
 "nbformat_minor": 4
}
