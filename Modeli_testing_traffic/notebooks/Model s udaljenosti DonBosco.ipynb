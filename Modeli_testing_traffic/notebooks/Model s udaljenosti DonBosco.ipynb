{
 "cells": [
  {
   "cell_type": "markdown",
   "metadata": {},
   "source": [
    "# Import"
   ]
  },
  {
   "cell_type": "code",
   "execution_count": 1,
   "metadata": {},
   "outputs": [],
   "source": [
    "import openrouteservice\n",
    "from openrouteservice import convert\n",
    "import folium\n",
    "import json\n",
    "import pandas as pd\n",
    "import numpy as np\n",
    "from sklearn.linear_model import LinearRegression\n",
    "from sklearn.neighbors import KNeighborsRegressor\n",
    "from sklearn.tree import DecisionTreeRegressor\n",
    "from sklearn.ensemble import RandomForestRegressor\n",
    "from sklearn.model_selection import train_test_split\n",
    "from sklearn.metrics import r2_score\n",
    "from sklearn.decomposition import PCA\n",
    "import matplotlib.pyplot as plt\n",
    "import plotly.express as px\n",
    "from sklearn.preprocessing import StandardScaler\n",
    "import seaborn as sns"
   ]
  },
  {
   "cell_type": "markdown",
   "metadata": {},
   "source": [
    "# Data"
   ]
  },
  {
   "cell_type": "code",
   "execution_count": 2,
   "metadata": {},
   "outputs": [],
   "source": [
    "traffic_data=(r'..\\data\\traffic_data.xlsx')\n",
    "satelit_data=(r'..\\data\\AgERA5_4params_graz.csv')\n",
    "temporal_data=(r'..\\data\\new_5sta(DNOWS)_3com(NO2,PM10K,O3)_year2010_TemporalDummies_Ox_holidays_meteo.csv')"
   ]
  },
  {
   "cell_type": "code",
   "execution_count": 3,
   "metadata": {},
   "outputs": [],
   "source": [
    "df_satelit= pd.read_csv(satelit_data,index_col = 0)\n",
    "df_temporal =pd.read_csv(temporal_data,index_col = 0)"
   ]
  },
  {
   "cell_type": "code",
   "execution_count": 4,
   "metadata": {},
   "outputs": [],
   "source": [
    "df_satelit.index = pd.to_datetime(df_satelit.index)"
   ]
  },
  {
   "cell_type": "code",
   "execution_count": 5,
   "metadata": {},
   "outputs": [],
   "source": [
    "df_temporal.index = pd.to_datetime(df_temporal.index)"
   ]
  },
  {
   "cell_type": "code",
   "execution_count": 6,
   "metadata": {},
   "outputs": [],
   "source": [
    "df_ulice = pd.read_excel(traffic_data, engine='openpyxl', sheet_name='street', index_col=0)\n",
    "df_ulice_podaci = pd.read_excel(traffic_data, engine='openpyxl', sheet_name='traffic_data', index_col=0)"
   ]
  },
  {
   "cell_type": "code",
   "execution_count": 7,
   "metadata": {},
   "outputs": [],
   "source": [
    "df_ulice_podaci=df_ulice_podaci['2018-01-01':'2020-03-15']\n",
    "df_satelit=df_satelit['2018-01-01':'2020-03-15']\n",
    "df_temporal=df_temporal['2018-01-01':'2020-03-15']"
   ]
  },
  {
   "cell_type": "code",
   "execution_count": 8,
   "metadata": {},
   "outputs": [],
   "source": [
    "df_ulice = df_ulice.drop(['Unnamed: 1','Street','Abschnitt',],axis = 1)"
   ]
  },
  {
   "cell_type": "code",
   "execution_count": 9,
   "metadata": {},
   "outputs": [],
   "source": [
    "df_ulice = df_ulice.drop(['Nord','Sud','West','Ost','DonBosco'],axis = 0)"
   ]
  },
  {
   "cell_type": "code",
   "execution_count": 10,
   "metadata": {},
   "outputs": [],
   "source": [
    "df_ulice_podaci = df_ulice_podaci.fillna(df_ulice_podaci.mean())"
   ]
  },
  {
   "cell_type": "code",
   "execution_count": 11,
   "metadata": {},
   "outputs": [],
   "source": [
    "df_temporal_new = df_temporal[['year', 'dayofyear',\n",
    "       'month_Apr', 'month_Aug', 'month_Dec', 'month_Feb', 'month_Jan',\n",
    "       'month_Jul', 'month_Jun', 'month_Mar', 'month_May', 'month_Nov',\n",
    "       'month_Oct', 'month_Sep', 'weekday_Friday', 'weekday_Monday',\n",
    "       'weekday_Saturday', 'weekday_Sunday', 'weekday_Thursday',\n",
    "       'weekday_Tuesday', 'weekday_Wednesday', 'season_fall', 'season_spring',\n",
    "       'season_summer', 'season_winter','holiday',\n",
    "       'holiday_school']]\n",
    "df_satelit_new = df_satelit[['Cloud_Cover_Mean','Wind_Speed_10m_Mean']]"
   ]
  },
  {
   "cell_type": "markdown",
   "metadata": {},
   "source": [
    "# key sa stranice kad se log in https://openrouteservice.org/dev/#/home"
   ]
  },
  {
   "cell_type": "code",
   "execution_count": 12,
   "metadata": {},
   "outputs": [],
   "source": [
    "client = openrouteservice.Client(key='5b3ce3597851110001cf624866bbf1eb192e45148c3b15f3088db4c2')"
   ]
  },
  {
   "cell_type": "code",
   "execution_count": 13,
   "metadata": {},
   "outputs": [
    {
     "data": {
      "text/html": [
       "<div>\n",
       "<style scoped>\n",
       "    .dataframe tbody tr th:only-of-type {\n",
       "        vertical-align: middle;\n",
       "    }\n",
       "\n",
       "    .dataframe tbody tr th {\n",
       "        vertical-align: top;\n",
       "    }\n",
       "\n",
       "    .dataframe thead th {\n",
       "        text-align: right;\n",
       "    }\n",
       "</style>\n",
       "<table border=\"1\" class=\"dataframe\">\n",
       "  <thead>\n",
       "    <tr style=\"text-align: right;\">\n",
       "      <th></th>\n",
       "      <th>Directions</th>\n",
       "      <th>Longitude</th>\n",
       "      <th>Latitude</th>\n",
       "      <th>Reference_station</th>\n",
       "      <th>Distance to ref</th>\n",
       "      <th>AVG traffic</th>\n",
       "      <th>num_of_roads</th>\n",
       "      <th>semafor</th>\n",
       "      <th>Unnamed: 12</th>\n",
       "    </tr>\n",
       "    <tr>\n",
       "      <th>Code</th>\n",
       "      <th></th>\n",
       "      <th></th>\n",
       "      <th></th>\n",
       "      <th></th>\n",
       "      <th></th>\n",
       "      <th></th>\n",
       "      <th></th>\n",
       "      <th></th>\n",
       "      <th></th>\n",
       "    </tr>\n",
       "  </thead>\n",
       "  <tbody>\n",
       "    <tr>\n",
       "      <th>Ost_8010_208</th>\n",
       "      <td>SouthNorth</td>\n",
       "      <td>15.443536</td>\n",
       "      <td>47.077866</td>\n",
       "      <td>Ost</td>\n",
       "      <td>2689.680221</td>\n",
       "      <td>963.134172</td>\n",
       "      <td>18.0</td>\n",
       "      <td>1.0</td>\n",
       "      <td>NaN</td>\n",
       "    </tr>\n",
       "    <tr>\n",
       "      <th>DonBosco_8020_110</th>\n",
       "      <td>SouthNorth</td>\n",
       "      <td>15.418848</td>\n",
       "      <td>47.058659</td>\n",
       "      <td>DonBosco</td>\n",
       "      <td>381.001390</td>\n",
       "      <td>985.662456</td>\n",
       "      <td>13.0</td>\n",
       "      <td>1.0</td>\n",
       "      <td>bus stop near by</td>\n",
       "    </tr>\n",
       "    <tr>\n",
       "      <th>DonBosco_8020_119</th>\n",
       "      <td>EastWest</td>\n",
       "      <td>15.431343</td>\n",
       "      <td>47.066870</td>\n",
       "      <td>DonBosco</td>\n",
       "      <td>1682.330202</td>\n",
       "      <td>455.922269</td>\n",
       "      <td>7.0</td>\n",
       "      <td>1.0</td>\n",
       "      <td>NaN</td>\n",
       "    </tr>\n",
       "    <tr>\n",
       "      <th>DonBosco_8020_122</th>\n",
       "      <td>EastWest</td>\n",
       "      <td>15.431727</td>\n",
       "      <td>47.057316</td>\n",
       "      <td>DonBosco</td>\n",
       "      <td>1169.351420</td>\n",
       "      <td>1214.595238</td>\n",
       "      <td>15.0</td>\n",
       "      <td>1.0</td>\n",
       "      <td>middle of city</td>\n",
       "    </tr>\n",
       "    <tr>\n",
       "      <th>DonBosco_8053_111</th>\n",
       "      <td>SouthNorth</td>\n",
       "      <td>15.414219</td>\n",
       "      <td>47.043459</td>\n",
       "      <td>DonBosco</td>\n",
       "      <td>1363.162404</td>\n",
       "      <td>914.792017</td>\n",
       "      <td>13.0</td>\n",
       "      <td>1.0</td>\n",
       "      <td>NaN</td>\n",
       "    </tr>\n",
       "    <tr>\n",
       "      <th>Nord_8010_205</th>\n",
       "      <td>EastWest</td>\n",
       "      <td>15.426301</td>\n",
       "      <td>47.087794</td>\n",
       "      <td>Nord</td>\n",
       "      <td>1120.294237</td>\n",
       "      <td>645.190077</td>\n",
       "      <td>4.0</td>\n",
       "      <td>0.0</td>\n",
       "      <td>tunnel</td>\n",
       "    </tr>\n",
       "    <tr>\n",
       "      <th>Ost_8010_209</th>\n",
       "      <td>EastWest</td>\n",
       "      <td>15.457930</td>\n",
       "      <td>47.076679</td>\n",
       "      <td>Ost</td>\n",
       "      <td>2017.995362</td>\n",
       "      <td>602.967855</td>\n",
       "      <td>12.0</td>\n",
       "      <td>1.0</td>\n",
       "      <td>dosta drveca mozda dio NO2 adsorbiraju</td>\n",
       "    </tr>\n",
       "    <tr>\n",
       "      <th>Ost_8010_213</th>\n",
       "      <td>East</td>\n",
       "      <td>15.444325</td>\n",
       "      <td>47.065714</td>\n",
       "      <td>Ost</td>\n",
       "      <td>1828.992486</td>\n",
       "      <td>595.693978</td>\n",
       "      <td>5.0</td>\n",
       "      <td>1.0</td>\n",
       "      <td>NaN</td>\n",
       "    </tr>\n",
       "    <tr>\n",
       "      <th>Ost_8010_214</th>\n",
       "      <td>SouthNorth</td>\n",
       "      <td>15.448640</td>\n",
       "      <td>47.054039</td>\n",
       "      <td>Ost</td>\n",
       "      <td>1497.288645</td>\n",
       "      <td>696.783844</td>\n",
       "      <td>9.0</td>\n",
       "      <td>1.0</td>\n",
       "      <td>NaN</td>\n",
       "    </tr>\n",
       "    <tr>\n",
       "      <th>Nord_8020_102</th>\n",
       "      <td>SouthNorth</td>\n",
       "      <td>15.414366</td>\n",
       "      <td>47.084801</td>\n",
       "      <td>Nord</td>\n",
       "      <td>1065.426739</td>\n",
       "      <td>1262.419649</td>\n",
       "      <td>4.0</td>\n",
       "      <td>0.0</td>\n",
       "      <td>main connection between nord and sud</td>\n",
       "    </tr>\n",
       "    <tr>\n",
       "      <th>West_8020_103</th>\n",
       "      <td>SouthNorth</td>\n",
       "      <td>15.418547</td>\n",
       "      <td>47.073193</td>\n",
       "      <td>West</td>\n",
       "      <td>1197.961393</td>\n",
       "      <td>1467.245283</td>\n",
       "      <td>16.0</td>\n",
       "      <td>1.0</td>\n",
       "      <td>bus stop and mail trainstation</td>\n",
       "    </tr>\n",
       "    <tr>\n",
       "      <th>Sud_8020_107</th>\n",
       "      <td>SouthNorth</td>\n",
       "      <td>15.429734</td>\n",
       "      <td>47.045648</td>\n",
       "      <td>Sud</td>\n",
       "      <td>507.967547</td>\n",
       "      <td>914.784370</td>\n",
       "      <td>15.0</td>\n",
       "      <td>1.0</td>\n",
       "      <td>NaN</td>\n",
       "    </tr>\n",
       "    <tr>\n",
       "      <th>Sud_8041_218</th>\n",
       "      <td>SouthNorth</td>\n",
       "      <td>15.458994</td>\n",
       "      <td>47.040197</td>\n",
       "      <td>Sud</td>\n",
       "      <td>1976.680683</td>\n",
       "      <td>459.078814</td>\n",
       "      <td>9.0</td>\n",
       "      <td>1.0</td>\n",
       "      <td>NaN</td>\n",
       "    </tr>\n",
       "    <tr>\n",
       "      <th>Ost_8041_221</th>\n",
       "      <td>EastWest</td>\n",
       "      <td>15.464630</td>\n",
       "      <td>47.042901</td>\n",
       "      <td>Ost</td>\n",
       "      <td>1855.044783</td>\n",
       "      <td>1108.461423</td>\n",
       "      <td>15.0</td>\n",
       "      <td>1.0</td>\n",
       "      <td>Mur park near by</td>\n",
       "    </tr>\n",
       "    <tr>\n",
       "      <th>Nord_8045_203</th>\n",
       "      <td>SouthNorth</td>\n",
       "      <td>15.423191</td>\n",
       "      <td>47.094507</td>\n",
       "      <td>Nord</td>\n",
       "      <td>612.842100</td>\n",
       "      <td>959.216418</td>\n",
       "      <td>15.0</td>\n",
       "      <td>1.0</td>\n",
       "      <td>leaving city</td>\n",
       "    </tr>\n",
       "    <tr>\n",
       "      <th>Nord_8051_101</th>\n",
       "      <td>SouthNorth</td>\n",
       "      <td>15.401113</td>\n",
       "      <td>47.106281</td>\n",
       "      <td>Nord</td>\n",
       "      <td>1698.470148</td>\n",
       "      <td>1202.249476</td>\n",
       "      <td>2.0</td>\n",
       "      <td>0.0</td>\n",
       "      <td>river and trees</td>\n",
       "    </tr>\n",
       "  </tbody>\n",
       "</table>\n",
       "</div>"
      ],
      "text/plain": [
       "                   Directions  Longitude   Latitude Reference_station  \\\n",
       "Code                                                                    \n",
       "Ost_8010_208       SouthNorth  15.443536  47.077866               Ost   \n",
       "DonBosco_8020_110  SouthNorth  15.418848  47.058659          DonBosco   \n",
       "DonBosco_8020_119    EastWest  15.431343  47.066870          DonBosco   \n",
       "DonBosco_8020_122    EastWest  15.431727  47.057316          DonBosco   \n",
       "DonBosco_8053_111  SouthNorth  15.414219  47.043459          DonBosco   \n",
       "Nord_8010_205        EastWest  15.426301  47.087794              Nord   \n",
       "Ost_8010_209         EastWest  15.457930  47.076679               Ost   \n",
       "Ost_8010_213            East   15.444325  47.065714               Ost   \n",
       "Ost_8010_214       SouthNorth  15.448640  47.054039               Ost   \n",
       "Nord_8020_102      SouthNorth  15.414366  47.084801              Nord   \n",
       "West_8020_103      SouthNorth  15.418547  47.073193              West   \n",
       "Sud_8020_107       SouthNorth  15.429734  47.045648               Sud   \n",
       "Sud_8041_218       SouthNorth  15.458994  47.040197               Sud   \n",
       "Ost_8041_221         EastWest  15.464630  47.042901               Ost   \n",
       "Nord_8045_203      SouthNorth  15.423191  47.094507              Nord   \n",
       "Nord_8051_101      SouthNorth  15.401113  47.106281              Nord   \n",
       "\n",
       "                   Distance to ref  AVG traffic   num_of_roads  semafor  \\\n",
       "Code                                                                      \n",
       "Ost_8010_208           2689.680221    963.134172          18.0      1.0   \n",
       "DonBosco_8020_110       381.001390    985.662456          13.0      1.0   \n",
       "DonBosco_8020_119      1682.330202    455.922269           7.0      1.0   \n",
       "DonBosco_8020_122      1169.351420   1214.595238          15.0      1.0   \n",
       "DonBosco_8053_111      1363.162404    914.792017          13.0      1.0   \n",
       "Nord_8010_205          1120.294237    645.190077           4.0      0.0   \n",
       "Ost_8010_209           2017.995362    602.967855          12.0      1.0   \n",
       "Ost_8010_213           1828.992486    595.693978           5.0      1.0   \n",
       "Ost_8010_214           1497.288645    696.783844           9.0      1.0   \n",
       "Nord_8020_102          1065.426739   1262.419649           4.0      0.0   \n",
       "West_8020_103          1197.961393   1467.245283          16.0      1.0   \n",
       "Sud_8020_107            507.967547    914.784370          15.0      1.0   \n",
       "Sud_8041_218           1976.680683    459.078814           9.0      1.0   \n",
       "Ost_8041_221           1855.044783   1108.461423          15.0      1.0   \n",
       "Nord_8045_203           612.842100    959.216418          15.0      1.0   \n",
       "Nord_8051_101          1698.470148   1202.249476           2.0      0.0   \n",
       "\n",
       "                                               Unnamed: 12  \n",
       "Code                                                        \n",
       "Ost_8010_208                                           NaN  \n",
       "DonBosco_8020_110                        bus stop near by   \n",
       "DonBosco_8020_119                                      NaN  \n",
       "DonBosco_8020_122                          middle of city   \n",
       "DonBosco_8053_111                                      NaN  \n",
       "Nord_8010_205                                       tunnel  \n",
       "Ost_8010_209       dosta drveca mozda dio NO2 adsorbiraju   \n",
       "Ost_8010_213                                           NaN  \n",
       "Ost_8010_214                                           NaN  \n",
       "Nord_8020_102         main connection between nord and sud  \n",
       "West_8020_103               bus stop and mail trainstation  \n",
       "Sud_8020_107                                           NaN  \n",
       "Sud_8041_218                                           NaN  \n",
       "Ost_8041_221                             Mur park near by   \n",
       "Nord_8045_203                                leaving city   \n",
       "Nord_8051_101                             river and trees   "
      ]
     },
     "execution_count": 13,
     "metadata": {},
     "output_type": "execute_result"
    }
   ],
   "source": [
    "df_ulice"
   ]
  },
  {
   "cell_type": "markdown",
   "metadata": {},
   "source": [
    "# Maknut lokaciju za koju mjerimo udaljenosti DonBosco_8020_119"
   ]
  },
  {
   "cell_type": "code",
   "execution_count": 14,
   "metadata": {},
   "outputs": [],
   "source": [
    "df_ulice=df_ulice.drop('DonBosco_8020_119',axis=0)"
   ]
  },
  {
   "cell_type": "markdown",
   "metadata": {},
   "source": [
    "# udaljenosti "
   ]
  },
  {
   "cell_type": "code",
   "execution_count": 56,
   "metadata": {},
   "outputs": [],
   "source": [
    "m = folium.Map(location=[47.0707, 15.4395],zoom_start=10, control_scale=True,tiles=\"cartodbpositron\")\n",
    "dictionary = {'postaja':[],'udaljenost_u_km':[]}\n",
    "d={}\n",
    "for longitude,latitude,postaja, in zip(df_ulice.Longitude,df_ulice.Latitude,df_ulice.index):\n",
    "    coords = ((longitude,latitude),(15.431343,47.066870))  \n",
    "    res = client.directions(coords)\n",
    "    geometry = client.directions(coords)['routes'][0]['geometry']\n",
    "    decoded = convert.decode_polyline(geometry)\n",
    "    distance_txt = \"<h4> <b>Distance :&nbsp\" + \"<strong>\"+str(round(res['routes'][0]['summary']['distance']/1000,1))+\" Km </strong>\" +\"</h4></b>\"\n",
    "    duration_txt = \"<h4> <b>Duration :&nbsp\" + \"<strong>\"+str(round(res['routes'][0]['summary']['duration']/60,1))+\" Mins. </strong>\" +\"</h4></b>\"\n",
    "    udaljenost = round(res['routes'][0]['summary']['distance']/1000,1)\n",
    "    dictionary['postaja'].append(postaja)\n",
    "    dictionary['udaljenost_u_km'].append(udaljenost)\n",
    "    d.update({postaja:udaljenost})\n",
    "    folium.GeoJson(decoded).add_child(folium.Popup(distance_txt+duration_txt,max_width=300)).add_to(m)\n",
    "    folium.Marker(\n",
    "    location=list(coords[0][::-1]),\n",
    "    popup=postaja,\n",
    "    icon=folium.Icon(color=\"green\"),\n",
    "        ).add_to(m)\n",
    "\n",
    "    folium.Marker(\n",
    "    location=list(coords[1][::-1]),\n",
    "    popup='DonBosco_8020_119',\n",
    "    icon=folium.Icon(color=\"red\"),\n",
    "        ).add_to(m)\n"
   ]
  },
  {
   "cell_type": "code",
   "execution_count": 57,
   "metadata": {},
   "outputs": [
    {
     "data": {
      "text/plain": [
       "{'Ost_8010_208': 2.3,\n",
       " 'DonBosco_8020_110': 1.5,\n",
       " 'DonBosco_8020_122': 1.2,\n",
       " 'DonBosco_8053_111': 3.3,\n",
       " 'Nord_8010_205': 3.1,\n",
       " 'Ost_8010_209': 2.6,\n",
       " 'Ost_8010_213': 1.6,\n",
       " 'Ost_8010_214': 2.9,\n",
       " 'Nord_8020_102': 4.0,\n",
       " 'West_8020_103': 1.9,\n",
       " 'Sud_8020_107': 2.9,\n",
       " 'Sud_8041_218': 4.8,\n",
       " 'Ost_8041_221': 4.9,\n",
       " 'Nord_8045_203': 3.8,\n",
       " 'Nord_8051_101': 6.3}"
      ]
     },
     "execution_count": 57,
     "metadata": {},
     "output_type": "execute_result"
    }
   ],
   "source": [
    "d"
   ]
  },
  {
   "cell_type": "code",
   "execution_count": 37,
   "metadata": {
    "scrolled": true
   },
   "outputs": [
    {
     "data": {
      "text/html": [
       "<div style=\"width:100%;\"><div style=\"position:relative;width:100%;height:0;padding-bottom:60%;\"><span style=\"color:#565656\">Make this Notebook Trusted to load map: File -> Trust Notebook</span><iframe src=\"about:blank\" style=\"position:absolute;width:100%;height:100%;left:0;top:0;border:none !important;\" data-html=%3C%21DOCTYPE%20html%3E%0A%3Chead%3E%20%20%20%20%0A%20%20%20%20%3Cmeta%20http-equiv%3D%22content-type%22%20content%3D%22text/html%3B%20charset%3DUTF-8%22%20/%3E%0A%20%20%20%20%0A%20%20%20%20%20%20%20%20%3Cscript%3E%0A%20%20%20%20%20%20%20%20%20%20%20%20L_NO_TOUCH%20%3D%20false%3B%0A%20%20%20%20%20%20%20%20%20%20%20%20L_DISABLE_3D%20%3D%20false%3B%0A%20%20%20%20%20%20%20%20%3C/script%3E%0A%20%20%20%20%0A%20%20%20%20%3Cstyle%3Ehtml%2C%20body%20%7Bwidth%3A%20100%25%3Bheight%3A%20100%25%3Bmargin%3A%200%3Bpadding%3A%200%3B%7D%3C/style%3E%0A%20%20%20%20%3Cstyle%3E%23map%20%7Bposition%3Aabsolute%3Btop%3A0%3Bbottom%3A0%3Bright%3A0%3Bleft%3A0%3B%7D%3C/style%3E%0A%20%20%20%20%3Cscript%20src%3D%22https%3A//cdn.jsdelivr.net/npm/leaflet%401.6.0/dist/leaflet.js%22%3E%3C/script%3E%0A%20%20%20%20%3Cscript%20src%3D%22https%3A//code.jquery.com/jquery-1.12.4.min.js%22%3E%3C/script%3E%0A%20%20%20%20%3Cscript%20src%3D%22https%3A//maxcdn.bootstrapcdn.com/bootstrap/3.2.0/js/bootstrap.min.js%22%3E%3C/script%3E%0A%20%20%20%20%3Cscript%20src%3D%22https%3A//cdnjs.cloudflare.com/ajax/libs/Leaflet.awesome-markers/2.0.2/leaflet.awesome-markers.js%22%3E%3C/script%3E%0A%20%20%20%20%3Clink%20rel%3D%22stylesheet%22%20href%3D%22https%3A//cdn.jsdelivr.net/npm/leaflet%401.6.0/dist/leaflet.css%22/%3E%0A%20%20%20%20%3Clink%20rel%3D%22stylesheet%22%20href%3D%22https%3A//maxcdn.bootstrapcdn.com/bootstrap/3.2.0/css/bootstrap.min.css%22/%3E%0A%20%20%20%20%3Clink%20rel%3D%22stylesheet%22%20href%3D%22https%3A//maxcdn.bootstrapcdn.com/bootstrap/3.2.0/css/bootstrap-theme.min.css%22/%3E%0A%20%20%20%20%3Clink%20rel%3D%22stylesheet%22%20href%3D%22https%3A//maxcdn.bootstrapcdn.com/font-awesome/4.6.3/css/font-awesome.min.css%22/%3E%0A%20%20%20%20%3Clink%20rel%3D%22stylesheet%22%20href%3D%22https%3A//cdnjs.cloudflare.com/ajax/libs/Leaflet.awesome-markers/2.0.2/leaflet.awesome-markers.css%22/%3E%0A%20%20%20%20%3Clink%20rel%3D%22stylesheet%22%20href%3D%22https%3A//cdn.jsdelivr.net/gh/python-visualization/folium/folium/templates/leaflet.awesome.rotate.min.css%22/%3E%0A%20%20%20%20%0A%20%20%20%20%20%20%20%20%20%20%20%20%3Cmeta%20name%3D%22viewport%22%20content%3D%22width%3Ddevice-width%2C%0A%20%20%20%20%20%20%20%20%20%20%20%20%20%20%20%20initial-scale%3D1.0%2C%20maximum-scale%3D1.0%2C%20user-scalable%3Dno%22%20/%3E%0A%20%20%20%20%20%20%20%20%20%20%20%20%3Cstyle%3E%0A%20%20%20%20%20%20%20%20%20%20%20%20%20%20%20%20%23map_3e5dcb81ffc4491bb03deec69db93662%20%7B%0A%20%20%20%20%20%20%20%20%20%20%20%20%20%20%20%20%20%20%20%20position%3A%20relative%3B%0A%20%20%20%20%20%20%20%20%20%20%20%20%20%20%20%20%20%20%20%20width%3A%20100.0%25%3B%0A%20%20%20%20%20%20%20%20%20%20%20%20%20%20%20%20%20%20%20%20height%3A%20100.0%25%3B%0A%20%20%20%20%20%20%20%20%20%20%20%20%20%20%20%20%20%20%20%20left%3A%200.0%25%3B%0A%20%20%20%20%20%20%20%20%20%20%20%20%20%20%20%20%20%20%20%20top%3A%200.0%25%3B%0A%20%20%20%20%20%20%20%20%20%20%20%20%20%20%20%20%7D%0A%20%20%20%20%20%20%20%20%20%20%20%20%3C/style%3E%0A%20%20%20%20%20%20%20%20%0A%3C/head%3E%0A%3Cbody%3E%20%20%20%20%0A%20%20%20%20%0A%20%20%20%20%20%20%20%20%20%20%20%20%3Cdiv%20class%3D%22folium-map%22%20id%3D%22map_3e5dcb81ffc4491bb03deec69db93662%22%20%3E%3C/div%3E%0A%20%20%20%20%20%20%20%20%0A%3C/body%3E%0A%3Cscript%3E%20%20%20%20%0A%20%20%20%20%0A%20%20%20%20%20%20%20%20%20%20%20%20var%20map_3e5dcb81ffc4491bb03deec69db93662%20%3D%20L.map%28%0A%20%20%20%20%20%20%20%20%20%20%20%20%20%20%20%20%22map_3e5dcb81ffc4491bb03deec69db93662%22%2C%0A%20%20%20%20%20%20%20%20%20%20%20%20%20%20%20%20%7B%0A%20%20%20%20%20%20%20%20%20%20%20%20%20%20%20%20%20%20%20%20center%3A%20%5B47.0707%2C%2015.4395%5D%2C%0A%20%20%20%20%20%20%20%20%20%20%20%20%20%20%20%20%20%20%20%20crs%3A%20L.CRS.EPSG3857%2C%0A%20%20%20%20%20%20%20%20%20%20%20%20%20%20%20%20%20%20%20%20zoom%3A%2010%2C%0A%20%20%20%20%20%20%20%20%20%20%20%20%20%20%20%20%20%20%20%20zoomControl%3A%20true%2C%0A%20%20%20%20%20%20%20%20%20%20%20%20%20%20%20%20%20%20%20%20preferCanvas%3A%20false%2C%0A%20%20%20%20%20%20%20%20%20%20%20%20%20%20%20%20%7D%0A%20%20%20%20%20%20%20%20%20%20%20%20%29%3B%0A%20%20%20%20%20%20%20%20%20%20%20%20L.control.scale%28%29.addTo%28map_3e5dcb81ffc4491bb03deec69db93662%29%3B%0A%0A%20%20%20%20%20%20%20%20%20%20%20%20%0A%0A%20%20%20%20%20%20%20%20%0A%20%20%20%20%0A%20%20%20%20%20%20%20%20%20%20%20%20var%20tile_layer_ba900e916a0843b494a770af19ccfc4e%20%3D%20L.tileLayer%28%0A%20%20%20%20%20%20%20%20%20%20%20%20%20%20%20%20%22https%3A//cartodb-basemaps-%7Bs%7D.global.ssl.fastly.net/light_all/%7Bz%7D/%7Bx%7D/%7By%7D.png%22%2C%0A%20%20%20%20%20%20%20%20%20%20%20%20%20%20%20%20%7B%22attribution%22%3A%20%22%5Cu0026copy%3B%20%5Cu003ca%20href%3D%5C%22http%3A//www.openstreetmap.org/copyright%5C%22%5Cu003eOpenStreetMap%5Cu003c/a%5Cu003e%20contributors%20%5Cu0026copy%3B%20%5Cu003ca%20href%3D%5C%22http%3A//cartodb.com/attributions%5C%22%5Cu003eCartoDB%5Cu003c/a%5Cu003e%2C%20CartoDB%20%5Cu003ca%20href%20%3D%5C%22http%3A//cartodb.com/attributions%5C%22%5Cu003eattributions%5Cu003c/a%5Cu003e%22%2C%20%22detectRetina%22%3A%20false%2C%20%22maxNativeZoom%22%3A%2018%2C%20%22maxZoom%22%3A%2018%2C%20%22minZoom%22%3A%200%2C%20%22noWrap%22%3A%20false%2C%20%22opacity%22%3A%201%2C%20%22subdomains%22%3A%20%22abc%22%2C%20%22tms%22%3A%20false%7D%0A%20%20%20%20%20%20%20%20%20%20%20%20%29.addTo%28map_3e5dcb81ffc4491bb03deec69db93662%29%3B%0A%20%20%20%20%20%20%20%20%0A%20%20%20%20%0A%0A%20%20%20%20%20%20%20%20function%20geo_json_116112f349a54ccab4a3fd0ea55035c3_onEachFeature%28feature%2C%20layer%29%20%7B%0A%20%20%20%20%20%20%20%20%20%20%20%20layer.on%28%7B%0A%20%20%20%20%20%20%20%20%20%20%20%20%7D%29%3B%0A%20%20%20%20%20%20%20%20%7D%3B%0A%20%20%20%20%20%20%20%20var%20geo_json_116112f349a54ccab4a3fd0ea55035c3%20%3D%20L.geoJson%28null%2C%20%7B%0A%20%20%20%20%20%20%20%20%20%20%20%20%20%20%20%20onEachFeature%3A%20geo_json_116112f349a54ccab4a3fd0ea55035c3_onEachFeature%2C%0A%20%20%20%20%20%20%20%20%20%20%20%20%0A%20%20%20%20%20%20%20%20%7D%29%3B%0A%0A%20%20%20%20%20%20%20%20function%20geo_json_116112f349a54ccab4a3fd0ea55035c3_add%20%28data%29%20%7B%0A%20%20%20%20%20%20%20%20%20%20%20%20geo_json_116112f349a54ccab4a3fd0ea55035c3%0A%20%20%20%20%20%20%20%20%20%20%20%20%20%20%20%20.addData%28data%29%0A%20%20%20%20%20%20%20%20%20%20%20%20%20%20%20%20.addTo%28map_3e5dcb81ffc4491bb03deec69db93662%29%3B%0A%20%20%20%20%20%20%20%20%7D%0A%20%20%20%20%20%20%20%20%20%20%20%20geo_json_116112f349a54ccab4a3fd0ea55035c3_add%28%7B%22coordinates%22%3A%20%5B%5B15.44353%2C%2047.07787%5D%2C%20%5B15.44352%2C%2047.07786%5D%2C%20%5B15.44364%2C%2047.07771%5D%2C%20%5B15.44371%2C%2047.07764%5D%2C%20%5B15.44379%2C%2047.07754%5D%2C%20%5B15.44405%2C%2047.07723%5D%2C%20%5B15.4444%2C%2047.07682%5D%2C%20%5B15.44525%2C%2047.07585%5D%2C%20%5B15.44563%2C%2047.07542%5D%2C%20%5B15.44572%2C%2047.07532%5D%2C%20%5B15.44598%2C%2047.07504%5D%2C%20%5B15.44604%2C%2047.07497%5D%2C%20%5B15.44614%2C%2047.07486%5D%2C%20%5B15.44629%2C%2047.0747%5D%2C%20%5B15.44648%2C%2047.07448%5D%2C%20%5B15.44673%2C%2047.07418%5D%2C%20%5B15.44692%2C%2047.07367%5D%2C%20%5B15.44696%2C%2047.07358%5D%2C%20%5B15.4468%2C%2047.07352%5D%2C%20%5B15.44627%2C%2047.07308%5D%2C%20%5B15.44572%2C%2047.07259%5D%2C%20%5B15.44535%2C%2047.07226%5D%2C%20%5B15.44525%2C%2047.07217%5D%2C%20%5B15.44515%2C%2047.07207%5D%2C%20%5B15.44507%2C%2047.07193%5D%2C%20%5B15.44506%2C%2047.07181%5D%2C%20%5B15.44506%2C%2047.07178%5D%2C%20%5B15.44507%2C%2047.07166%5D%2C%20%5B15.44514%2C%2047.07152%5D%2C%20%5B15.44518%2C%2047.07144%5D%2C%20%5B15.44532%2C%2047.07131%5D%2C%20%5B15.44548%2C%2047.07115%5D%2C%20%5B15.44562%2C%2047.07101%5D%2C%20%5B15.44564%2C%2047.07098%5D%2C%20%5B15.44572%2C%2047.07091%5D%2C%20%5B15.44631%2C%2047.07038%5D%2C%20%5B15.44636%2C%2047.07029%5D%2C%20%5B15.44636%2C%2047.07024%5D%2C%20%5B15.44634%2C%2047.07019%5D%2C%20%5B15.4463%2C%2047.07014%5D%2C%20%5B15.44605%2C%2047.07001%5D%2C%20%5B15.44571%2C%2047.06984%5D%2C%20%5B15.44547%2C%2047.06972%5D%2C%20%5B15.44535%2C%2047.06964%5D%2C%20%5B15.44521%2C%2047.06958%5D%2C%20%5B15.44495%2C%2047.06945%5D%2C%20%5B15.44462%2C%2047.06927%5D%2C%20%5B15.44398%2C%2047.06895%5D%2C%20%5B15.4437%2C%2047.06881%5D%2C%20%5B15.44339%2C%2047.06866%5D%2C%20%5B15.4433%2C%2047.06862%5D%2C%20%5B15.44319%2C%2047.06856%5D%2C%20%5B15.44314%2C%2047.06853%5D%2C%20%5B15.44253%2C%2047.06822%5D%2C%20%5B15.44246%2C%2047.06819%5D%2C%20%5B15.4424%2C%2047.06817%5D%2C%20%5B15.44232%2C%2047.06813%5D%2C%20%5B15.44226%2C%2047.0681%5D%2C%20%5B15.44181%2C%2047.0679%5D%2C%20%5B15.44173%2C%2047.06787%5D%2C%20%5B15.44171%2C%2047.06787%5D%2C%20%5B15.44169%2C%2047.06786%5D%2C%20%5B15.44162%2C%2047.06783%5D%2C%20%5B15.44048%2C%2047.06735%5D%2C%20%5B15.44041%2C%2047.06732%5D%2C%20%5B15.44033%2C%2047.06728%5D%2C%20%5B15.44025%2C%2047.06724%5D%2C%20%5B15.43951%2C%2047.06694%5D%2C%20%5B15.43945%2C%2047.06692%5D%2C%20%5B15.43856%2C%2047.06655%5D%2C%20%5B15.4384%2C%2047.0665%5D%2C%20%5B15.43836%2C%2047.06648%5D%2C%20%5B15.43832%2C%2047.06646%5D%2C%20%5B15.43796%2C%2047.06642%5D%2C%20%5B15.43769%2C%2047.06641%5D%2C%20%5B15.43736%2C%2047.0664%5D%2C%20%5B15.43687%2C%2047.06638%5D%2C%20%5B15.43672%2C%2047.06637%5D%2C%20%5B15.43634%2C%2047.06636%5D%2C%20%5B15.43614%2C%2047.06635%5D%2C%20%5B15.43596%2C%2047.06635%5D%2C%20%5B15.43579%2C%2047.06634%5D%2C%20%5B15.43564%2C%2047.06634%5D%2C%20%5B15.43546%2C%2047.06635%5D%2C%20%5B15.43535%2C%2047.06635%5D%2C%20%5B15.43444%2C%2047.0664%5D%2C%20%5B15.43439%2C%2047.0664%5D%2C%20%5B15.43429%2C%2047.06641%5D%2C%20%5B15.43414%2C%2047.06641%5D%2C%20%5B15.43383%2C%2047.06642%5D%2C%20%5B15.43329%2C%2047.06645%5D%2C%20%5B15.43314%2C%2047.06645%5D%2C%20%5B15.43255%2C%2047.06649%5D%2C%20%5B15.43191%2C%2047.06652%5D%2C%20%5B15.43179%2C%2047.06655%5D%2C%20%5B15.43173%2C%2047.06664%5D%2C%20%5B15.43153%2C%2047.06681%5D%2C%20%5B15.43142%2C%2047.06685%5D%2C%20%5B15.43134%2C%2047.06686%5D%5D%2C%20%22type%22%3A%20%22LineString%22%7D%29%3B%0A%0A%20%20%20%20%20%20%20%20%0A%20%20%20%20%0A%20%20%20%20%20%20%20%20var%20popup_dee9f4a88726444bad6c5a1f45602af7%20%3D%20L.popup%28%7B%22maxWidth%22%3A%20300%7D%29%3B%0A%0A%20%20%20%20%20%20%20%20%0A%20%20%20%20%20%20%20%20%20%20%20%20var%20html_697d50c0a17f4d17b09512ed6cbff5dd%20%3D%20%24%28%60%3Cdiv%20id%3D%22html_697d50c0a17f4d17b09512ed6cbff5dd%22%20style%3D%22width%3A%20100.0%25%3B%20height%3A%20100.0%25%3B%22%3E%3Ch4%3E%20%3Cb%3EDistance%20%3A%26nbsp%3Cstrong%3E2.3%20Km%20%3C/strong%3E%3C/h4%3E%3C/b%3E%3Ch4%3E%20%3Cb%3EDuration%20%3A%26nbsp%3Cstrong%3E6.0%20Mins.%20%3C/strong%3E%3C/h4%3E%3C/b%3E%3C/div%3E%60%29%5B0%5D%3B%0A%20%20%20%20%20%20%20%20%20%20%20%20popup_dee9f4a88726444bad6c5a1f45602af7.setContent%28html_697d50c0a17f4d17b09512ed6cbff5dd%29%3B%0A%20%20%20%20%20%20%20%20%0A%0A%20%20%20%20%20%20%20%20geo_json_116112f349a54ccab4a3fd0ea55035c3.bindPopup%28popup_dee9f4a88726444bad6c5a1f45602af7%29%0A%20%20%20%20%20%20%20%20%3B%0A%0A%20%20%20%20%20%20%20%20%0A%20%20%20%20%0A%20%20%20%20%0A%20%20%20%20%20%20%20%20%20%20%20%20var%20marker_3eee4e68ac134274abf5eb563d4b20ba%20%3D%20L.marker%28%0A%20%20%20%20%20%20%20%20%20%20%20%20%20%20%20%20%5B47.077866%2C%2015.443536%5D%2C%0A%20%20%20%20%20%20%20%20%20%20%20%20%20%20%20%20%7B%7D%0A%20%20%20%20%20%20%20%20%20%20%20%20%29.addTo%28map_3e5dcb81ffc4491bb03deec69db93662%29%3B%0A%20%20%20%20%20%20%20%20%0A%20%20%20%20%0A%20%20%20%20%20%20%20%20%20%20%20%20var%20icon_696f2f282ce24a5a814a3bc4921795bb%20%3D%20L.AwesomeMarkers.icon%28%0A%20%20%20%20%20%20%20%20%20%20%20%20%20%20%20%20%7B%22extraClasses%22%3A%20%22fa-rotate-0%22%2C%20%22icon%22%3A%20%22info-sign%22%2C%20%22iconColor%22%3A%20%22white%22%2C%20%22markerColor%22%3A%20%22green%22%2C%20%22prefix%22%3A%20%22glyphicon%22%7D%0A%20%20%20%20%20%20%20%20%20%20%20%20%29%3B%0A%20%20%20%20%20%20%20%20%20%20%20%20marker_3eee4e68ac134274abf5eb563d4b20ba.setIcon%28icon_696f2f282ce24a5a814a3bc4921795bb%29%3B%0A%20%20%20%20%20%20%20%20%0A%20%20%20%20%0A%20%20%20%20%20%20%20%20var%20popup_74578f26e7b34aada8dca65b92765b71%20%3D%20L.popup%28%7B%22maxWidth%22%3A%20%22100%25%22%7D%29%3B%0A%0A%20%20%20%20%20%20%20%20%0A%20%20%20%20%20%20%20%20%20%20%20%20var%20html_ccbfd06d5d1848198b7fef6fb0a06886%20%3D%20%24%28%60%3Cdiv%20id%3D%22html_ccbfd06d5d1848198b7fef6fb0a06886%22%20style%3D%22width%3A%20100.0%25%3B%20height%3A%20100.0%25%3B%22%3EOst_8010_208%3C/div%3E%60%29%5B0%5D%3B%0A%20%20%20%20%20%20%20%20%20%20%20%20popup_74578f26e7b34aada8dca65b92765b71.setContent%28html_ccbfd06d5d1848198b7fef6fb0a06886%29%3B%0A%20%20%20%20%20%20%20%20%0A%0A%20%20%20%20%20%20%20%20marker_3eee4e68ac134274abf5eb563d4b20ba.bindPopup%28popup_74578f26e7b34aada8dca65b92765b71%29%0A%20%20%20%20%20%20%20%20%3B%0A%0A%20%20%20%20%20%20%20%20%0A%20%20%20%20%0A%20%20%20%20%0A%20%20%20%20%20%20%20%20%20%20%20%20var%20marker_4370949266354159baf8b750687754ae%20%3D%20L.marker%28%0A%20%20%20%20%20%20%20%20%20%20%20%20%20%20%20%20%5B47.06687%2C%2015.431343%5D%2C%0A%20%20%20%20%20%20%20%20%20%20%20%20%20%20%20%20%7B%7D%0A%20%20%20%20%20%20%20%20%20%20%20%20%29.addTo%28map_3e5dcb81ffc4491bb03deec69db93662%29%3B%0A%20%20%20%20%20%20%20%20%0A%20%20%20%20%0A%20%20%20%20%20%20%20%20%20%20%20%20var%20icon_f1b6a73d18994f0f8742d3776f9b24a7%20%3D%20L.AwesomeMarkers.icon%28%0A%20%20%20%20%20%20%20%20%20%20%20%20%20%20%20%20%7B%22extraClasses%22%3A%20%22fa-rotate-0%22%2C%20%22icon%22%3A%20%22info-sign%22%2C%20%22iconColor%22%3A%20%22white%22%2C%20%22markerColor%22%3A%20%22red%22%2C%20%22prefix%22%3A%20%22glyphicon%22%7D%0A%20%20%20%20%20%20%20%20%20%20%20%20%29%3B%0A%20%20%20%20%20%20%20%20%20%20%20%20marker_4370949266354159baf8b750687754ae.setIcon%28icon_f1b6a73d18994f0f8742d3776f9b24a7%29%3B%0A%20%20%20%20%20%20%20%20%0A%20%20%20%20%0A%20%20%20%20%20%20%20%20var%20popup_177a9c170c984fc1976aa9c63d2f9098%20%3D%20L.popup%28%7B%22maxWidth%22%3A%20%22100%25%22%7D%29%3B%0A%0A%20%20%20%20%20%20%20%20%0A%20%20%20%20%20%20%20%20%20%20%20%20var%20html_390e0b5903f8401ebc15d228a6c80403%20%3D%20%24%28%60%3Cdiv%20id%3D%22html_390e0b5903f8401ebc15d228a6c80403%22%20style%3D%22width%3A%20100.0%25%3B%20height%3A%20100.0%25%3B%22%3EDonBosco_8020_119%3C/div%3E%60%29%5B0%5D%3B%0A%20%20%20%20%20%20%20%20%20%20%20%20popup_177a9c170c984fc1976aa9c63d2f9098.setContent%28html_390e0b5903f8401ebc15d228a6c80403%29%3B%0A%20%20%20%20%20%20%20%20%0A%0A%20%20%20%20%20%20%20%20marker_4370949266354159baf8b750687754ae.bindPopup%28popup_177a9c170c984fc1976aa9c63d2f9098%29%0A%20%20%20%20%20%20%20%20%3B%0A%0A%20%20%20%20%20%20%20%20%0A%20%20%20%20%0A%20%20%20%20%0A%0A%20%20%20%20%20%20%20%20function%20geo_json_4d65e139713d43d399ee9e89004fed12_onEachFeature%28feature%2C%20layer%29%20%7B%0A%20%20%20%20%20%20%20%20%20%20%20%20layer.on%28%7B%0A%20%20%20%20%20%20%20%20%20%20%20%20%7D%29%3B%0A%20%20%20%20%20%20%20%20%7D%3B%0A%20%20%20%20%20%20%20%20var%20geo_json_4d65e139713d43d399ee9e89004fed12%20%3D%20L.geoJson%28null%2C%20%7B%0A%20%20%20%20%20%20%20%20%20%20%20%20%20%20%20%20onEachFeature%3A%20geo_json_4d65e139713d43d399ee9e89004fed12_onEachFeature%2C%0A%20%20%20%20%20%20%20%20%20%20%20%20%0A%20%20%20%20%20%20%20%20%7D%29%3B%0A%0A%20%20%20%20%20%20%20%20function%20geo_json_4d65e139713d43d399ee9e89004fed12_add%20%28data%29%20%7B%0A%20%20%20%20%20%20%20%20%20%20%20%20geo_json_4d65e139713d43d399ee9e89004fed12%0A%20%20%20%20%20%20%20%20%20%20%20%20%20%20%20%20.addData%28data%29%0A%20%20%20%20%20%20%20%20%20%20%20%20%20%20%20%20.addTo%28map_3e5dcb81ffc4491bb03deec69db93662%29%3B%0A%20%20%20%20%20%20%20%20%7D%0A%20%20%20%20%20%20%20%20%20%20%20%20geo_json_4d65e139713d43d399ee9e89004fed12_add%28%7B%22coordinates%22%3A%20%5B%5B15.41885%2C%2047.05866%5D%2C%20%5B15.41886%2C%2047.05866%5D%2C%20%5B15.41901%2C%2047.05875%5D%2C%20%5B15.41904%2C%2047.05876%5D%2C%20%5B15.41919%2C%2047.05886%5D%2C%20%5B15.41922%2C%2047.05888%5D%2C%20%5B15.41939%2C%2047.05899%5D%2C%20%5B15.41951%2C%2047.05906%5D%2C%20%5B15.42021%2C%2047.0595%5D%2C%20%5B15.42029%2C%2047.05955%5D%2C%20%5B15.42033%2C%2047.05958%5D%2C%20%5B15.4205%2C%2047.05971%5D%2C%20%5B15.42058%2C%2047.05977%5D%2C%20%5B15.42099%2C%2047.06018%5D%2C%20%5B15.42103%2C%2047.06022%5D%2C%20%5B15.4211%2C%2047.06029%5D%2C%20%5B15.42127%2C%2047.06035%5D%2C%20%5B15.42134%2C%2047.06042%5D%2C%20%5B15.42138%2C%2047.06047%5D%2C%20%5B15.42147%2C%2047.06056%5D%2C%20%5B15.42151%2C%2047.06059%5D%2C%20%5B15.42187%2C%2047.06097%5D%2C%20%5B15.42197%2C%2047.06108%5D%2C%20%5B15.42202%2C%2047.06115%5D%2C%20%5B15.42216%2C%2047.06129%5D%2C%20%5B15.42231%2C%2047.06143%5D%2C%20%5B15.42245%2C%2047.06157%5D%2C%20%5B15.42259%2C%2047.0617%5D%2C%20%5B15.42264%2C%2047.06174%5D%2C%20%5B15.42278%2C%2047.06188%5D%2C%20%5B15.42294%2C%2047.06201%5D%2C%20%5B15.42304%2C%2047.06208%5D%2C%20%5B15.42323%2C%2047.0622%5D%2C%20%5B15.4233%2C%2047.06223%5D%2C%20%5B15.42373%2C%2047.06247%5D%2C%20%5B15.4238%2C%2047.0625%5D%2C%20%5B15.42384%2C%2047.06252%5D%2C%20%5B15.42392%2C%2047.06256%5D%2C%20%5B15.42402%2C%2047.06267%5D%2C%20%5B15.4241%2C%2047.06274%5D%2C%20%5B15.42415%2C%2047.06279%5D%2C%20%5B15.42422%2C%2047.06288%5D%2C%20%5B15.4243%2C%2047.06311%5D%2C%20%5B15.42439%2C%2047.06335%5D%2C%20%5B15.4244%2C%2047.06338%5D%2C%20%5B15.42453%2C%2047.06358%5D%2C%20%5B15.42455%2C%2047.06361%5D%2C%20%5B15.42462%2C%2047.06369%5D%2C%20%5B15.42485%2C%2047.06397%5D%2C%20%5B15.42526%2C%2047.06449%5D%2C%20%5B15.42531%2C%2047.06455%5D%2C%20%5B15.42564%2C%2047.06497%5D%2C%20%5B15.42605%2C%2047.06545%5D%2C%20%5B15.42653%2C%2047.06604%5D%2C%20%5B15.42665%2C%2047.0662%5D%2C%20%5B15.42679%2C%2047.06636%5D%2C%20%5B15.42705%2C%2047.06652%5D%2C%20%5B15.42729%2C%2047.06656%5D%2C%20%5B15.42732%2C%2047.06656%5D%2C%20%5B15.42742%2C%2047.06658%5D%2C%20%5B15.42755%2C%2047.0666%5D%2C%20%5B15.42779%2C%2047.06663%5D%2C%20%5B15.42848%2C%2047.06674%5D%2C%20%5B15.4288%2C%2047.06678%5D%2C%20%5B15.42919%2C%2047.06678%5D%2C%20%5B15.43008%2C%2047.06677%5D%2C%20%5B15.43045%2C%2047.06677%5D%2C%20%5B15.43086%2C%2047.06678%5D%2C%20%5B15.43087%2C%2047.06678%5D%2C%20%5B15.43122%2C%2047.06684%5D%2C%20%5B15.43127%2C%2047.06684%5D%2C%20%5B15.43137%2C%2047.06678%5D%2C%20%5B15.43145%2C%2047.06671%5D%2C%20%5B15.43148%2C%2047.06664%5D%2C%20%5B15.43165%2C%2047.0666%5D%2C%20%5B15.43179%2C%2047.06655%5D%2C%20%5B15.43173%2C%2047.06664%5D%2C%20%5B15.43153%2C%2047.06681%5D%2C%20%5B15.43142%2C%2047.06685%5D%2C%20%5B15.43134%2C%2047.06686%5D%5D%2C%20%22type%22%3A%20%22LineString%22%7D%29%3B%0A%0A%20%20%20%20%20%20%20%20%0A%20%20%20%20%0A%20%20%20%20%20%20%20%20var%20popup_6da3e9e25675469fb25d599ad2907258%20%3D%20L.popup%28%7B%22maxWidth%22%3A%20300%7D%29%3B%0A%0A%20%20%20%20%20%20%20%20%0A%20%20%20%20%20%20%20%20%20%20%20%20var%20html_bef9dbf2d3304aa49c1dd8541e5cc6a0%20%3D%20%24%28%60%3Cdiv%20id%3D%22html_bef9dbf2d3304aa49c1dd8541e5cc6a0%22%20style%3D%22width%3A%20100.0%25%3B%20height%3A%20100.0%25%3B%22%3E%3Ch4%3E%20%3Cb%3EDistance%20%3A%26nbsp%3Cstrong%3E1.5%20Km%20%3C/strong%3E%3C/h4%3E%3C/b%3E%3Ch4%3E%20%3Cb%3EDuration%20%3A%26nbsp%3Cstrong%3E4.8%20Mins.%20%3C/strong%3E%3C/h4%3E%3C/b%3E%3C/div%3E%60%29%5B0%5D%3B%0A%20%20%20%20%20%20%20%20%20%20%20%20popup_6da3e9e25675469fb25d599ad2907258.setContent%28html_bef9dbf2d3304aa49c1dd8541e5cc6a0%29%3B%0A%20%20%20%20%20%20%20%20%0A%0A%20%20%20%20%20%20%20%20geo_json_4d65e139713d43d399ee9e89004fed12.bindPopup%28popup_6da3e9e25675469fb25d599ad2907258%29%0A%20%20%20%20%20%20%20%20%3B%0A%0A%20%20%20%20%20%20%20%20%0A%20%20%20%20%0A%20%20%20%20%0A%20%20%20%20%20%20%20%20%20%20%20%20var%20marker_a21a7281dbdd4b75a31521c42bed6210%20%3D%20L.marker%28%0A%20%20%20%20%20%20%20%20%20%20%20%20%20%20%20%20%5B47.058659%2C%2015.418848%5D%2C%0A%20%20%20%20%20%20%20%20%20%20%20%20%20%20%20%20%7B%7D%0A%20%20%20%20%20%20%20%20%20%20%20%20%29.addTo%28map_3e5dcb81ffc4491bb03deec69db93662%29%3B%0A%20%20%20%20%20%20%20%20%0A%20%20%20%20%0A%20%20%20%20%20%20%20%20%20%20%20%20var%20icon_aa7d4ee77dd042fa8ababcf4119ca56d%20%3D%20L.AwesomeMarkers.icon%28%0A%20%20%20%20%20%20%20%20%20%20%20%20%20%20%20%20%7B%22extraClasses%22%3A%20%22fa-rotate-0%22%2C%20%22icon%22%3A%20%22info-sign%22%2C%20%22iconColor%22%3A%20%22white%22%2C%20%22markerColor%22%3A%20%22green%22%2C%20%22prefix%22%3A%20%22glyphicon%22%7D%0A%20%20%20%20%20%20%20%20%20%20%20%20%29%3B%0A%20%20%20%20%20%20%20%20%20%20%20%20marker_a21a7281dbdd4b75a31521c42bed6210.setIcon%28icon_aa7d4ee77dd042fa8ababcf4119ca56d%29%3B%0A%20%20%20%20%20%20%20%20%0A%20%20%20%20%0A%20%20%20%20%20%20%20%20var%20popup_60f06c70d8c34d8babca2460c6419d28%20%3D%20L.popup%28%7B%22maxWidth%22%3A%20%22100%25%22%7D%29%3B%0A%0A%20%20%20%20%20%20%20%20%0A%20%20%20%20%20%20%20%20%20%20%20%20var%20html_87052bef2fab4536946d6a3e9512116a%20%3D%20%24%28%60%3Cdiv%20id%3D%22html_87052bef2fab4536946d6a3e9512116a%22%20style%3D%22width%3A%20100.0%25%3B%20height%3A%20100.0%25%3B%22%3EDonBosco_8020_110%3C/div%3E%60%29%5B0%5D%3B%0A%20%20%20%20%20%20%20%20%20%20%20%20popup_60f06c70d8c34d8babca2460c6419d28.setContent%28html_87052bef2fab4536946d6a3e9512116a%29%3B%0A%20%20%20%20%20%20%20%20%0A%0A%20%20%20%20%20%20%20%20marker_a21a7281dbdd4b75a31521c42bed6210.bindPopup%28popup_60f06c70d8c34d8babca2460c6419d28%29%0A%20%20%20%20%20%20%20%20%3B%0A%0A%20%20%20%20%20%20%20%20%0A%20%20%20%20%0A%20%20%20%20%0A%20%20%20%20%20%20%20%20%20%20%20%20var%20marker_016fa8d9e60e48e393d7d4dc9562f039%20%3D%20L.marker%28%0A%20%20%20%20%20%20%20%20%20%20%20%20%20%20%20%20%5B47.06687%2C%2015.431343%5D%2C%0A%20%20%20%20%20%20%20%20%20%20%20%20%20%20%20%20%7B%7D%0A%20%20%20%20%20%20%20%20%20%20%20%20%29.addTo%28map_3e5dcb81ffc4491bb03deec69db93662%29%3B%0A%20%20%20%20%20%20%20%20%0A%20%20%20%20%0A%20%20%20%20%20%20%20%20%20%20%20%20var%20icon_3fb89f383ba1431a9791dbc90d7e1fe7%20%3D%20L.AwesomeMarkers.icon%28%0A%20%20%20%20%20%20%20%20%20%20%20%20%20%20%20%20%7B%22extraClasses%22%3A%20%22fa-rotate-0%22%2C%20%22icon%22%3A%20%22info-sign%22%2C%20%22iconColor%22%3A%20%22white%22%2C%20%22markerColor%22%3A%20%22red%22%2C%20%22prefix%22%3A%20%22glyphicon%22%7D%0A%20%20%20%20%20%20%20%20%20%20%20%20%29%3B%0A%20%20%20%20%20%20%20%20%20%20%20%20marker_016fa8d9e60e48e393d7d4dc9562f039.setIcon%28icon_3fb89f383ba1431a9791dbc90d7e1fe7%29%3B%0A%20%20%20%20%20%20%20%20%0A%20%20%20%20%0A%20%20%20%20%20%20%20%20var%20popup_7f3340e7e56d475289186001584c8b40%20%3D%20L.popup%28%7B%22maxWidth%22%3A%20%22100%25%22%7D%29%3B%0A%0A%20%20%20%20%20%20%20%20%0A%20%20%20%20%20%20%20%20%20%20%20%20var%20html_85f9565b6e36472583d88f34ec2b7bc5%20%3D%20%24%28%60%3Cdiv%20id%3D%22html_85f9565b6e36472583d88f34ec2b7bc5%22%20style%3D%22width%3A%20100.0%25%3B%20height%3A%20100.0%25%3B%22%3EDonBosco_8020_119%3C/div%3E%60%29%5B0%5D%3B%0A%20%20%20%20%20%20%20%20%20%20%20%20popup_7f3340e7e56d475289186001584c8b40.setContent%28html_85f9565b6e36472583d88f34ec2b7bc5%29%3B%0A%20%20%20%20%20%20%20%20%0A%0A%20%20%20%20%20%20%20%20marker_016fa8d9e60e48e393d7d4dc9562f039.bindPopup%28popup_7f3340e7e56d475289186001584c8b40%29%0A%20%20%20%20%20%20%20%20%3B%0A%0A%20%20%20%20%20%20%20%20%0A%20%20%20%20%0A%20%20%20%20%0A%0A%20%20%20%20%20%20%20%20function%20geo_json_186061acca5445718f78bcfad44812b2_onEachFeature%28feature%2C%20layer%29%20%7B%0A%20%20%20%20%20%20%20%20%20%20%20%20layer.on%28%7B%0A%20%20%20%20%20%20%20%20%20%20%20%20%7D%29%3B%0A%20%20%20%20%20%20%20%20%7D%3B%0A%20%20%20%20%20%20%20%20var%20geo_json_186061acca5445718f78bcfad44812b2%20%3D%20L.geoJson%28null%2C%20%7B%0A%20%20%20%20%20%20%20%20%20%20%20%20%20%20%20%20onEachFeature%3A%20geo_json_186061acca5445718f78bcfad44812b2_onEachFeature%2C%0A%20%20%20%20%20%20%20%20%20%20%20%20%0A%20%20%20%20%20%20%20%20%7D%29%3B%0A%0A%20%20%20%20%20%20%20%20function%20geo_json_186061acca5445718f78bcfad44812b2_add%20%28data%29%20%7B%0A%20%20%20%20%20%20%20%20%20%20%20%20geo_json_186061acca5445718f78bcfad44812b2%0A%20%20%20%20%20%20%20%20%20%20%20%20%20%20%20%20.addData%28data%29%0A%20%20%20%20%20%20%20%20%20%20%20%20%20%20%20%20.addTo%28map_3e5dcb81ffc4491bb03deec69db93662%29%3B%0A%20%20%20%20%20%20%20%20%7D%0A%20%20%20%20%20%20%20%20%20%20%20%20geo_json_186061acca5445718f78bcfad44812b2_add%28%7B%22coordinates%22%3A%20%5B%5B15.43173%2C%2047.05732%5D%2C%20%5B15.43172%2C%2047.05734%5D%2C%20%5B15.43059%2C%2047.05719%5D%2C%20%5B15.43033%2C%2047.05716%5D%2C%20%5B15.43035%2C%2047.05727%5D%2C%20%5B15.4304%2C%2047.05755%5D%2C%20%5B15.43041%2C%2047.0576%5D%2C%20%5B15.43042%2C%2047.05765%5D%2C%20%5B15.43047%2C%2047.05784%5D%2C%20%5B15.43056%2C%2047.05818%5D%2C%20%5B15.43058%2C%2047.05825%5D%2C%20%5B15.43064%2C%2047.05849%5D%2C%20%5B15.43065%2C%2047.05857%5D%2C%20%5B15.43072%2C%2047.05894%5D%2C%20%5B15.43078%2C%2047.0591%5D%2C%20%5B15.4308%2C%2047.05918%5D%2C%20%5B15.4308%2C%2047.0592%5D%2C%20%5B15.43081%2C%2047.05922%5D%2C%20%5B15.43082%2C%2047.05924%5D%2C%20%5B15.43084%2C%2047.05935%5D%2C%20%5B15.43087%2C%2047.05942%5D%2C%20%5B15.43089%2C%2047.05954%5D%2C%20%5B15.43089%2C%2047.05964%5D%2C%20%5B15.43088%2C%2047.0597%5D%2C%20%5B15.43086%2C%2047.05982%5D%2C%20%5B15.43085%2C%2047.05986%5D%2C%20%5B15.43084%2C%2047.05992%5D%2C%20%5B15.43083%2C%2047.06003%5D%2C%20%5B15.43078%2C%2047.06026%5D%2C%20%5B15.43076%2C%2047.06035%5D%2C%20%5B15.43074%2C%2047.06044%5D%2C%20%5B15.43073%2C%2047.06048%5D%2C%20%5B15.43073%2C%2047.0605%5D%2C%20%5B15.43069%2C%2047.06068%5D%2C%20%5B15.43069%2C%2047.06076%5D%2C%20%5B15.43069%2C%2047.06087%5D%2C%20%5B15.43073%2C%2047.06112%5D%2C%20%5B15.4308%2C%2047.06175%5D%2C%20%5B15.43082%2C%2047.06191%5D%2C%20%5B15.43085%2C%2047.06212%5D%2C%20%5B15.43087%2C%2047.06231%5D%2C%20%5B15.43087%2C%2047.06233%5D%2C%20%5B15.43087%2C%2047.0624%5D%2C%20%5B15.43088%2C%2047.06261%5D%2C%20%5B15.43088%2C%2047.06273%5D%2C%20%5B15.4309%2C%2047.06304%5D%2C%20%5B15.43096%2C%2047.06316%5D%2C%20%5B15.43109%2C%2047.06333%5D%2C%20%5B15.43119%2C%2047.06352%5D%2C%20%5B15.43132%2C%2047.06392%5D%2C%20%5B15.43133%2C%2047.06397%5D%2C%20%5B15.43135%2C%2047.06415%5D%2C%20%5B15.43136%2C%2047.06424%5D%2C%20%5B15.43142%2C%2047.06443%5D%2C%20%5B15.43143%2C%2047.06449%5D%2C%20%5B15.43144%2C%2047.06466%5D%2C%20%5B15.43145%2C%2047.06473%5D%2C%20%5B15.43146%2C%2047.06484%5D%2C%20%5B15.43146%2C%2047.06491%5D%2C%20%5B15.43149%2C%2047.06534%5D%2C%20%5B15.4315%2C%2047.06545%5D%2C%20%5B15.43151%2C%2047.06555%5D%2C%20%5B15.43151%2C%2047.0656%5D%2C%20%5B15.43155%2C%2047.06592%5D%2C%20%5B15.43157%2C%2047.066%5D%2C%20%5B15.43157%2C%2047.06604%5D%2C%20%5B15.43158%2C%2047.0661%5D%2C%20%5B15.43159%2C%2047.06616%5D%2C%20%5B15.4316%2C%2047.06623%5D%2C%20%5B15.43166%2C%2047.06644%5D%2C%20%5B15.43168%2C%2047.06648%5D%2C%20%5B15.43173%2C%2047.06651%5D%2C%20%5B15.43179%2C%2047.06655%5D%2C%20%5B15.43173%2C%2047.06664%5D%2C%20%5B15.43153%2C%2047.06681%5D%2C%20%5B15.43142%2C%2047.06685%5D%2C%20%5B15.43134%2C%2047.06686%5D%5D%2C%20%22type%22%3A%20%22LineString%22%7D%29%3B%0A%0A%20%20%20%20%20%20%20%20%0A%20%20%20%20%0A%20%20%20%20%20%20%20%20var%20popup_3586fa85d4d7415b8d7721cecc72a672%20%3D%20L.popup%28%7B%22maxWidth%22%3A%20300%7D%29%3B%0A%0A%20%20%20%20%20%20%20%20%0A%20%20%20%20%20%20%20%20%20%20%20%20var%20html_402d4dfd00824009bbb3aeebad7e3be7%20%3D%20%24%28%60%3Cdiv%20id%3D%22html_402d4dfd00824009bbb3aeebad7e3be7%22%20style%3D%22width%3A%20100.0%25%3B%20height%3A%20100.0%25%3B%22%3E%3Ch4%3E%20%3Cb%3EDistance%20%3A%26nbsp%3Cstrong%3E1.2%20Km%20%3C/strong%3E%3C/h4%3E%3C/b%3E%3Ch4%3E%20%3Cb%3EDuration%20%3A%26nbsp%3Cstrong%3E4.3%20Mins.%20%3C/strong%3E%3C/h4%3E%3C/b%3E%3C/div%3E%60%29%5B0%5D%3B%0A%20%20%20%20%20%20%20%20%20%20%20%20popup_3586fa85d4d7415b8d7721cecc72a672.setContent%28html_402d4dfd00824009bbb3aeebad7e3be7%29%3B%0A%20%20%20%20%20%20%20%20%0A%0A%20%20%20%20%20%20%20%20geo_json_186061acca5445718f78bcfad44812b2.bindPopup%28popup_3586fa85d4d7415b8d7721cecc72a672%29%0A%20%20%20%20%20%20%20%20%3B%0A%0A%20%20%20%20%20%20%20%20%0A%20%20%20%20%0A%20%20%20%20%0A%20%20%20%20%20%20%20%20%20%20%20%20var%20marker_0c0001faa45d427f8905d97b9f48a74a%20%3D%20L.marker%28%0A%20%20%20%20%20%20%20%20%20%20%20%20%20%20%20%20%5B47.057316%2C%2015.431727%5D%2C%0A%20%20%20%20%20%20%20%20%20%20%20%20%20%20%20%20%7B%7D%0A%20%20%20%20%20%20%20%20%20%20%20%20%29.addTo%28map_3e5dcb81ffc4491bb03deec69db93662%29%3B%0A%20%20%20%20%20%20%20%20%0A%20%20%20%20%0A%20%20%20%20%20%20%20%20%20%20%20%20var%20icon_37f191c9161747108730d59188ffb60b%20%3D%20L.AwesomeMarkers.icon%28%0A%20%20%20%20%20%20%20%20%20%20%20%20%20%20%20%20%7B%22extraClasses%22%3A%20%22fa-rotate-0%22%2C%20%22icon%22%3A%20%22info-sign%22%2C%20%22iconColor%22%3A%20%22white%22%2C%20%22markerColor%22%3A%20%22green%22%2C%20%22prefix%22%3A%20%22glyphicon%22%7D%0A%20%20%20%20%20%20%20%20%20%20%20%20%29%3B%0A%20%20%20%20%20%20%20%20%20%20%20%20marker_0c0001faa45d427f8905d97b9f48a74a.setIcon%28icon_37f191c9161747108730d59188ffb60b%29%3B%0A%20%20%20%20%20%20%20%20%0A%20%20%20%20%0A%20%20%20%20%20%20%20%20var%20popup_cf89411d07864b90b5d63a523e908607%20%3D%20L.popup%28%7B%22maxWidth%22%3A%20%22100%25%22%7D%29%3B%0A%0A%20%20%20%20%20%20%20%20%0A%20%20%20%20%20%20%20%20%20%20%20%20var%20html_cbadad5128524a01a442460e7154e42a%20%3D%20%24%28%60%3Cdiv%20id%3D%22html_cbadad5128524a01a442460e7154e42a%22%20style%3D%22width%3A%20100.0%25%3B%20height%3A%20100.0%25%3B%22%3EDonBosco_8020_122%3C/div%3E%60%29%5B0%5D%3B%0A%20%20%20%20%20%20%20%20%20%20%20%20popup_cf89411d07864b90b5d63a523e908607.setContent%28html_cbadad5128524a01a442460e7154e42a%29%3B%0A%20%20%20%20%20%20%20%20%0A%0A%20%20%20%20%20%20%20%20marker_0c0001faa45d427f8905d97b9f48a74a.bindPopup%28popup_cf89411d07864b90b5d63a523e908607%29%0A%20%20%20%20%20%20%20%20%3B%0A%0A%20%20%20%20%20%20%20%20%0A%20%20%20%20%0A%20%20%20%20%0A%20%20%20%20%20%20%20%20%20%20%20%20var%20marker_02c61fdab6b34eecbdb8cf7058f68fa7%20%3D%20L.marker%28%0A%20%20%20%20%20%20%20%20%20%20%20%20%20%20%20%20%5B47.06687%2C%2015.431343%5D%2C%0A%20%20%20%20%20%20%20%20%20%20%20%20%20%20%20%20%7B%7D%0A%20%20%20%20%20%20%20%20%20%20%20%20%29.addTo%28map_3e5dcb81ffc4491bb03deec69db93662%29%3B%0A%20%20%20%20%20%20%20%20%0A%20%20%20%20%0A%20%20%20%20%20%20%20%20%20%20%20%20var%20icon_9831b94965e74514aba4279748c4e6dd%20%3D%20L.AwesomeMarkers.icon%28%0A%20%20%20%20%20%20%20%20%20%20%20%20%20%20%20%20%7B%22extraClasses%22%3A%20%22fa-rotate-0%22%2C%20%22icon%22%3A%20%22info-sign%22%2C%20%22iconColor%22%3A%20%22white%22%2C%20%22markerColor%22%3A%20%22red%22%2C%20%22prefix%22%3A%20%22glyphicon%22%7D%0A%20%20%20%20%20%20%20%20%20%20%20%20%29%3B%0A%20%20%20%20%20%20%20%20%20%20%20%20marker_02c61fdab6b34eecbdb8cf7058f68fa7.setIcon%28icon_9831b94965e74514aba4279748c4e6dd%29%3B%0A%20%20%20%20%20%20%20%20%0A%20%20%20%20%0A%20%20%20%20%20%20%20%20var%20popup_62d02e325d434e278b4c12c9fc07e09f%20%3D%20L.popup%28%7B%22maxWidth%22%3A%20%22100%25%22%7D%29%3B%0A%0A%20%20%20%20%20%20%20%20%0A%20%20%20%20%20%20%20%20%20%20%20%20var%20html_d7b6709f88e34f0781e5212405ee608e%20%3D%20%24%28%60%3Cdiv%20id%3D%22html_d7b6709f88e34f0781e5212405ee608e%22%20style%3D%22width%3A%20100.0%25%3B%20height%3A%20100.0%25%3B%22%3EDonBosco_8020_119%3C/div%3E%60%29%5B0%5D%3B%0A%20%20%20%20%20%20%20%20%20%20%20%20popup_62d02e325d434e278b4c12c9fc07e09f.setContent%28html_d7b6709f88e34f0781e5212405ee608e%29%3B%0A%20%20%20%20%20%20%20%20%0A%0A%20%20%20%20%20%20%20%20marker_02c61fdab6b34eecbdb8cf7058f68fa7.bindPopup%28popup_62d02e325d434e278b4c12c9fc07e09f%29%0A%20%20%20%20%20%20%20%20%3B%0A%0A%20%20%20%20%20%20%20%20%0A%20%20%20%20%0A%20%20%20%20%0A%0A%20%20%20%20%20%20%20%20function%20geo_json_2238b6d62b9d42718029581745f03c14_onEachFeature%28feature%2C%20layer%29%20%7B%0A%20%20%20%20%20%20%20%20%20%20%20%20layer.on%28%7B%0A%20%20%20%20%20%20%20%20%20%20%20%20%7D%29%3B%0A%20%20%20%20%20%20%20%20%7D%3B%0A%20%20%20%20%20%20%20%20var%20geo_json_2238b6d62b9d42718029581745f03c14%20%3D%20L.geoJson%28null%2C%20%7B%0A%20%20%20%20%20%20%20%20%20%20%20%20%20%20%20%20onEachFeature%3A%20geo_json_2238b6d62b9d42718029581745f03c14_onEachFeature%2C%0A%20%20%20%20%20%20%20%20%20%20%20%20%0A%20%20%20%20%20%20%20%20%7D%29%3B%0A%0A%20%20%20%20%20%20%20%20function%20geo_json_2238b6d62b9d42718029581745f03c14_add%20%28data%29%20%7B%0A%20%20%20%20%20%20%20%20%20%20%20%20geo_json_2238b6d62b9d42718029581745f03c14%0A%20%20%20%20%20%20%20%20%20%20%20%20%20%20%20%20.addData%28data%29%0A%20%20%20%20%20%20%20%20%20%20%20%20%20%20%20%20.addTo%28map_3e5dcb81ffc4491bb03deec69db93662%29%3B%0A%20%20%20%20%20%20%20%20%7D%0A%20%20%20%20%20%20%20%20%20%20%20%20geo_json_2238b6d62b9d42718029581745f03c14_add%28%7B%22coordinates%22%3A%20%5B%5B15.41422%2C%2047.04346%5D%2C%20%5B15.41422%2C%2047.04346%5D%2C%20%5B15.41425%2C%2047.04357%5D%2C%20%5B15.4143%2C%2047.04373%5D%2C%20%5B15.41435%2C%2047.04387%5D%2C%20%5B15.41437%2C%2047.04395%5D%2C%20%5B15.41439%2C%2047.04399%5D%2C%20%5B15.4144%2C%2047.04404%5D%2C%20%5B15.41443%2C%2047.04416%5D%2C%20%5B15.41457%2C%2047.04468%5D%2C%20%5B15.41468%2C%2047.04507%5D%2C%20%5B15.4148%2C%2047.04551%5D%2C%20%5B15.41482%2C%2047.04556%5D%2C%20%5B15.41486%2C%2047.04572%5D%2C%20%5B15.41499%2C%2047.04618%5D%2C%20%5B15.41517%2C%2047.04681%5D%2C%20%5B15.4152%2C%2047.04692%5D%2C%20%5B15.41521%2C%2047.04697%5D%2C%20%5B15.41522%2C%2047.04703%5D%2C%20%5B15.41527%2C%2047.04724%5D%2C%20%5B15.4153%2C%2047.04734%5D%2C%20%5B15.41533%2C%2047.04742%5D%2C%20%5B15.4154%2C%2047.04772%5D%2C%20%5B15.41552%2C%2047.04839%5D%2C%20%5B15.41553%2C%2047.04847%5D%2C%20%5B15.41568%2C%2047.04925%5D%2C%20%5B15.41581%2C%2047.05001%5D%2C%20%5B15.41589%2C%2047.0505%5D%2C%20%5B15.41593%2C%2047.05071%5D%2C%20%5B15.41595%2C%2047.05079%5D%2C%20%5B15.41596%2C%2047.05088%5D%2C%20%5B15.416%2C%2047.05115%5D%2C%20%5B15.41606%2C%2047.05144%5D%2C%20%5B15.41616%2C%2047.05197%5D%2C%20%5B15.41621%2C%2047.05226%5D%2C%20%5B15.41622%2C%2047.05228%5D%2C%20%5B15.41639%2C%2047.05324%5D%2C%20%5B15.41642%2C%2047.05339%5D%2C%20%5B15.41651%2C%2047.05388%5D%2C%20%5B15.41655%2C%2047.05411%5D%2C%20%5B15.4166%2C%2047.05438%5D%2C%20%5B15.41664%2C%2047.05456%5D%2C%20%5B15.41665%2C%2047.05461%5D%2C%20%5B15.41665%2C%2047.05464%5D%2C%20%5B15.41667%2C%2047.05476%5D%2C%20%5B15.41671%2C%2047.05501%5D%2C%20%5B15.41673%2C%2047.05517%5D%2C%20%5B15.41676%2C%2047.05532%5D%2C%20%5B15.41679%2C%2047.05543%5D%2C%20%5B15.41684%2C%2047.05559%5D%2C%20%5B15.41685%2C%2047.05564%5D%2C%20%5B15.4169%2C%2047.05576%5D%2C%20%5B15.41696%2C%2047.0559%5D%2C%20%5B15.41719%2C%2047.05642%5D%2C%20%5B15.41725%2C%2047.05653%5D%2C%20%5B15.41735%2C%2047.05669%5D%2C%20%5B15.41741%2C%2047.05678%5D%2C%20%5B15.41742%2C%2047.05679%5D%2C%20%5B15.41744%2C%2047.05681%5D%2C%20%5B15.41751%2C%2047.05694%5D%2C%20%5B15.41787%2C%2047.05765%5D%2C%20%5B15.41807%2C%2047.058%5D%2C%20%5B15.4182%2C%2047.05813%5D%2C%20%5B15.41826%2C%2047.05819%5D%2C%20%5B15.41846%2C%2047.05838%5D%2C%20%5B15.41863%2C%2047.05851%5D%2C%20%5B15.41867%2C%2047.05854%5D%2C%20%5B15.4187%2C%2047.05856%5D%2C%20%5B15.41886%2C%2047.05866%5D%2C%20%5B15.41901%2C%2047.05875%5D%2C%20%5B15.41904%2C%2047.05876%5D%2C%20%5B15.41919%2C%2047.05886%5D%2C%20%5B15.41922%2C%2047.05888%5D%2C%20%5B15.41939%2C%2047.05899%5D%2C%20%5B15.41951%2C%2047.05906%5D%2C%20%5B15.42021%2C%2047.0595%5D%2C%20%5B15.42029%2C%2047.05955%5D%2C%20%5B15.42033%2C%2047.05958%5D%2C%20%5B15.4205%2C%2047.05971%5D%2C%20%5B15.42058%2C%2047.05977%5D%2C%20%5B15.42099%2C%2047.06018%5D%2C%20%5B15.42103%2C%2047.06022%5D%2C%20%5B15.4211%2C%2047.06029%5D%2C%20%5B15.42127%2C%2047.06035%5D%2C%20%5B15.42134%2C%2047.06042%5D%2C%20%5B15.42138%2C%2047.06047%5D%2C%20%5B15.42147%2C%2047.06056%5D%2C%20%5B15.42151%2C%2047.06059%5D%2C%20%5B15.42187%2C%2047.06097%5D%2C%20%5B15.42197%2C%2047.06108%5D%2C%20%5B15.42202%2C%2047.06115%5D%2C%20%5B15.42216%2C%2047.06129%5D%2C%20%5B15.42231%2C%2047.06143%5D%2C%20%5B15.42245%2C%2047.06157%5D%2C%20%5B15.42259%2C%2047.0617%5D%2C%20%5B15.42264%2C%2047.06174%5D%2C%20%5B15.42278%2C%2047.06188%5D%2C%20%5B15.42294%2C%2047.06201%5D%2C%20%5B15.42304%2C%2047.06208%5D%2C%20%5B15.42323%2C%2047.0622%5D%2C%20%5B15.4233%2C%2047.06223%5D%2C%20%5B15.42373%2C%2047.06247%5D%2C%20%5B15.4238%2C%2047.0625%5D%2C%20%5B15.42384%2C%2047.06252%5D%2C%20%5B15.42392%2C%2047.06256%5D%2C%20%5B15.42402%2C%2047.06267%5D%2C%20%5B15.4241%2C%2047.06274%5D%2C%20%5B15.42415%2C%2047.06279%5D%2C%20%5B15.42422%2C%2047.06288%5D%2C%20%5B15.4243%2C%2047.06311%5D%2C%20%5B15.42439%2C%2047.06335%5D%2C%20%5B15.4244%2C%2047.06338%5D%2C%20%5B15.42453%2C%2047.06358%5D%2C%20%5B15.42455%2C%2047.06361%5D%2C%20%5B15.42462%2C%2047.06369%5D%2C%20%5B15.42485%2C%2047.06397%5D%2C%20%5B15.42526%2C%2047.06449%5D%2C%20%5B15.42531%2C%2047.06455%5D%2C%20%5B15.42564%2C%2047.06497%5D%2C%20%5B15.42605%2C%2047.06545%5D%2C%20%5B15.42653%2C%2047.06604%5D%2C%20%5B15.42665%2C%2047.0662%5D%2C%20%5B15.42679%2C%2047.06636%5D%2C%20%5B15.42705%2C%2047.06652%5D%2C%20%5B15.42729%2C%2047.06656%5D%2C%20%5B15.42732%2C%2047.06656%5D%2C%20%5B15.42742%2C%2047.06658%5D%2C%20%5B15.42755%2C%2047.0666%5D%2C%20%5B15.42779%2C%2047.06663%5D%2C%20%5B15.42848%2C%2047.06674%5D%2C%20%5B15.4288%2C%2047.06678%5D%2C%20%5B15.42919%2C%2047.06678%5D%2C%20%5B15.43008%2C%2047.06677%5D%2C%20%5B15.43045%2C%2047.06677%5D%2C%20%5B15.43086%2C%2047.06678%5D%2C%20%5B15.43087%2C%2047.06678%5D%2C%20%5B15.43122%2C%2047.06684%5D%2C%20%5B15.43127%2C%2047.06684%5D%2C%20%5B15.43137%2C%2047.06678%5D%2C%20%5B15.43145%2C%2047.06671%5D%2C%20%5B15.43148%2C%2047.06664%5D%2C%20%5B15.43165%2C%2047.0666%5D%2C%20%5B15.43179%2C%2047.06655%5D%2C%20%5B15.43173%2C%2047.06664%5D%2C%20%5B15.43153%2C%2047.06681%5D%2C%20%5B15.43142%2C%2047.06685%5D%2C%20%5B15.43134%2C%2047.06686%5D%5D%2C%20%22type%22%3A%20%22LineString%22%7D%29%3B%0A%0A%20%20%20%20%20%20%20%20%0A%20%20%20%20%0A%20%20%20%20%20%20%20%20var%20popup_ab8b045addb548c0bf4f8df4ee696c1e%20%3D%20L.popup%28%7B%22maxWidth%22%3A%20300%7D%29%3B%0A%0A%20%20%20%20%20%20%20%20%0A%20%20%20%20%20%20%20%20%20%20%20%20var%20html_484c5c575da745e392633ff6b047caca%20%3D%20%24%28%60%3Cdiv%20id%3D%22html_484c5c575da745e392633ff6b047caca%22%20style%3D%22width%3A%20100.0%25%3B%20height%3A%20100.0%25%3B%22%3E%3Ch4%3E%20%3Cb%3EDistance%20%3A%26nbsp%3Cstrong%3E3.3%20Km%20%3C/strong%3E%3C/h4%3E%3C/b%3E%3Ch4%3E%20%3Cb%3EDuration%20%3A%26nbsp%3Cstrong%3E8.4%20Mins.%20%3C/strong%3E%3C/h4%3E%3C/b%3E%3C/div%3E%60%29%5B0%5D%3B%0A%20%20%20%20%20%20%20%20%20%20%20%20popup_ab8b045addb548c0bf4f8df4ee696c1e.setContent%28html_484c5c575da745e392633ff6b047caca%29%3B%0A%20%20%20%20%20%20%20%20%0A%0A%20%20%20%20%20%20%20%20geo_json_2238b6d62b9d42718029581745f03c14.bindPopup%28popup_ab8b045addb548c0bf4f8df4ee696c1e%29%0A%20%20%20%20%20%20%20%20%3B%0A%0A%20%20%20%20%20%20%20%20%0A%20%20%20%20%0A%20%20%20%20%0A%20%20%20%20%20%20%20%20%20%20%20%20var%20marker_98043426be4a4036aa5a16d90d3df383%20%3D%20L.marker%28%0A%20%20%20%20%20%20%20%20%20%20%20%20%20%20%20%20%5B47.043459%2C%2015.414219%5D%2C%0A%20%20%20%20%20%20%20%20%20%20%20%20%20%20%20%20%7B%7D%0A%20%20%20%20%20%20%20%20%20%20%20%20%29.addTo%28map_3e5dcb81ffc4491bb03deec69db93662%29%3B%0A%20%20%20%20%20%20%20%20%0A%20%20%20%20%0A%20%20%20%20%20%20%20%20%20%20%20%20var%20icon_5d05688623d7451ca0a21f0cf3f5ac01%20%3D%20L.AwesomeMarkers.icon%28%0A%20%20%20%20%20%20%20%20%20%20%20%20%20%20%20%20%7B%22extraClasses%22%3A%20%22fa-rotate-0%22%2C%20%22icon%22%3A%20%22info-sign%22%2C%20%22iconColor%22%3A%20%22white%22%2C%20%22markerColor%22%3A%20%22green%22%2C%20%22prefix%22%3A%20%22glyphicon%22%7D%0A%20%20%20%20%20%20%20%20%20%20%20%20%29%3B%0A%20%20%20%20%20%20%20%20%20%20%20%20marker_98043426be4a4036aa5a16d90d3df383.setIcon%28icon_5d05688623d7451ca0a21f0cf3f5ac01%29%3B%0A%20%20%20%20%20%20%20%20%0A%20%20%20%20%0A%20%20%20%20%20%20%20%20var%20popup_7af22c8793944bd7b79ced81310fd1ed%20%3D%20L.popup%28%7B%22maxWidth%22%3A%20%22100%25%22%7D%29%3B%0A%0A%20%20%20%20%20%20%20%20%0A%20%20%20%20%20%20%20%20%20%20%20%20var%20html_b9e4c614fe8841c5b13f0f2428b76583%20%3D%20%24%28%60%3Cdiv%20id%3D%22html_b9e4c614fe8841c5b13f0f2428b76583%22%20style%3D%22width%3A%20100.0%25%3B%20height%3A%20100.0%25%3B%22%3EDonBosco_8053_111%3C/div%3E%60%29%5B0%5D%3B%0A%20%20%20%20%20%20%20%20%20%20%20%20popup_7af22c8793944bd7b79ced81310fd1ed.setContent%28html_b9e4c614fe8841c5b13f0f2428b76583%29%3B%0A%20%20%20%20%20%20%20%20%0A%0A%20%20%20%20%20%20%20%20marker_98043426be4a4036aa5a16d90d3df383.bindPopup%28popup_7af22c8793944bd7b79ced81310fd1ed%29%0A%20%20%20%20%20%20%20%20%3B%0A%0A%20%20%20%20%20%20%20%20%0A%20%20%20%20%0A%20%20%20%20%0A%20%20%20%20%20%20%20%20%20%20%20%20var%20marker_4d44308d64f246bba9d297acd4f454e3%20%3D%20L.marker%28%0A%20%20%20%20%20%20%20%20%20%20%20%20%20%20%20%20%5B47.06687%2C%2015.431343%5D%2C%0A%20%20%20%20%20%20%20%20%20%20%20%20%20%20%20%20%7B%7D%0A%20%20%20%20%20%20%20%20%20%20%20%20%29.addTo%28map_3e5dcb81ffc4491bb03deec69db93662%29%3B%0A%20%20%20%20%20%20%20%20%0A%20%20%20%20%0A%20%20%20%20%20%20%20%20%20%20%20%20var%20icon_0da37f25cccf477c818144568f9f7704%20%3D%20L.AwesomeMarkers.icon%28%0A%20%20%20%20%20%20%20%20%20%20%20%20%20%20%20%20%7B%22extraClasses%22%3A%20%22fa-rotate-0%22%2C%20%22icon%22%3A%20%22info-sign%22%2C%20%22iconColor%22%3A%20%22white%22%2C%20%22markerColor%22%3A%20%22red%22%2C%20%22prefix%22%3A%20%22glyphicon%22%7D%0A%20%20%20%20%20%20%20%20%20%20%20%20%29%3B%0A%20%20%20%20%20%20%20%20%20%20%20%20marker_4d44308d64f246bba9d297acd4f454e3.setIcon%28icon_0da37f25cccf477c818144568f9f7704%29%3B%0A%20%20%20%20%20%20%20%20%0A%20%20%20%20%0A%20%20%20%20%20%20%20%20var%20popup_a84e006ed6824d2ab6516f076bcffeff%20%3D%20L.popup%28%7B%22maxWidth%22%3A%20%22100%25%22%7D%29%3B%0A%0A%20%20%20%20%20%20%20%20%0A%20%20%20%20%20%20%20%20%20%20%20%20var%20html_384879678f954d9f8f86fbbc57c9b12b%20%3D%20%24%28%60%3Cdiv%20id%3D%22html_384879678f954d9f8f86fbbc57c9b12b%22%20style%3D%22width%3A%20100.0%25%3B%20height%3A%20100.0%25%3B%22%3EDonBosco_8020_119%3C/div%3E%60%29%5B0%5D%3B%0A%20%20%20%20%20%20%20%20%20%20%20%20popup_a84e006ed6824d2ab6516f076bcffeff.setContent%28html_384879678f954d9f8f86fbbc57c9b12b%29%3B%0A%20%20%20%20%20%20%20%20%0A%0A%20%20%20%20%20%20%20%20marker_4d44308d64f246bba9d297acd4f454e3.bindPopup%28popup_a84e006ed6824d2ab6516f076bcffeff%29%0A%20%20%20%20%20%20%20%20%3B%0A%0A%20%20%20%20%20%20%20%20%0A%20%20%20%20%0A%20%20%20%20%0A%0A%20%20%20%20%20%20%20%20function%20geo_json_758f18838599482a9aece13421afc4f6_onEachFeature%28feature%2C%20layer%29%20%7B%0A%20%20%20%20%20%20%20%20%20%20%20%20layer.on%28%7B%0A%20%20%20%20%20%20%20%20%20%20%20%20%7D%29%3B%0A%20%20%20%20%20%20%20%20%7D%3B%0A%20%20%20%20%20%20%20%20var%20geo_json_758f18838599482a9aece13421afc4f6%20%3D%20L.geoJson%28null%2C%20%7B%0A%20%20%20%20%20%20%20%20%20%20%20%20%20%20%20%20onEachFeature%3A%20geo_json_758f18838599482a9aece13421afc4f6_onEachFeature%2C%0A%20%20%20%20%20%20%20%20%20%20%20%20%0A%20%20%20%20%20%20%20%20%7D%29%3B%0A%0A%20%20%20%20%20%20%20%20function%20geo_json_758f18838599482a9aece13421afc4f6_add%20%28data%29%20%7B%0A%20%20%20%20%20%20%20%20%20%20%20%20geo_json_758f18838599482a9aece13421afc4f6%0A%20%20%20%20%20%20%20%20%20%20%20%20%20%20%20%20.addData%28data%29%0A%20%20%20%20%20%20%20%20%20%20%20%20%20%20%20%20.addTo%28map_3e5dcb81ffc4491bb03deec69db93662%29%3B%0A%20%20%20%20%20%20%20%20%7D%0A%20%20%20%20%20%20%20%20%20%20%20%20geo_json_758f18838599482a9aece13421afc4f6_add%28%7B%22coordinates%22%3A%20%5B%5B15.42628%2C%2047.08782%5D%2C%20%5B15.42608%2C%2047.08775%5D%2C%20%5B15.42549%2C%2047.08755%5D%2C%20%5B15.42515%2C%2047.08745%5D%2C%20%5B15.42444%2C%2047.08727%5D%2C%20%5B15.42429%2C%2047.08722%5D%2C%20%5B15.42336%2C%2047.08693%5D%2C%20%5B15.42293%2C%2047.0868%5D%2C%20%5B15.42252%2C%2047.08667%5D%2C%20%5B15.42231%2C%2047.0866%5D%2C%20%5B15.42241%2C%2047.08654%5D%2C%20%5B15.42247%2C%2047.08647%5D%2C%20%5B15.42251%2C%2047.08641%5D%2C%20%5B15.42254%2C%2047.08636%5D%2C%20%5B15.42257%2C%2047.08631%5D%2C%20%5B15.4227%2C%2047.08612%5D%2C%20%5B15.42276%2C%2047.08603%5D%2C%20%5B15.42308%2C%2047.08553%5D%2C%20%5B15.42312%2C%2047.08549%5D%2C%20%5B15.42316%2C%2047.08544%5D%2C%20%5B15.42343%2C%2047.0852%5D%2C%20%5B15.42403%2C%2047.08478%5D%2C%20%5B15.4244%2C%2047.08452%5D%2C%20%5B15.42452%2C%2047.08441%5D%2C%20%5B15.4247%2C%2047.08426%5D%2C%20%5B15.42474%2C%2047.08421%5D%2C%20%5B15.42493%2C%2047.08402%5D%2C%20%5B15.42504%2C%2047.08391%5D%2C%20%5B15.42505%2C%2047.0839%5D%2C%20%5B15.42511%2C%2047.08384%5D%2C%20%5B15.42538%2C%2047.08356%5D%2C%20%5B15.42546%2C%2047.08349%5D%2C%20%5B15.42562%2C%2047.08336%5D%2C%20%5B15.42593%2C%2047.08313%5D%2C%20%5B15.42639%2C%2047.08289%5D%2C%20%5B15.42682%2C%2047.0826%5D%2C%20%5B15.4274%2C%2047.08223%5D%2C%20%5B15.42955%2C%2047.08084%5D%2C%20%5B15.42977%2C%2047.08068%5D%2C%20%5B15.4301%2C%2047.08039%5D%2C%20%5B15.4302%2C%2047.08027%5D%2C%20%5B15.43068%2C%2047.0797%5D%2C%20%5B15.43072%2C%2047.07968%5D%2C%20%5B15.43095%2C%2047.07951%5D%2C%20%5B15.43134%2C%2047.07924%5D%2C%20%5B15.43149%2C%2047.07905%5D%2C%20%5B15.43163%2C%2047.07878%5D%2C%20%5B15.43166%2C%2047.07873%5D%2C%20%5B15.43172%2C%2047.07861%5D%2C%20%5B15.43175%2C%2047.07855%5D%2C%20%5B15.43178%2C%2047.07849%5D%2C%20%5B15.43227%2C%2047.0775%5D%2C%20%5B15.43241%2C%2047.07722%5D%2C%20%5B15.43261%2C%2047.07681%5D%2C%20%5B15.43275%2C%2047.07653%5D%2C%20%5B15.4331%2C%2047.07586%5D%2C%20%5B15.43311%2C%2047.07584%5D%2C%20%5B15.43313%2C%2047.0758%5D%2C%20%5B15.43315%2C%2047.07575%5D%2C%20%5B15.43325%2C%2047.07555%5D%2C%20%5B15.43334%2C%2047.07535%5D%2C%20%5B15.43368%2C%2047.07447%5D%2C%20%5B15.43375%2C%2047.07427%5D%2C%20%5B15.43393%2C%2047.07348%5D%2C%20%5B15.43405%2C%2047.07289%5D%2C%20%5B15.43414%2C%2047.07244%5D%2C%20%5B15.43414%2C%2047.07244%5D%2C%20%5B15.43415%2C%2047.0724%5D%2C%20%5B15.43416%2C%2047.07234%5D%2C%20%5B15.43425%2C%2047.07194%5D%2C%20%5B15.43431%2C%2047.07169%5D%2C%20%5B15.43433%2C%2047.07162%5D%2C%20%5B15.43435%2C%2047.07155%5D%2C%20%5B15.43445%2C%2047.07124%5D%2C%20%5B15.43453%2C%2047.07099%5D%2C%20%5B15.43454%2C%2047.07091%5D%2C%20%5B15.43454%2C%2047.0709%5D%2C%20%5B15.43455%2C%2047.07088%5D%2C%20%5B15.43457%2C%2047.07083%5D%2C%20%5B15.43459%2C%2047.07068%5D%2C%20%5B15.43461%2C%2047.07063%5D%2C%20%5B15.43467%2C%2047.07007%5D%2C%20%5B15.43465%2C%2047.06969%5D%2C%20%5B15.43464%2C%2047.0696%5D%2C%20%5B15.43464%2C%2047.06957%5D%2C%20%5B15.43464%2C%2047.06955%5D%2C%20%5B15.43463%2C%2047.06949%5D%2C%20%5B15.43459%2C%2047.06905%5D%2C%20%5B15.43457%2C%2047.0689%5D%2C%20%5B15.43452%2C%2047.06861%5D%2C%20%5B15.4345%2C%2047.06844%5D%2C%20%5B15.43448%2C%2047.06834%5D%2C%20%5B15.43443%2C%2047.06772%5D%2C%20%5B15.43441%2C%2047.06758%5D%2C%20%5B15.43438%2C%2047.06703%5D%2C%20%5B15.43432%2C%2047.06665%5D%2C%20%5B15.4343%2C%2047.06651%5D%2C%20%5B15.43429%2C%2047.06641%5D%2C%20%5B15.43414%2C%2047.06641%5D%2C%20%5B15.43383%2C%2047.06642%5D%2C%20%5B15.43329%2C%2047.06645%5D%2C%20%5B15.43314%2C%2047.06645%5D%2C%20%5B15.43255%2C%2047.06649%5D%2C%20%5B15.43191%2C%2047.06652%5D%2C%20%5B15.43179%2C%2047.06655%5D%2C%20%5B15.43173%2C%2047.06664%5D%2C%20%5B15.43153%2C%2047.06681%5D%2C%20%5B15.43142%2C%2047.06685%5D%2C%20%5B15.43134%2C%2047.06686%5D%5D%2C%20%22type%22%3A%20%22LineString%22%7D%29%3B%0A%0A%20%20%20%20%20%20%20%20%0A%20%20%20%20%0A%20%20%20%20%20%20%20%20var%20popup_003c953e8674419687e4f7a2e440631d%20%3D%20L.popup%28%7B%22maxWidth%22%3A%20300%7D%29%3B%0A%0A%20%20%20%20%20%20%20%20%0A%20%20%20%20%20%20%20%20%20%20%20%20var%20html_ad53c3ee016b4c11ac3377b5e912ca82%20%3D%20%24%28%60%3Cdiv%20id%3D%22html_ad53c3ee016b4c11ac3377b5e912ca82%22%20style%3D%22width%3A%20100.0%25%3B%20height%3A%20100.0%25%3B%22%3E%3Ch4%3E%20%3Cb%3EDistance%20%3A%26nbsp%3Cstrong%3E3.1%20Km%20%3C/strong%3E%3C/h4%3E%3C/b%3E%3Ch4%3E%20%3Cb%3EDuration%20%3A%26nbsp%3Cstrong%3E7.3%20Mins.%20%3C/strong%3E%3C/h4%3E%3C/b%3E%3C/div%3E%60%29%5B0%5D%3B%0A%20%20%20%20%20%20%20%20%20%20%20%20popup_003c953e8674419687e4f7a2e440631d.setContent%28html_ad53c3ee016b4c11ac3377b5e912ca82%29%3B%0A%20%20%20%20%20%20%20%20%0A%0A%20%20%20%20%20%20%20%20geo_json_758f18838599482a9aece13421afc4f6.bindPopup%28popup_003c953e8674419687e4f7a2e440631d%29%0A%20%20%20%20%20%20%20%20%3B%0A%0A%20%20%20%20%20%20%20%20%0A%20%20%20%20%0A%20%20%20%20%0A%20%20%20%20%20%20%20%20%20%20%20%20var%20marker_09be84de25a84b81a5edeb55e298b2db%20%3D%20L.marker%28%0A%20%20%20%20%20%20%20%20%20%20%20%20%20%20%20%20%5B47.087794%2C%2015.426301%5D%2C%0A%20%20%20%20%20%20%20%20%20%20%20%20%20%20%20%20%7B%7D%0A%20%20%20%20%20%20%20%20%20%20%20%20%29.addTo%28map_3e5dcb81ffc4491bb03deec69db93662%29%3B%0A%20%20%20%20%20%20%20%20%0A%20%20%20%20%0A%20%20%20%20%20%20%20%20%20%20%20%20var%20icon_a5fcc57db27b41278fee751ea7a4872e%20%3D%20L.AwesomeMarkers.icon%28%0A%20%20%20%20%20%20%20%20%20%20%20%20%20%20%20%20%7B%22extraClasses%22%3A%20%22fa-rotate-0%22%2C%20%22icon%22%3A%20%22info-sign%22%2C%20%22iconColor%22%3A%20%22white%22%2C%20%22markerColor%22%3A%20%22green%22%2C%20%22prefix%22%3A%20%22glyphicon%22%7D%0A%20%20%20%20%20%20%20%20%20%20%20%20%29%3B%0A%20%20%20%20%20%20%20%20%20%20%20%20marker_09be84de25a84b81a5edeb55e298b2db.setIcon%28icon_a5fcc57db27b41278fee751ea7a4872e%29%3B%0A%20%20%20%20%20%20%20%20%0A%20%20%20%20%0A%20%20%20%20%20%20%20%20var%20popup_230e5441733e4a7cb0d59525fb35c596%20%3D%20L.popup%28%7B%22maxWidth%22%3A%20%22100%25%22%7D%29%3B%0A%0A%20%20%20%20%20%20%20%20%0A%20%20%20%20%20%20%20%20%20%20%20%20var%20html_df90a2e3b7304cf79c0b24e2ec453f31%20%3D%20%24%28%60%3Cdiv%20id%3D%22html_df90a2e3b7304cf79c0b24e2ec453f31%22%20style%3D%22width%3A%20100.0%25%3B%20height%3A%20100.0%25%3B%22%3ENord_8010_205%3C/div%3E%60%29%5B0%5D%3B%0A%20%20%20%20%20%20%20%20%20%20%20%20popup_230e5441733e4a7cb0d59525fb35c596.setContent%28html_df90a2e3b7304cf79c0b24e2ec453f31%29%3B%0A%20%20%20%20%20%20%20%20%0A%0A%20%20%20%20%20%20%20%20marker_09be84de25a84b81a5edeb55e298b2db.bindPopup%28popup_230e5441733e4a7cb0d59525fb35c596%29%0A%20%20%20%20%20%20%20%20%3B%0A%0A%20%20%20%20%20%20%20%20%0A%20%20%20%20%0A%20%20%20%20%0A%20%20%20%20%20%20%20%20%20%20%20%20var%20marker_6993798493d843fe8a8d682fb06ff562%20%3D%20L.marker%28%0A%20%20%20%20%20%20%20%20%20%20%20%20%20%20%20%20%5B47.06687%2C%2015.431343%5D%2C%0A%20%20%20%20%20%20%20%20%20%20%20%20%20%20%20%20%7B%7D%0A%20%20%20%20%20%20%20%20%20%20%20%20%29.addTo%28map_3e5dcb81ffc4491bb03deec69db93662%29%3B%0A%20%20%20%20%20%20%20%20%0A%20%20%20%20%0A%20%20%20%20%20%20%20%20%20%20%20%20var%20icon_20f67b497f154582a439e5870b7cfaa5%20%3D%20L.AwesomeMarkers.icon%28%0A%20%20%20%20%20%20%20%20%20%20%20%20%20%20%20%20%7B%22extraClasses%22%3A%20%22fa-rotate-0%22%2C%20%22icon%22%3A%20%22info-sign%22%2C%20%22iconColor%22%3A%20%22white%22%2C%20%22markerColor%22%3A%20%22red%22%2C%20%22prefix%22%3A%20%22glyphicon%22%7D%0A%20%20%20%20%20%20%20%20%20%20%20%20%29%3B%0A%20%20%20%20%20%20%20%20%20%20%20%20marker_6993798493d843fe8a8d682fb06ff562.setIcon%28icon_20f67b497f154582a439e5870b7cfaa5%29%3B%0A%20%20%20%20%20%20%20%20%0A%20%20%20%20%0A%20%20%20%20%20%20%20%20var%20popup_8a21799e27364dd9a15352a41e707dc7%20%3D%20L.popup%28%7B%22maxWidth%22%3A%20%22100%25%22%7D%29%3B%0A%0A%20%20%20%20%20%20%20%20%0A%20%20%20%20%20%20%20%20%20%20%20%20var%20html_d9bb6bf51d374ae38b4069de44f587b2%20%3D%20%24%28%60%3Cdiv%20id%3D%22html_d9bb6bf51d374ae38b4069de44f587b2%22%20style%3D%22width%3A%20100.0%25%3B%20height%3A%20100.0%25%3B%22%3EDonBosco_8020_119%3C/div%3E%60%29%5B0%5D%3B%0A%20%20%20%20%20%20%20%20%20%20%20%20popup_8a21799e27364dd9a15352a41e707dc7.setContent%28html_d9bb6bf51d374ae38b4069de44f587b2%29%3B%0A%20%20%20%20%20%20%20%20%0A%0A%20%20%20%20%20%20%20%20marker_6993798493d843fe8a8d682fb06ff562.bindPopup%28popup_8a21799e27364dd9a15352a41e707dc7%29%0A%20%20%20%20%20%20%20%20%3B%0A%0A%20%20%20%20%20%20%20%20%0A%20%20%20%20%0A%20%20%20%20%0A%0A%20%20%20%20%20%20%20%20function%20geo_json_4ea87f2297fa4942a32e54ea3c605e06_onEachFeature%28feature%2C%20layer%29%20%7B%0A%20%20%20%20%20%20%20%20%20%20%20%20layer.on%28%7B%0A%20%20%20%20%20%20%20%20%20%20%20%20%7D%29%3B%0A%20%20%20%20%20%20%20%20%7D%3B%0A%20%20%20%20%20%20%20%20var%20geo_json_4ea87f2297fa4942a32e54ea3c605e06%20%3D%20L.geoJson%28null%2C%20%7B%0A%20%20%20%20%20%20%20%20%20%20%20%20%20%20%20%20onEachFeature%3A%20geo_json_4ea87f2297fa4942a32e54ea3c605e06_onEachFeature%2C%0A%20%20%20%20%20%20%20%20%20%20%20%20%0A%20%20%20%20%20%20%20%20%7D%29%3B%0A%0A%20%20%20%20%20%20%20%20function%20geo_json_4ea87f2297fa4942a32e54ea3c605e06_add%20%28data%29%20%7B%0A%20%20%20%20%20%20%20%20%20%20%20%20geo_json_4ea87f2297fa4942a32e54ea3c605e06%0A%20%20%20%20%20%20%20%20%20%20%20%20%20%20%20%20.addData%28data%29%0A%20%20%20%20%20%20%20%20%20%20%20%20%20%20%20%20.addTo%28map_3e5dcb81ffc4491bb03deec69db93662%29%3B%0A%20%20%20%20%20%20%20%20%7D%0A%20%20%20%20%20%20%20%20%20%20%20%20geo_json_4ea87f2297fa4942a32e54ea3c605e06_add%28%7B%22coordinates%22%3A%20%5B%5B15.45793%2C%2047.07667%5D%2C%20%5B15.45793%2C%2047.07667%5D%2C%20%5B15.45791%2C%2047.07666%5D%2C%20%5B15.45789%2C%2047.07666%5D%2C%20%5B15.45771%2C%2047.0766%5D%2C%20%5B15.45739%2C%2047.07651%5D%2C%20%5B15.45716%2C%2047.07645%5D%2C%20%5B15.45687%2C%2047.07636%5D%2C%20%5B15.45664%2C%2047.0763%5D%2C%20%5B15.45655%2C%2047.07628%5D%2C%20%5B15.45624%2C%2047.07619%5D%2C%20%5B15.45607%2C%2047.07614%5D%2C%20%5B15.45597%2C%2047.07611%5D%2C%20%5B15.45568%2C%2047.07603%5D%2C%20%5B15.45553%2C%2047.07599%5D%2C%20%5B15.4553%2C%2047.07592%5D%2C%20%5B15.45495%2C%2047.07583%5D%2C%20%5B15.4548%2C%2047.07579%5D%2C%20%5B15.4544%2C%2047.07568%5D%2C%20%5B15.45421%2C%2047.07563%5D%2C%20%5B15.45386%2C%2047.07554%5D%2C%20%5B15.45279%2C%2047.07524%5D%2C%20%5B15.4527%2C%2047.07521%5D%2C%20%5B15.45258%2C%2047.07518%5D%2C%20%5B15.45237%2C%2047.07512%5D%2C%20%5B15.45209%2C%2047.07504%5D%2C%20%5B15.45181%2C%2047.07496%5D%2C%20%5B15.45169%2C%2047.07493%5D%2C%20%5B15.45117%2C%2047.07479%5D%2C%20%5B15.45102%2C%2047.07474%5D%2C%20%5B15.45047%2C%2047.07459%5D%2C%20%5B15.45015%2C%2047.0745%5D%2C%20%5B15.45009%2C%2047.07449%5D%2C%20%5B15.4496%2C%2047.07435%5D%2C%20%5B15.44902%2C%2047.07418%5D%2C%20%5B15.4484%2C%2047.07401%5D%2C%20%5B15.44799%2C%2047.07389%5D%2C%20%5B15.44783%2C%2047.07385%5D%2C%20%5B15.4476%2C%2047.07378%5D%2C%20%5B15.44718%2C%2047.07366%5D%2C%20%5B15.44714%2C%2047.07365%5D%2C%20%5B15.4471%2C%2047.07363%5D%2C%20%5B15.44696%2C%2047.07358%5D%2C%20%5B15.4468%2C%2047.07352%5D%2C%20%5B15.44627%2C%2047.07308%5D%2C%20%5B15.44572%2C%2047.07259%5D%2C%20%5B15.44535%2C%2047.07226%5D%2C%20%5B15.44525%2C%2047.07217%5D%2C%20%5B15.44515%2C%2047.07207%5D%2C%20%5B15.44507%2C%2047.07193%5D%2C%20%5B15.44506%2C%2047.07181%5D%2C%20%5B15.44506%2C%2047.07178%5D%2C%20%5B15.44507%2C%2047.07166%5D%2C%20%5B15.44514%2C%2047.07152%5D%2C%20%5B15.44518%2C%2047.07144%5D%2C%20%5B15.44532%2C%2047.07131%5D%2C%20%5B15.44548%2C%2047.07115%5D%2C%20%5B15.44562%2C%2047.07101%5D%2C%20%5B15.44564%2C%2047.07098%5D%2C%20%5B15.44572%2C%2047.07091%5D%2C%20%5B15.44631%2C%2047.07038%5D%2C%20%5B15.44636%2C%2047.07029%5D%2C%20%5B15.44636%2C%2047.07024%5D%2C%20%5B15.44634%2C%2047.07019%5D%2C%20%5B15.4463%2C%2047.07014%5D%2C%20%5B15.44605%2C%2047.07001%5D%2C%20%5B15.44571%2C%2047.06984%5D%2C%20%5B15.44547%2C%2047.06972%5D%2C%20%5B15.44535%2C%2047.06964%5D%2C%20%5B15.44521%2C%2047.06958%5D%2C%20%5B15.44495%2C%2047.06945%5D%2C%20%5B15.44462%2C%2047.06927%5D%2C%20%5B15.44398%2C%2047.06895%5D%2C%20%5B15.4437%2C%2047.06881%5D%2C%20%5B15.44339%2C%2047.06866%5D%2C%20%5B15.4433%2C%2047.06862%5D%2C%20%5B15.44319%2C%2047.06856%5D%2C%20%5B15.44314%2C%2047.06853%5D%2C%20%5B15.44253%2C%2047.06822%5D%2C%20%5B15.44246%2C%2047.06819%5D%2C%20%5B15.4424%2C%2047.06817%5D%2C%20%5B15.44232%2C%2047.06813%5D%2C%20%5B15.44226%2C%2047.0681%5D%2C%20%5B15.44181%2C%2047.0679%5D%2C%20%5B15.44173%2C%2047.06787%5D%2C%20%5B15.44171%2C%2047.06787%5D%2C%20%5B15.44169%2C%2047.06786%5D%2C%20%5B15.44162%2C%2047.06783%5D%2C%20%5B15.44048%2C%2047.06735%5D%2C%20%5B15.44041%2C%2047.06732%5D%2C%20%5B15.44033%2C%2047.06728%5D%2C%20%5B15.44025%2C%2047.06724%5D%2C%20%5B15.43951%2C%2047.06694%5D%2C%20%5B15.43945%2C%2047.06692%5D%2C%20%5B15.43856%2C%2047.06655%5D%2C%20%5B15.4384%2C%2047.0665%5D%2C%20%5B15.43836%2C%2047.06648%5D%2C%20%5B15.43832%2C%2047.06646%5D%2C%20%5B15.43796%2C%2047.06642%5D%2C%20%5B15.43769%2C%2047.06641%5D%2C%20%5B15.43736%2C%2047.0664%5D%2C%20%5B15.43687%2C%2047.06638%5D%2C%20%5B15.43672%2C%2047.06637%5D%2C%20%5B15.43634%2C%2047.06636%5D%2C%20%5B15.43614%2C%2047.06635%5D%2C%20%5B15.43596%2C%2047.06635%5D%2C%20%5B15.43579%2C%2047.06634%5D%2C%20%5B15.43564%2C%2047.06634%5D%2C%20%5B15.43546%2C%2047.06635%5D%2C%20%5B15.43535%2C%2047.06635%5D%2C%20%5B15.43444%2C%2047.0664%5D%2C%20%5B15.43439%2C%2047.0664%5D%2C%20%5B15.43429%2C%2047.06641%5D%2C%20%5B15.43414%2C%2047.06641%5D%2C%20%5B15.43383%2C%2047.06642%5D%2C%20%5B15.43329%2C%2047.06645%5D%2C%20%5B15.43314%2C%2047.06645%5D%2C%20%5B15.43255%2C%2047.06649%5D%2C%20%5B15.43191%2C%2047.06652%5D%2C%20%5B15.43179%2C%2047.06655%5D%2C%20%5B15.43173%2C%2047.06664%5D%2C%20%5B15.43153%2C%2047.06681%5D%2C%20%5B15.43142%2C%2047.06685%5D%2C%20%5B15.43134%2C%2047.06686%5D%5D%2C%20%22type%22%3A%20%22LineString%22%7D%29%3B%0A%0A%20%20%20%20%20%20%20%20%0A%20%20%20%20%0A%20%20%20%20%20%20%20%20var%20popup_a7dce3a20b2140768db0c8a82faa0c3b%20%3D%20L.popup%28%7B%22maxWidth%22%3A%20300%7D%29%3B%0A%0A%20%20%20%20%20%20%20%20%0A%20%20%20%20%20%20%20%20%20%20%20%20var%20html_df7cce58400b4ab487dad1c2b9dea07c%20%3D%20%24%28%60%3Cdiv%20id%3D%22html_df7cce58400b4ab487dad1c2b9dea07c%22%20style%3D%22width%3A%20100.0%25%3B%20height%3A%20100.0%25%3B%22%3E%3Ch4%3E%20%3Cb%3EDistance%20%3A%26nbsp%3Cstrong%3E2.6%20Km%20%3C/strong%3E%3C/h4%3E%3C/b%3E%3Ch4%3E%20%3Cb%3EDuration%20%3A%26nbsp%3Cstrong%3E7.0%20Mins.%20%3C/strong%3E%3C/h4%3E%3C/b%3E%3C/div%3E%60%29%5B0%5D%3B%0A%20%20%20%20%20%20%20%20%20%20%20%20popup_a7dce3a20b2140768db0c8a82faa0c3b.setContent%28html_df7cce58400b4ab487dad1c2b9dea07c%29%3B%0A%20%20%20%20%20%20%20%20%0A%0A%20%20%20%20%20%20%20%20geo_json_4ea87f2297fa4942a32e54ea3c605e06.bindPopup%28popup_a7dce3a20b2140768db0c8a82faa0c3b%29%0A%20%20%20%20%20%20%20%20%3B%0A%0A%20%20%20%20%20%20%20%20%0A%20%20%20%20%0A%20%20%20%20%0A%20%20%20%20%20%20%20%20%20%20%20%20var%20marker_d0619f55cfcc4029840db39a6d55b5d7%20%3D%20L.marker%28%0A%20%20%20%20%20%20%20%20%20%20%20%20%20%20%20%20%5B47.076679%2C%2015.45793%5D%2C%0A%20%20%20%20%20%20%20%20%20%20%20%20%20%20%20%20%7B%7D%0A%20%20%20%20%20%20%20%20%20%20%20%20%29.addTo%28map_3e5dcb81ffc4491bb03deec69db93662%29%3B%0A%20%20%20%20%20%20%20%20%0A%20%20%20%20%0A%20%20%20%20%20%20%20%20%20%20%20%20var%20icon_61d0ff9d059a44d581fdca838fdc2dc1%20%3D%20L.AwesomeMarkers.icon%28%0A%20%20%20%20%20%20%20%20%20%20%20%20%20%20%20%20%7B%22extraClasses%22%3A%20%22fa-rotate-0%22%2C%20%22icon%22%3A%20%22info-sign%22%2C%20%22iconColor%22%3A%20%22white%22%2C%20%22markerColor%22%3A%20%22green%22%2C%20%22prefix%22%3A%20%22glyphicon%22%7D%0A%20%20%20%20%20%20%20%20%20%20%20%20%29%3B%0A%20%20%20%20%20%20%20%20%20%20%20%20marker_d0619f55cfcc4029840db39a6d55b5d7.setIcon%28icon_61d0ff9d059a44d581fdca838fdc2dc1%29%3B%0A%20%20%20%20%20%20%20%20%0A%20%20%20%20%0A%20%20%20%20%20%20%20%20var%20popup_b513a52b597c42fe807380262627c99f%20%3D%20L.popup%28%7B%22maxWidth%22%3A%20%22100%25%22%7D%29%3B%0A%0A%20%20%20%20%20%20%20%20%0A%20%20%20%20%20%20%20%20%20%20%20%20var%20html_e88c51138a344060b76e34e44a28eb66%20%3D%20%24%28%60%3Cdiv%20id%3D%22html_e88c51138a344060b76e34e44a28eb66%22%20style%3D%22width%3A%20100.0%25%3B%20height%3A%20100.0%25%3B%22%3EOst_8010_209%3C/div%3E%60%29%5B0%5D%3B%0A%20%20%20%20%20%20%20%20%20%20%20%20popup_b513a52b597c42fe807380262627c99f.setContent%28html_e88c51138a344060b76e34e44a28eb66%29%3B%0A%20%20%20%20%20%20%20%20%0A%0A%20%20%20%20%20%20%20%20marker_d0619f55cfcc4029840db39a6d55b5d7.bindPopup%28popup_b513a52b597c42fe807380262627c99f%29%0A%20%20%20%20%20%20%20%20%3B%0A%0A%20%20%20%20%20%20%20%20%0A%20%20%20%20%0A%20%20%20%20%0A%20%20%20%20%20%20%20%20%20%20%20%20var%20marker_cb613184f3db48899cc9799a4aef234e%20%3D%20L.marker%28%0A%20%20%20%20%20%20%20%20%20%20%20%20%20%20%20%20%5B47.06687%2C%2015.431343%5D%2C%0A%20%20%20%20%20%20%20%20%20%20%20%20%20%20%20%20%7B%7D%0A%20%20%20%20%20%20%20%20%20%20%20%20%29.addTo%28map_3e5dcb81ffc4491bb03deec69db93662%29%3B%0A%20%20%20%20%20%20%20%20%0A%20%20%20%20%0A%20%20%20%20%20%20%20%20%20%20%20%20var%20icon_c4cdb8e3e69e4477931c6b8ea18eb2b8%20%3D%20L.AwesomeMarkers.icon%28%0A%20%20%20%20%20%20%20%20%20%20%20%20%20%20%20%20%7B%22extraClasses%22%3A%20%22fa-rotate-0%22%2C%20%22icon%22%3A%20%22info-sign%22%2C%20%22iconColor%22%3A%20%22white%22%2C%20%22markerColor%22%3A%20%22red%22%2C%20%22prefix%22%3A%20%22glyphicon%22%7D%0A%20%20%20%20%20%20%20%20%20%20%20%20%29%3B%0A%20%20%20%20%20%20%20%20%20%20%20%20marker_cb613184f3db48899cc9799a4aef234e.setIcon%28icon_c4cdb8e3e69e4477931c6b8ea18eb2b8%29%3B%0A%20%20%20%20%20%20%20%20%0A%20%20%20%20%0A%20%20%20%20%20%20%20%20var%20popup_04c0c1c630614293a7c2c9447b069a0f%20%3D%20L.popup%28%7B%22maxWidth%22%3A%20%22100%25%22%7D%29%3B%0A%0A%20%20%20%20%20%20%20%20%0A%20%20%20%20%20%20%20%20%20%20%20%20var%20html_40dcd3a35c084f7993cb357b8a61a194%20%3D%20%24%28%60%3Cdiv%20id%3D%22html_40dcd3a35c084f7993cb357b8a61a194%22%20style%3D%22width%3A%20100.0%25%3B%20height%3A%20100.0%25%3B%22%3EDonBosco_8020_119%3C/div%3E%60%29%5B0%5D%3B%0A%20%20%20%20%20%20%20%20%20%20%20%20popup_04c0c1c630614293a7c2c9447b069a0f.setContent%28html_40dcd3a35c084f7993cb357b8a61a194%29%3B%0A%20%20%20%20%20%20%20%20%0A%0A%20%20%20%20%20%20%20%20marker_cb613184f3db48899cc9799a4aef234e.bindPopup%28popup_04c0c1c630614293a7c2c9447b069a0f%29%0A%20%20%20%20%20%20%20%20%3B%0A%0A%20%20%20%20%20%20%20%20%0A%20%20%20%20%0A%20%20%20%20%0A%0A%20%20%20%20%20%20%20%20function%20geo_json_a830fa88f12d4b628fdf193d8146be6e_onEachFeature%28feature%2C%20layer%29%20%7B%0A%20%20%20%20%20%20%20%20%20%20%20%20layer.on%28%7B%0A%20%20%20%20%20%20%20%20%20%20%20%20%7D%29%3B%0A%20%20%20%20%20%20%20%20%7D%3B%0A%20%20%20%20%20%20%20%20var%20geo_json_a830fa88f12d4b628fdf193d8146be6e%20%3D%20L.geoJson%28null%2C%20%7B%0A%20%20%20%20%20%20%20%20%20%20%20%20%20%20%20%20onEachFeature%3A%20geo_json_a830fa88f12d4b628fdf193d8146be6e_onEachFeature%2C%0A%20%20%20%20%20%20%20%20%20%20%20%20%0A%20%20%20%20%20%20%20%20%7D%29%3B%0A%0A%20%20%20%20%20%20%20%20function%20geo_json_a830fa88f12d4b628fdf193d8146be6e_add%20%28data%29%20%7B%0A%20%20%20%20%20%20%20%20%20%20%20%20geo_json_a830fa88f12d4b628fdf193d8146be6e%0A%20%20%20%20%20%20%20%20%20%20%20%20%20%20%20%20.addData%28data%29%0A%20%20%20%20%20%20%20%20%20%20%20%20%20%20%20%20.addTo%28map_3e5dcb81ffc4491bb03deec69db93662%29%3B%0A%20%20%20%20%20%20%20%20%7D%0A%20%20%20%20%20%20%20%20%20%20%20%20geo_json_a830fa88f12d4b628fdf193d8146be6e_add%28%7B%22coordinates%22%3A%20%5B%5B15.44433%2C%2047.06571%5D%2C%20%5B15.44433%2C%2047.06572%5D%2C%20%5B15.44487%2C%2047.06592%5D%2C%20%5B15.44515%2C%2047.06602%5D%2C%20%5B15.44518%2C%2047.06603%5D%2C%20%5B15.44534%2C%2047.06609%5D%2C%20%5B15.44558%2C%2047.06618%5D%2C%20%5B15.44574%2C%2047.06624%5D%2C%20%5B15.44589%2C%2047.06628%5D%2C%20%5B15.44603%2C%2047.06635%5D%2C%20%5B15.4461%2C%2047.0664%5D%2C%20%5B15.44614%2C%2047.06643%5D%2C%20%5B15.44619%2C%2047.0665%5D%2C%20%5B15.44623%2C%2047.0666%5D%2C%20%5B15.44627%2C%2047.06674%5D%2C%20%5B15.44627%2C%2047.06676%5D%2C%20%5B15.44628%2C%2047.06677%5D%2C%20%5B15.44632%2C%2047.06693%5D%2C%20%5B15.44634%2C%2047.06706%5D%2C%20%5B15.44639%2C%2047.06726%5D%2C%20%5B15.44639%2C%2047.06727%5D%2C%20%5B15.44641%2C%2047.06734%5D%2C%20%5B15.44643%2C%2047.06746%5D%2C%20%5B15.44646%2C%2047.06756%5D%2C%20%5B15.44643%2C%2047.06763%5D%2C%20%5B15.44638%2C%2047.06767%5D%2C%20%5B15.44635%2C%2047.06768%5D%2C%20%5B15.44599%2C%2047.06785%5D%2C%20%5B15.4458%2C%2047.06794%5D%2C%20%5B15.44564%2C%2047.06802%5D%2C%20%5B15.44554%2C%2047.06813%5D%2C%20%5B15.44552%2C%2047.06814%5D%2C%20%5B15.44549%2C%2047.06816%5D%2C%20%5B15.44543%2C%2047.06821%5D%2C%20%5B15.44539%2C%2047.06823%5D%2C%20%5B15.4453%2C%2047.06826%5D%2C%20%5B15.44524%2C%2047.06827%5D%2C%20%5B15.4444%2C%2047.0684%5D%2C%20%5B15.44419%2C%2047.06843%5D%2C%20%5B15.44399%2C%2047.06846%5D%2C%20%5B15.44376%2C%2047.0685%5D%2C%20%5B15.44357%2C%2047.06853%5D%2C%20%5B15.44344%2C%2047.06854%5D%2C%20%5B15.44319%2C%2047.06856%5D%2C%20%5B15.44314%2C%2047.06853%5D%2C%20%5B15.44253%2C%2047.06822%5D%2C%20%5B15.44246%2C%2047.06819%5D%2C%20%5B15.4424%2C%2047.06817%5D%2C%20%5B15.44232%2C%2047.06813%5D%2C%20%5B15.44226%2C%2047.0681%5D%2C%20%5B15.44181%2C%2047.0679%5D%2C%20%5B15.44173%2C%2047.06787%5D%2C%20%5B15.44171%2C%2047.06787%5D%2C%20%5B15.44169%2C%2047.06786%5D%2C%20%5B15.44162%2C%2047.06783%5D%2C%20%5B15.44048%2C%2047.06735%5D%2C%20%5B15.44041%2C%2047.06732%5D%2C%20%5B15.44033%2C%2047.06728%5D%2C%20%5B15.44025%2C%2047.06724%5D%2C%20%5B15.43951%2C%2047.06694%5D%2C%20%5B15.43945%2C%2047.06692%5D%2C%20%5B15.43856%2C%2047.06655%5D%2C%20%5B15.4384%2C%2047.0665%5D%2C%20%5B15.43836%2C%2047.06648%5D%2C%20%5B15.43832%2C%2047.06646%5D%2C%20%5B15.43796%2C%2047.06642%5D%2C%20%5B15.43769%2C%2047.06641%5D%2C%20%5B15.43736%2C%2047.0664%5D%2C%20%5B15.43687%2C%2047.06638%5D%2C%20%5B15.43672%2C%2047.06637%5D%2C%20%5B15.43634%2C%2047.06636%5D%2C%20%5B15.43614%2C%2047.06635%5D%2C%20%5B15.43596%2C%2047.06635%5D%2C%20%5B15.43579%2C%2047.06634%5D%2C%20%5B15.43564%2C%2047.06634%5D%2C%20%5B15.43546%2C%2047.06635%5D%2C%20%5B15.43535%2C%2047.06635%5D%2C%20%5B15.43444%2C%2047.0664%5D%2C%20%5B15.43439%2C%2047.0664%5D%2C%20%5B15.43429%2C%2047.06641%5D%2C%20%5B15.43414%2C%2047.06641%5D%2C%20%5B15.43383%2C%2047.06642%5D%2C%20%5B15.43329%2C%2047.06645%5D%2C%20%5B15.43314%2C%2047.06645%5D%2C%20%5B15.43255%2C%2047.06649%5D%2C%20%5B15.43191%2C%2047.06652%5D%2C%20%5B15.43179%2C%2047.06655%5D%2C%20%5B15.43173%2C%2047.06664%5D%2C%20%5B15.43153%2C%2047.06681%5D%2C%20%5B15.43142%2C%2047.06685%5D%2C%20%5B15.43134%2C%2047.06686%5D%5D%2C%20%22type%22%3A%20%22LineString%22%7D%29%3B%0A%0A%20%20%20%20%20%20%20%20%0A%20%20%20%20%0A%20%20%20%20%20%20%20%20var%20popup_52b263f654aa4114bee18981672f7924%20%3D%20L.popup%28%7B%22maxWidth%22%3A%20300%7D%29%3B%0A%0A%20%20%20%20%20%20%20%20%0A%20%20%20%20%20%20%20%20%20%20%20%20var%20html_e2f028f6171c40efb9763dd9ae120d25%20%3D%20%24%28%60%3Cdiv%20id%3D%22html_e2f028f6171c40efb9763dd9ae120d25%22%20style%3D%22width%3A%20100.0%25%3B%20height%3A%20100.0%25%3B%22%3E%3Ch4%3E%20%3Cb%3EDistance%20%3A%26nbsp%3Cstrong%3E1.6%20Km%20%3C/strong%3E%3C/h4%3E%3C/b%3E%3Ch4%3E%20%3Cb%3EDuration%20%3A%26nbsp%3Cstrong%3E4.8%20Mins.%20%3C/strong%3E%3C/h4%3E%3C/b%3E%3C/div%3E%60%29%5B0%5D%3B%0A%20%20%20%20%20%20%20%20%20%20%20%20popup_52b263f654aa4114bee18981672f7924.setContent%28html_e2f028f6171c40efb9763dd9ae120d25%29%3B%0A%20%20%20%20%20%20%20%20%0A%0A%20%20%20%20%20%20%20%20geo_json_a830fa88f12d4b628fdf193d8146be6e.bindPopup%28popup_52b263f654aa4114bee18981672f7924%29%0A%20%20%20%20%20%20%20%20%3B%0A%0A%20%20%20%20%20%20%20%20%0A%20%20%20%20%0A%20%20%20%20%0A%20%20%20%20%20%20%20%20%20%20%20%20var%20marker_e376017d46a34cf0b6ed9b08bb4260fb%20%3D%20L.marker%28%0A%20%20%20%20%20%20%20%20%20%20%20%20%20%20%20%20%5B47.065714%2C%2015.444325%5D%2C%0A%20%20%20%20%20%20%20%20%20%20%20%20%20%20%20%20%7B%7D%0A%20%20%20%20%20%20%20%20%20%20%20%20%29.addTo%28map_3e5dcb81ffc4491bb03deec69db93662%29%3B%0A%20%20%20%20%20%20%20%20%0A%20%20%20%20%0A%20%20%20%20%20%20%20%20%20%20%20%20var%20icon_dc3a1899382848a0b33edc33e6399188%20%3D%20L.AwesomeMarkers.icon%28%0A%20%20%20%20%20%20%20%20%20%20%20%20%20%20%20%20%7B%22extraClasses%22%3A%20%22fa-rotate-0%22%2C%20%22icon%22%3A%20%22info-sign%22%2C%20%22iconColor%22%3A%20%22white%22%2C%20%22markerColor%22%3A%20%22green%22%2C%20%22prefix%22%3A%20%22glyphicon%22%7D%0A%20%20%20%20%20%20%20%20%20%20%20%20%29%3B%0A%20%20%20%20%20%20%20%20%20%20%20%20marker_e376017d46a34cf0b6ed9b08bb4260fb.setIcon%28icon_dc3a1899382848a0b33edc33e6399188%29%3B%0A%20%20%20%20%20%20%20%20%0A%20%20%20%20%0A%20%20%20%20%20%20%20%20var%20popup_c40dfa350ed14eaab7ff7a11f4894cbf%20%3D%20L.popup%28%7B%22maxWidth%22%3A%20%22100%25%22%7D%29%3B%0A%0A%20%20%20%20%20%20%20%20%0A%20%20%20%20%20%20%20%20%20%20%20%20var%20html_ea29d37c9387437e99059905b8dc36eb%20%3D%20%24%28%60%3Cdiv%20id%3D%22html_ea29d37c9387437e99059905b8dc36eb%22%20style%3D%22width%3A%20100.0%25%3B%20height%3A%20100.0%25%3B%22%3EOst_8010_213%3C/div%3E%60%29%5B0%5D%3B%0A%20%20%20%20%20%20%20%20%20%20%20%20popup_c40dfa350ed14eaab7ff7a11f4894cbf.setContent%28html_ea29d37c9387437e99059905b8dc36eb%29%3B%0A%20%20%20%20%20%20%20%20%0A%0A%20%20%20%20%20%20%20%20marker_e376017d46a34cf0b6ed9b08bb4260fb.bindPopup%28popup_c40dfa350ed14eaab7ff7a11f4894cbf%29%0A%20%20%20%20%20%20%20%20%3B%0A%0A%20%20%20%20%20%20%20%20%0A%20%20%20%20%0A%20%20%20%20%0A%20%20%20%20%20%20%20%20%20%20%20%20var%20marker_af1f2ab111284db38ecc1b6de7795c64%20%3D%20L.marker%28%0A%20%20%20%20%20%20%20%20%20%20%20%20%20%20%20%20%5B47.06687%2C%2015.431343%5D%2C%0A%20%20%20%20%20%20%20%20%20%20%20%20%20%20%20%20%7B%7D%0A%20%20%20%20%20%20%20%20%20%20%20%20%29.addTo%28map_3e5dcb81ffc4491bb03deec69db93662%29%3B%0A%20%20%20%20%20%20%20%20%0A%20%20%20%20%0A%20%20%20%20%20%20%20%20%20%20%20%20var%20icon_118a035c7fc44784822686d6ad4d8dd0%20%3D%20L.AwesomeMarkers.icon%28%0A%20%20%20%20%20%20%20%20%20%20%20%20%20%20%20%20%7B%22extraClasses%22%3A%20%22fa-rotate-0%22%2C%20%22icon%22%3A%20%22info-sign%22%2C%20%22iconColor%22%3A%20%22white%22%2C%20%22markerColor%22%3A%20%22red%22%2C%20%22prefix%22%3A%20%22glyphicon%22%7D%0A%20%20%20%20%20%20%20%20%20%20%20%20%29%3B%0A%20%20%20%20%20%20%20%20%20%20%20%20marker_af1f2ab111284db38ecc1b6de7795c64.setIcon%28icon_118a035c7fc44784822686d6ad4d8dd0%29%3B%0A%20%20%20%20%20%20%20%20%0A%20%20%20%20%0A%20%20%20%20%20%20%20%20var%20popup_6a3fb9cda0804f9bb341ef42ddaae337%20%3D%20L.popup%28%7B%22maxWidth%22%3A%20%22100%25%22%7D%29%3B%0A%0A%20%20%20%20%20%20%20%20%0A%20%20%20%20%20%20%20%20%20%20%20%20var%20html_3e58dc5a02414f238d73059dd6abc24b%20%3D%20%24%28%60%3Cdiv%20id%3D%22html_3e58dc5a02414f238d73059dd6abc24b%22%20style%3D%22width%3A%20100.0%25%3B%20height%3A%20100.0%25%3B%22%3EDonBosco_8020_119%3C/div%3E%60%29%5B0%5D%3B%0A%20%20%20%20%20%20%20%20%20%20%20%20popup_6a3fb9cda0804f9bb341ef42ddaae337.setContent%28html_3e58dc5a02414f238d73059dd6abc24b%29%3B%0A%20%20%20%20%20%20%20%20%0A%0A%20%20%20%20%20%20%20%20marker_af1f2ab111284db38ecc1b6de7795c64.bindPopup%28popup_6a3fb9cda0804f9bb341ef42ddaae337%29%0A%20%20%20%20%20%20%20%20%3B%0A%0A%20%20%20%20%20%20%20%20%0A%20%20%20%20%0A%20%20%20%20%0A%0A%20%20%20%20%20%20%20%20function%20geo_json_e8cf55c79545403c888b71025015260a_onEachFeature%28feature%2C%20layer%29%20%7B%0A%20%20%20%20%20%20%20%20%20%20%20%20layer.on%28%7B%0A%20%20%20%20%20%20%20%20%20%20%20%20%7D%29%3B%0A%20%20%20%20%20%20%20%20%7D%3B%0A%20%20%20%20%20%20%20%20var%20geo_json_e8cf55c79545403c888b71025015260a%20%3D%20L.geoJson%28null%2C%20%7B%0A%20%20%20%20%20%20%20%20%20%20%20%20%20%20%20%20onEachFeature%3A%20geo_json_e8cf55c79545403c888b71025015260a_onEachFeature%2C%0A%20%20%20%20%20%20%20%20%20%20%20%20%0A%20%20%20%20%20%20%20%20%7D%29%3B%0A%0A%20%20%20%20%20%20%20%20function%20geo_json_e8cf55c79545403c888b71025015260a_add%20%28data%29%20%7B%0A%20%20%20%20%20%20%20%20%20%20%20%20geo_json_e8cf55c79545403c888b71025015260a%0A%20%20%20%20%20%20%20%20%20%20%20%20%20%20%20%20.addData%28data%29%0A%20%20%20%20%20%20%20%20%20%20%20%20%20%20%20%20.addTo%28map_3e5dcb81ffc4491bb03deec69db93662%29%3B%0A%20%20%20%20%20%20%20%20%7D%0A%20%20%20%20%20%20%20%20%20%20%20%20geo_json_e8cf55c79545403c888b71025015260a_add%28%7B%22coordinates%22%3A%20%5B%5B15.44863%2C%2047.05404%5D%2C%20%5B15.44868%2C%2047.05397%5D%2C%20%5B15.44869%2C%2047.05395%5D%2C%20%5B15.44875%2C%2047.05386%5D%2C%20%5B15.44881%2C%2047.05388%5D%2C%20%5B15.44882%2C%2047.05389%5D%2C%20%5B15.44884%2C%2047.05389%5D%2C%20%5B15.4489%2C%2047.05391%5D%2C%20%5B15.44884%2C%2047.05399%5D%2C%20%5B15.44864%2C%2047.05425%5D%2C%20%5B15.44854%2C%2047.05438%5D%2C%20%5B15.4484%2C%2047.05457%5D%2C%20%5B15.4483%2C%2047.0547%5D%2C%20%5B15.44795%2C%2047.05518%5D%2C%20%5B15.44791%2C%2047.05524%5D%2C%20%5B15.44779%2C%2047.05539%5D%2C%20%5B15.4476%2C%2047.0556%5D%2C%20%5B15.44745%2C%2047.05569%5D%2C%20%5B15.44739%2C%2047.05573%5D%2C%20%5B15.44729%2C%2047.05579%5D%2C%20%5B15.44724%2C%2047.05582%5D%2C%20%5B15.44719%2C%2047.05587%5D%2C%20%5B15.44711%2C%2047.05597%5D%2C%20%5B15.44707%2C%2047.05604%5D%2C%20%5B15.44698%2C%2047.05618%5D%2C%20%5B15.44697%2C%2047.05619%5D%2C%20%5B15.44695%2C%2047.05622%5D%2C%20%5B15.4468%2C%2047.05648%5D%2C%20%5B15.44667%2C%2047.05673%5D%2C%20%5B15.4466%2C%2047.05684%5D%2C%20%5B15.44654%2C%2047.05696%5D%2C%20%5B15.44617%2C%2047.05766%5D%2C%20%5B15.44593%2C%2047.0581%5D%2C%20%5B15.4456%2C%2047.05872%5D%2C%20%5B15.44551%2C%2047.05889%5D%2C%20%5B15.4454%2C%2047.0589%5D%2C%20%5B15.44533%2C%2047.0589%5D%2C%20%5B15.44531%2C%2047.0589%5D%2C%20%5B15.44523%2C%2047.05889%5D%2C%20%5B15.44435%2C%2047.05878%5D%2C%20%5B15.44351%2C%2047.05868%5D%2C%20%5B15.44292%2C%2047.05861%5D%2C%20%5B15.4416%2C%2047.05847%5D%2C%20%5B15.44108%2C%2047.05841%5D%2C%20%5B15.44084%2C%2047.05839%5D%2C%20%5B15.4408%2C%2047.05839%5D%2C%20%5B15.44061%2C%2047.05838%5D%2C%20%5B15.44045%2C%2047.05837%5D%2C%20%5B15.43987%2C%2047.05828%5D%2C%20%5B15.43971%2C%2047.05825%5D%2C%20%5B15.43951%2C%2047.05822%5D%2C%20%5B15.43892%2C%2047.05816%5D%2C%20%5B15.43847%2C%2047.05811%5D%2C%20%5B15.43784%2C%2047.05806%5D%2C%20%5B15.43758%2C%2047.05803%5D%2C%20%5B15.43746%2C%2047.05801%5D%2C%20%5B15.43723%2C%2047.05797%5D%2C%20%5B15.43697%2C%2047.05793%5D%2C%20%5B15.43666%2C%2047.05788%5D%2C%20%5B15.43637%2C%2047.05785%5D%2C%20%5B15.43595%2C%2047.05779%5D%2C%20%5B15.43587%2C%2047.05778%5D%2C%20%5B15.43543%2C%2047.05772%5D%2C%20%5B15.43519%2C%2047.05772%5D%2C%20%5B15.4351%2C%2047.05774%5D%2C%20%5B15.43499%2C%2047.05778%5D%2C%20%5B15.4349%2C%2047.05783%5D%2C%20%5B15.43485%2C%2047.05787%5D%2C%20%5B15.43467%2C%2047.0583%5D%2C%20%5B15.43451%2C%2047.05864%5D%2C%20%5B15.43445%2C%2047.05877%5D%2C%20%5B15.43436%2C%2047.05886%5D%2C%20%5B15.43419%2C%2047.05937%5D%2C%20%5B15.43402%2C%2047.05995%5D%2C%20%5B15.434%2C%2047.06002%5D%2C%20%5B15.43397%2C%2047.06011%5D%2C%20%5B15.43394%2C%2047.06023%5D%2C%20%5B15.43381%2C%2047.06071%5D%2C%20%5B15.43381%2C%2047.06075%5D%2C%20%5B15.43365%2C%2047.06147%5D%2C%20%5B15.43362%2C%2047.06169%5D%2C%20%5B15.43362%2C%2047.0619%5D%2C%20%5B15.43366%2C%2047.06234%5D%2C%20%5B15.4337%2C%2047.06265%5D%2C%20%5B15.43372%2C%2047.06287%5D%2C%20%5B15.43374%2C%2047.06308%5D%2C%20%5B15.43388%2C%2047.06395%5D%2C%20%5B15.43388%2C%2047.06397%5D%2C%20%5B15.43391%2C%2047.06413%5D%2C%20%5B15.43394%2C%2047.06425%5D%2C%20%5B15.4341%2C%2047.06425%5D%2C%20%5B15.43506%2C%2047.06419%5D%2C%20%5B15.43514%2C%2047.06419%5D%2C%20%5B15.43523%2C%2047.06419%5D%2C%20%5B15.43528%2C%2047.06424%5D%2C%20%5B15.43531%2C%2047.06429%5D%2C%20%5B15.43541%2C%2047.06456%5D%2C%20%5B15.43555%2C%2047.06518%5D%2C%20%5B15.4356%2C%2047.0654%5D%2C%20%5B15.43561%2C%2047.06544%5D%2C%20%5B15.43562%2C%2047.0655%5D%2C%20%5B15.43562%2C%2047.06609%5D%2C%20%5B15.43563%2C%2047.06624%5D%2C%20%5B15.43564%2C%2047.06634%5D%2C%20%5B15.43546%2C%2047.06635%5D%2C%20%5B15.43535%2C%2047.06635%5D%2C%20%5B15.43444%2C%2047.0664%5D%2C%20%5B15.43439%2C%2047.0664%5D%2C%20%5B15.43429%2C%2047.06641%5D%2C%20%5B15.43414%2C%2047.06641%5D%2C%20%5B15.43383%2C%2047.06642%5D%2C%20%5B15.43329%2C%2047.06645%5D%2C%20%5B15.43314%2C%2047.06645%5D%2C%20%5B15.43255%2C%2047.06649%5D%2C%20%5B15.43191%2C%2047.06652%5D%2C%20%5B15.43179%2C%2047.06655%5D%2C%20%5B15.43173%2C%2047.06664%5D%2C%20%5B15.43153%2C%2047.06681%5D%2C%20%5B15.43142%2C%2047.06685%5D%2C%20%5B15.43134%2C%2047.06686%5D%5D%2C%20%22type%22%3A%20%22LineString%22%7D%29%3B%0A%0A%20%20%20%20%20%20%20%20%0A%20%20%20%20%0A%20%20%20%20%20%20%20%20var%20popup_754aece0744c45b4adbfc8598247deb3%20%3D%20L.popup%28%7B%22maxWidth%22%3A%20300%7D%29%3B%0A%0A%20%20%20%20%20%20%20%20%0A%20%20%20%20%20%20%20%20%20%20%20%20var%20html_018a90ca26dc4860890d81154d443bb8%20%3D%20%24%28%60%3Cdiv%20id%3D%22html_018a90ca26dc4860890d81154d443bb8%22%20style%3D%22width%3A%20100.0%25%3B%20height%3A%20100.0%25%3B%22%3E%3Ch4%3E%20%3Cb%3EDistance%20%3A%26nbsp%3Cstrong%3E2.9%20Km%20%3C/strong%3E%3C/h4%3E%3C/b%3E%3Ch4%3E%20%3Cb%3EDuration%20%3A%26nbsp%3Cstrong%3E7.5%20Mins.%20%3C/strong%3E%3C/h4%3E%3C/b%3E%3C/div%3E%60%29%5B0%5D%3B%0A%20%20%20%20%20%20%20%20%20%20%20%20popup_754aece0744c45b4adbfc8598247deb3.setContent%28html_018a90ca26dc4860890d81154d443bb8%29%3B%0A%20%20%20%20%20%20%20%20%0A%0A%20%20%20%20%20%20%20%20geo_json_e8cf55c79545403c888b71025015260a.bindPopup%28popup_754aece0744c45b4adbfc8598247deb3%29%0A%20%20%20%20%20%20%20%20%3B%0A%0A%20%20%20%20%20%20%20%20%0A%20%20%20%20%0A%20%20%20%20%0A%20%20%20%20%20%20%20%20%20%20%20%20var%20marker_cbb853a7ef81443db27dc8229c1a3ccd%20%3D%20L.marker%28%0A%20%20%20%20%20%20%20%20%20%20%20%20%20%20%20%20%5B47.054039%2C%2015.44864%5D%2C%0A%20%20%20%20%20%20%20%20%20%20%20%20%20%20%20%20%7B%7D%0A%20%20%20%20%20%20%20%20%20%20%20%20%29.addTo%28map_3e5dcb81ffc4491bb03deec69db93662%29%3B%0A%20%20%20%20%20%20%20%20%0A%20%20%20%20%0A%20%20%20%20%20%20%20%20%20%20%20%20var%20icon_b1a12674b11e490881d97664fb2b724f%20%3D%20L.AwesomeMarkers.icon%28%0A%20%20%20%20%20%20%20%20%20%20%20%20%20%20%20%20%7B%22extraClasses%22%3A%20%22fa-rotate-0%22%2C%20%22icon%22%3A%20%22info-sign%22%2C%20%22iconColor%22%3A%20%22white%22%2C%20%22markerColor%22%3A%20%22green%22%2C%20%22prefix%22%3A%20%22glyphicon%22%7D%0A%20%20%20%20%20%20%20%20%20%20%20%20%29%3B%0A%20%20%20%20%20%20%20%20%20%20%20%20marker_cbb853a7ef81443db27dc8229c1a3ccd.setIcon%28icon_b1a12674b11e490881d97664fb2b724f%29%3B%0A%20%20%20%20%20%20%20%20%0A%20%20%20%20%0A%20%20%20%20%20%20%20%20var%20popup_4829931f298c4cf482aadf1b9753a004%20%3D%20L.popup%28%7B%22maxWidth%22%3A%20%22100%25%22%7D%29%3B%0A%0A%20%20%20%20%20%20%20%20%0A%20%20%20%20%20%20%20%20%20%20%20%20var%20html_85db91a686984216a5e3074b7e82ce93%20%3D%20%24%28%60%3Cdiv%20id%3D%22html_85db91a686984216a5e3074b7e82ce93%22%20style%3D%22width%3A%20100.0%25%3B%20height%3A%20100.0%25%3B%22%3EOst_8010_214%3C/div%3E%60%29%5B0%5D%3B%0A%20%20%20%20%20%20%20%20%20%20%20%20popup_4829931f298c4cf482aadf1b9753a004.setContent%28html_85db91a686984216a5e3074b7e82ce93%29%3B%0A%20%20%20%20%20%20%20%20%0A%0A%20%20%20%20%20%20%20%20marker_cbb853a7ef81443db27dc8229c1a3ccd.bindPopup%28popup_4829931f298c4cf482aadf1b9753a004%29%0A%20%20%20%20%20%20%20%20%3B%0A%0A%20%20%20%20%20%20%20%20%0A%20%20%20%20%0A%20%20%20%20%0A%20%20%20%20%20%20%20%20%20%20%20%20var%20marker_266bb6bda17a404ebb9d960c337ed178%20%3D%20L.marker%28%0A%20%20%20%20%20%20%20%20%20%20%20%20%20%20%20%20%5B47.06687%2C%2015.431343%5D%2C%0A%20%20%20%20%20%20%20%20%20%20%20%20%20%20%20%20%7B%7D%0A%20%20%20%20%20%20%20%20%20%20%20%20%29.addTo%28map_3e5dcb81ffc4491bb03deec69db93662%29%3B%0A%20%20%20%20%20%20%20%20%0A%20%20%20%20%0A%20%20%20%20%20%20%20%20%20%20%20%20var%20icon_8d4085b18ac04fd486cfe74753f69749%20%3D%20L.AwesomeMarkers.icon%28%0A%20%20%20%20%20%20%20%20%20%20%20%20%20%20%20%20%7B%22extraClasses%22%3A%20%22fa-rotate-0%22%2C%20%22icon%22%3A%20%22info-sign%22%2C%20%22iconColor%22%3A%20%22white%22%2C%20%22markerColor%22%3A%20%22red%22%2C%20%22prefix%22%3A%20%22glyphicon%22%7D%0A%20%20%20%20%20%20%20%20%20%20%20%20%29%3B%0A%20%20%20%20%20%20%20%20%20%20%20%20marker_266bb6bda17a404ebb9d960c337ed178.setIcon%28icon_8d4085b18ac04fd486cfe74753f69749%29%3B%0A%20%20%20%20%20%20%20%20%0A%20%20%20%20%0A%20%20%20%20%20%20%20%20var%20popup_3ca16ee8a54745b5a2c80291f6eb0aa5%20%3D%20L.popup%28%7B%22maxWidth%22%3A%20%22100%25%22%7D%29%3B%0A%0A%20%20%20%20%20%20%20%20%0A%20%20%20%20%20%20%20%20%20%20%20%20var%20html_772376a97db148c9aa17f4bbd4e00a47%20%3D%20%24%28%60%3Cdiv%20id%3D%22html_772376a97db148c9aa17f4bbd4e00a47%22%20style%3D%22width%3A%20100.0%25%3B%20height%3A%20100.0%25%3B%22%3EDonBosco_8020_119%3C/div%3E%60%29%5B0%5D%3B%0A%20%20%20%20%20%20%20%20%20%20%20%20popup_3ca16ee8a54745b5a2c80291f6eb0aa5.setContent%28html_772376a97db148c9aa17f4bbd4e00a47%29%3B%0A%20%20%20%20%20%20%20%20%0A%0A%20%20%20%20%20%20%20%20marker_266bb6bda17a404ebb9d960c337ed178.bindPopup%28popup_3ca16ee8a54745b5a2c80291f6eb0aa5%29%0A%20%20%20%20%20%20%20%20%3B%0A%0A%20%20%20%20%20%20%20%20%0A%20%20%20%20%0A%20%20%20%20%0A%0A%20%20%20%20%20%20%20%20function%20geo_json_2778c34584d1461da8e8ab9126a879fe_onEachFeature%28feature%2C%20layer%29%20%7B%0A%20%20%20%20%20%20%20%20%20%20%20%20layer.on%28%7B%0A%20%20%20%20%20%20%20%20%20%20%20%20%7D%29%3B%0A%20%20%20%20%20%20%20%20%7D%3B%0A%20%20%20%20%20%20%20%20var%20geo_json_2778c34584d1461da8e8ab9126a879fe%20%3D%20L.geoJson%28null%2C%20%7B%0A%20%20%20%20%20%20%20%20%20%20%20%20%20%20%20%20onEachFeature%3A%20geo_json_2778c34584d1461da8e8ab9126a879fe_onEachFeature%2C%0A%20%20%20%20%20%20%20%20%20%20%20%20%0A%20%20%20%20%20%20%20%20%7D%29%3B%0A%0A%20%20%20%20%20%20%20%20function%20geo_json_2778c34584d1461da8e8ab9126a879fe_add%20%28data%29%20%7B%0A%20%20%20%20%20%20%20%20%20%20%20%20geo_json_2778c34584d1461da8e8ab9126a879fe%0A%20%20%20%20%20%20%20%20%20%20%20%20%20%20%20%20.addData%28data%29%0A%20%20%20%20%20%20%20%20%20%20%20%20%20%20%20%20.addTo%28map_3e5dcb81ffc4491bb03deec69db93662%29%3B%0A%20%20%20%20%20%20%20%20%7D%0A%20%20%20%20%20%20%20%20%20%20%20%20geo_json_2778c34584d1461da8e8ab9126a879fe_add%28%7B%22coordinates%22%3A%20%5B%5B15.41437%2C%2047.0848%5D%2C%20%5B15.41437%2C%2047.0848%5D%2C%20%5B15.41358%2C%2047.08582%5D%2C%20%5B15.41306%2C%2047.08648%5D%2C%20%5B15.41273%2C%2047.08691%5D%2C%20%5B15.41258%2C%2047.08711%5D%2C%20%5B15.41254%2C%2047.08714%5D%2C%20%5B15.41243%2C%2047.08725%5D%2C%20%5B15.41233%2C%2047.0872%5D%2C%20%5B15.41243%2C%2047.0871%5D%2C%20%5B15.41252%2C%2047.087%5D%2C%20%5B15.41259%2C%2047.0869%5D%2C%20%5B15.41303%2C%2047.08636%5D%2C%20%5B15.41372%2C%2047.08547%5D%2C%20%5B15.41441%2C%2047.08458%5D%2C%20%5B15.41456%2C%2047.08438%5D%2C%20%5B15.41469%2C%2047.08418%5D%2C%20%5B15.41473%2C%2047.08413%5D%2C%20%5B15.41511%2C%2047.08363%5D%2C%20%5B15.41513%2C%2047.08361%5D%2C%20%5B15.41514%2C%2047.0836%5D%2C%20%5B15.41522%2C%2047.08348%5D%2C%20%5B15.4153%2C%2047.08337%5D%2C%20%5B15.41547%2C%2047.08341%5D%2C%20%5B15.41556%2C%2047.08344%5D%2C%20%5B15.41558%2C%2047.08344%5D%2C%20%5B15.41567%2C%2047.08347%5D%2C%20%5B15.41592%2C%2047.08359%5D%2C%20%5B15.41595%2C%2047.08361%5D%2C%20%5B15.41622%2C%2047.08375%5D%2C%20%5B15.41648%2C%2047.08391%5D%2C%20%5B15.41673%2C%2047.08404%5D%2C%20%5B15.41721%2C%2047.0843%5D%2C%20%5B15.4174%2C%2047.0844%5D%2C%20%5B15.41785%2C%2047.08465%5D%2C%20%5B15.41786%2C%2047.08465%5D%2C%20%5B15.41803%2C%2047.08474%5D%2C%20%5B15.41813%2C%2047.08467%5D%2C%20%5B15.41866%2C%2047.08421%5D%2C%20%5B15.41872%2C%2047.08416%5D%2C%20%5B15.4188%2C%2047.08408%5D%2C%20%5B15.41926%2C%2047.0837%5D%2C%20%5B15.41945%2C%2047.08354%5D%2C%20%5B15.41951%2C%2047.0835%5D%2C%20%5B15.41969%2C%2047.08334%5D%2C%20%5B15.41973%2C%2047.08331%5D%2C%20%5B15.42107%2C%2047.08217%5D%2C%20%5B15.42121%2C%2047.08206%5D%2C%20%5B15.42132%2C%2047.08195%5D%2C%20%5B15.42147%2C%2047.08181%5D%2C%20%5B15.42167%2C%2047.08165%5D%2C%20%5B15.42172%2C%2047.0816%5D%2C%20%5B15.42176%2C%2047.08156%5D%2C%20%5B15.42177%2C%2047.0815%5D%2C%20%5B15.42176%2C%2047.08147%5D%2C%20%5B15.4217%2C%2047.08142%5D%2C%20%5B15.42163%2C%2047.08136%5D%2C%20%5B15.42162%2C%2047.08132%5D%2C%20%5B15.42164%2C%2047.08128%5D%2C%20%5B15.42168%2C%2047.08126%5D%2C%20%5B15.42192%2C%2047.08113%5D%2C%20%5B15.42194%2C%2047.08112%5D%2C%20%5B15.42211%2C%2047.08103%5D%2C%20%5B15.42235%2C%2047.0809%5D%2C%20%5B15.42252%2C%2047.08081%5D%2C%20%5B15.42282%2C%2047.08066%5D%2C%20%5B15.42304%2C%2047.08056%5D%2C%20%5B15.42326%2C%2047.0805%5D%2C%20%5B15.42338%2C%2047.08045%5D%2C%20%5B15.42352%2C%2047.08039%5D%2C%20%5B15.42399%2C%2047.08015%5D%2C%20%5B15.42411%2C%2047.08009%5D%2C%20%5B15.42465%2C%2047.07982%5D%2C%20%5B15.42475%2C%2047.07979%5D%2C%20%5B15.42499%2C%2047.07972%5D%2C%20%5B15.42522%2C%2047.07967%5D%2C%20%5B15.42601%2C%2047.07963%5D%2C%20%5B15.42617%2C%2047.07959%5D%2C%20%5B15.4273%2C%2047.07878%5D%2C%20%5B15.42738%2C%2047.07872%5D%2C%20%5B15.42769%2C%2047.07849%5D%2C%20%5B15.42787%2C%2047.07837%5D%2C%20%5B15.42803%2C%2047.07826%5D%2C%20%5B15.42811%2C%2047.07818%5D%2C%20%5B15.42815%2C%2047.07814%5D%2C%20%5B15.42817%2C%2047.07813%5D%2C%20%5B15.42829%2C%2047.07793%5D%2C%20%5B15.42854%2C%2047.07733%5D%2C%20%5B15.42856%2C%2047.07729%5D%2C%20%5B15.42857%2C%2047.07725%5D%2C%20%5B15.42859%2C%2047.07714%5D%2C%20%5B15.42859%2C%2047.07712%5D%2C%20%5B15.42859%2C%2047.0771%5D%2C%20%5B15.4286%2C%2047.07704%5D%2C%20%5B15.42861%2C%2047.077%5D%2C%20%5B15.42874%2C%2047.07679%5D%2C%20%5B15.42878%2C%2047.07675%5D%2C%20%5B15.42905%2C%2047.07645%5D%2C%20%5B15.42923%2C%2047.07626%5D%2C%20%5B15.42932%2C%2047.07616%5D%2C%20%5B15.42941%2C%2047.07606%5D%2C%20%5B15.42949%2C%2047.07595%5D%2C%20%5B15.42972%2C%2047.07571%5D%2C%20%5B15.42975%2C%2047.07567%5D%2C%20%5B15.43003%2C%2047.07539%5D%2C%20%5B15.43009%2C%2047.07533%5D%2C%20%5B15.43034%2C%2047.07503%5D%2C%20%5B15.43036%2C%2047.075%5D%2C%20%5B15.43044%2C%2047.07487%5D%2C%20%5B15.43038%2C%2047.07481%5D%2C%20%5B15.43033%2C%2047.07477%5D%2C%20%5B15.43%2C%2047.07447%5D%2C%20%5B15.42998%2C%2047.07445%5D%2C%20%5B15.42991%2C%2047.07438%5D%2C%20%5B15.42975%2C%2047.07423%5D%2C%20%5B15.42967%2C%2047.07411%5D%2C%20%5B15.42961%2C%2047.074%5D%2C%20%5B15.42951%2C%2047.07374%5D%2C%20%5B15.4295%2C%2047.07372%5D%2C%20%5B15.42947%2C%2047.07365%5D%2C%20%5B15.42928%2C%2047.07316%5D%2C%20%5B15.42921%2C%2047.07301%5D%2C%20%5B15.42917%2C%2047.07292%5D%2C%20%5B15.42911%2C%2047.07272%5D%2C%20%5B15.42898%2C%2047.07242%5D%2C%20%5B15.4289%2C%2047.07218%5D%2C%20%5B15.42886%2C%2047.07204%5D%2C%20%5B15.42884%2C%2047.07193%5D%2C%20%5B15.42883%2C%2047.0718%5D%2C%20%5B15.42882%2C%2047.07172%5D%2C%20%5B15.42879%2C%2047.07116%5D%2C%20%5B15.42877%2C%2047.07108%5D%2C%20%5B15.42877%2C%2047.07106%5D%2C%20%5B15.42875%2C%2047.07105%5D%2C%20%5B15.42845%2C%2047.0708%5D%2C%20%5B15.4281%2C%2047.07045%5D%2C%20%5B15.42806%2C%2047.07041%5D%2C%20%5B15.42775%2C%2047.07012%5D%2C%20%5B15.42763%2C%2047.06993%5D%2C%20%5B15.42756%2C%2047.06982%5D%2C%20%5B15.42728%2C%2047.06935%5D%2C%20%5B15.42704%2C%2047.06897%5D%2C%20%5B15.42701%2C%2047.0689%5D%2C%20%5B15.42699%2C%2047.06884%5D%2C%20%5B15.4269%2C%2047.06852%5D%2C%20%5B15.42686%2C%2047.06838%5D%2C%20%5B15.42685%2C%2047.06822%5D%2C%20%5B15.42688%2C%2047.068%5D%2C%20%5B15.427%2C%2047.06752%5D%2C%20%5B15.42704%2C%2047.06737%5D%2C%20%5B15.42708%2C%2047.06722%5D%2C%20%5B15.4271%2C%2047.06692%5D%2C%20%5B15.4271%2C%2047.06687%5D%2C%20%5B15.42711%2C%2047.06679%5D%2C%20%5B15.4271%2C%2047.06674%5D%2C%20%5B15.42709%2C%2047.06666%5D%2C%20%5B15.42705%2C%2047.06652%5D%2C%20%5B15.42729%2C%2047.06656%5D%2C%20%5B15.42732%2C%2047.06656%5D%2C%20%5B15.42742%2C%2047.06658%5D%2C%20%5B15.42755%2C%2047.0666%5D%2C%20%5B15.42779%2C%2047.06663%5D%2C%20%5B15.42848%2C%2047.06674%5D%2C%20%5B15.4288%2C%2047.06678%5D%2C%20%5B15.42919%2C%2047.06678%5D%2C%20%5B15.43008%2C%2047.06677%5D%2C%20%5B15.43045%2C%2047.06677%5D%2C%20%5B15.43086%2C%2047.06678%5D%2C%20%5B15.43087%2C%2047.06678%5D%2C%20%5B15.43122%2C%2047.06684%5D%2C%20%5B15.43127%2C%2047.06684%5D%2C%20%5B15.43137%2C%2047.06678%5D%2C%20%5B15.43145%2C%2047.06671%5D%2C%20%5B15.43148%2C%2047.06664%5D%2C%20%5B15.43165%2C%2047.0666%5D%2C%20%5B15.43179%2C%2047.06655%5D%2C%20%5B15.43173%2C%2047.06664%5D%2C%20%5B15.43153%2C%2047.06681%5D%2C%20%5B15.43142%2C%2047.06685%5D%2C%20%5B15.43134%2C%2047.06686%5D%5D%2C%20%22type%22%3A%20%22LineString%22%7D%29%3B%0A%0A%20%20%20%20%20%20%20%20%0A%20%20%20%20%0A%20%20%20%20%20%20%20%20var%20popup_f099d9863a334a8681df90553fb3dcb5%20%3D%20L.popup%28%7B%22maxWidth%22%3A%20300%7D%29%3B%0A%0A%20%20%20%20%20%20%20%20%0A%20%20%20%20%20%20%20%20%20%20%20%20var%20html_86845a310b99457e8b3cf6bdd81c24e1%20%3D%20%24%28%60%3Cdiv%20id%3D%22html_86845a310b99457e8b3cf6bdd81c24e1%22%20style%3D%22width%3A%20100.0%25%3B%20height%3A%20100.0%25%3B%22%3E%3Ch4%3E%20%3Cb%3EDistance%20%3A%26nbsp%3Cstrong%3E4.0%20Km%20%3C/strong%3E%3C/h4%3E%3C/b%3E%3Ch4%3E%20%3Cb%3EDuration%20%3A%26nbsp%3Cstrong%3E9.1%20Mins.%20%3C/strong%3E%3C/h4%3E%3C/b%3E%3C/div%3E%60%29%5B0%5D%3B%0A%20%20%20%20%20%20%20%20%20%20%20%20popup_f099d9863a334a8681df90553fb3dcb5.setContent%28html_86845a310b99457e8b3cf6bdd81c24e1%29%3B%0A%20%20%20%20%20%20%20%20%0A%0A%20%20%20%20%20%20%20%20geo_json_2778c34584d1461da8e8ab9126a879fe.bindPopup%28popup_f099d9863a334a8681df90553fb3dcb5%29%0A%20%20%20%20%20%20%20%20%3B%0A%0A%20%20%20%20%20%20%20%20%0A%20%20%20%20%0A%20%20%20%20%0A%20%20%20%20%20%20%20%20%20%20%20%20var%20marker_ec87766adfe34fd7bcd9101108bf0ea9%20%3D%20L.marker%28%0A%20%20%20%20%20%20%20%20%20%20%20%20%20%20%20%20%5B47.084801%2C%2015.414366%5D%2C%0A%20%20%20%20%20%20%20%20%20%20%20%20%20%20%20%20%7B%7D%0A%20%20%20%20%20%20%20%20%20%20%20%20%29.addTo%28map_3e5dcb81ffc4491bb03deec69db93662%29%3B%0A%20%20%20%20%20%20%20%20%0A%20%20%20%20%0A%20%20%20%20%20%20%20%20%20%20%20%20var%20icon_90e90abd5a9b4982bdf404e0869ed2c8%20%3D%20L.AwesomeMarkers.icon%28%0A%20%20%20%20%20%20%20%20%20%20%20%20%20%20%20%20%7B%22extraClasses%22%3A%20%22fa-rotate-0%22%2C%20%22icon%22%3A%20%22info-sign%22%2C%20%22iconColor%22%3A%20%22white%22%2C%20%22markerColor%22%3A%20%22green%22%2C%20%22prefix%22%3A%20%22glyphicon%22%7D%0A%20%20%20%20%20%20%20%20%20%20%20%20%29%3B%0A%20%20%20%20%20%20%20%20%20%20%20%20marker_ec87766adfe34fd7bcd9101108bf0ea9.setIcon%28icon_90e90abd5a9b4982bdf404e0869ed2c8%29%3B%0A%20%20%20%20%20%20%20%20%0A%20%20%20%20%0A%20%20%20%20%20%20%20%20var%20popup_6f24b2df57744f5e9ec9a11edf74d860%20%3D%20L.popup%28%7B%22maxWidth%22%3A%20%22100%25%22%7D%29%3B%0A%0A%20%20%20%20%20%20%20%20%0A%20%20%20%20%20%20%20%20%20%20%20%20var%20html_095582efc4a54e8d83f88ed679948948%20%3D%20%24%28%60%3Cdiv%20id%3D%22html_095582efc4a54e8d83f88ed679948948%22%20style%3D%22width%3A%20100.0%25%3B%20height%3A%20100.0%25%3B%22%3ENord_8020_102%3C/div%3E%60%29%5B0%5D%3B%0A%20%20%20%20%20%20%20%20%20%20%20%20popup_6f24b2df57744f5e9ec9a11edf74d860.setContent%28html_095582efc4a54e8d83f88ed679948948%29%3B%0A%20%20%20%20%20%20%20%20%0A%0A%20%20%20%20%20%20%20%20marker_ec87766adfe34fd7bcd9101108bf0ea9.bindPopup%28popup_6f24b2df57744f5e9ec9a11edf74d860%29%0A%20%20%20%20%20%20%20%20%3B%0A%0A%20%20%20%20%20%20%20%20%0A%20%20%20%20%0A%20%20%20%20%0A%20%20%20%20%20%20%20%20%20%20%20%20var%20marker_50dfef807a2845caa181dfe2abcb603c%20%3D%20L.marker%28%0A%20%20%20%20%20%20%20%20%20%20%20%20%20%20%20%20%5B47.06687%2C%2015.431343%5D%2C%0A%20%20%20%20%20%20%20%20%20%20%20%20%20%20%20%20%7B%7D%0A%20%20%20%20%20%20%20%20%20%20%20%20%29.addTo%28map_3e5dcb81ffc4491bb03deec69db93662%29%3B%0A%20%20%20%20%20%20%20%20%0A%20%20%20%20%0A%20%20%20%20%20%20%20%20%20%20%20%20var%20icon_5898663a9189448c998598f0548ec338%20%3D%20L.AwesomeMarkers.icon%28%0A%20%20%20%20%20%20%20%20%20%20%20%20%20%20%20%20%7B%22extraClasses%22%3A%20%22fa-rotate-0%22%2C%20%22icon%22%3A%20%22info-sign%22%2C%20%22iconColor%22%3A%20%22white%22%2C%20%22markerColor%22%3A%20%22red%22%2C%20%22prefix%22%3A%20%22glyphicon%22%7D%0A%20%20%20%20%20%20%20%20%20%20%20%20%29%3B%0A%20%20%20%20%20%20%20%20%20%20%20%20marker_50dfef807a2845caa181dfe2abcb603c.setIcon%28icon_5898663a9189448c998598f0548ec338%29%3B%0A%20%20%20%20%20%20%20%20%0A%20%20%20%20%0A%20%20%20%20%20%20%20%20var%20popup_80e73d2ef1ee4f2cb2f54ad06a522e36%20%3D%20L.popup%28%7B%22maxWidth%22%3A%20%22100%25%22%7D%29%3B%0A%0A%20%20%20%20%20%20%20%20%0A%20%20%20%20%20%20%20%20%20%20%20%20var%20html_ae61cde46ca44d75ac3d23f1f394353f%20%3D%20%24%28%60%3Cdiv%20id%3D%22html_ae61cde46ca44d75ac3d23f1f394353f%22%20style%3D%22width%3A%20100.0%25%3B%20height%3A%20100.0%25%3B%22%3EDonBosco_8020_119%3C/div%3E%60%29%5B0%5D%3B%0A%20%20%20%20%20%20%20%20%20%20%20%20popup_80e73d2ef1ee4f2cb2f54ad06a522e36.setContent%28html_ae61cde46ca44d75ac3d23f1f394353f%29%3B%0A%20%20%20%20%20%20%20%20%0A%0A%20%20%20%20%20%20%20%20marker_50dfef807a2845caa181dfe2abcb603c.bindPopup%28popup_80e73d2ef1ee4f2cb2f54ad06a522e36%29%0A%20%20%20%20%20%20%20%20%3B%0A%0A%20%20%20%20%20%20%20%20%0A%20%20%20%20%0A%20%20%20%20%0A%0A%20%20%20%20%20%20%20%20function%20geo_json_2234313b255148e0bdf12ed2f46bd3cd_onEachFeature%28feature%2C%20layer%29%20%7B%0A%20%20%20%20%20%20%20%20%20%20%20%20layer.on%28%7B%0A%20%20%20%20%20%20%20%20%20%20%20%20%7D%29%3B%0A%20%20%20%20%20%20%20%20%7D%3B%0A%20%20%20%20%20%20%20%20var%20geo_json_2234313b255148e0bdf12ed2f46bd3cd%20%3D%20L.geoJson%28null%2C%20%7B%0A%20%20%20%20%20%20%20%20%20%20%20%20%20%20%20%20onEachFeature%3A%20geo_json_2234313b255148e0bdf12ed2f46bd3cd_onEachFeature%2C%0A%20%20%20%20%20%20%20%20%20%20%20%20%0A%20%20%20%20%20%20%20%20%7D%29%3B%0A%0A%20%20%20%20%20%20%20%20function%20geo_json_2234313b255148e0bdf12ed2f46bd3cd_add%20%28data%29%20%7B%0A%20%20%20%20%20%20%20%20%20%20%20%20geo_json_2234313b255148e0bdf12ed2f46bd3cd%0A%20%20%20%20%20%20%20%20%20%20%20%20%20%20%20%20.addData%28data%29%0A%20%20%20%20%20%20%20%20%20%20%20%20%20%20%20%20.addTo%28map_3e5dcb81ffc4491bb03deec69db93662%29%3B%0A%20%20%20%20%20%20%20%20%7D%0A%20%20%20%20%20%20%20%20%20%20%20%20geo_json_2234313b255148e0bdf12ed2f46bd3cd_add%28%7B%22coordinates%22%3A%20%5B%5B15.41855%2C%2047.0732%5D%2C%20%5B15.41849%2C%2047.07319%5D%2C%20%5B15.41853%2C%2047.07307%5D%2C%20%5B15.41855%2C%2047.07301%5D%2C%20%5B15.41878%2C%2047.07249%5D%2C%20%5B15.41885%2C%2047.07232%5D%2C%20%5B15.4191%2C%2047.07175%5D%2C%20%5B15.41916%2C%2047.07162%5D%2C%20%5B15.41922%2C%2047.07148%5D%2C%20%5B15.41931%2C%2047.07137%5D%2C%20%5B15.41933%2C%2047.07129%5D%2C%20%5B15.41949%2C%2047.0713%5D%2C%20%5B15.41958%2C%2047.0713%5D%2C%20%5B15.42015%2C%2047.07134%5D%2C%20%5B15.42064%2C%2047.07135%5D%2C%20%5B15.42128%2C%2047.07136%5D%2C%20%5B15.42134%2C%2047.07139%5D%2C%20%5B15.42136%2C%2047.0714%5D%2C%20%5B15.42182%2C%2047.07136%5D%2C%20%5B15.42273%2C%2047.07132%5D%2C%20%5B15.42284%2C%2047.07132%5D%2C%20%5B15.42288%2C%2047.07131%5D%2C%20%5B15.42451%2C%2047.07125%5D%2C%20%5B15.42467%2C%2047.07124%5D%2C%20%5B15.42481%2C%2047.07123%5D%2C%20%5B15.4264%2C%2047.07116%5D%2C%20%5B15.4272%2C%2047.07113%5D%2C%20%5B15.42736%2C%2047.07112%5D%2C%20%5B15.42848%2C%2047.07107%5D%2C%20%5B15.42877%2C%2047.07106%5D%2C%20%5B15.42875%2C%2047.07105%5D%2C%20%5B15.42845%2C%2047.0708%5D%2C%20%5B15.4281%2C%2047.07045%5D%2C%20%5B15.42806%2C%2047.07041%5D%2C%20%5B15.42775%2C%2047.07012%5D%2C%20%5B15.42763%2C%2047.06993%5D%2C%20%5B15.42756%2C%2047.06982%5D%2C%20%5B15.42728%2C%2047.06935%5D%2C%20%5B15.42704%2C%2047.06897%5D%2C%20%5B15.42701%2C%2047.0689%5D%2C%20%5B15.42699%2C%2047.06884%5D%2C%20%5B15.4269%2C%2047.06852%5D%2C%20%5B15.42686%2C%2047.06838%5D%2C%20%5B15.42685%2C%2047.06822%5D%2C%20%5B15.42688%2C%2047.068%5D%2C%20%5B15.427%2C%2047.06752%5D%2C%20%5B15.42704%2C%2047.06737%5D%2C%20%5B15.42708%2C%2047.06722%5D%2C%20%5B15.4271%2C%2047.06692%5D%2C%20%5B15.4271%2C%2047.06687%5D%2C%20%5B15.42711%2C%2047.06679%5D%2C%20%5B15.4271%2C%2047.06674%5D%2C%20%5B15.42709%2C%2047.06666%5D%2C%20%5B15.42705%2C%2047.06652%5D%2C%20%5B15.42729%2C%2047.06656%5D%2C%20%5B15.42732%2C%2047.06656%5D%2C%20%5B15.42742%2C%2047.06658%5D%2C%20%5B15.42755%2C%2047.0666%5D%2C%20%5B15.42779%2C%2047.06663%5D%2C%20%5B15.42848%2C%2047.06674%5D%2C%20%5B15.4288%2C%2047.06678%5D%2C%20%5B15.42919%2C%2047.06678%5D%2C%20%5B15.43008%2C%2047.06677%5D%2C%20%5B15.43045%2C%2047.06677%5D%2C%20%5B15.43086%2C%2047.06678%5D%2C%20%5B15.43087%2C%2047.06678%5D%2C%20%5B15.43122%2C%2047.06684%5D%2C%20%5B15.43127%2C%2047.06684%5D%2C%20%5B15.43137%2C%2047.06678%5D%2C%20%5B15.43145%2C%2047.06671%5D%2C%20%5B15.43148%2C%2047.06664%5D%2C%20%5B15.43165%2C%2047.0666%5D%2C%20%5B15.43179%2C%2047.06655%5D%2C%20%5B15.43173%2C%2047.06664%5D%2C%20%5B15.43153%2C%2047.06681%5D%2C%20%5B15.43142%2C%2047.06685%5D%2C%20%5B15.43134%2C%2047.06686%5D%5D%2C%20%22type%22%3A%20%22LineString%22%7D%29%3B%0A%0A%20%20%20%20%20%20%20%20%0A%20%20%20%20%0A%20%20%20%20%20%20%20%20var%20popup_7c798dfbe4c0419f8d524032e45ec593%20%3D%20L.popup%28%7B%22maxWidth%22%3A%20300%7D%29%3B%0A%0A%20%20%20%20%20%20%20%20%0A%20%20%20%20%20%20%20%20%20%20%20%20var%20html_6c9fb5f9ce244c1685a4656d4cded9f1%20%3D%20%24%28%60%3Cdiv%20id%3D%22html_6c9fb5f9ce244c1685a4656d4cded9f1%22%20style%3D%22width%3A%20100.0%25%3B%20height%3A%20100.0%25%3B%22%3E%3Ch4%3E%20%3Cb%3EDistance%20%3A%26nbsp%3Cstrong%3E1.9%20Km%20%3C/strong%3E%3C/h4%3E%3C/b%3E%3Ch4%3E%20%3Cb%3EDuration%20%3A%26nbsp%3Cstrong%3E5.1%20Mins.%20%3C/strong%3E%3C/h4%3E%3C/b%3E%3C/div%3E%60%29%5B0%5D%3B%0A%20%20%20%20%20%20%20%20%20%20%20%20popup_7c798dfbe4c0419f8d524032e45ec593.setContent%28html_6c9fb5f9ce244c1685a4656d4cded9f1%29%3B%0A%20%20%20%20%20%20%20%20%0A%0A%20%20%20%20%20%20%20%20geo_json_2234313b255148e0bdf12ed2f46bd3cd.bindPopup%28popup_7c798dfbe4c0419f8d524032e45ec593%29%0A%20%20%20%20%20%20%20%20%3B%0A%0A%20%20%20%20%20%20%20%20%0A%20%20%20%20%0A%20%20%20%20%0A%20%20%20%20%20%20%20%20%20%20%20%20var%20marker_083eb8b8962843aa8edda2650c1ae41e%20%3D%20L.marker%28%0A%20%20%20%20%20%20%20%20%20%20%20%20%20%20%20%20%5B47.073193%2C%2015.418547%5D%2C%0A%20%20%20%20%20%20%20%20%20%20%20%20%20%20%20%20%7B%7D%0A%20%20%20%20%20%20%20%20%20%20%20%20%29.addTo%28map_3e5dcb81ffc4491bb03deec69db93662%29%3B%0A%20%20%20%20%20%20%20%20%0A%20%20%20%20%0A%20%20%20%20%20%20%20%20%20%20%20%20var%20icon_ec358e11823f4007a937629885a91ae5%20%3D%20L.AwesomeMarkers.icon%28%0A%20%20%20%20%20%20%20%20%20%20%20%20%20%20%20%20%7B%22extraClasses%22%3A%20%22fa-rotate-0%22%2C%20%22icon%22%3A%20%22info-sign%22%2C%20%22iconColor%22%3A%20%22white%22%2C%20%22markerColor%22%3A%20%22green%22%2C%20%22prefix%22%3A%20%22glyphicon%22%7D%0A%20%20%20%20%20%20%20%20%20%20%20%20%29%3B%0A%20%20%20%20%20%20%20%20%20%20%20%20marker_083eb8b8962843aa8edda2650c1ae41e.setIcon%28icon_ec358e11823f4007a937629885a91ae5%29%3B%0A%20%20%20%20%20%20%20%20%0A%20%20%20%20%0A%20%20%20%20%20%20%20%20var%20popup_55438d115d2046b28a2206ccf4455547%20%3D%20L.popup%28%7B%22maxWidth%22%3A%20%22100%25%22%7D%29%3B%0A%0A%20%20%20%20%20%20%20%20%0A%20%20%20%20%20%20%20%20%20%20%20%20var%20html_ae0491e891d74a8abab80e23e69cd7d7%20%3D%20%24%28%60%3Cdiv%20id%3D%22html_ae0491e891d74a8abab80e23e69cd7d7%22%20style%3D%22width%3A%20100.0%25%3B%20height%3A%20100.0%25%3B%22%3EWest_8020_103%3C/div%3E%60%29%5B0%5D%3B%0A%20%20%20%20%20%20%20%20%20%20%20%20popup_55438d115d2046b28a2206ccf4455547.setContent%28html_ae0491e891d74a8abab80e23e69cd7d7%29%3B%0A%20%20%20%20%20%20%20%20%0A%0A%20%20%20%20%20%20%20%20marker_083eb8b8962843aa8edda2650c1ae41e.bindPopup%28popup_55438d115d2046b28a2206ccf4455547%29%0A%20%20%20%20%20%20%20%20%3B%0A%0A%20%20%20%20%20%20%20%20%0A%20%20%20%20%0A%20%20%20%20%0A%20%20%20%20%20%20%20%20%20%20%20%20var%20marker_6a1dadb0e18e4a358051e8e299f890c6%20%3D%20L.marker%28%0A%20%20%20%20%20%20%20%20%20%20%20%20%20%20%20%20%5B47.06687%2C%2015.431343%5D%2C%0A%20%20%20%20%20%20%20%20%20%20%20%20%20%20%20%20%7B%7D%0A%20%20%20%20%20%20%20%20%20%20%20%20%29.addTo%28map_3e5dcb81ffc4491bb03deec69db93662%29%3B%0A%20%20%20%20%20%20%20%20%0A%20%20%20%20%0A%20%20%20%20%20%20%20%20%20%20%20%20var%20icon_a1b5bd3aa95e41fa80e10b04c1360771%20%3D%20L.AwesomeMarkers.icon%28%0A%20%20%20%20%20%20%20%20%20%20%20%20%20%20%20%20%7B%22extraClasses%22%3A%20%22fa-rotate-0%22%2C%20%22icon%22%3A%20%22info-sign%22%2C%20%22iconColor%22%3A%20%22white%22%2C%20%22markerColor%22%3A%20%22red%22%2C%20%22prefix%22%3A%20%22glyphicon%22%7D%0A%20%20%20%20%20%20%20%20%20%20%20%20%29%3B%0A%20%20%20%20%20%20%20%20%20%20%20%20marker_6a1dadb0e18e4a358051e8e299f890c6.setIcon%28icon_a1b5bd3aa95e41fa80e10b04c1360771%29%3B%0A%20%20%20%20%20%20%20%20%0A%20%20%20%20%0A%20%20%20%20%20%20%20%20var%20popup_faa12f38e752455db254713c4d6a3d6f%20%3D%20L.popup%28%7B%22maxWidth%22%3A%20%22100%25%22%7D%29%3B%0A%0A%20%20%20%20%20%20%20%20%0A%20%20%20%20%20%20%20%20%20%20%20%20var%20html_ecd11e42671a435eb9359cd6a06662be%20%3D%20%24%28%60%3Cdiv%20id%3D%22html_ecd11e42671a435eb9359cd6a06662be%22%20style%3D%22width%3A%20100.0%25%3B%20height%3A%20100.0%25%3B%22%3EDonBosco_8020_119%3C/div%3E%60%29%5B0%5D%3B%0A%20%20%20%20%20%20%20%20%20%20%20%20popup_faa12f38e752455db254713c4d6a3d6f.setContent%28html_ecd11e42671a435eb9359cd6a06662be%29%3B%0A%20%20%20%20%20%20%20%20%0A%0A%20%20%20%20%20%20%20%20marker_6a1dadb0e18e4a358051e8e299f890c6.bindPopup%28popup_faa12f38e752455db254713c4d6a3d6f%29%0A%20%20%20%20%20%20%20%20%3B%0A%0A%20%20%20%20%20%20%20%20%0A%20%20%20%20%0A%20%20%20%20%0A%0A%20%20%20%20%20%20%20%20function%20geo_json_a52ce78a6ef146afa7cbdb592f23d3fe_onEachFeature%28feature%2C%20layer%29%20%7B%0A%20%20%20%20%20%20%20%20%20%20%20%20layer.on%28%7B%0A%20%20%20%20%20%20%20%20%20%20%20%20%7D%29%3B%0A%20%20%20%20%20%20%20%20%7D%3B%0A%20%20%20%20%20%20%20%20var%20geo_json_a52ce78a6ef146afa7cbdb592f23d3fe%20%3D%20L.geoJson%28null%2C%20%7B%0A%20%20%20%20%20%20%20%20%20%20%20%20%20%20%20%20onEachFeature%3A%20geo_json_a52ce78a6ef146afa7cbdb592f23d3fe_onEachFeature%2C%0A%20%20%20%20%20%20%20%20%20%20%20%20%0A%20%20%20%20%20%20%20%20%7D%29%3B%0A%0A%20%20%20%20%20%20%20%20function%20geo_json_a52ce78a6ef146afa7cbdb592f23d3fe_add%20%28data%29%20%7B%0A%20%20%20%20%20%20%20%20%20%20%20%20geo_json_a52ce78a6ef146afa7cbdb592f23d3fe%0A%20%20%20%20%20%20%20%20%20%20%20%20%20%20%20%20.addData%28data%29%0A%20%20%20%20%20%20%20%20%20%20%20%20%20%20%20%20.addTo%28map_3e5dcb81ffc4491bb03deec69db93662%29%3B%0A%20%20%20%20%20%20%20%20%7D%0A%20%20%20%20%20%20%20%20%20%20%20%20geo_json_a52ce78a6ef146afa7cbdb592f23d3fe_add%28%7B%22coordinates%22%3A%20%5B%5B15.42973%2C%2047.04565%5D%2C%20%5B15.42975%2C%2047.04565%5D%2C%20%5B15.42983%2C%2047.04566%5D%2C%20%5B15.42983%2C%2047.04567%5D%2C%20%5B15.42971%2C%2047.04611%5D%2C%20%5B15.4295%2C%2047.0467%5D%2C%20%5B15.42941%2C%2047.04706%5D%2C%20%5B15.42938%2C%2047.04725%5D%2C%20%5B15.42936%2C%2047.04765%5D%2C%20%5B15.42911%2C%2047.04878%5D%2C%20%5B15.42893%2C%2047.04943%5D%2C%20%5B15.42892%2C%2047.04948%5D%2C%20%5B15.42881%2C%2047.04996%5D%2C%20%5B15.4286%2C%2047.0509%5D%2C%20%5B15.42858%2C%2047.05097%5D%2C%20%5B15.42855%2C%2047.05111%5D%2C%20%5B15.4285%2C%2047.05126%5D%2C%20%5B15.42849%2C%2047.05129%5D%2C%20%5B15.42842%2C%2047.0516%5D%2C%20%5B15.42841%2C%2047.05166%5D%2C%20%5B15.4284%2C%2047.05176%5D%2C%20%5B15.42838%2C%2047.05183%5D%2C%20%5B15.42829%2C%2047.05221%5D%2C%20%5B15.42826%2C%2047.05234%5D%2C%20%5B15.42791%2C%2047.05376%5D%2C%20%5B15.42769%2C%2047.0545%5D%2C%20%5B15.42764%2C%2047.0547%5D%2C%20%5B15.42763%2C%2047.05473%5D%2C%20%5B15.42738%2C%2047.05559%5D%2C%20%5B15.42736%2C%2047.05567%5D%2C%20%5B15.4273%2C%2047.05588%5D%2C%20%5B15.42709%2C%2047.05678%5D%2C%20%5B15.42707%2C%2047.05684%5D%2C%20%5B15.42704%2C%2047.05694%5D%2C%20%5B15.427%2C%2047.05707%5D%2C%20%5B15.42686%2C%2047.05748%5D%2C%20%5B15.42681%2C%2047.05764%5D%2C%20%5B15.42677%2C%2047.05777%5D%2C%20%5B15.42656%2C%2047.05824%5D%2C%20%5B15.42647%2C%2047.05849%5D%2C%20%5B15.42635%2C%2047.0588%5D%2C%20%5B15.4262%2C%2047.05919%5D%2C%20%5B15.42619%2C%2047.05924%5D%2C%20%5B15.42615%2C%2047.05936%5D%2C%20%5B15.4261%2C%2047.05948%5D%2C%20%5B15.42598%2C%2047.05969%5D%2C%20%5B15.42586%2C%2047.05991%5D%2C%20%5B15.42574%2C%2047.06004%5D%2C%20%5B15.42541%2C%2047.06055%5D%2C%20%5B15.42534%2C%2047.06068%5D%2C%20%5B15.42491%2C%2047.06134%5D%2C%20%5B15.4247%2C%2047.06167%5D%2C%20%5B15.4246%2C%2047.06187%5D%2C%20%5B15.42449%2C%2047.06205%5D%2C%20%5B15.42413%2C%2047.06255%5D%2C%20%5B15.4241%2C%2047.06258%5D%2C%20%5B15.42402%2C%2047.06267%5D%2C%20%5B15.4241%2C%2047.06274%5D%2C%20%5B15.42415%2C%2047.06279%5D%2C%20%5B15.42422%2C%2047.06288%5D%2C%20%5B15.4243%2C%2047.06311%5D%2C%20%5B15.42439%2C%2047.06335%5D%2C%20%5B15.4244%2C%2047.06338%5D%2C%20%5B15.42453%2C%2047.06358%5D%2C%20%5B15.42455%2C%2047.06361%5D%2C%20%5B15.42462%2C%2047.06369%5D%2C%20%5B15.42485%2C%2047.06397%5D%2C%20%5B15.42526%2C%2047.06449%5D%2C%20%5B15.42531%2C%2047.06455%5D%2C%20%5B15.42564%2C%2047.06497%5D%2C%20%5B15.42605%2C%2047.06545%5D%2C%20%5B15.42653%2C%2047.06604%5D%2C%20%5B15.42665%2C%2047.0662%5D%2C%20%5B15.42679%2C%2047.06636%5D%2C%20%5B15.42705%2C%2047.06652%5D%2C%20%5B15.42729%2C%2047.06656%5D%2C%20%5B15.42732%2C%2047.06656%5D%2C%20%5B15.42742%2C%2047.06658%5D%2C%20%5B15.42755%2C%2047.0666%5D%2C%20%5B15.42779%2C%2047.06663%5D%2C%20%5B15.42848%2C%2047.06674%5D%2C%20%5B15.4288%2C%2047.06678%5D%2C%20%5B15.42919%2C%2047.06678%5D%2C%20%5B15.43008%2C%2047.06677%5D%2C%20%5B15.43045%2C%2047.06677%5D%2C%20%5B15.43086%2C%2047.06678%5D%2C%20%5B15.43087%2C%2047.06678%5D%2C%20%5B15.43122%2C%2047.06684%5D%2C%20%5B15.43127%2C%2047.06684%5D%2C%20%5B15.43137%2C%2047.06678%5D%2C%20%5B15.43145%2C%2047.06671%5D%2C%20%5B15.43148%2C%2047.06664%5D%2C%20%5B15.43165%2C%2047.0666%5D%2C%20%5B15.43179%2C%2047.06655%5D%2C%20%5B15.43173%2C%2047.06664%5D%2C%20%5B15.43153%2C%2047.06681%5D%2C%20%5B15.43142%2C%2047.06685%5D%2C%20%5B15.43134%2C%2047.06686%5D%5D%2C%20%22type%22%3A%20%22LineString%22%7D%29%3B%0A%0A%20%20%20%20%20%20%20%20%0A%20%20%20%20%0A%20%20%20%20%20%20%20%20var%20popup_aee384628cc64896b4eeca611a283464%20%3D%20L.popup%28%7B%22maxWidth%22%3A%20300%7D%29%3B%0A%0A%20%20%20%20%20%20%20%20%0A%20%20%20%20%20%20%20%20%20%20%20%20var%20html_95f69a45424e43f2895863c010584f87%20%3D%20%24%28%60%3Cdiv%20id%3D%22html_95f69a45424e43f2895863c010584f87%22%20style%3D%22width%3A%20100.0%25%3B%20height%3A%20100.0%25%3B%22%3E%3Ch4%3E%20%3Cb%3EDistance%20%3A%26nbsp%3Cstrong%3E2.9%20Km%20%3C/strong%3E%3C/h4%3E%3C/b%3E%3Ch4%3E%20%3Cb%3EDuration%20%3A%26nbsp%3Cstrong%3E6.4%20Mins.%20%3C/strong%3E%3C/h4%3E%3C/b%3E%3C/div%3E%60%29%5B0%5D%3B%0A%20%20%20%20%20%20%20%20%20%20%20%20popup_aee384628cc64896b4eeca611a283464.setContent%28html_95f69a45424e43f2895863c010584f87%29%3B%0A%20%20%20%20%20%20%20%20%0A%0A%20%20%20%20%20%20%20%20geo_json_a52ce78a6ef146afa7cbdb592f23d3fe.bindPopup%28popup_aee384628cc64896b4eeca611a283464%29%0A%20%20%20%20%20%20%20%20%3B%0A%0A%20%20%20%20%20%20%20%20%0A%20%20%20%20%0A%20%20%20%20%0A%20%20%20%20%20%20%20%20%20%20%20%20var%20marker_564a2d19b1e84df8a0d0417919944545%20%3D%20L.marker%28%0A%20%20%20%20%20%20%20%20%20%20%20%20%20%20%20%20%5B47.045648%2C%2015.429734%5D%2C%0A%20%20%20%20%20%20%20%20%20%20%20%20%20%20%20%20%7B%7D%0A%20%20%20%20%20%20%20%20%20%20%20%20%29.addTo%28map_3e5dcb81ffc4491bb03deec69db93662%29%3B%0A%20%20%20%20%20%20%20%20%0A%20%20%20%20%0A%20%20%20%20%20%20%20%20%20%20%20%20var%20icon_2fca250c837549749589ac338bdb5c99%20%3D%20L.AwesomeMarkers.icon%28%0A%20%20%20%20%20%20%20%20%20%20%20%20%20%20%20%20%7B%22extraClasses%22%3A%20%22fa-rotate-0%22%2C%20%22icon%22%3A%20%22info-sign%22%2C%20%22iconColor%22%3A%20%22white%22%2C%20%22markerColor%22%3A%20%22green%22%2C%20%22prefix%22%3A%20%22glyphicon%22%7D%0A%20%20%20%20%20%20%20%20%20%20%20%20%29%3B%0A%20%20%20%20%20%20%20%20%20%20%20%20marker_564a2d19b1e84df8a0d0417919944545.setIcon%28icon_2fca250c837549749589ac338bdb5c99%29%3B%0A%20%20%20%20%20%20%20%20%0A%20%20%20%20%0A%20%20%20%20%20%20%20%20var%20popup_1d70e33424f941ceb40ca6906f1ea396%20%3D%20L.popup%28%7B%22maxWidth%22%3A%20%22100%25%22%7D%29%3B%0A%0A%20%20%20%20%20%20%20%20%0A%20%20%20%20%20%20%20%20%20%20%20%20var%20html_f82a8392a40640d89af7ecaa0a4cf5c8%20%3D%20%24%28%60%3Cdiv%20id%3D%22html_f82a8392a40640d89af7ecaa0a4cf5c8%22%20style%3D%22width%3A%20100.0%25%3B%20height%3A%20100.0%25%3B%22%3ESud_8020_107%3C/div%3E%60%29%5B0%5D%3B%0A%20%20%20%20%20%20%20%20%20%20%20%20popup_1d70e33424f941ceb40ca6906f1ea396.setContent%28html_f82a8392a40640d89af7ecaa0a4cf5c8%29%3B%0A%20%20%20%20%20%20%20%20%0A%0A%20%20%20%20%20%20%20%20marker_564a2d19b1e84df8a0d0417919944545.bindPopup%28popup_1d70e33424f941ceb40ca6906f1ea396%29%0A%20%20%20%20%20%20%20%20%3B%0A%0A%20%20%20%20%20%20%20%20%0A%20%20%20%20%0A%20%20%20%20%0A%20%20%20%20%20%20%20%20%20%20%20%20var%20marker_89ad9bd2cd13470cb0035dfba7051241%20%3D%20L.marker%28%0A%20%20%20%20%20%20%20%20%20%20%20%20%20%20%20%20%5B47.06687%2C%2015.431343%5D%2C%0A%20%20%20%20%20%20%20%20%20%20%20%20%20%20%20%20%7B%7D%0A%20%20%20%20%20%20%20%20%20%20%20%20%29.addTo%28map_3e5dcb81ffc4491bb03deec69db93662%29%3B%0A%20%20%20%20%20%20%20%20%0A%20%20%20%20%0A%20%20%20%20%20%20%20%20%20%20%20%20var%20icon_68d2fc4ce83b4b0bb7d2ac04f6a33e43%20%3D%20L.AwesomeMarkers.icon%28%0A%20%20%20%20%20%20%20%20%20%20%20%20%20%20%20%20%7B%22extraClasses%22%3A%20%22fa-rotate-0%22%2C%20%22icon%22%3A%20%22info-sign%22%2C%20%22iconColor%22%3A%20%22white%22%2C%20%22markerColor%22%3A%20%22red%22%2C%20%22prefix%22%3A%20%22glyphicon%22%7D%0A%20%20%20%20%20%20%20%20%20%20%20%20%29%3B%0A%20%20%20%20%20%20%20%20%20%20%20%20marker_89ad9bd2cd13470cb0035dfba7051241.setIcon%28icon_68d2fc4ce83b4b0bb7d2ac04f6a33e43%29%3B%0A%20%20%20%20%20%20%20%20%0A%20%20%20%20%0A%20%20%20%20%20%20%20%20var%20popup_40ec38cde350443a8e9d65f5a4d84325%20%3D%20L.popup%28%7B%22maxWidth%22%3A%20%22100%25%22%7D%29%3B%0A%0A%20%20%20%20%20%20%20%20%0A%20%20%20%20%20%20%20%20%20%20%20%20var%20html_44c9fd2a9aad43aaa3cf89b5dd1ce89b%20%3D%20%24%28%60%3Cdiv%20id%3D%22html_44c9fd2a9aad43aaa3cf89b5dd1ce89b%22%20style%3D%22width%3A%20100.0%25%3B%20height%3A%20100.0%25%3B%22%3EDonBosco_8020_119%3C/div%3E%60%29%5B0%5D%3B%0A%20%20%20%20%20%20%20%20%20%20%20%20popup_40ec38cde350443a8e9d65f5a4d84325.setContent%28html_44c9fd2a9aad43aaa3cf89b5dd1ce89b%29%3B%0A%20%20%20%20%20%20%20%20%0A%0A%20%20%20%20%20%20%20%20marker_89ad9bd2cd13470cb0035dfba7051241.bindPopup%28popup_40ec38cde350443a8e9d65f5a4d84325%29%0A%20%20%20%20%20%20%20%20%3B%0A%0A%20%20%20%20%20%20%20%20%0A%20%20%20%20%0A%20%20%20%20%0A%0A%20%20%20%20%20%20%20%20function%20geo_json_ee25e13daa9d45ef8e8d939219d3cc26_onEachFeature%28feature%2C%20layer%29%20%7B%0A%20%20%20%20%20%20%20%20%20%20%20%20layer.on%28%7B%0A%20%20%20%20%20%20%20%20%20%20%20%20%7D%29%3B%0A%20%20%20%20%20%20%20%20%7D%3B%0A%20%20%20%20%20%20%20%20var%20geo_json_ee25e13daa9d45ef8e8d939219d3cc26%20%3D%20L.geoJson%28null%2C%20%7B%0A%20%20%20%20%20%20%20%20%20%20%20%20%20%20%20%20onEachFeature%3A%20geo_json_ee25e13daa9d45ef8e8d939219d3cc26_onEachFeature%2C%0A%20%20%20%20%20%20%20%20%20%20%20%20%0A%20%20%20%20%20%20%20%20%7D%29%3B%0A%0A%20%20%20%20%20%20%20%20function%20geo_json_ee25e13daa9d45ef8e8d939219d3cc26_add%20%28data%29%20%7B%0A%20%20%20%20%20%20%20%20%20%20%20%20geo_json_ee25e13daa9d45ef8e8d939219d3cc26%0A%20%20%20%20%20%20%20%20%20%20%20%20%20%20%20%20.addData%28data%29%0A%20%20%20%20%20%20%20%20%20%20%20%20%20%20%20%20.addTo%28map_3e5dcb81ffc4491bb03deec69db93662%29%3B%0A%20%20%20%20%20%20%20%20%7D%0A%20%20%20%20%20%20%20%20%20%20%20%20geo_json_ee25e13daa9d45ef8e8d939219d3cc26_add%28%7B%22coordinates%22%3A%20%5B%5B15.45899%2C%2047.0402%5D%2C%20%5B15.45895%2C%2047.04031%5D%2C%20%5B15.45892%2C%2047.04046%5D%2C%20%5B15.45891%2C%2047.04049%5D%2C%20%5B15.45891%2C%2047.0405%5D%2C%20%5B15.45886%2C%2047.04079%5D%2C%20%5B15.45885%2C%2047.04087%5D%2C%20%5B15.45885%2C%2047.0409%5D%2C%20%5B15.45884%2C%2047.04098%5D%2C%20%5B15.45882%2C%2047.04107%5D%2C%20%5B15.45879%2C%2047.04119%5D%2C%20%5B15.45877%2C%2047.04128%5D%2C%20%5B15.45863%2C%2047.04175%5D%2C%20%5B15.45861%2C%2047.04182%5D%2C%20%5B15.45855%2C%2047.04201%5D%2C%20%5B15.45851%2C%2047.04216%5D%2C%20%5B15.45847%2C%2047.04226%5D%2C%20%5B15.45842%2C%2047.04236%5D%2C%20%5B15.45825%2C%2047.04271%5D%2C%20%5B15.45822%2C%2047.04277%5D%2C%20%5B15.45816%2C%2047.0429%5D%2C%20%5B15.45806%2C%2047.04307%5D%2C%20%5B15.45797%2C%2047.04321%5D%2C%20%5B15.45786%2C%2047.0434%5D%2C%20%5B15.45781%2C%2047.0435%5D%2C%20%5B15.45779%2C%2047.04355%5D%2C%20%5B15.45775%2C%2047.04368%5D%2C%20%5B15.45766%2C%2047.04416%5D%2C%20%5B15.4576%2C%2047.04438%5D%2C%20%5B15.45752%2C%2047.04454%5D%2C%20%5B15.45744%2C%2047.0447%5D%2C%20%5B15.45733%2C%2047.04485%5D%2C%20%5B15.45696%2C%2047.04533%5D%2C%20%5B15.45665%2C%2047.04573%5D%2C%20%5B15.45663%2C%2047.04577%5D%2C%20%5B15.45651%2C%2047.04592%5D%2C%20%5B15.45637%2C%2047.04613%5D%2C%20%5B15.45623%2C%2047.04645%5D%2C%20%5B15.45619%2C%2047.04655%5D%2C%20%5B15.45608%2C%2047.0468%5D%2C%20%5B15.45602%2C%2047.04689%5D%2C%20%5B15.45597%2C%2047.04702%5D%2C%20%5B15.45594%2C%2047.04708%5D%2C%20%5B15.45592%2C%2047.04717%5D%2C%20%5B15.4559%2C%2047.04721%5D%2C%20%5B15.4559%2C%2047.04726%5D%2C%20%5B15.45589%2C%2047.0473%5D%2C%20%5B15.45567%2C%2047.0473%5D%2C%20%5B15.45494%2C%2047.04739%5D%2C%20%5B15.45481%2C%2047.0474%5D%2C%20%5B15.4547%2C%2047.04741%5D%2C%20%5B15.45449%2C%2047.04741%5D%2C%20%5B15.45387%2C%2047.04741%5D%2C%20%5B15.45379%2C%2047.04742%5D%2C%20%5B15.45374%2C%2047.0474%5D%2C%20%5B15.45367%2C%2047.04737%5D%2C%20%5B15.45362%2C%2047.04735%5D%2C%20%5B15.45342%2C%2047.0473%5D%2C%20%5B15.45336%2C%2047.04728%5D%2C%20%5B15.45317%2C%2047.04723%5D%2C%20%5B15.45307%2C%2047.0472%5D%2C%20%5B15.45291%2C%2047.04716%5D%2C%20%5B15.45285%2C%2047.04714%5D%2C%20%5B15.45222%2C%2047.04703%5D%2C%20%5B15.45215%2C%2047.04702%5D%2C%20%5B15.45206%2C%2047.04701%5D%2C%20%5B15.452%2C%2047.047%5D%2C%20%5B15.45197%2C%2047.04705%5D%2C%20%5B15.45196%2C%2047.04708%5D%2C%20%5B15.45156%2C%2047.04762%5D%2C%20%5B15.45147%2C%2047.04774%5D%2C%20%5B15.45105%2C%2047.04827%5D%2C%20%5B15.45068%2C%2047.04864%5D%2C%20%5B15.44983%2C%2047.04962%5D%2C%20%5B15.44962%2C%2047.04988%5D%2C%20%5B15.44957%2C%2047.04994%5D%2C%20%5B15.44929%2C%2047.05026%5D%2C%20%5B15.4492%2C%2047.05038%5D%2C%20%5B15.44911%2C%2047.05048%5D%2C%20%5B15.44866%2C%2047.05101%5D%2C%20%5B15.44861%2C%2047.05107%5D%2C%20%5B15.44809%2C%2047.05169%5D%2C%20%5B15.44803%2C%2047.05176%5D%2C%20%5B15.44798%2C%2047.05181%5D%2C%20%5B15.44779%2C%2047.05203%5D%2C%20%5B15.4477%2C%2047.05215%5D%2C%20%5B15.44728%2C%2047.05264%5D%2C%20%5B15.44725%2C%2047.05268%5D%2C%20%5B15.44674%2C%2047.05338%5D%2C%20%5B15.4465%2C%2047.05371%5D%2C%20%5B15.44612%2C%2047.05425%5D%2C%20%5B15.44569%2C%2047.05485%5D%2C%20%5B15.44565%2C%2047.05489%5D%2C%20%5B15.44564%2C%2047.05491%5D%2C%20%5B15.44561%2C%2047.05495%5D%2C%20%5B15.44549%2C%2047.0549%5D%2C%20%5B15.44516%2C%2047.05476%5D%2C%20%5B15.44463%2C%2047.05453%5D%2C%20%5B15.44427%2C%2047.05438%5D%2C%20%5B15.44416%2C%2047.05433%5D%2C%20%5B15.44389%2C%2047.05421%5D%2C%20%5B15.44385%2C%2047.0542%5D%2C%20%5B15.44367%2C%2047.05412%5D%2C%20%5B15.44344%2C%2047.05402%5D%2C%20%5B15.44324%2C%2047.05393%5D%2C%20%5B15.44295%2C%2047.05381%5D%2C%20%5B15.44291%2C%2047.05378%5D%2C%20%5B15.44277%2C%2047.05372%5D%2C%20%5B15.44268%2C%2047.05382%5D%2C%20%5B15.44245%2C%2047.05405%5D%2C%20%5B15.44211%2C%2047.05446%5D%2C%20%5B15.44167%2C%2047.05495%5D%2C%20%5B15.44143%2C%2047.05522%5D%2C%20%5B15.44123%2C%2047.05544%5D%2C%20%5B15.44113%2C%2047.05556%5D%2C%20%5B15.44102%2C%2047.05569%5D%2C%20%5B15.44098%2C%2047.05574%5D%2C%20%5B15.44096%2C%2047.05582%5D%2C%20%5B15.44094%2C%2047.05602%5D%2C%20%5B15.44084%2C%2047.05678%5D%2C%20%5B15.44079%2C%2047.05722%5D%2C%20%5B15.44076%2C%2047.05736%5D%2C%20%5B15.44075%2C%2047.05742%5D%2C%20%5B15.44073%2C%2047.05754%5D%2C%20%5B15.4407%2C%2047.05784%5D%2C%20%5B15.44065%2C%2047.05819%5D%2C%20%5B15.44064%2C%2047.05827%5D%2C%20%5B15.44063%2C%2047.05831%5D%2C%20%5B15.44062%2C%2047.05833%5D%2C%20%5B15.44061%2C%2047.05838%5D%2C%20%5B15.44045%2C%2047.05837%5D%2C%20%5B15.43987%2C%2047.05828%5D%2C%20%5B15.43971%2C%2047.05825%5D%2C%20%5B15.43951%2C%2047.05822%5D%2C%20%5B15.43892%2C%2047.05816%5D%2C%20%5B15.43847%2C%2047.05811%5D%2C%20%5B15.43784%2C%2047.05806%5D%2C%20%5B15.43758%2C%2047.05803%5D%2C%20%5B15.43746%2C%2047.05801%5D%2C%20%5B15.43723%2C%2047.05797%5D%2C%20%5B15.43697%2C%2047.05793%5D%2C%20%5B15.43666%2C%2047.05788%5D%2C%20%5B15.43637%2C%2047.05785%5D%2C%20%5B15.43595%2C%2047.05779%5D%2C%20%5B15.43587%2C%2047.05778%5D%2C%20%5B15.43543%2C%2047.05772%5D%2C%20%5B15.43519%2C%2047.05772%5D%2C%20%5B15.4351%2C%2047.05774%5D%2C%20%5B15.43499%2C%2047.05778%5D%2C%20%5B15.4349%2C%2047.05783%5D%2C%20%5B15.43485%2C%2047.05787%5D%2C%20%5B15.43467%2C%2047.0583%5D%2C%20%5B15.43451%2C%2047.05864%5D%2C%20%5B15.43445%2C%2047.05877%5D%2C%20%5B15.43436%2C%2047.05886%5D%2C%20%5B15.43419%2C%2047.05937%5D%2C%20%5B15.43402%2C%2047.05995%5D%2C%20%5B15.434%2C%2047.06002%5D%2C%20%5B15.43397%2C%2047.06011%5D%2C%20%5B15.43394%2C%2047.06023%5D%2C%20%5B15.43381%2C%2047.06071%5D%2C%20%5B15.43381%2C%2047.06075%5D%2C%20%5B15.43365%2C%2047.06147%5D%2C%20%5B15.43362%2C%2047.06169%5D%2C%20%5B15.43362%2C%2047.0619%5D%2C%20%5B15.43366%2C%2047.06234%5D%2C%20%5B15.4337%2C%2047.06265%5D%2C%20%5B15.43372%2C%2047.06287%5D%2C%20%5B15.43374%2C%2047.06308%5D%2C%20%5B15.43388%2C%2047.06395%5D%2C%20%5B15.43388%2C%2047.06397%5D%2C%20%5B15.43391%2C%2047.06413%5D%2C%20%5B15.43394%2C%2047.06425%5D%2C%20%5B15.4341%2C%2047.06425%5D%2C%20%5B15.43506%2C%2047.06419%5D%2C%20%5B15.43514%2C%2047.06419%5D%2C%20%5B15.43523%2C%2047.06419%5D%2C%20%5B15.43528%2C%2047.06424%5D%2C%20%5B15.43531%2C%2047.06429%5D%2C%20%5B15.43541%2C%2047.06456%5D%2C%20%5B15.43555%2C%2047.06518%5D%2C%20%5B15.4356%2C%2047.0654%5D%2C%20%5B15.43561%2C%2047.06544%5D%2C%20%5B15.43562%2C%2047.0655%5D%2C%20%5B15.43562%2C%2047.06609%5D%2C%20%5B15.43563%2C%2047.06624%5D%2C%20%5B15.43564%2C%2047.06634%5D%2C%20%5B15.43546%2C%2047.06635%5D%2C%20%5B15.43535%2C%2047.06635%5D%2C%20%5B15.43444%2C%2047.0664%5D%2C%20%5B15.43439%2C%2047.0664%5D%2C%20%5B15.43429%2C%2047.06641%5D%2C%20%5B15.43414%2C%2047.06641%5D%2C%20%5B15.43383%2C%2047.06642%5D%2C%20%5B15.43329%2C%2047.06645%5D%2C%20%5B15.43314%2C%2047.06645%5D%2C%20%5B15.43255%2C%2047.06649%5D%2C%20%5B15.43191%2C%2047.06652%5D%2C%20%5B15.43179%2C%2047.06655%5D%2C%20%5B15.43173%2C%2047.06664%5D%2C%20%5B15.43153%2C%2047.06681%5D%2C%20%5B15.43142%2C%2047.06685%5D%2C%20%5B15.43134%2C%2047.06686%5D%5D%2C%20%22type%22%3A%20%22LineString%22%7D%29%3B%0A%0A%20%20%20%20%20%20%20%20%0A%20%20%20%20%0A%20%20%20%20%20%20%20%20var%20popup_9ba43d6a7f424a80b76474e94df7044c%20%3D%20L.popup%28%7B%22maxWidth%22%3A%20300%7D%29%3B%0A%0A%20%20%20%20%20%20%20%20%0A%20%20%20%20%20%20%20%20%20%20%20%20var%20html_e6fcb7e86a4240e487c5ced902444b43%20%3D%20%24%28%60%3Cdiv%20id%3D%22html_e6fcb7e86a4240e487c5ced902444b43%22%20style%3D%22width%3A%20100.0%25%3B%20height%3A%20100.0%25%3B%22%3E%3Ch4%3E%20%3Cb%3EDistance%20%3A%26nbsp%3Cstrong%3E4.8%20Km%20%3C/strong%3E%3C/h4%3E%3C/b%3E%3Ch4%3E%20%3Cb%3EDuration%20%3A%26nbsp%3Cstrong%3E10.9%20Mins.%20%3C/strong%3E%3C/h4%3E%3C/b%3E%3C/div%3E%60%29%5B0%5D%3B%0A%20%20%20%20%20%20%20%20%20%20%20%20popup_9ba43d6a7f424a80b76474e94df7044c.setContent%28html_e6fcb7e86a4240e487c5ced902444b43%29%3B%0A%20%20%20%20%20%20%20%20%0A%0A%20%20%20%20%20%20%20%20geo_json_ee25e13daa9d45ef8e8d939219d3cc26.bindPopup%28popup_9ba43d6a7f424a80b76474e94df7044c%29%0A%20%20%20%20%20%20%20%20%3B%0A%0A%20%20%20%20%20%20%20%20%0A%20%20%20%20%0A%20%20%20%20%0A%20%20%20%20%20%20%20%20%20%20%20%20var%20marker_b8ce29f455d24a948b2aae1f7b8b9f64%20%3D%20L.marker%28%0A%20%20%20%20%20%20%20%20%20%20%20%20%20%20%20%20%5B47.040197%2C%2015.458994%5D%2C%0A%20%20%20%20%20%20%20%20%20%20%20%20%20%20%20%20%7B%7D%0A%20%20%20%20%20%20%20%20%20%20%20%20%29.addTo%28map_3e5dcb81ffc4491bb03deec69db93662%29%3B%0A%20%20%20%20%20%20%20%20%0A%20%20%20%20%0A%20%20%20%20%20%20%20%20%20%20%20%20var%20icon_2b62969d70054111b34c276c1d12e1fc%20%3D%20L.AwesomeMarkers.icon%28%0A%20%20%20%20%20%20%20%20%20%20%20%20%20%20%20%20%7B%22extraClasses%22%3A%20%22fa-rotate-0%22%2C%20%22icon%22%3A%20%22info-sign%22%2C%20%22iconColor%22%3A%20%22white%22%2C%20%22markerColor%22%3A%20%22green%22%2C%20%22prefix%22%3A%20%22glyphicon%22%7D%0A%20%20%20%20%20%20%20%20%20%20%20%20%29%3B%0A%20%20%20%20%20%20%20%20%20%20%20%20marker_b8ce29f455d24a948b2aae1f7b8b9f64.setIcon%28icon_2b62969d70054111b34c276c1d12e1fc%29%3B%0A%20%20%20%20%20%20%20%20%0A%20%20%20%20%0A%20%20%20%20%20%20%20%20var%20popup_8899e01f6e3a4112ad2ed54bf30c8db7%20%3D%20L.popup%28%7B%22maxWidth%22%3A%20%22100%25%22%7D%29%3B%0A%0A%20%20%20%20%20%20%20%20%0A%20%20%20%20%20%20%20%20%20%20%20%20var%20html_b9531491027e419ba3a62c11d2a45ce7%20%3D%20%24%28%60%3Cdiv%20id%3D%22html_b9531491027e419ba3a62c11d2a45ce7%22%20style%3D%22width%3A%20100.0%25%3B%20height%3A%20100.0%25%3B%22%3ESud_8041_218%3C/div%3E%60%29%5B0%5D%3B%0A%20%20%20%20%20%20%20%20%20%20%20%20popup_8899e01f6e3a4112ad2ed54bf30c8db7.setContent%28html_b9531491027e419ba3a62c11d2a45ce7%29%3B%0A%20%20%20%20%20%20%20%20%0A%0A%20%20%20%20%20%20%20%20marker_b8ce29f455d24a948b2aae1f7b8b9f64.bindPopup%28popup_8899e01f6e3a4112ad2ed54bf30c8db7%29%0A%20%20%20%20%20%20%20%20%3B%0A%0A%20%20%20%20%20%20%20%20%0A%20%20%20%20%0A%20%20%20%20%0A%20%20%20%20%20%20%20%20%20%20%20%20var%20marker_2e9baca8606a408187a4a1baafd37cd3%20%3D%20L.marker%28%0A%20%20%20%20%20%20%20%20%20%20%20%20%20%20%20%20%5B47.06687%2C%2015.431343%5D%2C%0A%20%20%20%20%20%20%20%20%20%20%20%20%20%20%20%20%7B%7D%0A%20%20%20%20%20%20%20%20%20%20%20%20%29.addTo%28map_3e5dcb81ffc4491bb03deec69db93662%29%3B%0A%20%20%20%20%20%20%20%20%0A%20%20%20%20%0A%20%20%20%20%20%20%20%20%20%20%20%20var%20icon_4ba9f1e364ff4e5aa848d35c9a5f1c1c%20%3D%20L.AwesomeMarkers.icon%28%0A%20%20%20%20%20%20%20%20%20%20%20%20%20%20%20%20%7B%22extraClasses%22%3A%20%22fa-rotate-0%22%2C%20%22icon%22%3A%20%22info-sign%22%2C%20%22iconColor%22%3A%20%22white%22%2C%20%22markerColor%22%3A%20%22red%22%2C%20%22prefix%22%3A%20%22glyphicon%22%7D%0A%20%20%20%20%20%20%20%20%20%20%20%20%29%3B%0A%20%20%20%20%20%20%20%20%20%20%20%20marker_2e9baca8606a408187a4a1baafd37cd3.setIcon%28icon_4ba9f1e364ff4e5aa848d35c9a5f1c1c%29%3B%0A%20%20%20%20%20%20%20%20%0A%20%20%20%20%0A%20%20%20%20%20%20%20%20var%20popup_b745fa00e25e40cfa00a24e15d5c0a33%20%3D%20L.popup%28%7B%22maxWidth%22%3A%20%22100%25%22%7D%29%3B%0A%0A%20%20%20%20%20%20%20%20%0A%20%20%20%20%20%20%20%20%20%20%20%20var%20html_285c5577aa4f439cadae1dbca7400377%20%3D%20%24%28%60%3Cdiv%20id%3D%22html_285c5577aa4f439cadae1dbca7400377%22%20style%3D%22width%3A%20100.0%25%3B%20height%3A%20100.0%25%3B%22%3EDonBosco_8020_119%3C/div%3E%60%29%5B0%5D%3B%0A%20%20%20%20%20%20%20%20%20%20%20%20popup_b745fa00e25e40cfa00a24e15d5c0a33.setContent%28html_285c5577aa4f439cadae1dbca7400377%29%3B%0A%20%20%20%20%20%20%20%20%0A%0A%20%20%20%20%20%20%20%20marker_2e9baca8606a408187a4a1baafd37cd3.bindPopup%28popup_b745fa00e25e40cfa00a24e15d5c0a33%29%0A%20%20%20%20%20%20%20%20%3B%0A%0A%20%20%20%20%20%20%20%20%0A%20%20%20%20%0A%20%20%20%20%0A%0A%20%20%20%20%20%20%20%20function%20geo_json_b3643583449a4456955663087eb7fb2b_onEachFeature%28feature%2C%20layer%29%20%7B%0A%20%20%20%20%20%20%20%20%20%20%20%20layer.on%28%7B%0A%20%20%20%20%20%20%20%20%20%20%20%20%7D%29%3B%0A%20%20%20%20%20%20%20%20%7D%3B%0A%20%20%20%20%20%20%20%20var%20geo_json_b3643583449a4456955663087eb7fb2b%20%3D%20L.geoJson%28null%2C%20%7B%0A%20%20%20%20%20%20%20%20%20%20%20%20%20%20%20%20onEachFeature%3A%20geo_json_b3643583449a4456955663087eb7fb2b_onEachFeature%2C%0A%20%20%20%20%20%20%20%20%20%20%20%20%0A%20%20%20%20%20%20%20%20%7D%29%3B%0A%0A%20%20%20%20%20%20%20%20function%20geo_json_b3643583449a4456955663087eb7fb2b_add%20%28data%29%20%7B%0A%20%20%20%20%20%20%20%20%20%20%20%20geo_json_b3643583449a4456955663087eb7fb2b%0A%20%20%20%20%20%20%20%20%20%20%20%20%20%20%20%20.addData%28data%29%0A%20%20%20%20%20%20%20%20%20%20%20%20%20%20%20%20.addTo%28map_3e5dcb81ffc4491bb03deec69db93662%29%3B%0A%20%20%20%20%20%20%20%20%7D%0A%20%20%20%20%20%20%20%20%20%20%20%20geo_json_b3643583449a4456955663087eb7fb2b_add%28%7B%22coordinates%22%3A%20%5B%5B15.46462%2C%2047.0429%5D%2C%20%5B15.46467%2C%2047.04286%5D%2C%20%5B15.4647%2C%2047.04289%5D%2C%20%5B15.46473%2C%2047.04292%5D%2C%20%5B15.46476%2C%2047.04298%5D%2C%20%5B15.46446%2C%2047.04319%5D%2C%20%5B15.46418%2C%2047.04337%5D%2C%20%5B15.46404%2C%2047.04345%5D%2C%20%5B15.46369%2C%2047.04368%5D%2C%20%5B15.46347%2C%2047.04385%5D%2C%20%5B15.46327%2C%2047.04402%5D%2C%20%5B15.46313%2C%2047.04415%5D%2C%20%5B15.46276%2C%2047.0445%5D%2C%20%5B15.4625%2C%2047.04481%5D%2C%20%5B15.46181%2C%2047.04572%5D%2C%20%5B15.46156%2C%2047.04598%5D%2C%20%5B15.46132%2C%2047.04619%5D%2C%20%5B15.46106%2C%2047.04638%5D%2C%20%5B15.46075%2C%2047.04655%5D%2C%20%5B15.4605%2C%2047.04668%5D%2C%20%5B15.46024%2C%2047.04679%5D%2C%20%5B15.45991%2C%2047.04689%5D%2C%20%5B15.45953%2C%2047.04698%5D%2C%20%5B15.45939%2C%2047.047%5D%2C%20%5B15.45929%2C%2047.04702%5D%2C%20%5B15.45885%2C%2047.04708%5D%2C%20%5B15.45875%2C%2047.04709%5D%2C%20%5B15.45857%2C%2047.0471%5D%2C%20%5B15.4584%2C%2047.04712%5D%2C%20%5B15.45802%2C%2047.04715%5D%2C%20%5B15.45757%2C%2047.04719%5D%2C%20%5B15.45667%2C%2047.04727%5D%2C%20%5B15.45608%2C%2047.04729%5D%2C%20%5B15.45589%2C%2047.0473%5D%2C%20%5B15.45567%2C%2047.0473%5D%2C%20%5B15.45494%2C%2047.04739%5D%2C%20%5B15.45481%2C%2047.0474%5D%2C%20%5B15.4547%2C%2047.04741%5D%2C%20%5B15.45449%2C%2047.04741%5D%2C%20%5B15.45387%2C%2047.04741%5D%2C%20%5B15.45379%2C%2047.04742%5D%2C%20%5B15.45374%2C%2047.0474%5D%2C%20%5B15.45367%2C%2047.04737%5D%2C%20%5B15.45362%2C%2047.04735%5D%2C%20%5B15.45342%2C%2047.0473%5D%2C%20%5B15.45336%2C%2047.04728%5D%2C%20%5B15.45317%2C%2047.04723%5D%2C%20%5B15.45307%2C%2047.0472%5D%2C%20%5B15.45291%2C%2047.04716%5D%2C%20%5B15.45285%2C%2047.04714%5D%2C%20%5B15.45222%2C%2047.04703%5D%2C%20%5B15.45215%2C%2047.04702%5D%2C%20%5B15.45206%2C%2047.04701%5D%2C%20%5B15.452%2C%2047.047%5D%2C%20%5B15.45197%2C%2047.04705%5D%2C%20%5B15.45196%2C%2047.04708%5D%2C%20%5B15.45156%2C%2047.04762%5D%2C%20%5B15.45147%2C%2047.04774%5D%2C%20%5B15.45105%2C%2047.04827%5D%2C%20%5B15.45068%2C%2047.04864%5D%2C%20%5B15.44983%2C%2047.04962%5D%2C%20%5B15.44962%2C%2047.04988%5D%2C%20%5B15.44957%2C%2047.04994%5D%2C%20%5B15.44929%2C%2047.05026%5D%2C%20%5B15.4492%2C%2047.05038%5D%2C%20%5B15.44911%2C%2047.05048%5D%2C%20%5B15.44866%2C%2047.05101%5D%2C%20%5B15.44861%2C%2047.05107%5D%2C%20%5B15.44809%2C%2047.05169%5D%2C%20%5B15.44803%2C%2047.05176%5D%2C%20%5B15.44798%2C%2047.05181%5D%2C%20%5B15.44779%2C%2047.05203%5D%2C%20%5B15.4477%2C%2047.05215%5D%2C%20%5B15.44728%2C%2047.05264%5D%2C%20%5B15.44725%2C%2047.05268%5D%2C%20%5B15.44674%2C%2047.05338%5D%2C%20%5B15.4465%2C%2047.05371%5D%2C%20%5B15.44612%2C%2047.05425%5D%2C%20%5B15.44569%2C%2047.05485%5D%2C%20%5B15.44565%2C%2047.05489%5D%2C%20%5B15.44564%2C%2047.05491%5D%2C%20%5B15.44561%2C%2047.05495%5D%2C%20%5B15.44549%2C%2047.0549%5D%2C%20%5B15.44516%2C%2047.05476%5D%2C%20%5B15.44463%2C%2047.05453%5D%2C%20%5B15.44427%2C%2047.05438%5D%2C%20%5B15.44416%2C%2047.05433%5D%2C%20%5B15.44389%2C%2047.05421%5D%2C%20%5B15.44385%2C%2047.0542%5D%2C%20%5B15.44367%2C%2047.05412%5D%2C%20%5B15.44344%2C%2047.05402%5D%2C%20%5B15.44324%2C%2047.05393%5D%2C%20%5B15.44295%2C%2047.05381%5D%2C%20%5B15.44291%2C%2047.05378%5D%2C%20%5B15.44277%2C%2047.05372%5D%2C%20%5B15.44268%2C%2047.05382%5D%2C%20%5B15.44245%2C%2047.05405%5D%2C%20%5B15.44211%2C%2047.05446%5D%2C%20%5B15.44167%2C%2047.05495%5D%2C%20%5B15.44143%2C%2047.05522%5D%2C%20%5B15.44123%2C%2047.05544%5D%2C%20%5B15.44113%2C%2047.05556%5D%2C%20%5B15.44102%2C%2047.05569%5D%2C%20%5B15.44098%2C%2047.05574%5D%2C%20%5B15.44096%2C%2047.05582%5D%2C%20%5B15.44094%2C%2047.05602%5D%2C%20%5B15.44084%2C%2047.05678%5D%2C%20%5B15.44079%2C%2047.05722%5D%2C%20%5B15.44076%2C%2047.05736%5D%2C%20%5B15.44075%2C%2047.05742%5D%2C%20%5B15.44073%2C%2047.05754%5D%2C%20%5B15.4407%2C%2047.05784%5D%2C%20%5B15.44065%2C%2047.05819%5D%2C%20%5B15.44064%2C%2047.05827%5D%2C%20%5B15.44063%2C%2047.05831%5D%2C%20%5B15.44062%2C%2047.05833%5D%2C%20%5B15.44061%2C%2047.05838%5D%2C%20%5B15.44045%2C%2047.05837%5D%2C%20%5B15.43987%2C%2047.05828%5D%2C%20%5B15.43971%2C%2047.05825%5D%2C%20%5B15.43951%2C%2047.05822%5D%2C%20%5B15.43892%2C%2047.05816%5D%2C%20%5B15.43847%2C%2047.05811%5D%2C%20%5B15.43784%2C%2047.05806%5D%2C%20%5B15.43758%2C%2047.05803%5D%2C%20%5B15.43746%2C%2047.05801%5D%2C%20%5B15.43723%2C%2047.05797%5D%2C%20%5B15.43697%2C%2047.05793%5D%2C%20%5B15.43666%2C%2047.05788%5D%2C%20%5B15.43637%2C%2047.05785%5D%2C%20%5B15.43595%2C%2047.05779%5D%2C%20%5B15.43587%2C%2047.05778%5D%2C%20%5B15.43543%2C%2047.05772%5D%2C%20%5B15.43519%2C%2047.05772%5D%2C%20%5B15.4351%2C%2047.05774%5D%2C%20%5B15.43499%2C%2047.05778%5D%2C%20%5B15.4349%2C%2047.05783%5D%2C%20%5B15.43485%2C%2047.05787%5D%2C%20%5B15.43467%2C%2047.0583%5D%2C%20%5B15.43451%2C%2047.05864%5D%2C%20%5B15.43445%2C%2047.05877%5D%2C%20%5B15.43436%2C%2047.05886%5D%2C%20%5B15.43419%2C%2047.05937%5D%2C%20%5B15.43402%2C%2047.05995%5D%2C%20%5B15.434%2C%2047.06002%5D%2C%20%5B15.43397%2C%2047.06011%5D%2C%20%5B15.43394%2C%2047.06023%5D%2C%20%5B15.43381%2C%2047.06071%5D%2C%20%5B15.43381%2C%2047.06075%5D%2C%20%5B15.43365%2C%2047.06147%5D%2C%20%5B15.43362%2C%2047.06169%5D%2C%20%5B15.43362%2C%2047.0619%5D%2C%20%5B15.43366%2C%2047.06234%5D%2C%20%5B15.4337%2C%2047.06265%5D%2C%20%5B15.43372%2C%2047.06287%5D%2C%20%5B15.43374%2C%2047.06308%5D%2C%20%5B15.43388%2C%2047.06395%5D%2C%20%5B15.43388%2C%2047.06397%5D%2C%20%5B15.43391%2C%2047.06413%5D%2C%20%5B15.43394%2C%2047.06425%5D%2C%20%5B15.4341%2C%2047.06425%5D%2C%20%5B15.43506%2C%2047.06419%5D%2C%20%5B15.43514%2C%2047.06419%5D%2C%20%5B15.43523%2C%2047.06419%5D%2C%20%5B15.43528%2C%2047.06424%5D%2C%20%5B15.43531%2C%2047.06429%5D%2C%20%5B15.43541%2C%2047.06456%5D%2C%20%5B15.43555%2C%2047.06518%5D%2C%20%5B15.4356%2C%2047.0654%5D%2C%20%5B15.43561%2C%2047.06544%5D%2C%20%5B15.43562%2C%2047.0655%5D%2C%20%5B15.43562%2C%2047.06609%5D%2C%20%5B15.43563%2C%2047.06624%5D%2C%20%5B15.43564%2C%2047.06634%5D%2C%20%5B15.43546%2C%2047.06635%5D%2C%20%5B15.43535%2C%2047.06635%5D%2C%20%5B15.43444%2C%2047.0664%5D%2C%20%5B15.43439%2C%2047.0664%5D%2C%20%5B15.43429%2C%2047.06641%5D%2C%20%5B15.43414%2C%2047.06641%5D%2C%20%5B15.43383%2C%2047.06642%5D%2C%20%5B15.43329%2C%2047.06645%5D%2C%20%5B15.43314%2C%2047.06645%5D%2C%20%5B15.43255%2C%2047.06649%5D%2C%20%5B15.43191%2C%2047.06652%5D%2C%20%5B15.43179%2C%2047.06655%5D%2C%20%5B15.43173%2C%2047.06664%5D%2C%20%5B15.43153%2C%2047.06681%5D%2C%20%5B15.43142%2C%2047.06685%5D%2C%20%5B15.43134%2C%2047.06686%5D%5D%2C%20%22type%22%3A%20%22LineString%22%7D%29%3B%0A%0A%20%20%20%20%20%20%20%20%0A%20%20%20%20%0A%20%20%20%20%20%20%20%20var%20popup_da99e023333649bdb5a3533c8320d77f%20%3D%20L.popup%28%7B%22maxWidth%22%3A%20300%7D%29%3B%0A%0A%20%20%20%20%20%20%20%20%0A%20%20%20%20%20%20%20%20%20%20%20%20var%20html_8fbf82c34d4640aa9c606ce2b0b70dac%20%3D%20%24%28%60%3Cdiv%20id%3D%22html_8fbf82c34d4640aa9c606ce2b0b70dac%22%20style%3D%22width%3A%20100.0%25%3B%20height%3A%20100.0%25%3B%22%3E%3Ch4%3E%20%3Cb%3EDistance%20%3A%26nbsp%3Cstrong%3E4.9%20Km%20%3C/strong%3E%3C/h4%3E%3C/b%3E%3Ch4%3E%20%3Cb%3EDuration%20%3A%26nbsp%3Cstrong%3E11.0%20Mins.%20%3C/strong%3E%3C/h4%3E%3C/b%3E%3C/div%3E%60%29%5B0%5D%3B%0A%20%20%20%20%20%20%20%20%20%20%20%20popup_da99e023333649bdb5a3533c8320d77f.setContent%28html_8fbf82c34d4640aa9c606ce2b0b70dac%29%3B%0A%20%20%20%20%20%20%20%20%0A%0A%20%20%20%20%20%20%20%20geo_json_b3643583449a4456955663087eb7fb2b.bindPopup%28popup_da99e023333649bdb5a3533c8320d77f%29%0A%20%20%20%20%20%20%20%20%3B%0A%0A%20%20%20%20%20%20%20%20%0A%20%20%20%20%0A%20%20%20%20%0A%20%20%20%20%20%20%20%20%20%20%20%20var%20marker_2241752a935e42558f17aa2822a93866%20%3D%20L.marker%28%0A%20%20%20%20%20%20%20%20%20%20%20%20%20%20%20%20%5B47.042901%2C%2015.46463%5D%2C%0A%20%20%20%20%20%20%20%20%20%20%20%20%20%20%20%20%7B%7D%0A%20%20%20%20%20%20%20%20%20%20%20%20%29.addTo%28map_3e5dcb81ffc4491bb03deec69db93662%29%3B%0A%20%20%20%20%20%20%20%20%0A%20%20%20%20%0A%20%20%20%20%20%20%20%20%20%20%20%20var%20icon_23cbb03be71b46a4a05c132d6747a7c5%20%3D%20L.AwesomeMarkers.icon%28%0A%20%20%20%20%20%20%20%20%20%20%20%20%20%20%20%20%7B%22extraClasses%22%3A%20%22fa-rotate-0%22%2C%20%22icon%22%3A%20%22info-sign%22%2C%20%22iconColor%22%3A%20%22white%22%2C%20%22markerColor%22%3A%20%22green%22%2C%20%22prefix%22%3A%20%22glyphicon%22%7D%0A%20%20%20%20%20%20%20%20%20%20%20%20%29%3B%0A%20%20%20%20%20%20%20%20%20%20%20%20marker_2241752a935e42558f17aa2822a93866.setIcon%28icon_23cbb03be71b46a4a05c132d6747a7c5%29%3B%0A%20%20%20%20%20%20%20%20%0A%20%20%20%20%0A%20%20%20%20%20%20%20%20var%20popup_9e8ac93fcb9846918b8c32e64de517ab%20%3D%20L.popup%28%7B%22maxWidth%22%3A%20%22100%25%22%7D%29%3B%0A%0A%20%20%20%20%20%20%20%20%0A%20%20%20%20%20%20%20%20%20%20%20%20var%20html_9b9b10d3226a4514849acc3cad01f970%20%3D%20%24%28%60%3Cdiv%20id%3D%22html_9b9b10d3226a4514849acc3cad01f970%22%20style%3D%22width%3A%20100.0%25%3B%20height%3A%20100.0%25%3B%22%3EOst_8041_221%3C/div%3E%60%29%5B0%5D%3B%0A%20%20%20%20%20%20%20%20%20%20%20%20popup_9e8ac93fcb9846918b8c32e64de517ab.setContent%28html_9b9b10d3226a4514849acc3cad01f970%29%3B%0A%20%20%20%20%20%20%20%20%0A%0A%20%20%20%20%20%20%20%20marker_2241752a935e42558f17aa2822a93866.bindPopup%28popup_9e8ac93fcb9846918b8c32e64de517ab%29%0A%20%20%20%20%20%20%20%20%3B%0A%0A%20%20%20%20%20%20%20%20%0A%20%20%20%20%0A%20%20%20%20%0A%20%20%20%20%20%20%20%20%20%20%20%20var%20marker_dd55f13c6de8493796250cbffd8a98a3%20%3D%20L.marker%28%0A%20%20%20%20%20%20%20%20%20%20%20%20%20%20%20%20%5B47.06687%2C%2015.431343%5D%2C%0A%20%20%20%20%20%20%20%20%20%20%20%20%20%20%20%20%7B%7D%0A%20%20%20%20%20%20%20%20%20%20%20%20%29.addTo%28map_3e5dcb81ffc4491bb03deec69db93662%29%3B%0A%20%20%20%20%20%20%20%20%0A%20%20%20%20%0A%20%20%20%20%20%20%20%20%20%20%20%20var%20icon_e25a842e7a1548e4b4ea59fc1f293760%20%3D%20L.AwesomeMarkers.icon%28%0A%20%20%20%20%20%20%20%20%20%20%20%20%20%20%20%20%7B%22extraClasses%22%3A%20%22fa-rotate-0%22%2C%20%22icon%22%3A%20%22info-sign%22%2C%20%22iconColor%22%3A%20%22white%22%2C%20%22markerColor%22%3A%20%22red%22%2C%20%22prefix%22%3A%20%22glyphicon%22%7D%0A%20%20%20%20%20%20%20%20%20%20%20%20%29%3B%0A%20%20%20%20%20%20%20%20%20%20%20%20marker_dd55f13c6de8493796250cbffd8a98a3.setIcon%28icon_e25a842e7a1548e4b4ea59fc1f293760%29%3B%0A%20%20%20%20%20%20%20%20%0A%20%20%20%20%0A%20%20%20%20%20%20%20%20var%20popup_5ce66a396a954eae9bccace3422d77b1%20%3D%20L.popup%28%7B%22maxWidth%22%3A%20%22100%25%22%7D%29%3B%0A%0A%20%20%20%20%20%20%20%20%0A%20%20%20%20%20%20%20%20%20%20%20%20var%20html_65d804ac198c4addb974be27646c95b8%20%3D%20%24%28%60%3Cdiv%20id%3D%22html_65d804ac198c4addb974be27646c95b8%22%20style%3D%22width%3A%20100.0%25%3B%20height%3A%20100.0%25%3B%22%3EDonBosco_8020_119%3C/div%3E%60%29%5B0%5D%3B%0A%20%20%20%20%20%20%20%20%20%20%20%20popup_5ce66a396a954eae9bccace3422d77b1.setContent%28html_65d804ac198c4addb974be27646c95b8%29%3B%0A%20%20%20%20%20%20%20%20%0A%0A%20%20%20%20%20%20%20%20marker_dd55f13c6de8493796250cbffd8a98a3.bindPopup%28popup_5ce66a396a954eae9bccace3422d77b1%29%0A%20%20%20%20%20%20%20%20%3B%0A%0A%20%20%20%20%20%20%20%20%0A%20%20%20%20%0A%20%20%20%20%0A%0A%20%20%20%20%20%20%20%20function%20geo_json_cae4e4ac721b4bbc871268ae8dc9d1b0_onEachFeature%28feature%2C%20layer%29%20%7B%0A%20%20%20%20%20%20%20%20%20%20%20%20layer.on%28%7B%0A%20%20%20%20%20%20%20%20%20%20%20%20%7D%29%3B%0A%20%20%20%20%20%20%20%20%7D%3B%0A%20%20%20%20%20%20%20%20var%20geo_json_cae4e4ac721b4bbc871268ae8dc9d1b0%20%3D%20L.geoJson%28null%2C%20%7B%0A%20%20%20%20%20%20%20%20%20%20%20%20%20%20%20%20onEachFeature%3A%20geo_json_cae4e4ac721b4bbc871268ae8dc9d1b0_onEachFeature%2C%0A%20%20%20%20%20%20%20%20%20%20%20%20%0A%20%20%20%20%20%20%20%20%7D%29%3B%0A%0A%20%20%20%20%20%20%20%20function%20geo_json_cae4e4ac721b4bbc871268ae8dc9d1b0_add%20%28data%29%20%7B%0A%20%20%20%20%20%20%20%20%20%20%20%20geo_json_cae4e4ac721b4bbc871268ae8dc9d1b0%0A%20%20%20%20%20%20%20%20%20%20%20%20%20%20%20%20.addData%28data%29%0A%20%20%20%20%20%20%20%20%20%20%20%20%20%20%20%20.addTo%28map_3e5dcb81ffc4491bb03deec69db93662%29%3B%0A%20%20%20%20%20%20%20%20%7D%0A%20%20%20%20%20%20%20%20%20%20%20%20geo_json_cae4e4ac721b4bbc871268ae8dc9d1b0_add%28%7B%22coordinates%22%3A%20%5B%5B15.42319%2C%2047.09451%5D%2C%20%5B15.42339%2C%2047.09442%5D%2C%20%5B15.42343%2C%2047.0944%5D%2C%20%5B15.42349%2C%2047.09428%5D%2C%20%5B15.4235%2C%2047.09416%5D%2C%20%5B15.4235%2C%2047.09409%5D%2C%20%5B15.4235%2C%2047.09401%5D%2C%20%5B15.4235%2C%2047.09397%5D%2C%20%5B15.42356%2C%2047.09366%5D%2C%20%5B15.42357%2C%2047.09364%5D%2C%20%5B15.42371%2C%2047.09353%5D%2C%20%5B15.42408%2C%2047.09323%5D%2C%20%5B15.4246%2C%2047.09282%5D%2C%20%5B15.42537%2C%2047.09221%5D%2C%20%5B15.4255%2C%2047.09211%5D%2C%20%5B15.42562%2C%2047.09202%5D%2C%20%5B15.42565%2C%2047.09199%5D%2C%20%5B15.42579%2C%2047.09188%5D%2C%20%5B15.42718%2C%2047.09077%5D%2C%20%5B15.42726%2C%2047.09069%5D%2C%20%5B15.42733%2C%2047.09063%5D%2C%20%5B15.42747%2C%2047.09045%5D%2C%20%5B15.42806%2C%2047.0896%5D%2C%20%5B15.42841%2C%2047.0891%5D%2C%20%5B15.42855%2C%2047.0889%5D%2C%20%5B15.42858%2C%2047.08885%5D%2C%20%5B15.42862%2C%2047.0888%5D%2C%20%5B15.42864%2C%2047.08878%5D%2C%20%5B15.42886%2C%2047.08846%5D%2C%20%5B15.42897%2C%2047.08829%5D%2C%20%5B15.42918%2C%2047.08799%5D%2C%20%5B15.42938%2C%2047.0877%5D%2C%20%5B15.42947%2C%2047.08757%5D%2C%20%5B15.42953%2C%2047.08749%5D%2C%20%5B15.42962%2C%2047.08737%5D%2C%20%5B15.42965%2C%2047.08732%5D%2C%20%5B15.42972%2C%2047.08722%5D%2C%20%5B15.42977%2C%2047.08715%5D%2C%20%5B15.43023%2C%2047.0865%5D%2C%20%5B15.43083%2C%2047.08563%5D%2C%20%5B15.43087%2C%2047.08558%5D%2C%20%5B15.43119%2C%2047.08511%5D%2C%20%5B15.4314%2C%2047.08482%5D%2C%20%5B15.43142%2C%2047.08479%5D%2C%20%5B15.43148%2C%2047.0847%5D%2C%20%5B15.4317%2C%2047.08438%5D%2C%20%5B15.43186%2C%2047.08416%5D%2C%20%5B15.432%2C%2047.08396%5D%2C%20%5B15.43207%2C%2047.08386%5D%2C%20%5B15.43255%2C%2047.08317%5D%2C%20%5B15.43265%2C%2047.08303%5D%2C%20%5B15.43275%2C%2047.08288%5D%2C%20%5B15.4328%2C%2047.08281%5D%2C%20%5B15.43286%2C%2047.08273%5D%2C%20%5B15.43307%2C%2047.08243%5D%2C%20%5B15.43311%2C%2047.08237%5D%2C%20%5B15.4334%2C%2047.08195%5D%2C%20%5B15.43349%2C%2047.08182%5D%2C%20%5B15.43356%2C%2047.08172%5D%2C%20%5B15.4336%2C%2047.08166%5D%2C%20%5B15.43389%2C%2047.08124%5D%2C%20%5B15.43396%2C%2047.08114%5D%2C%20%5B15.43399%2C%2047.08104%5D%2C%20%5B15.43399%2C%2047.08102%5D%2C%20%5B15.43398%2C%2047.08098%5D%2C%20%5B15.4339%2C%2047.0809%5D%2C%20%5B15.43385%2C%2047.08087%5D%2C%20%5B15.43379%2C%2047.08084%5D%2C%20%5B15.43302%2C%2047.0807%5D%2C%20%5B15.43281%2C%2047.08062%5D%2C%20%5B15.43277%2C%2047.0806%5D%2C%20%5B15.43278%2C%2047.08057%5D%2C%20%5B15.43283%2C%2047.08045%5D%2C%20%5B15.43315%2C%2047.07998%5D%2C%20%5B15.43319%2C%2047.07988%5D%2C%20%5B15.4332%2C%2047.07987%5D%2C%20%5B15.43336%2C%2047.07962%5D%2C%20%5B15.43345%2C%2047.07948%5D%2C%20%5B15.43348%2C%2047.07944%5D%2C%20%5B15.4335%2C%2047.07941%5D%2C%20%5B15.43354%2C%2047.07935%5D%2C%20%5B15.43356%2C%2047.07931%5D%2C%20%5B15.43393%2C%2047.07873%5D%2C%20%5B15.43405%2C%2047.07854%5D%2C%20%5B15.43426%2C%2047.07819%5D%2C%20%5B15.43432%2C%2047.07809%5D%2C%20%5B15.43444%2C%2047.0779%5D%2C%20%5B15.43454%2C%2047.07768%5D%2C%20%5B15.43456%2C%2047.07762%5D%2C%20%5B15.43454%2C%2047.07761%5D%2C%20%5B15.43438%2C%2047.07757%5D%2C%20%5B15.43431%2C%2047.07756%5D%2C%20%5B15.43403%2C%2047.07749%5D%2C%20%5B15.4336%2C%2047.07739%5D%2C%20%5B15.43343%2C%2047.07735%5D%2C%20%5B15.4334%2C%2047.07734%5D%2C%20%5B15.43309%2C%2047.07726%5D%2C%20%5B15.43265%2C%2047.07715%5D%2C%20%5B15.43253%2C%2047.07712%5D%2C%20%5B15.4324%2C%2047.07708%5D%2C%20%5B15.43235%2C%2047.07707%5D%2C%20%5B15.4324%2C%2047.077%5D%2C%20%5B15.43258%2C%2047.07664%5D%2C%20%5B15.43272%2C%2047.07638%5D%2C%20%5B15.43296%2C%2047.07591%5D%2C%20%5B15.43302%2C%2047.07586%5D%2C%20%5B15.43303%2C%2047.07586%5D%2C%20%5B15.4331%2C%2047.07586%5D%2C%20%5B15.43311%2C%2047.07584%5D%2C%20%5B15.43313%2C%2047.0758%5D%2C%20%5B15.43315%2C%2047.07575%5D%2C%20%5B15.43325%2C%2047.07555%5D%2C%20%5B15.43334%2C%2047.07535%5D%2C%20%5B15.43368%2C%2047.07447%5D%2C%20%5B15.43375%2C%2047.07427%5D%2C%20%5B15.43393%2C%2047.07348%5D%2C%20%5B15.43405%2C%2047.07289%5D%2C%20%5B15.43414%2C%2047.07244%5D%2C%20%5B15.43414%2C%2047.07244%5D%2C%20%5B15.43415%2C%2047.0724%5D%2C%20%5B15.43416%2C%2047.07234%5D%2C%20%5B15.43425%2C%2047.07194%5D%2C%20%5B15.43431%2C%2047.07169%5D%2C%20%5B15.43433%2C%2047.07162%5D%2C%20%5B15.43435%2C%2047.07155%5D%2C%20%5B15.43445%2C%2047.07124%5D%2C%20%5B15.43453%2C%2047.07099%5D%2C%20%5B15.43454%2C%2047.07091%5D%2C%20%5B15.43454%2C%2047.0709%5D%2C%20%5B15.43455%2C%2047.07088%5D%2C%20%5B15.43457%2C%2047.07083%5D%2C%20%5B15.43459%2C%2047.07068%5D%2C%20%5B15.43461%2C%2047.07063%5D%2C%20%5B15.43467%2C%2047.07007%5D%2C%20%5B15.43465%2C%2047.06969%5D%2C%20%5B15.43464%2C%2047.0696%5D%2C%20%5B15.43464%2C%2047.06957%5D%2C%20%5B15.43464%2C%2047.06955%5D%2C%20%5B15.43463%2C%2047.06949%5D%2C%20%5B15.43459%2C%2047.06905%5D%2C%20%5B15.43457%2C%2047.0689%5D%2C%20%5B15.43452%2C%2047.06861%5D%2C%20%5B15.4345%2C%2047.06844%5D%2C%20%5B15.43448%2C%2047.06834%5D%2C%20%5B15.43443%2C%2047.06772%5D%2C%20%5B15.43441%2C%2047.06758%5D%2C%20%5B15.43438%2C%2047.06703%5D%2C%20%5B15.43432%2C%2047.06665%5D%2C%20%5B15.4343%2C%2047.06651%5D%2C%20%5B15.43429%2C%2047.06641%5D%2C%20%5B15.43414%2C%2047.06641%5D%2C%20%5B15.43383%2C%2047.06642%5D%2C%20%5B15.43329%2C%2047.06645%5D%2C%20%5B15.43314%2C%2047.06645%5D%2C%20%5B15.43255%2C%2047.06649%5D%2C%20%5B15.43191%2C%2047.06652%5D%2C%20%5B15.43179%2C%2047.06655%5D%2C%20%5B15.43173%2C%2047.06664%5D%2C%20%5B15.43153%2C%2047.06681%5D%2C%20%5B15.43142%2C%2047.06685%5D%2C%20%5B15.43134%2C%2047.06686%5D%5D%2C%20%22type%22%3A%20%22LineString%22%7D%29%3B%0A%0A%20%20%20%20%20%20%20%20%0A%20%20%20%20%0A%20%20%20%20%20%20%20%20var%20popup_58c82e2808154d2bb2628180792db6ab%20%3D%20L.popup%28%7B%22maxWidth%22%3A%20300%7D%29%3B%0A%0A%20%20%20%20%20%20%20%20%0A%20%20%20%20%20%20%20%20%20%20%20%20var%20html_05c3e20143f74d37ae22c279b7c3c847%20%3D%20%24%28%60%3Cdiv%20id%3D%22html_05c3e20143f74d37ae22c279b7c3c847%22%20style%3D%22width%3A%20100.0%25%3B%20height%3A%20100.0%25%3B%22%3E%3Ch4%3E%20%3Cb%3EDistance%20%3A%26nbsp%3Cstrong%3E3.8%20Km%20%3C/strong%3E%3C/h4%3E%3C/b%3E%3Ch4%3E%20%3Cb%3EDuration%20%3A%26nbsp%3Cstrong%3E9.4%20Mins.%20%3C/strong%3E%3C/h4%3E%3C/b%3E%3C/div%3E%60%29%5B0%5D%3B%0A%20%20%20%20%20%20%20%20%20%20%20%20popup_58c82e2808154d2bb2628180792db6ab.setContent%28html_05c3e20143f74d37ae22c279b7c3c847%29%3B%0A%20%20%20%20%20%20%20%20%0A%0A%20%20%20%20%20%20%20%20geo_json_cae4e4ac721b4bbc871268ae8dc9d1b0.bindPopup%28popup_58c82e2808154d2bb2628180792db6ab%29%0A%20%20%20%20%20%20%20%20%3B%0A%0A%20%20%20%20%20%20%20%20%0A%20%20%20%20%0A%20%20%20%20%0A%20%20%20%20%20%20%20%20%20%20%20%20var%20marker_76c705aaaaec4a238b717f40fc885c08%20%3D%20L.marker%28%0A%20%20%20%20%20%20%20%20%20%20%20%20%20%20%20%20%5B47.094507%2C%2015.423191%5D%2C%0A%20%20%20%20%20%20%20%20%20%20%20%20%20%20%20%20%7B%7D%0A%20%20%20%20%20%20%20%20%20%20%20%20%29.addTo%28map_3e5dcb81ffc4491bb03deec69db93662%29%3B%0A%20%20%20%20%20%20%20%20%0A%20%20%20%20%0A%20%20%20%20%20%20%20%20%20%20%20%20var%20icon_d45bbab5b2cc4d0bb3cf6388032b00e1%20%3D%20L.AwesomeMarkers.icon%28%0A%20%20%20%20%20%20%20%20%20%20%20%20%20%20%20%20%7B%22extraClasses%22%3A%20%22fa-rotate-0%22%2C%20%22icon%22%3A%20%22info-sign%22%2C%20%22iconColor%22%3A%20%22white%22%2C%20%22markerColor%22%3A%20%22green%22%2C%20%22prefix%22%3A%20%22glyphicon%22%7D%0A%20%20%20%20%20%20%20%20%20%20%20%20%29%3B%0A%20%20%20%20%20%20%20%20%20%20%20%20marker_76c705aaaaec4a238b717f40fc885c08.setIcon%28icon_d45bbab5b2cc4d0bb3cf6388032b00e1%29%3B%0A%20%20%20%20%20%20%20%20%0A%20%20%20%20%0A%20%20%20%20%20%20%20%20var%20popup_d08d95c297254e52afd183b0d59e0e12%20%3D%20L.popup%28%7B%22maxWidth%22%3A%20%22100%25%22%7D%29%3B%0A%0A%20%20%20%20%20%20%20%20%0A%20%20%20%20%20%20%20%20%20%20%20%20var%20html_0dba7163d2fa46758aca3afa78f31b3b%20%3D%20%24%28%60%3Cdiv%20id%3D%22html_0dba7163d2fa46758aca3afa78f31b3b%22%20style%3D%22width%3A%20100.0%25%3B%20height%3A%20100.0%25%3B%22%3ENord_8045_203%3C/div%3E%60%29%5B0%5D%3B%0A%20%20%20%20%20%20%20%20%20%20%20%20popup_d08d95c297254e52afd183b0d59e0e12.setContent%28html_0dba7163d2fa46758aca3afa78f31b3b%29%3B%0A%20%20%20%20%20%20%20%20%0A%0A%20%20%20%20%20%20%20%20marker_76c705aaaaec4a238b717f40fc885c08.bindPopup%28popup_d08d95c297254e52afd183b0d59e0e12%29%0A%20%20%20%20%20%20%20%20%3B%0A%0A%20%20%20%20%20%20%20%20%0A%20%20%20%20%0A%20%20%20%20%0A%20%20%20%20%20%20%20%20%20%20%20%20var%20marker_33735d86ec3945e79038c3484f91b113%20%3D%20L.marker%28%0A%20%20%20%20%20%20%20%20%20%20%20%20%20%20%20%20%5B47.06687%2C%2015.431343%5D%2C%0A%20%20%20%20%20%20%20%20%20%20%20%20%20%20%20%20%7B%7D%0A%20%20%20%20%20%20%20%20%20%20%20%20%29.addTo%28map_3e5dcb81ffc4491bb03deec69db93662%29%3B%0A%20%20%20%20%20%20%20%20%0A%20%20%20%20%0A%20%20%20%20%20%20%20%20%20%20%20%20var%20icon_72b845f826544db99dfac8f8a8ce0d1e%20%3D%20L.AwesomeMarkers.icon%28%0A%20%20%20%20%20%20%20%20%20%20%20%20%20%20%20%20%7B%22extraClasses%22%3A%20%22fa-rotate-0%22%2C%20%22icon%22%3A%20%22info-sign%22%2C%20%22iconColor%22%3A%20%22white%22%2C%20%22markerColor%22%3A%20%22red%22%2C%20%22prefix%22%3A%20%22glyphicon%22%7D%0A%20%20%20%20%20%20%20%20%20%20%20%20%29%3B%0A%20%20%20%20%20%20%20%20%20%20%20%20marker_33735d86ec3945e79038c3484f91b113.setIcon%28icon_72b845f826544db99dfac8f8a8ce0d1e%29%3B%0A%20%20%20%20%20%20%20%20%0A%20%20%20%20%0A%20%20%20%20%20%20%20%20var%20popup_14a6259152fc4cef812023c8526adc9f%20%3D%20L.popup%28%7B%22maxWidth%22%3A%20%22100%25%22%7D%29%3B%0A%0A%20%20%20%20%20%20%20%20%0A%20%20%20%20%20%20%20%20%20%20%20%20var%20html_400069beff3247db913b3fed648108b3%20%3D%20%24%28%60%3Cdiv%20id%3D%22html_400069beff3247db913b3fed648108b3%22%20style%3D%22width%3A%20100.0%25%3B%20height%3A%20100.0%25%3B%22%3EDonBosco_8020_119%3C/div%3E%60%29%5B0%5D%3B%0A%20%20%20%20%20%20%20%20%20%20%20%20popup_14a6259152fc4cef812023c8526adc9f.setContent%28html_400069beff3247db913b3fed648108b3%29%3B%0A%20%20%20%20%20%20%20%20%0A%0A%20%20%20%20%20%20%20%20marker_33735d86ec3945e79038c3484f91b113.bindPopup%28popup_14a6259152fc4cef812023c8526adc9f%29%0A%20%20%20%20%20%20%20%20%3B%0A%0A%20%20%20%20%20%20%20%20%0A%20%20%20%20%0A%20%20%20%20%0A%0A%20%20%20%20%20%20%20%20function%20geo_json_dac1190114124a8c81da4563f0580099_onEachFeature%28feature%2C%20layer%29%20%7B%0A%20%20%20%20%20%20%20%20%20%20%20%20layer.on%28%7B%0A%20%20%20%20%20%20%20%20%20%20%20%20%7D%29%3B%0A%20%20%20%20%20%20%20%20%7D%3B%0A%20%20%20%20%20%20%20%20var%20geo_json_dac1190114124a8c81da4563f0580099%20%3D%20L.geoJson%28null%2C%20%7B%0A%20%20%20%20%20%20%20%20%20%20%20%20%20%20%20%20onEachFeature%3A%20geo_json_dac1190114124a8c81da4563f0580099_onEachFeature%2C%0A%20%20%20%20%20%20%20%20%20%20%20%20%0A%20%20%20%20%20%20%20%20%7D%29%3B%0A%0A%20%20%20%20%20%20%20%20function%20geo_json_dac1190114124a8c81da4563f0580099_add%20%28data%29%20%7B%0A%20%20%20%20%20%20%20%20%20%20%20%20geo_json_dac1190114124a8c81da4563f0580099%0A%20%20%20%20%20%20%20%20%20%20%20%20%20%20%20%20.addData%28data%29%0A%20%20%20%20%20%20%20%20%20%20%20%20%20%20%20%20.addTo%28map_3e5dcb81ffc4491bb03deec69db93662%29%3B%0A%20%20%20%20%20%20%20%20%7D%0A%20%20%20%20%20%20%20%20%20%20%20%20geo_json_dac1190114124a8c81da4563f0580099_add%28%7B%22coordinates%22%3A%20%5B%5B15.4011%2C%2047.10629%5D%2C%20%5B15.40067%2C%2047.106%5D%2C%20%5B15.40065%2C%2047.10599%5D%2C%20%5B15.40063%2C%2047.10598%5D%2C%20%5B15.40057%2C%2047.10591%5D%2C%20%5B15.40055%2C%2047.10589%5D%2C%20%5B15.40053%2C%2047.10584%5D%2C%20%5B15.40052%2C%2047.10582%5D%2C%20%5B15.40052%2C%2047.1058%5D%2C%20%5B15.40051%2C%2047.10572%5D%2C%20%5B15.40049%2C%2047.10563%5D%2C%20%5B15.40049%2C%2047.10556%5D%2C%20%5B15.40049%2C%2047.10552%5D%2C%20%5B15.40037%2C%2047.10528%5D%2C%20%5B15.40032%2C%2047.10522%5D%2C%20%5B15.40024%2C%2047.10515%5D%2C%20%5B15.40022%2C%2047.10513%5D%2C%20%5B15.40016%2C%2047.10507%5D%2C%20%5B15.40008%2C%2047.10499%5D%2C%20%5B15.40019%2C%2047.10494%5D%2C%20%5B15.40037%2C%2047.10484%5D%2C%20%5B15.40066%2C%2047.10468%5D%2C%20%5B15.40163%2C%2047.104%5D%2C%20%5B15.40181%2C%2047.10385%5D%2C%20%5B15.40203%2C%2047.10365%5D%2C%20%5B15.40223%2C%2047.10344%5D%2C%20%5B15.40237%2C%2047.10325%5D%2C%20%5B15.4024%2C%2047.10321%5D%2C%20%5B15.40247%2C%2047.10309%5D%2C%20%5B15.40254%2C%2047.10295%5D%2C%20%5B15.40263%2C%2047.10275%5D%2C%20%5B15.4029%2C%2047.10198%5D%2C%20%5B15.40301%2C%2047.10159%5D%2C%20%5B15.40314%2C%2047.10101%5D%2C%20%5B15.40328%2C%2047.10042%5D%2C%20%5B15.40332%2C%2047.10024%5D%2C%20%5B15.40337%2C%2047.10001%5D%2C%20%5B15.4034%2C%2047.09983%5D%2C%20%5B15.40343%2C%2047.09968%5D%2C%20%5B15.40346%2C%2047.0995%5D%2C%20%5B15.40363%2C%2047.09876%5D%2C%20%5B15.4037%2C%2047.09833%5D%2C%20%5B15.40378%2C%2047.09793%5D%2C%20%5B15.40402%2C%2047.09689%5D%2C%20%5B15.40409%2C%2047.09668%5D%2C%20%5B15.40412%2C%2047.0966%5D%2C%20%5B15.40431%2C%2047.09616%5D%2C%20%5B15.40433%2C%2047.09611%5D%2C%20%5B15.40438%2C%2047.09598%5D%2C%20%5B15.40451%2C%2047.096%5D%2C%20%5B15.40463%2C%2047.09601%5D%2C%20%5B15.40478%2C%2047.09603%5D%2C%20%5B15.40511%2C%2047.09611%5D%2C%20%5B15.40529%2C%2047.09615%5D%2C%20%5B15.40558%2C%2047.09622%5D%2C%20%5B15.40589%2C%2047.0963%5D%2C%20%5B15.40613%2C%2047.09637%5D%2C%20%5B15.40628%2C%2047.09641%5D%2C%20%5B15.40643%2C%2047.09646%5D%2C%20%5B15.40659%2C%2047.09651%5D%2C%20%5B15.40692%2C%2047.09663%5D%2C%20%5B15.40717%2C%2047.09674%5D%2C%20%5B15.40816%2C%2047.09725%5D%2C%20%5B15.40848%2C%2047.09741%5D%2C%20%5B15.40854%2C%2047.09744%5D%2C%20%5B15.40869%2C%2047.09751%5D%2C%20%5B15.40904%2C%2047.09768%5D%2C%20%5B15.40912%2C%2047.09772%5D%2C%20%5B15.40933%2C%2047.09783%5D%2C%20%5B15.40942%2C%2047.09787%5D%2C%20%5B15.40949%2C%2047.09791%5D%2C%20%5B15.41004%2C%2047.09818%5D%2C%20%5B15.41032%2C%2047.09791%5D%2C%20%5B15.4124%2C%2047.09594%5D%2C%20%5B15.41253%2C%2047.09581%5D%2C%20%5B15.41256%2C%2047.09579%5D%2C%20%5B15.41263%2C%2047.09568%5D%2C%20%5B15.41273%2C%2047.09545%5D%2C%20%5B15.41283%2C%2047.09521%5D%2C%20%5B15.41297%2C%2047.09483%5D%2C%20%5B15.41298%2C%2047.09482%5D%2C%20%5B15.41299%2C%2047.0948%5D%2C%20%5B15.41306%2C%2047.0946%5D%2C%20%5B15.41328%2C%2047.09406%5D%2C%20%5B15.41344%2C%2047.09367%5D%2C%20%5B15.41358%2C%2047.09331%5D%2C%20%5B15.41368%2C%2047.09304%5D%2C%20%5B15.4137%2C%2047.09298%5D%2C%20%5B15.41373%2C%2047.09291%5D%2C%20%5B15.41391%2C%2047.09245%5D%2C%20%5B15.41401%2C%2047.09221%5D%2C%20%5B15.41411%2C%2047.09206%5D%2C%20%5B15.41433%2C%2047.09182%5D%2C%20%5B15.41439%2C%2047.09176%5D%2C%20%5B15.41459%2C%2047.09157%5D%2C%20%5B15.41486%2C%2047.09129%5D%2C%20%5B15.41502%2C%2047.09114%5D%2C%20%5B15.41559%2C%2047.09057%5D%2C%20%5B15.41566%2C%2047.0905%5D%2C%20%5B15.41572%2C%2047.09043%5D%2C%20%5B15.41596%2C%2047.09018%5D%2C%20%5B15.41607%2C%2047.09007%5D%2C%20%5B15.41608%2C%2047.09006%5D%2C%20%5B15.41611%2C%2047.09002%5D%2C%20%5B15.4164%2C%2047.08969%5D%2C%20%5B15.41651%2C%2047.08956%5D%2C%20%5B15.41668%2C%2047.08938%5D%2C%20%5B15.41734%2C%2047.08871%5D%2C%20%5B15.41778%2C%2047.08836%5D%2C%20%5B15.41798%2C%2047.0882%5D%2C%20%5B15.41816%2C%2047.08807%5D%2C%20%5B15.41829%2C%2047.08797%5D%2C%20%5B15.41853%2C%2047.08777%5D%2C%20%5B15.41862%2C%2047.08769%5D%2C%20%5B15.4188%2C%2047.08754%5D%2C%20%5B15.41891%2C%2047.08745%5D%2C%20%5B15.41895%2C%2047.08741%5D%2C%20%5B15.41915%2C%2047.08723%5D%2C%20%5B15.41936%2C%2047.08705%5D%2C%20%5B15.41964%2C%2047.08681%5D%2C%20%5B15.41977%2C%2047.0867%5D%2C%20%5B15.42006%2C%2047.08646%5D%2C%20%5B15.42021%2C%2047.08633%5D%2C%20%5B15.42035%2C%2047.08622%5D%2C%20%5B15.42046%2C%2047.08613%5D%2C%20%5B15.42051%2C%2047.08608%5D%2C%20%5B15.42058%2C%2047.08602%5D%2C%20%5B15.42065%2C%2047.08595%5D%2C%20%5B15.42078%2C%2047.08598%5D%2C%20%5B15.4214%2C%2047.0862%5D%2C%20%5B15.42176%2C%2047.08633%5D%2C%20%5B15.42219%2C%2047.08646%5D%2C%20%5B15.42224%2C%2047.08648%5D%2C%20%5B15.42241%2C%2047.08654%5D%2C%20%5B15.42247%2C%2047.08647%5D%2C%20%5B15.42251%2C%2047.08641%5D%2C%20%5B15.42254%2C%2047.08636%5D%2C%20%5B15.42257%2C%2047.08631%5D%2C%20%5B15.4227%2C%2047.08612%5D%2C%20%5B15.42276%2C%2047.08603%5D%2C%20%5B15.42308%2C%2047.08553%5D%2C%20%5B15.42312%2C%2047.08549%5D%2C%20%5B15.42316%2C%2047.08544%5D%2C%20%5B15.42343%2C%2047.0852%5D%2C%20%5B15.42403%2C%2047.08478%5D%2C%20%5B15.4244%2C%2047.08452%5D%2C%20%5B15.42452%2C%2047.08441%5D%2C%20%5B15.4247%2C%2047.08426%5D%2C%20%5B15.42474%2C%2047.08421%5D%2C%20%5B15.42493%2C%2047.08402%5D%2C%20%5B15.42504%2C%2047.08391%5D%2C%20%5B15.42505%2C%2047.0839%5D%2C%20%5B15.42511%2C%2047.08384%5D%2C%20%5B15.42538%2C%2047.08356%5D%2C%20%5B15.42546%2C%2047.08349%5D%2C%20%5B15.42562%2C%2047.08336%5D%2C%20%5B15.42593%2C%2047.08313%5D%2C%20%5B15.42639%2C%2047.08289%5D%2C%20%5B15.42682%2C%2047.0826%5D%2C%20%5B15.4274%2C%2047.08223%5D%2C%20%5B15.42955%2C%2047.08084%5D%2C%20%5B15.42977%2C%2047.08068%5D%2C%20%5B15.4301%2C%2047.08039%5D%2C%20%5B15.4302%2C%2047.08027%5D%2C%20%5B15.43068%2C%2047.0797%5D%2C%20%5B15.43072%2C%2047.07968%5D%2C%20%5B15.43095%2C%2047.07951%5D%2C%20%5B15.43134%2C%2047.07924%5D%2C%20%5B15.43149%2C%2047.07905%5D%2C%20%5B15.43163%2C%2047.07878%5D%2C%20%5B15.43166%2C%2047.07873%5D%2C%20%5B15.43172%2C%2047.07861%5D%2C%20%5B15.43175%2C%2047.07855%5D%2C%20%5B15.43178%2C%2047.07849%5D%2C%20%5B15.43227%2C%2047.0775%5D%2C%20%5B15.43241%2C%2047.07722%5D%2C%20%5B15.43261%2C%2047.07681%5D%2C%20%5B15.43275%2C%2047.07653%5D%2C%20%5B15.4331%2C%2047.07586%5D%2C%20%5B15.43311%2C%2047.07584%5D%2C%20%5B15.43313%2C%2047.0758%5D%2C%20%5B15.43315%2C%2047.07575%5D%2C%20%5B15.43325%2C%2047.07555%5D%2C%20%5B15.43334%2C%2047.07535%5D%2C%20%5B15.43368%2C%2047.07447%5D%2C%20%5B15.43375%2C%2047.07427%5D%2C%20%5B15.43393%2C%2047.07348%5D%2C%20%5B15.43405%2C%2047.07289%5D%2C%20%5B15.43414%2C%2047.07244%5D%2C%20%5B15.43414%2C%2047.07244%5D%2C%20%5B15.43415%2C%2047.0724%5D%2C%20%5B15.43416%2C%2047.07234%5D%2C%20%5B15.43425%2C%2047.07194%5D%2C%20%5B15.43431%2C%2047.07169%5D%2C%20%5B15.43433%2C%2047.07162%5D%2C%20%5B15.43435%2C%2047.07155%5D%2C%20%5B15.43445%2C%2047.07124%5D%2C%20%5B15.43453%2C%2047.07099%5D%2C%20%5B15.43454%2C%2047.07091%5D%2C%20%5B15.43454%2C%2047.0709%5D%2C%20%5B15.43455%2C%2047.07088%5D%2C%20%5B15.43457%2C%2047.07083%5D%2C%20%5B15.43459%2C%2047.07068%5D%2C%20%5B15.43461%2C%2047.07063%5D%2C%20%5B15.43467%2C%2047.07007%5D%2C%20%5B15.43465%2C%2047.06969%5D%2C%20%5B15.43464%2C%2047.0696%5D%2C%20%5B15.43464%2C%2047.06957%5D%2C%20%5B15.43464%2C%2047.06955%5D%2C%20%5B15.43463%2C%2047.06949%5D%2C%20%5B15.43459%2C%2047.06905%5D%2C%20%5B15.43457%2C%2047.0689%5D%2C%20%5B15.43452%2C%2047.06861%5D%2C%20%5B15.4345%2C%2047.06844%5D%2C%20%5B15.43448%2C%2047.06834%5D%2C%20%5B15.43443%2C%2047.06772%5D%2C%20%5B15.43441%2C%2047.06758%5D%2C%20%5B15.43438%2C%2047.06703%5D%2C%20%5B15.43432%2C%2047.06665%5D%2C%20%5B15.4343%2C%2047.06651%5D%2C%20%5B15.43429%2C%2047.06641%5D%2C%20%5B15.43414%2C%2047.06641%5D%2C%20%5B15.43383%2C%2047.06642%5D%2C%20%5B15.43329%2C%2047.06645%5D%2C%20%5B15.43314%2C%2047.06645%5D%2C%20%5B15.43255%2C%2047.06649%5D%2C%20%5B15.43191%2C%2047.06652%5D%2C%20%5B15.43179%2C%2047.06655%5D%2C%20%5B15.43173%2C%2047.06664%5D%2C%20%5B15.43153%2C%2047.06681%5D%2C%20%5B15.43142%2C%2047.06685%5D%2C%20%5B15.43134%2C%2047.06686%5D%5D%2C%20%22type%22%3A%20%22LineString%22%7D%29%3B%0A%0A%20%20%20%20%20%20%20%20%0A%20%20%20%20%0A%20%20%20%20%20%20%20%20var%20popup_670735e1ffe04343a806c7fa66f37054%20%3D%20L.popup%28%7B%22maxWidth%22%3A%20300%7D%29%3B%0A%0A%20%20%20%20%20%20%20%20%0A%20%20%20%20%20%20%20%20%20%20%20%20var%20html_206b05bfacf14a6cbb1e967110e18493%20%3D%20%24%28%60%3Cdiv%20id%3D%22html_206b05bfacf14a6cbb1e967110e18493%22%20style%3D%22width%3A%20100.0%25%3B%20height%3A%20100.0%25%3B%22%3E%3Ch4%3E%20%3Cb%3EDistance%20%3A%26nbsp%3Cstrong%3E6.3%20Km%20%3C/strong%3E%3C/h4%3E%3C/b%3E%3Ch4%3E%20%3Cb%3EDuration%20%3A%26nbsp%3Cstrong%3E14.2%20Mins.%20%3C/strong%3E%3C/h4%3E%3C/b%3E%3C/div%3E%60%29%5B0%5D%3B%0A%20%20%20%20%20%20%20%20%20%20%20%20popup_670735e1ffe04343a806c7fa66f37054.setContent%28html_206b05bfacf14a6cbb1e967110e18493%29%3B%0A%20%20%20%20%20%20%20%20%0A%0A%20%20%20%20%20%20%20%20geo_json_dac1190114124a8c81da4563f0580099.bindPopup%28popup_670735e1ffe04343a806c7fa66f37054%29%0A%20%20%20%20%20%20%20%20%3B%0A%0A%20%20%20%20%20%20%20%20%0A%20%20%20%20%0A%20%20%20%20%0A%20%20%20%20%20%20%20%20%20%20%20%20var%20marker_ea7ff108dc4f47c58e6155dc5ed21e29%20%3D%20L.marker%28%0A%20%20%20%20%20%20%20%20%20%20%20%20%20%20%20%20%5B47.106281%2C%2015.401113%5D%2C%0A%20%20%20%20%20%20%20%20%20%20%20%20%20%20%20%20%7B%7D%0A%20%20%20%20%20%20%20%20%20%20%20%20%29.addTo%28map_3e5dcb81ffc4491bb03deec69db93662%29%3B%0A%20%20%20%20%20%20%20%20%0A%20%20%20%20%0A%20%20%20%20%20%20%20%20%20%20%20%20var%20icon_6764b2ea47344d718395ca5d873c6850%20%3D%20L.AwesomeMarkers.icon%28%0A%20%20%20%20%20%20%20%20%20%20%20%20%20%20%20%20%7B%22extraClasses%22%3A%20%22fa-rotate-0%22%2C%20%22icon%22%3A%20%22info-sign%22%2C%20%22iconColor%22%3A%20%22white%22%2C%20%22markerColor%22%3A%20%22green%22%2C%20%22prefix%22%3A%20%22glyphicon%22%7D%0A%20%20%20%20%20%20%20%20%20%20%20%20%29%3B%0A%20%20%20%20%20%20%20%20%20%20%20%20marker_ea7ff108dc4f47c58e6155dc5ed21e29.setIcon%28icon_6764b2ea47344d718395ca5d873c6850%29%3B%0A%20%20%20%20%20%20%20%20%0A%20%20%20%20%0A%20%20%20%20%20%20%20%20var%20popup_8339ae682fc84e03950dbd552d50660d%20%3D%20L.popup%28%7B%22maxWidth%22%3A%20%22100%25%22%7D%29%3B%0A%0A%20%20%20%20%20%20%20%20%0A%20%20%20%20%20%20%20%20%20%20%20%20var%20html_b8b443d68c9b415abec46cd7cfaab13e%20%3D%20%24%28%60%3Cdiv%20id%3D%22html_b8b443d68c9b415abec46cd7cfaab13e%22%20style%3D%22width%3A%20100.0%25%3B%20height%3A%20100.0%25%3B%22%3ENord_8051_101%3C/div%3E%60%29%5B0%5D%3B%0A%20%20%20%20%20%20%20%20%20%20%20%20popup_8339ae682fc84e03950dbd552d50660d.setContent%28html_b8b443d68c9b415abec46cd7cfaab13e%29%3B%0A%20%20%20%20%20%20%20%20%0A%0A%20%20%20%20%20%20%20%20marker_ea7ff108dc4f47c58e6155dc5ed21e29.bindPopup%28popup_8339ae682fc84e03950dbd552d50660d%29%0A%20%20%20%20%20%20%20%20%3B%0A%0A%20%20%20%20%20%20%20%20%0A%20%20%20%20%0A%20%20%20%20%0A%20%20%20%20%20%20%20%20%20%20%20%20var%20marker_88d5409a858a4e64b080463be3077477%20%3D%20L.marker%28%0A%20%20%20%20%20%20%20%20%20%20%20%20%20%20%20%20%5B47.06687%2C%2015.431343%5D%2C%0A%20%20%20%20%20%20%20%20%20%20%20%20%20%20%20%20%7B%7D%0A%20%20%20%20%20%20%20%20%20%20%20%20%29.addTo%28map_3e5dcb81ffc4491bb03deec69db93662%29%3B%0A%20%20%20%20%20%20%20%20%0A%20%20%20%20%0A%20%20%20%20%20%20%20%20%20%20%20%20var%20icon_4d02c0e5ebf74f3cba63b8e886a6d77d%20%3D%20L.AwesomeMarkers.icon%28%0A%20%20%20%20%20%20%20%20%20%20%20%20%20%20%20%20%7B%22extraClasses%22%3A%20%22fa-rotate-0%22%2C%20%22icon%22%3A%20%22info-sign%22%2C%20%22iconColor%22%3A%20%22white%22%2C%20%22markerColor%22%3A%20%22red%22%2C%20%22prefix%22%3A%20%22glyphicon%22%7D%0A%20%20%20%20%20%20%20%20%20%20%20%20%29%3B%0A%20%20%20%20%20%20%20%20%20%20%20%20marker_88d5409a858a4e64b080463be3077477.setIcon%28icon_4d02c0e5ebf74f3cba63b8e886a6d77d%29%3B%0A%20%20%20%20%20%20%20%20%0A%20%20%20%20%0A%20%20%20%20%20%20%20%20var%20popup_09c44db302ae42d8aec8447f19c9531e%20%3D%20L.popup%28%7B%22maxWidth%22%3A%20%22100%25%22%7D%29%3B%0A%0A%20%20%20%20%20%20%20%20%0A%20%20%20%20%20%20%20%20%20%20%20%20var%20html_e32386da96fa4e75a1b4dd765856cb2d%20%3D%20%24%28%60%3Cdiv%20id%3D%22html_e32386da96fa4e75a1b4dd765856cb2d%22%20style%3D%22width%3A%20100.0%25%3B%20height%3A%20100.0%25%3B%22%3EDonBosco_8020_119%3C/div%3E%60%29%5B0%5D%3B%0A%20%20%20%20%20%20%20%20%20%20%20%20popup_09c44db302ae42d8aec8447f19c9531e.setContent%28html_e32386da96fa4e75a1b4dd765856cb2d%29%3B%0A%20%20%20%20%20%20%20%20%0A%0A%20%20%20%20%20%20%20%20marker_88d5409a858a4e64b080463be3077477.bindPopup%28popup_09c44db302ae42d8aec8447f19c9531e%29%0A%20%20%20%20%20%20%20%20%3B%0A%0A%20%20%20%20%20%20%20%20%0A%20%20%20%20%0A%3C/script%3E onload=\"this.contentDocument.open();this.contentDocument.write(    decodeURIComponent(this.getAttribute('data-html')));this.contentDocument.close();\" allowfullscreen webkitallowfullscreen mozallowfullscreen></iframe></div></div>"
      ],
      "text/plain": [
       "<folium.folium.Map at 0x1eca14008e0>"
      ]
     },
     "execution_count": 37,
     "metadata": {},
     "output_type": "execute_result"
    }
   ],
   "source": [
    "m"
   ]
  },
  {
   "cell_type": "code",
   "execution_count": 53,
   "metadata": {},
   "outputs": [],
   "source": [
    "Nord = {}\n"
   ]
  },
  {
   "cell_type": "code",
   "execution_count": 58,
   "metadata": {},
   "outputs": [],
   "source": [
    "Nord.update({'DonBosco_8020_119':d})"
   ]
  },
  {
   "cell_type": "code",
   "execution_count": 59,
   "metadata": {},
   "outputs": [
    {
     "data": {
      "text/html": [
       "<div>\n",
       "<style scoped>\n",
       "    .dataframe tbody tr th:only-of-type {\n",
       "        vertical-align: middle;\n",
       "    }\n",
       "\n",
       "    .dataframe tbody tr th {\n",
       "        vertical-align: top;\n",
       "    }\n",
       "\n",
       "    .dataframe thead th {\n",
       "        text-align: right;\n",
       "    }\n",
       "</style>\n",
       "<table border=\"1\" class=\"dataframe\">\n",
       "  <thead>\n",
       "    <tr style=\"text-align: right;\">\n",
       "      <th></th>\n",
       "      <th>DonBosco_8020_119</th>\n",
       "    </tr>\n",
       "  </thead>\n",
       "  <tbody>\n",
       "    <tr>\n",
       "      <th>DonBosco_8020_110</th>\n",
       "      <td>1.5</td>\n",
       "    </tr>\n",
       "    <tr>\n",
       "      <th>DonBosco_8020_122</th>\n",
       "      <td>1.2</td>\n",
       "    </tr>\n",
       "    <tr>\n",
       "      <th>DonBosco_8053_111</th>\n",
       "      <td>3.3</td>\n",
       "    </tr>\n",
       "    <tr>\n",
       "      <th>Nord_8010_205</th>\n",
       "      <td>3.1</td>\n",
       "    </tr>\n",
       "    <tr>\n",
       "      <th>Nord_8020_102</th>\n",
       "      <td>4.0</td>\n",
       "    </tr>\n",
       "    <tr>\n",
       "      <th>Nord_8045_203</th>\n",
       "      <td>3.8</td>\n",
       "    </tr>\n",
       "    <tr>\n",
       "      <th>Nord_8051_101</th>\n",
       "      <td>6.3</td>\n",
       "    </tr>\n",
       "    <tr>\n",
       "      <th>Ost_8010_208</th>\n",
       "      <td>2.3</td>\n",
       "    </tr>\n",
       "    <tr>\n",
       "      <th>Ost_8010_209</th>\n",
       "      <td>2.6</td>\n",
       "    </tr>\n",
       "    <tr>\n",
       "      <th>Ost_8010_213</th>\n",
       "      <td>1.6</td>\n",
       "    </tr>\n",
       "    <tr>\n",
       "      <th>Ost_8010_214</th>\n",
       "      <td>2.9</td>\n",
       "    </tr>\n",
       "    <tr>\n",
       "      <th>Ost_8041_221</th>\n",
       "      <td>4.9</td>\n",
       "    </tr>\n",
       "    <tr>\n",
       "      <th>Sud_8020_107</th>\n",
       "      <td>2.9</td>\n",
       "    </tr>\n",
       "    <tr>\n",
       "      <th>Sud_8041_218</th>\n",
       "      <td>4.8</td>\n",
       "    </tr>\n",
       "    <tr>\n",
       "      <th>West_8020_103</th>\n",
       "      <td>1.9</td>\n",
       "    </tr>\n",
       "  </tbody>\n",
       "</table>\n",
       "</div>"
      ],
      "text/plain": [
       "                   DonBosco_8020_119\n",
       "DonBosco_8020_110                1.5\n",
       "DonBosco_8020_122                1.2\n",
       "DonBosco_8053_111                3.3\n",
       "Nord_8010_205                    3.1\n",
       "Nord_8020_102                    4.0\n",
       "Nord_8045_203                    3.8\n",
       "Nord_8051_101                    6.3\n",
       "Ost_8010_208                     2.3\n",
       "Ost_8010_209                     2.6\n",
       "Ost_8010_213                     1.6\n",
       "Ost_8010_214                     2.9\n",
       "Ost_8041_221                     4.9\n",
       "Sud_8020_107                     2.9\n",
       "Sud_8041_218                     4.8\n",
       "West_8020_103                    1.9"
      ]
     },
     "execution_count": 59,
     "metadata": {},
     "output_type": "execute_result"
    }
   ],
   "source": [
    "dataM = pd.DataFrame.from_dict(Nord)\n",
    "dataM"
   ]
  },
  {
   "cell_type": "code",
   "execution_count": 17,
   "metadata": {},
   "outputs": [],
   "source": [
    "data = pd.DataFrame.from_dict(dictionary)"
   ]
  },
  {
   "cell_type": "code",
   "execution_count": 18,
   "metadata": {},
   "outputs": [
    {
     "data": {
      "text/html": [
       "<div>\n",
       "<style scoped>\n",
       "    .dataframe tbody tr th:only-of-type {\n",
       "        vertical-align: middle;\n",
       "    }\n",
       "\n",
       "    .dataframe tbody tr th {\n",
       "        vertical-align: top;\n",
       "    }\n",
       "\n",
       "    .dataframe thead th {\n",
       "        text-align: right;\n",
       "    }\n",
       "</style>\n",
       "<table border=\"1\" class=\"dataframe\">\n",
       "  <thead>\n",
       "    <tr style=\"text-align: right;\">\n",
       "      <th></th>\n",
       "      <th>postaja</th>\n",
       "      <th>udaljenost_u_km</th>\n",
       "    </tr>\n",
       "  </thead>\n",
       "  <tbody>\n",
       "    <tr>\n",
       "      <th>0</th>\n",
       "      <td>Ost_8010_208</td>\n",
       "      <td>2.3</td>\n",
       "    </tr>\n",
       "    <tr>\n",
       "      <th>1</th>\n",
       "      <td>DonBosco_8020_110</td>\n",
       "      <td>1.5</td>\n",
       "    </tr>\n",
       "    <tr>\n",
       "      <th>2</th>\n",
       "      <td>DonBosco_8020_122</td>\n",
       "      <td>1.2</td>\n",
       "    </tr>\n",
       "    <tr>\n",
       "      <th>3</th>\n",
       "      <td>DonBosco_8053_111</td>\n",
       "      <td>3.3</td>\n",
       "    </tr>\n",
       "    <tr>\n",
       "      <th>4</th>\n",
       "      <td>Nord_8010_205</td>\n",
       "      <td>3.1</td>\n",
       "    </tr>\n",
       "    <tr>\n",
       "      <th>5</th>\n",
       "      <td>Ost_8010_209</td>\n",
       "      <td>2.6</td>\n",
       "    </tr>\n",
       "    <tr>\n",
       "      <th>6</th>\n",
       "      <td>Ost_8010_213</td>\n",
       "      <td>1.6</td>\n",
       "    </tr>\n",
       "    <tr>\n",
       "      <th>7</th>\n",
       "      <td>Ost_8010_214</td>\n",
       "      <td>2.9</td>\n",
       "    </tr>\n",
       "    <tr>\n",
       "      <th>8</th>\n",
       "      <td>Nord_8020_102</td>\n",
       "      <td>4.0</td>\n",
       "    </tr>\n",
       "    <tr>\n",
       "      <th>9</th>\n",
       "      <td>West_8020_103</td>\n",
       "      <td>1.9</td>\n",
       "    </tr>\n",
       "    <tr>\n",
       "      <th>10</th>\n",
       "      <td>Sud_8020_107</td>\n",
       "      <td>2.9</td>\n",
       "    </tr>\n",
       "    <tr>\n",
       "      <th>11</th>\n",
       "      <td>Sud_8041_218</td>\n",
       "      <td>4.8</td>\n",
       "    </tr>\n",
       "    <tr>\n",
       "      <th>12</th>\n",
       "      <td>Ost_8041_221</td>\n",
       "      <td>4.9</td>\n",
       "    </tr>\n",
       "    <tr>\n",
       "      <th>13</th>\n",
       "      <td>Nord_8045_203</td>\n",
       "      <td>3.8</td>\n",
       "    </tr>\n",
       "    <tr>\n",
       "      <th>14</th>\n",
       "      <td>Nord_8051_101</td>\n",
       "      <td>6.3</td>\n",
       "    </tr>\n",
       "  </tbody>\n",
       "</table>\n",
       "</div>"
      ],
      "text/plain": [
       "              postaja  udaljenost_u_km\n",
       "0        Ost_8010_208              2.3\n",
       "1   DonBosco_8020_110              1.5\n",
       "2   DonBosco_8020_122              1.2\n",
       "3   DonBosco_8053_111              3.3\n",
       "4       Nord_8010_205              3.1\n",
       "5        Ost_8010_209              2.6\n",
       "6        Ost_8010_213              1.6\n",
       "7        Ost_8010_214              2.9\n",
       "8       Nord_8020_102              4.0\n",
       "9       West_8020_103              1.9\n",
       "10       Sud_8020_107              2.9\n",
       "11       Sud_8041_218              4.8\n",
       "12       Ost_8041_221              4.9\n",
       "13      Nord_8045_203              3.8\n",
       "14      Nord_8051_101              6.3"
      ]
     },
     "execution_count": 18,
     "metadata": {},
     "output_type": "execute_result"
    }
   ],
   "source": [
    "data"
   ]
  },
  {
   "cell_type": "markdown",
   "metadata": {},
   "source": [
    "# normalizacija udaljenosti"
   ]
  },
  {
   "cell_type": "code",
   "execution_count": 19,
   "metadata": {},
   "outputs": [
    {
     "data": {
      "text/html": [
       "<div>\n",
       "<style scoped>\n",
       "    .dataframe tbody tr th:only-of-type {\n",
       "        vertical-align: middle;\n",
       "    }\n",
       "\n",
       "    .dataframe tbody tr th {\n",
       "        vertical-align: top;\n",
       "    }\n",
       "\n",
       "    .dataframe thead th {\n",
       "        text-align: right;\n",
       "    }\n",
       "</style>\n",
       "<table border=\"1\" class=\"dataframe\">\n",
       "  <thead>\n",
       "    <tr style=\"text-align: right;\">\n",
       "      <th></th>\n",
       "      <th>postaja</th>\n",
       "      <th>udaljenost_u_km</th>\n",
       "      <th>norm</th>\n",
       "    </tr>\n",
       "  </thead>\n",
       "  <tbody>\n",
       "    <tr>\n",
       "      <th>0</th>\n",
       "      <td>Ost_8010_208</td>\n",
       "      <td>2.3</td>\n",
       "      <td>0.365079</td>\n",
       "    </tr>\n",
       "    <tr>\n",
       "      <th>1</th>\n",
       "      <td>DonBosco_8020_110</td>\n",
       "      <td>1.5</td>\n",
       "      <td>0.238095</td>\n",
       "    </tr>\n",
       "    <tr>\n",
       "      <th>2</th>\n",
       "      <td>DonBosco_8020_122</td>\n",
       "      <td>1.2</td>\n",
       "      <td>0.190476</td>\n",
       "    </tr>\n",
       "    <tr>\n",
       "      <th>3</th>\n",
       "      <td>DonBosco_8053_111</td>\n",
       "      <td>3.3</td>\n",
       "      <td>0.523810</td>\n",
       "    </tr>\n",
       "    <tr>\n",
       "      <th>4</th>\n",
       "      <td>Nord_8010_205</td>\n",
       "      <td>3.1</td>\n",
       "      <td>0.492063</td>\n",
       "    </tr>\n",
       "    <tr>\n",
       "      <th>5</th>\n",
       "      <td>Ost_8010_209</td>\n",
       "      <td>2.6</td>\n",
       "      <td>0.412698</td>\n",
       "    </tr>\n",
       "    <tr>\n",
       "      <th>6</th>\n",
       "      <td>Ost_8010_213</td>\n",
       "      <td>1.6</td>\n",
       "      <td>0.253968</td>\n",
       "    </tr>\n",
       "    <tr>\n",
       "      <th>7</th>\n",
       "      <td>Ost_8010_214</td>\n",
       "      <td>2.9</td>\n",
       "      <td>0.460317</td>\n",
       "    </tr>\n",
       "    <tr>\n",
       "      <th>8</th>\n",
       "      <td>Nord_8020_102</td>\n",
       "      <td>4.0</td>\n",
       "      <td>0.634921</td>\n",
       "    </tr>\n",
       "    <tr>\n",
       "      <th>9</th>\n",
       "      <td>West_8020_103</td>\n",
       "      <td>1.9</td>\n",
       "      <td>0.301587</td>\n",
       "    </tr>\n",
       "    <tr>\n",
       "      <th>10</th>\n",
       "      <td>Sud_8020_107</td>\n",
       "      <td>2.9</td>\n",
       "      <td>0.460317</td>\n",
       "    </tr>\n",
       "    <tr>\n",
       "      <th>11</th>\n",
       "      <td>Sud_8041_218</td>\n",
       "      <td>4.8</td>\n",
       "      <td>0.761905</td>\n",
       "    </tr>\n",
       "    <tr>\n",
       "      <th>12</th>\n",
       "      <td>Ost_8041_221</td>\n",
       "      <td>4.9</td>\n",
       "      <td>0.777778</td>\n",
       "    </tr>\n",
       "    <tr>\n",
       "      <th>13</th>\n",
       "      <td>Nord_8045_203</td>\n",
       "      <td>3.8</td>\n",
       "      <td>0.603175</td>\n",
       "    </tr>\n",
       "    <tr>\n",
       "      <th>14</th>\n",
       "      <td>Nord_8051_101</td>\n",
       "      <td>6.3</td>\n",
       "      <td>1.000000</td>\n",
       "    </tr>\n",
       "  </tbody>\n",
       "</table>\n",
       "</div>"
      ],
      "text/plain": [
       "              postaja  udaljenost_u_km      norm\n",
       "0        Ost_8010_208              2.3  0.365079\n",
       "1   DonBosco_8020_110              1.5  0.238095\n",
       "2   DonBosco_8020_122              1.2  0.190476\n",
       "3   DonBosco_8053_111              3.3  0.523810\n",
       "4       Nord_8010_205              3.1  0.492063\n",
       "5        Ost_8010_209              2.6  0.412698\n",
       "6        Ost_8010_213              1.6  0.253968\n",
       "7        Ost_8010_214              2.9  0.460317\n",
       "8       Nord_8020_102              4.0  0.634921\n",
       "9       West_8020_103              1.9  0.301587\n",
       "10       Sud_8020_107              2.9  0.460317\n",
       "11       Sud_8041_218              4.8  0.761905\n",
       "12       Ost_8041_221              4.9  0.777778\n",
       "13      Nord_8045_203              3.8  0.603175\n",
       "14      Nord_8051_101              6.3  1.000000"
      ]
     },
     "execution_count": 19,
     "metadata": {},
     "output_type": "execute_result"
    }
   ],
   "source": [
    "data['norm']=data['udaljenost_u_km']/data['udaljenost_u_km'].max()\n",
    "data"
   ]
  },
  {
   "cell_type": "markdown",
   "metadata": {},
   "source": [
    "# Mnozenje udaljenosti s traffic podacima "
   ]
  },
  {
   "cell_type": "code",
   "execution_count": 20,
   "metadata": {},
   "outputs": [],
   "source": [
    "X = df_ulice_podaci.drop('DonBosco_8020_119',axis=1)\n",
    "for i,j in zip(X.columns,data.norm):\n",
    "    X[i]=X[i]*j"
   ]
  },
  {
   "cell_type": "markdown",
   "metadata": {},
   "source": [
    "# Y vrijednost"
   ]
  },
  {
   "cell_type": "code",
   "execution_count": 21,
   "metadata": {},
   "outputs": [
    {
     "data": {
      "text/html": [
       "<div>\n",
       "<style scoped>\n",
       "    .dataframe tbody tr th:only-of-type {\n",
       "        vertical-align: middle;\n",
       "    }\n",
       "\n",
       "    .dataframe tbody tr th {\n",
       "        vertical-align: top;\n",
       "    }\n",
       "\n",
       "    .dataframe thead th {\n",
       "        text-align: right;\n",
       "    }\n",
       "</style>\n",
       "<table border=\"1\" class=\"dataframe\">\n",
       "  <thead>\n",
       "    <tr style=\"text-align: right;\">\n",
       "      <th></th>\n",
       "      <th>DonBosco_8020_119</th>\n",
       "    </tr>\n",
       "  </thead>\n",
       "  <tbody>\n",
       "    <tr>\n",
       "      <th>2018-01-01</th>\n",
       "      <td>624.0</td>\n",
       "    </tr>\n",
       "    <tr>\n",
       "      <th>2018-01-02</th>\n",
       "      <td>772.0</td>\n",
       "    </tr>\n",
       "    <tr>\n",
       "      <th>2018-01-03</th>\n",
       "      <td>772.0</td>\n",
       "    </tr>\n",
       "    <tr>\n",
       "      <th>2018-01-04</th>\n",
       "      <td>801.0</td>\n",
       "    </tr>\n",
       "    <tr>\n",
       "      <th>2018-01-05</th>\n",
       "      <td>852.0</td>\n",
       "    </tr>\n",
       "    <tr>\n",
       "      <th>...</th>\n",
       "      <td>...</td>\n",
       "    </tr>\n",
       "    <tr>\n",
       "      <th>2020-03-11</th>\n",
       "      <td>469.0</td>\n",
       "    </tr>\n",
       "    <tr>\n",
       "      <th>2020-03-12</th>\n",
       "      <td>478.0</td>\n",
       "    </tr>\n",
       "    <tr>\n",
       "      <th>2020-03-13</th>\n",
       "      <td>492.0</td>\n",
       "    </tr>\n",
       "    <tr>\n",
       "      <th>2020-03-14</th>\n",
       "      <td>341.0</td>\n",
       "    </tr>\n",
       "    <tr>\n",
       "      <th>2020-03-15</th>\n",
       "      <td>237.0</td>\n",
       "    </tr>\n",
       "  </tbody>\n",
       "</table>\n",
       "<p>805 rows × 1 columns</p>\n",
       "</div>"
      ],
      "text/plain": [
       "            DonBosco_8020_119\n",
       "2018-01-01              624.0\n",
       "2018-01-02              772.0\n",
       "2018-01-03              772.0\n",
       "2018-01-04              801.0\n",
       "2018-01-05              852.0\n",
       "...                       ...\n",
       "2020-03-11              469.0\n",
       "2020-03-12              478.0\n",
       "2020-03-13              492.0\n",
       "2020-03-14              341.0\n",
       "2020-03-15              237.0\n",
       "\n",
       "[805 rows x 1 columns]"
      ]
     },
     "execution_count": 21,
     "metadata": {},
     "output_type": "execute_result"
    }
   ],
   "source": [
    "Y = df_ulice_podaci[['DonBosco_8020_119']]\n",
    "Y"
   ]
  },
  {
   "cell_type": "markdown",
   "metadata": {},
   "source": [
    "# modeli"
   ]
  },
  {
   "cell_type": "code",
   "execution_count": 22,
   "metadata": {},
   "outputs": [],
   "source": [
    "models = {'lr':LinearRegression,\n",
    "          'kn':KNeighborsRegressor,\n",
    "          'rf':RandomForestRegressor,\n",
    "          'dt':DecisionTreeRegressor}"
   ]
  },
  {
   "cell_type": "markdown",
   "metadata": {},
   "source": [
    "# Udaljenost i traffic i ostali podaci \n",
    "\n"
   ]
  },
  {
   "cell_type": "code",
   "execution_count": 23,
   "metadata": {},
   "outputs": [],
   "source": [
    "Xf=df_ulice_podaci.drop('DonBosco_8020_119',axis=1)"
   ]
  },
  {
   "cell_type": "code",
   "execution_count": 31,
   "metadata": {},
   "outputs": [],
   "source": [
    "data = pd.concat([X,df_satelit_new,df_temporal_new],axis=1)"
   ]
  },
  {
   "cell_type": "code",
   "execution_count": 26,
   "metadata": {
    "scrolled": true
   },
   "outputs": [
    {
     "name": "stderr",
     "output_type": "stream",
     "text": [
      "C:\\Users\\vpetric\\AppData\\Local\\Temp/ipykernel_13964/1264270300.py:7: DataConversionWarning: A column-vector y was passed when a 1d array was expected. Please change the shape of y to (n_samples,), for example using ravel().\n",
      "  model.fit(X_train,Y_train)\n"
     ]
    }
   ],
   "source": [
    "dictionary={}\n",
    "temp_dict={}\n",
    "for model_key in models.keys():\n",
    "        model= models[model_key]\n",
    "        model = model()\n",
    "        X_train,X_test,Y_train,Y_test = train_test_split(data,Y, random_state = 0)\n",
    "        model.fit(X_train,Y_train)\n",
    "        predictions = model.predict(X_test)\n",
    "        r2 = r2_score(Y_test, predictions)\n",
    "        temp_dict.update({model_key:r2})\n",
    "        \n",
    "\n",
    "dictionary.update({'DonBosco_8020_119':temp_dict}) "
   ]
  },
  {
   "cell_type": "markdown",
   "metadata": {},
   "source": [
    "# feature importance"
   ]
  },
  {
   "cell_type": "code",
   "execution_count": 34,
   "metadata": {
    "scrolled": true
   },
   "outputs": [
    {
     "name": "stderr",
     "output_type": "stream",
     "text": [
      "C:\\Users\\vpetric\\AppData\\Local\\Temp/ipykernel_13964/108540288.py:3: DataConversionWarning: A column-vector y was passed when a 1d array was expected. Please change the shape of y to (n_samples,), for example using ravel().\n",
      "  model.fit(X_train, Y_train)\n"
     ]
    },
    {
     "data": {
      "image/png": "[encoded data removed]",
      "text/plain": [
       "<Figure size 432x288 with 1 Axes>"
      ]
     },
     "metadata": {
      "needs_background": "light"
     },
     "output_type": "display_data"
    }
   ],
   "source": [
    "X_train,X_test,Y_train,Y_test = train_test_split(data,Y, random_state = 0)\n",
    "model = RandomForestRegressor()\n",
    "model.fit(X_train, Y_train)\n",
    "predictions = model.predict(X_test)\n",
    "r2 = r2_score(Y_test, predictions)      \n",
    "Y_pred = pd.Series(predictions, index= Y_test.index)\n",
    "\n",
    "feat_importances = pd.Series(model.feature_importances_, index=data.columns)\n",
    "feat_importances.nlargest(10).plot(kind='barh')\n",
    "plt.show()"
   ]
  },
  {
   "cell_type": "code",
   "execution_count": 28,
   "metadata": {},
   "outputs": [],
   "source": [
    "data = pd.DataFrame.from_dict(dictionary)\n"
   ]
  },
  {
   "cell_type": "code",
   "execution_count": 29,
   "metadata": {},
   "outputs": [
    {
     "data": {
      "text/html": [
       "<div>\n",
       "<style scoped>\n",
       "    .dataframe tbody tr th:only-of-type {\n",
       "        vertical-align: middle;\n",
       "    }\n",
       "\n",
       "    .dataframe tbody tr th {\n",
       "        vertical-align: top;\n",
       "    }\n",
       "\n",
       "    .dataframe thead th {\n",
       "        text-align: right;\n",
       "    }\n",
       "</style>\n",
       "<table border=\"1\" class=\"dataframe\">\n",
       "  <thead>\n",
       "    <tr style=\"text-align: right;\">\n",
       "      <th></th>\n",
       "      <th>DonBosco_8020_119</th>\n",
       "    </tr>\n",
       "  </thead>\n",
       "  <tbody>\n",
       "    <tr>\n",
       "      <th>dt</th>\n",
       "      <td>0.636108</td>\n",
       "    </tr>\n",
       "    <tr>\n",
       "      <th>kn</th>\n",
       "      <td>0.637763</td>\n",
       "    </tr>\n",
       "    <tr>\n",
       "      <th>lr</th>\n",
       "      <td>0.628994</td>\n",
       "    </tr>\n",
       "    <tr>\n",
       "      <th>rf</th>\n",
       "      <td>0.804306</td>\n",
       "    </tr>\n",
       "  </tbody>\n",
       "</table>\n",
       "</div>"
      ],
      "text/plain": [
       "    DonBosco_8020_119\n",
       "dt           0.636108\n",
       "kn           0.637763\n",
       "lr           0.628994\n",
       "rf           0.804306"
      ]
     },
     "execution_count": 29,
     "metadata": {},
     "output_type": "execute_result"
    }
   ],
   "source": [
    "data"
   ]
  },
  {
   "cell_type": "markdown",
   "metadata": {},
   "source": [
    "# udajenost i traffic"
   ]
  },
  {
   "cell_type": "code",
   "execution_count": 102,
   "metadata": {},
   "outputs": [],
   "source": [
    "data = pd.concat([X,df_satelit_new,df_temporal_new],axis=1)\n"
   ]
  },
  {
   "cell_type": "code",
   "execution_count": 103,
   "metadata": {},
   "outputs": [
    {
     "name": "stderr",
     "output_type": "stream",
     "text": [
      "C:\\Users\\vpetric\\AppData\\Local\\Temp/ipykernel_16856/3187782529.py:7: DataConversionWarning: A column-vector y was passed when a 1d array was expected. Please change the shape of y to (n_samples,), for example using ravel().\n",
      "  model.fit(X_train,Y_train)\n"
     ]
    }
   ],
   "source": [
    "dictionary={}\n",
    "temp_dict={}\n",
    "for model_key in models.keys():\n",
    "        model= models[model_key]\n",
    "        model = model()\n",
    "        X_train,X_test,Y_train,Y_test = train_test_split(X,Y, random_state = 0)\n",
    "        model.fit(X_train,Y_train)\n",
    "        predictions = model.predict(X_test)\n",
    "        r2 = r2_score(Y_test, predictions)\n",
    "        \n",
    "        temp_dict.update({model_key:r2})\n",
    "dictionary.update({'DonBosco_8020_119':temp_dict}) "
   ]
  },
  {
   "cell_type": "code",
   "execution_count": 104,
   "metadata": {},
   "outputs": [],
   "source": [
    "data = pd.DataFrame.from_dict(dictionary)"
   ]
  },
  {
   "cell_type": "code",
   "execution_count": 105,
   "metadata": {},
   "outputs": [
    {
     "data": {
      "text/html": [
       "<div>\n",
       "<style scoped>\n",
       "    .dataframe tbody tr th:only-of-type {\n",
       "        vertical-align: middle;\n",
       "    }\n",
       "\n",
       "    .dataframe tbody tr th {\n",
       "        vertical-align: top;\n",
       "    }\n",
       "\n",
       "    .dataframe thead th {\n",
       "        text-align: right;\n",
       "    }\n",
       "</style>\n",
       "<table border=\"1\" class=\"dataframe\">\n",
       "  <thead>\n",
       "    <tr style=\"text-align: right;\">\n",
       "      <th></th>\n",
       "      <th>DonBosco_8020_119</th>\n",
       "    </tr>\n",
       "  </thead>\n",
       "  <tbody>\n",
       "    <tr>\n",
       "      <th>dt</th>\n",
       "      <td>0.436042</td>\n",
       "    </tr>\n",
       "    <tr>\n",
       "      <th>kn</th>\n",
       "      <td>0.486737</td>\n",
       "    </tr>\n",
       "    <tr>\n",
       "      <th>lr</th>\n",
       "      <td>0.319779</td>\n",
       "    </tr>\n",
       "    <tr>\n",
       "      <th>rf</th>\n",
       "      <td>0.585714</td>\n",
       "    </tr>\n",
       "  </tbody>\n",
       "</table>\n",
       "</div>"
      ],
      "text/plain": [
       "    DonBosco_8020_119\n",
       "dt           0.436042\n",
       "kn           0.486737\n",
       "lr           0.319779\n",
       "rf           0.585714"
      ]
     },
     "execution_count": 105,
     "metadata": {},
     "output_type": "execute_result"
    }
   ],
   "source": [
    "data"
   ]
  },
  {
   "cell_type": "markdown",
   "metadata": {},
   "source": [
    "# Normalizirane udaljenosti"
   ]
  },
  {
   "cell_type": "code",
   "execution_count": 107,
   "metadata": {},
   "outputs": [
    {
     "name": "stderr",
     "output_type": "stream",
     "text": [
      "C:\\Users\\vpetric\\AppData\\Local\\Temp/ipykernel_16856/3187782529.py:7: DataConversionWarning: A column-vector y was passed when a 1d array was expected. Please change the shape of y to (n_samples,), for example using ravel().\n",
      "  model.fit(X_train,Y_train)\n"
     ]
    }
   ],
   "source": [
    "dictionary={}\n",
    "temp_dict={}\n",
    "for model_key in models.keys():\n",
    "        model= models[model_key]\n",
    "        model = model()\n",
    "        X_train,X_test,Y_train,Y_test = train_test_split(X,Y, random_state = 0)\n",
    "        model.fit(X_train,Y_train)\n",
    "        predictions = model.predict(X_test)\n",
    "        r2 = r2_score(Y_test, predictions)\n",
    "        \n",
    "        temp_dict.update({model_key:r2})\n",
    "dictionary.update({'DonBosco_8020_119':temp_dict}) "
   ]
  },
  {
   "cell_type": "code",
   "execution_count": 108,
   "metadata": {},
   "outputs": [],
   "source": [
    "data = pd.DataFrame.from_dict(dictionary)"
   ]
  },
  {
   "cell_type": "code",
   "execution_count": 109,
   "metadata": {},
   "outputs": [
    {
     "data": {
      "text/html": [
       "<div>\n",
       "<style scoped>\n",
       "    .dataframe tbody tr th:only-of-type {\n",
       "        vertical-align: middle;\n",
       "    }\n",
       "\n",
       "    .dataframe tbody tr th {\n",
       "        vertical-align: top;\n",
       "    }\n",
       "\n",
       "    .dataframe thead th {\n",
       "        text-align: right;\n",
       "    }\n",
       "</style>\n",
       "<table border=\"1\" class=\"dataframe\">\n",
       "  <thead>\n",
       "    <tr style=\"text-align: right;\">\n",
       "      <th></th>\n",
       "      <th>DonBosco_8020_119</th>\n",
       "    </tr>\n",
       "  </thead>\n",
       "  <tbody>\n",
       "    <tr>\n",
       "      <th>dt</th>\n",
       "      <td>0.417924</td>\n",
       "    </tr>\n",
       "    <tr>\n",
       "      <th>kn</th>\n",
       "      <td>0.486737</td>\n",
       "    </tr>\n",
       "    <tr>\n",
       "      <th>lr</th>\n",
       "      <td>0.319779</td>\n",
       "    </tr>\n",
       "    <tr>\n",
       "      <th>rf</th>\n",
       "      <td>0.579398</td>\n",
       "    </tr>\n",
       "  </tbody>\n",
       "</table>\n",
       "</div>"
      ],
      "text/plain": [
       "    DonBosco_8020_119\n",
       "dt           0.417924\n",
       "kn           0.486737\n",
       "lr           0.319779\n",
       "rf           0.579398"
      ]
     },
     "execution_count": 109,
     "metadata": {},
     "output_type": "execute_result"
    }
   ],
   "source": [
    "data"
   ]
  },
  {
   "cell_type": "code",
   "execution_count": null,
   "metadata": {},
   "outputs": [],
   "source": []
  }
 ],
 "metadata": {
  "kernelspec": {
   "display_name": "Python 3 (ipykernel)",
   "language": "python",
   "name": "python3"
  },
  "language_info": {
   "codemirror_mode": {
    "name": "ipython",
    "version": 3
   },
   "file_extension": ".py",
   "mimetype": "text/x-python",
   "name": "python",
   "nbconvert_exporter": "python",
   "pygments_lexer": "ipython3",
   "version": "3.9.7"
  }
 },
 "nbformat": 4,
 "nbformat_minor": 4
}
